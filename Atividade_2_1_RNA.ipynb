{
  "nbformat": 4,
  "nbformat_minor": 0,
  "metadata": {
    "colab": {
      "name": "Atividade_2_1_RNA.ipynb",
      "provenance": [],
      "include_colab_link": true
    },
    "kernelspec": {
      "name": "python3",
      "display_name": "Python 3"
    },
    "language_info": {
      "name": "python"
    }
  },
  "cells": [
    {
      "cell_type": "markdown",
      "metadata": {
        "id": "view-in-github",
        "colab_type": "text"
      },
      "source": [
        "<a href=\"https://colab.research.google.com/github/AllanHigorLP/Atividade_avaliativa-2.1-RNA/blob/main/Atividade_2_1_RNA.ipynb\" target=\"_parent\"><img src=\"https://colab.research.google.com/assets/colab-badge.svg\" alt=\"Open In Colab\"/></a>"
      ]
    },
    {
      "cell_type": "markdown",
      "metadata": {
        "id": "sOINEKc-Z3W-"
      },
      "source": [
        "# Detalhamento da Atividade"
      ]
    },
    {
      "cell_type": "code",
      "metadata": {
        "colab": {
          "base_uri": "https://localhost:8080/"
        },
        "id": "_smFeCExX-Bu",
        "outputId": "662c5f46-42c1-4d0c-a145-27541754b76c"
      },
      "source": [
        "x = 12%4\n",
        "print(x)"
      ],
      "execution_count": 35,
      "outputs": [
        {
          "output_type": "stream",
          "name": "stdout",
          "text": [
            "0\n"
          ]
        }
      ]
    },
    {
      "cell_type": "code",
      "metadata": {
        "id": "VS0-dsaC4_ig"
      },
      "source": [
        "import numpy as np # linear algebra\n",
        "import pandas as pd # data processing, CSV file I/O (e.g. pd.read_csv)\n",
        "import seaborn as sns\n",
        "import matplotlib.pyplot as plt\n",
        "from sklearn.model_selection import train_test_split #to split the dataset for training and testing\n",
        "from sklearn import metrics\n",
        "import unicodedata\n",
        "import io"
      ],
      "execution_count": 36,
      "outputs": []
    },
    {
      "cell_type": "code",
      "metadata": {
        "colab": {
          "base_uri": "https://localhost:8080/"
        },
        "id": "jPSk5BuK5CZn",
        "outputId": "1daa815a-13d6-4995-946f-29e77182eb12"
      },
      "source": [
        "!git clone https://github.com/AllanHigorLP/Atividade_avaliativa-2.1-RNA/"
      ],
      "execution_count": 37,
      "outputs": [
        {
          "output_type": "stream",
          "name": "stdout",
          "text": [
            "fatal: destination path 'Atividade_avaliativa-2.1-RNA' already exists and is not an empty directory.\n"
          ]
        }
      ]
    },
    {
      "cell_type": "code",
      "metadata": {
        "id": "nvM7Ej0Kgu9V",
        "colab": {
          "base_uri": "https://localhost:8080/"
        },
        "outputId": "474715f7-25f6-4d81-e3b4-13ad5e27e71f"
      },
      "source": [
        "df = np.fromfile('/content/Atividade_avaliativa-2.1-RNA/data/dataAll.txt')\n",
        "print(df)"
      ],
      "execution_count": 38,
      "outputs": [
        {
          "output_type": "stream",
          "name": "stdout",
          "text": [
            "[-363.7884  244.1423    0.     ... -140.147   734.0983    0.    ]\n"
          ]
        }
      ]
    },
    {
      "cell_type": "code",
      "metadata": {
        "colab": {
          "base_uri": "https://localhost:8080/"
        },
        "id": "litm7nbaZH5V",
        "outputId": "621ec9dc-ea55-4ab0-a3dd-654001870655"
      },
      "source": [
        "df.shape\n"
      ],
      "execution_count": 39,
      "outputs": [
        {
          "output_type": "execute_result",
          "data": {
            "text/plain": [
              "(3000,)"
            ]
          },
          "metadata": {},
          "execution_count": 39
        }
      ]
    },
    {
      "cell_type": "code",
      "metadata": {
        "colab": {
          "base_uri": "https://localhost:8080/"
        },
        "id": "uK5yeXqw5Vmo",
        "outputId": "d4fef53b-6291-4a73-ed4d-07e8f1f7aa00"
      },
      "source": [
        "df = df.reshape(1000, 3)\n",
        "print(df)"
      ],
      "execution_count": 40,
      "outputs": [
        {
          "output_type": "stream",
          "name": "stdout",
          "text": [
            "[[-363.7884  244.1423    0.    ]\n",
            " [ 328.7572 -256.7658    1.    ]\n",
            " [-164.9827  613.2164    0.    ]\n",
            " ...\n",
            " [ 872.4311  669.1192    1.    ]\n",
            " [ 822.6894 -702.6489    1.    ]\n",
            " [-140.147   734.0983    0.    ]]\n"
          ]
        }
      ]
    },
    {
      "cell_type": "markdown",
      "metadata": {
        "id": "rtoCl_2U5zpo"
      },
      "source": [
        "# Parte I – Resolvendo um Problema Linearmente Separável"
      ]
    },
    {
      "cell_type": "code",
      "metadata": {
        "id": "sX8HZQVA6AaP"
      },
      "source": [
        "# n (taxa de aprendizado)\n",
        "theta = 0.0\n",
        "n = 0.1\n",
        "bias = -1.0"
      ],
      "execution_count": 41,
      "outputs": []
    },
    {
      "cell_type": "code",
      "metadata": {
        "id": "b7NhzhEL6p4P",
        "colab": {
          "base_uri": "https://localhost:8080/"
        },
        "outputId": "7bc8454f-d657-4b02-e1c7-6f96bf23f668"
      },
      "source": [
        "max = 0.5\n",
        "min = -0.5\n",
        "weight = np.random.uniform(min, max, size=3)\n",
        "weight = np.round(weight,4)\n",
        "print(weight)"
      ],
      "execution_count": 64,
      "outputs": [
        {
          "output_type": "stream",
          "name": "stdout",
          "text": [
            "[ 0.0852 -0.3285 -0.245 ]\n"
          ]
        }
      ]
    },
    {
      "cell_type": "code",
      "metadata": {
        "colab": {
          "base_uri": "https://localhost:8080/"
        },
        "id": "oxZ3QVaYw_E5",
        "outputId": "c6c79193-afb0-4a69-c1cc-891196ed587d"
      },
      "source": [
        "epoca = 0\n",
        "erros = 1\n",
        "ajustes_total = 0\n",
        "ajustes_epoca = 0\n",
        "\n",
        "def soma_ponderada():\n",
        "    sum_pond = (weight[0]*(bias)) + (weight[1]*example[0]) + (weight[2]*example[1])\n",
        "    return sum_pond \n",
        "\n",
        "def funcao_ativacao():\n",
        "    if u >= theta:\n",
        "        return 1.0\n",
        "    else:\n",
        "        return 0.0\n",
        "\n",
        "def novo_peso(w, fu_ac):\n",
        "    e = example[2] - fu_ac\n",
        "    novo_p = w + (n*e*np.array([bias, example[0], example[1]]))\n",
        "    novo_p = np.round(novo_p,4)\n",
        "    return novo_p\n",
        "    \n",
        "while (erros != 0):\n",
        "    epoca += 1\n",
        "    ajustes_epoca = 0\n",
        "    erros = 0\n",
        "    \n",
        "    for example in df:\n",
        "        funct_act = 0.0\n",
        "        u = 0.0\n",
        "        u = soma_ponderada()\n",
        "        funct_act = funcao_ativacao()\n",
        "        \n",
        "        if funct_act != example[2]:\n",
        "            ajustes_epoca += 1\n",
        "            ajustes_total += 1\n",
        "            erros += 1\n",
        "            weight = novo_peso(weight, funct_act)\n",
        "            print(\"Novo vetor de pesos ajustado\", weight, \"\\n\")\n",
        "            \n",
        "    print(\"Qtd de ajustes do vetor de pesos na época\", epoca, \":\", ajustes_epoca, \"\\n\")\n",
        "    \n",
        "print(\"\\nVetor de pesos final (ajustado): \", weight)\n",
        "print(\"Número total de ajustes do vetor de pesos:\", ajustes_total)\n",
        "print(\"Número total de epocas:\", epoca)"
      ],
      "execution_count": 65,
      "outputs": [
        {
          "output_type": "stream",
          "name": "stdout",
          "text": [
            "Novo vetor de pesos ajustado [  0.1852  36.0503 -24.6592] \n",
            "\n",
            "Novo vetor de pesos ajustado [   0.2852  -17.6088 -101.155 ] \n",
            "\n",
            "Novo vetor de pesos ajustado [  0.1852  55.1872 -65.3254] \n",
            "\n",
            "Novo vetor de pesos ajustado [  0.0852 137.7859  14.5304] \n",
            "\n",
            "Novo vetor de pesos ajustado [  0.1852 143.6317 -63.7642] \n",
            "\n",
            "Novo vetor de pesos ajustado [   0.2852  103.6228 -141.6569] \n",
            "\n",
            "Novo vetor de pesos ajustado [  0.3852 157.2926 -92.5646] \n",
            "\n",
            "Novo vetor de pesos ajustado [   0.2852  104.3325 -149.4341] \n",
            "\n",
            "Novo vetor de pesos ajustado [  0.3852 163.892  -99.3118] \n",
            "\n",
            "Novo vetor de pesos ajustado [   0.2852  118.3674 -164.9477] \n",
            "\n",
            "Novo vetor de pesos ajustado [  0.3852 209.0833 -90.2344] \n",
            "\n",
            "Novo vetor de pesos ajustado [   0.2852  151.3023 -150.5426] \n",
            "\n",
            "Novo vetor de pesos ajustado [   0.1852  103.0357 -199.0123] \n",
            "\n",
            "Novo vetor de pesos ajustado [   0.0852  173.483  -156.896 ] \n",
            "\n",
            "Novo vetor de pesos ajustado [  -0.0148  126.641  -208.3059] \n",
            "\n",
            "Novo vetor de pesos ajustado [  -0.1148  196.5046 -144.087 ] \n",
            "\n",
            "Novo vetor de pesos ajustado [  -0.0148  140.6689 -200.2645] \n",
            "\n",
            "Novo vetor de pesos ajustado [  -0.1148  217.6564 -135.4152] \n",
            "\n",
            "Novo vetor de pesos ajustado [  -0.2148  181.3864 -178.6432] \n",
            "\n",
            "Novo vetor de pesos ajustado [  -0.1148  163.1473 -196.9768] \n",
            "\n",
            "Novo vetor de pesos ajustado [  -0.2148  238.5697 -130.9217] \n",
            "\n",
            "Novo vetor de pesos ajustado [  -0.3148  174.2106 -213.3441] \n",
            "\n",
            "Novo vetor de pesos ajustado [  -0.2148  265.5188 -130.0733] \n",
            "\n",
            "Novo vetor de pesos ajustado [  -0.3148  218.474  -217.9772] \n",
            "\n",
            "Qtd de ajustes do vetor de pesos na época 1 : 24 \n",
            "\n",
            "Qtd de ajustes do vetor de pesos na época 2 : 0 \n",
            "\n",
            "\n",
            "Vetor de pesos final (ajustado):  [  -0.3148  218.474  -217.9772]\n",
            "Número total de ajustes do vetor de pesos: 24\n",
            "Número total de epocas: 2\n"
          ]
        }
      ]
    },
    {
      "cell_type": "code",
      "metadata": {
        "colab": {
          "base_uri": "https://localhost:8080/"
        },
        "id": "aWrpazKNxK-F",
        "outputId": "4449d885-de0a-467e-e6b1-c12261770fcc"
      },
      "source": [
        "print(\"Equação da reta solução: x2 = \" + \n",
        "      str(np.round((weight[0]/weight[2]), 4)) + \n",
        "      \" -(\" + \n",
        "      str(np.round((weight[1]/weight[2]), 4)) + \n",
        "      \")*x1\")"
      ],
      "execution_count": null,
      "outputs": [
        {
          "output_type": "stream",
          "name": "stdout",
          "text": [
            "Equação da reta solução: x2 = 0.0033 -(-1.0027)*x1\n"
          ]
        }
      ]
    },
    {
      "cell_type": "code",
      "metadata": {
        "colab": {
          "base_uri": "https://localhost:8080/",
          "height": 446
        },
        "id": "IcGFP211xPcz",
        "outputId": "eb1f4929-5fdf-4ce1-f067-06f6e2420ffe"
      },
      "source": [
        "plt.figure(figsize=(13, 7))\n",
        "x_b = []\n",
        "y_b = []\n",
        "x_r = []\n",
        "y_r = []\n",
        "for example in df:\n",
        "    if example[2] == 1.0:\n",
        "        x_b.append(example[0])\n",
        "        y_b.append(example[1])\n",
        "    if example[2] == 0.0:\n",
        "        x_r.append(example[0])\n",
        "        y_r.append(example[1])\n",
        "        \n",
        "size = 10\n",
        "plt.scatter(x_b, y_b, s=size, color='b', marker=\"s\", label='1')\n",
        "plt.scatter(x_r, y_r, s=size, color='r', marker=\"o\", label='0')\n",
        "\n",
        "plt.legend(loc='upper left')\n",
        "plt.xlabel(\"x1\", size='x-large')\n",
        "plt.ylabel(\"x2\", labelpad=-10, size='x-large')\n",
        "\n",
        "slope = -(weight[0]/weight[2]) / (weight[0]/weight[1]) \n",
        "\n",
        "ymin, ymax = plt.ylim()\n",
        "xx = np.linspace(ymin, ymax)\n",
        "\n",
        "plt.plot(xx, xx, 'k-')\n",
        "\n",
        "\n",
        "#plt.axline(0, (weight[0]/weight[2]), slope, color=\"black\", lw=2)\n",
        "\n",
        "plt.show()"
      ],
      "execution_count": null,
      "outputs": [
        {
          "output_type": "display_data",
          "data": {
            "image/png": "[encoded data removed]",
            "text/plain": [
              "<Figure size 936x504 with 1 Axes>"
            ]
          },
          "metadata": {
            "needs_background": "light"
          }
        }
      ]
    }
  ]
}
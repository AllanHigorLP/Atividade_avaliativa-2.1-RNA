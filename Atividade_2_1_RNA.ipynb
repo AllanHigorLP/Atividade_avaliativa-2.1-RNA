{
  "nbformat": 4,
  "nbformat_minor": 0,
  "metadata": {
    "colab": {
      "name": "Atividade 2.1 - RNA.ipynb",
      "provenance": [],
      "collapsed_sections": [],
      "toc_visible": true,
      "include_colab_link": true
    },
    "kernelspec": {
      "display_name": "Python 3",
      "name": "python3"
    },
    "language_info": {
      "name": "python"
    }
  },
  "cells": [
    {
      "cell_type": "markdown",
      "metadata": {
        "id": "view-in-github",
        "colab_type": "text"
      },
      "source": [
        "<a href=\"https://colab.research.google.com/github/AllanHigorLP/Atividade_avaliativa-2.1-RNA/blob/main/Atividade_2_1_RNA.ipynb\" target=\"_parent\"><img src=\"https://colab.research.google.com/assets/colab-badge.svg\" alt=\"Open In Colab\"/></a>"
      ]
    },
    {
      "cell_type": "markdown",
      "metadata": {
        "id": "cJYnVFY5_4G4"
      },
      "source": [
        "**Criando o diretório no Google Drive**"
      ]
    },
    {
      "cell_type": "markdown",
      "metadata": {
        "id": "wEEpwdwNqtr2"
      },
      "source": [
        "# Detalhamento da Atividade"
      ]
    },
    {
      "cell_type": "code",
      "metadata": {
        "colab": {
          "base_uri": "https://localhost:8080/"
        },
        "id": "4mfufQjVqX4B",
        "outputId": "ce246eb0-a24a-4c81-9db4-8e00f385b439"
      },
      "source": [
        "x = 12%4\n",
        "print(x)"
      ],
      "execution_count": null,
      "outputs": [
        {
          "output_type": "stream",
          "name": "stdout",
          "text": [
            "0\n"
          ]
        }
      ]
    },
    {
      "cell_type": "code",
      "metadata": {
        "id": "eJyZxaKhq03F"
      },
      "source": [
        "import numpy as np # linear algebra\n",
        "import pandas as pd # data processing, CSV file I/O (e.g. pd.read_csv)\n",
        "import seaborn as sns\n",
        "import matplotlib.pyplot as plt\n",
        "from sklearn.model_selection import train_test_split #to split the dataset for training and testing\n",
        "from sklearn import metrics\n",
        "import unicodedata\n",
        "import io"
      ],
      "execution_count": null,
      "outputs": []
    },
    {
      "cell_type": "code",
      "metadata": {
        "colab": {
          "base_uri": "https://localhost:8080/"
        },
        "id": "Ra8KOSdxq5NS",
        "outputId": "29933979-73e9-4ffe-937b-46205e0d4c35"
      },
      "source": [
        "!git clone https://github.com/AllanHigorLP/Atividade_avaliativa-2.1-RNA/"
      ],
      "execution_count": null,
      "outputs": [
        {
          "output_type": "stream",
          "name": "stdout",
          "text": [
            "fatal: destination path 'Atividade_avaliativa-2.1-RNA' already exists and is not an empty directory.\n"
          ]
        }
      ]
    },
    {
      "cell_type": "code",
      "metadata": {
        "colab": {
          "base_uri": "https://localhost:8080/"
        },
        "id": "9tCwbqKnq7O7",
        "outputId": "1d96053c-adb4-47c1-b303-e17f48b4678c"
      },
      "source": [
        "df = np.fromfile('/content/Atividade_avaliativa-2.1-RNA/data/dataAll.txt')\n",
        "print(df)"
      ],
      "execution_count": null,
      "outputs": [
        {
          "output_type": "stream",
          "name": "stdout",
          "text": [
            "[-363.7884  244.1423    0.     ... -140.147   734.0983    0.    ]\n"
          ]
        }
      ]
    },
    {
      "cell_type": "code",
      "metadata": {
        "colab": {
          "base_uri": "https://localhost:8080/"
        },
        "id": "FNSYMK_Jq9S_",
        "outputId": "c891c316-51e4-4050-fc00-6dd3eff676d2"
      },
      "source": [
        "df.shape"
      ],
      "execution_count": null,
      "outputs": [
        {
          "output_type": "execute_result",
          "data": {
            "text/plain": [
              "(3000,)"
            ]
          },
          "metadata": {},
          "execution_count": 252
        }
      ]
    },
    {
      "cell_type": "code",
      "metadata": {
        "colab": {
          "base_uri": "https://localhost:8080/"
        },
        "id": "Irl3HLzKq_D1",
        "outputId": "f7a8592d-4522-4ea1-f5f7-b6eecff57ae1"
      },
      "source": [
        "df = df.reshape(1000, 3)\n",
        "print(df)"
      ],
      "execution_count": null,
      "outputs": [
        {
          "output_type": "stream",
          "name": "stdout",
          "text": [
            "[[-363.7884  244.1423    0.    ]\n",
            " [ 328.7572 -256.7658    1.    ]\n",
            " [-164.9827  613.2164    0.    ]\n",
            " ...\n",
            " [ 872.4311  669.1192    1.    ]\n",
            " [ 822.6894 -702.6489    1.    ]\n",
            " [-140.147   734.0983    0.    ]]\n"
          ]
        }
      ]
    },
    {
      "cell_type": "markdown",
      "metadata": {
        "id": "rfy4N9KFrCvJ"
      },
      "source": [
        "# Parte I – Resolvendo um Problema Linearmente Separável"
      ]
    },
    {
      "cell_type": "code",
      "metadata": {
        "id": "FMcMhr4nrFle"
      },
      "source": [
        "# n (taxa de aprendizado)\n",
        "theta = 0.0\n",
        "n = 0.1\n",
        "bias = 1.0\n",
        "weight_max = 0.5\n",
        "weight_min = -0.5\n"
      ],
      "execution_count": null,
      "outputs": []
    },
    {
      "cell_type": "code",
      "metadata": {
        "colab": {
          "base_uri": "https://localhost:8080/"
        },
        "id": "MPI6fSYorHb3",
        "outputId": "3e1e5f49-9b53-442a-d7f2-0c6983f8cece"
      },
      "source": [
        "weight = np.random.uniform(weight_min, weight_max, size=3)\n",
        "weight = np.round(weight,4)\n",
        "print(weight)"
      ],
      "execution_count": null,
      "outputs": [
        {
          "output_type": "stream",
          "name": "stdout",
          "text": [
            "[ 0.23   -0.0373 -0.3651]\n"
          ]
        }
      ]
    },
    {
      "cell_type": "code",
      "metadata": {
        "colab": {
          "base_uri": "https://localhost:8080/"
        },
        "id": "9QKkCWcirJ0p",
        "outputId": "cb8ed411-475a-4dba-882c-5534fa6b512a"
      },
      "source": [
        "epoca = 0\n",
        "erros = 1\n",
        "ajustes_total = 0\n",
        "ajustes_epoca = 0\n",
        "\n",
        "def soma_ponderada():\n",
        "    sum_pond = (weight[0]*(-1*bias)) + (weight[1]*example[0]) + (weight[2]*example[1])\n",
        "    return sum_pond \n",
        "\n",
        "def funcao_ativacao():\n",
        "    if u >= theta:\n",
        "        return 1.0\n",
        "    else:\n",
        "        return 0.0\n",
        "\n",
        "def novo_peso(w, fu_ac):\n",
        "    e = example[2] - fu_ac\n",
        "    novo_p = w + (n*e*np.array([(-1*bias), example[0], example[1]]))\n",
        "    novo_p = np.round(novo_p,4)\n",
        "    return novo_p\n",
        "    \n",
        "while (erros != 0):\n",
        "    epoca = epoca + 1\n",
        "    ajustes_epoca = 0\n",
        "    erros = 0\n",
        "    \n",
        "    for example in df:\n",
        "        funct_act = 0.0\n",
        "        u = 0.0\n",
        "        u = soma_ponderada()\n",
        "        funct_act = funcao_ativacao()\n",
        "        \n",
        "        if funct_act != example[2]:\n",
        "            ajustes_epoca = ajustes_epoca + 1\n",
        "            ajustes_total = ajustes_total + 1\n",
        "            erros = 1\n",
        "            weight = novo_peso(weight, funct_act)\n",
        "            print(\"Novo vetor de pesos ajustado\", weight, \"\\n\")\n",
        "            \n",
        "    print(\"Qtd de ajustes do vetor de pesos na época\", epoca, \":\", ajustes_epoca, \"\\n\")\n",
        "    \n",
        "print(\"\\nVetor de pesos final (ajustado): \", weight)\n",
        "print(\"Número total de ajustes do vetor de pesos:\", ajustes_total)\n",
        "print(\"Número total de epocas:\", epoca)"
      ],
      "execution_count": null,
      "outputs": [
        {
          "output_type": "stream",
          "name": "stdout",
          "text": [
            "Novo vetor de pesos ajustado [ 0.13   72.7587 35.4645] \n",
            "\n",
            "Novo vetor de pesos ajustado [  0.03    73.9119 -23.3835] \n",
            "\n",
            "Novo vetor de pesos ajustado [   0.13     -9.6177 -122.5093] \n",
            "\n",
            "Novo vetor de pesos ajustado [   0.23     39.5692 -105.8806] \n",
            "\n",
            "Novo vetor de pesos ajustado [  0.13   122.1679 -26.0248] \n",
            "\n",
            "Novo vetor de pesos ajustado [   0.23     82.159  -103.9175] \n",
            "\n",
            "Novo vetor de pesos ajustado [  0.33   135.8288 -54.8252] \n",
            "\n",
            "Novo vetor de pesos ajustado [   0.23     82.8687 -111.6947] \n",
            "\n",
            "Novo vetor de pesos ajustado [  0.33   142.4282 -61.5724] \n",
            "\n",
            "Novo vetor de pesos ajustado [   0.23    109.9502 -135.0282] \n",
            "\n",
            "Novo vetor de pesos ajustado [  0.13   181.3247 -70.4861] \n",
            "\n",
            "Novo vetor de pesos ajustado [   0.03    135.8001 -136.122 ] \n",
            "\n",
            "Novo vetor de pesos ajustado [ -0.07   218.692  -53.3405] \n",
            "\n",
            "Novo vetor de pesos ajustado [  -0.17    172.5446 -109.9899] \n",
            "\n",
            "Novo vetor de pesos ajustado [  -0.07    108.6311 -194.3643] \n",
            "\n",
            "Novo vetor de pesos ajustado [  -0.17    153.2234 -162.6493] \n",
            "\n",
            "Novo vetor de pesos ajustado [  -0.27    200.2478 -116.0951] \n",
            "\n",
            "Novo vetor de pesos ajustado [  -0.37    170.3637 -149.2044] \n",
            "\n",
            "Novo vetor de pesos ajustado [  -0.27    106.8276 -220.8077] \n",
            "\n",
            "Novo vetor de pesos ajustado [  -0.17    192.8942 -169.8253] \n",
            "\n",
            "Novo vetor de pesos ajustado [  -0.07    174.6551 -188.1589] \n",
            "\n",
            "Novo vetor de pesos ajustado [   0.03    205.962  -157.5306] \n",
            "\n",
            "Novo vetor de pesos ajustado [  -0.07    141.6029 -239.953 ] \n",
            "\n",
            "Novo vetor de pesos ajustado [   0.03    171.3684 -220.6382] \n",
            "\n",
            "Novo vetor de pesos ajustado [   0.13    262.6766 -137.3674] \n",
            "\n",
            "Novo vetor de pesos ajustado [   0.03    215.6318 -225.2713] \n",
            "\n",
            "Qtd de ajustes do vetor de pesos na época 1 : 26 \n",
            "\n",
            "Novo vetor de pesos ajustado [  -0.07    298.2305 -145.4155] \n",
            "\n",
            "Novo vetor de pesos ajustado [   0.03    258.2216 -223.3082] \n",
            "\n",
            "Novo vetor de pesos ajustado [  -0.07    205.2615 -280.1777] \n",
            "\n",
            "Novo vetor de pesos ajustado [   0.03    264.821  -230.0554] \n",
            "\n",
            "Novo vetor de pesos ajustado [  -0.07    207.04   -290.3635] \n",
            "\n",
            "Novo vetor de pesos ajustado [  -0.17    251.2615 -251.8778] \n",
            "\n",
            "Novo vetor de pesos ajustado [  -0.27    334.1534 -169.0963] \n",
            "\n",
            "Novo vetor de pesos ajustado [  -0.37    288.006  -225.7457] \n",
            "\n",
            "Novo vetor de pesos ajustado [  -0.27    261.3804 -258.2681] \n",
            "\n",
            "Novo vetor de pesos ajustado [  -0.17    243.1413 -276.6017] \n",
            "\n",
            "Novo vetor de pesos ajustado [  -0.07    274.4482 -245.9734] \n",
            "\n",
            "Novo vetor de pesos ajustado [   0.03    198.8943 -323.2964] \n",
            "\n",
            "Novo vetor de pesos ajustado [   0.13    267.8702 -258.5055] \n",
            "\n",
            "Novo vetor de pesos ajustado [   0.23    172.0586 -356.3872] \n",
            "\n",
            "Novo vetor de pesos ajustado [   0.13    253.2323 -305.0393] \n",
            "\n",
            "Novo vetor de pesos ajustado [   0.23    352.7001 -213.1497] \n",
            "\n",
            "Novo vetor de pesos ajustado [   0.13    293.9952 -305.487 ] \n",
            "\n",
            "Qtd de ajustes do vetor de pesos na época 2 : 17 \n",
            "\n",
            "Novo vetor de pesos ajustado [   0.03    376.5939 -225.6312] \n",
            "\n",
            "Novo vetor de pesos ajustado [  -0.07    322.9671 -311.7269] \n",
            "\n",
            "Novo vetor de pesos ajustado [  -0.17    273.0573 -362.9873] \n",
            "\n",
            "Novo vetor de pesos ajustado [  -0.27    300.5209 -342.131 ] \n",
            "\n",
            "Novo vetor de pesos ajustado [  -0.17    349.9817 -293.237 ] \n",
            "\n",
            "Novo vetor de pesos ajustado [  -0.07    321.7742 -326.8211] \n",
            "\n",
            "Novo vetor de pesos ajustado [   0.03    408.909  -240.1313] \n",
            "\n",
            "Novo vetor de pesos ajustado [   0.13    356.9937 -296.3323] \n",
            "\n",
            "Novo vetor de pesos ajustado [   0.23    292.1077 -370.9484] \n",
            "\n",
            "Novo vetor de pesos ajustado [   0.13    381.8165 -291.9397] \n",
            "\n",
            "Novo vetor de pesos ajustado [   0.03    304.3536 -389.9274] \n",
            "\n",
            "Novo vetor de pesos ajustado [  -0.07    349.2589 -346.5235] \n",
            "\n",
            "Novo vetor de pesos ajustado [  -0.17    300.9923 -394.9932] \n",
            "\n",
            "Novo vetor de pesos ajustado [  -0.27    370.8559 -330.7743] \n",
            "\n",
            "Novo vetor de pesos ajustado [  -0.17    315.0202 -386.9518] \n",
            "\n",
            "Novo vetor de pesos ajustado [  -0.27    392.0077 -322.1025] \n",
            "\n",
            "Novo vetor de pesos ajustado [  -0.37    355.7377 -365.3305] \n",
            "\n",
            "Novo vetor de pesos ajustado [  -0.47    438.6296 -282.549 ] \n",
            "\n",
            "Novo vetor de pesos ajustado [  -0.57    392.4822 -339.1984] \n",
            "\n",
            "Novo vetor de pesos ajustado [  -0.67    362.5981 -372.3077] \n",
            "\n",
            "Novo vetor de pesos ajustado [  -0.57    393.905  -341.6794] \n",
            "\n",
            "Novo vetor de pesos ajustado [  -0.47    318.3511 -419.0024] \n",
            "\n",
            "Novo vetor de pesos ajustado [  -0.37    387.327  -354.2115] \n",
            "\n",
            "Novo vetor de pesos ajustado [  -0.27    291.5154 -452.0932] \n",
            "\n",
            "Novo vetor de pesos ajustado [  -0.17    390.9832 -360.2036] \n",
            "\n",
            "Novo vetor de pesos ajustado [  -0.07    347.1251 -404.7426] \n",
            "\n",
            "Qtd de ajustes do vetor de pesos na época 3 : 26 \n",
            "\n",
            "Novo vetor de pesos ajustado [  -0.17    429.7238 -324.8868] \n",
            "\n",
            "Novo vetor de pesos ajustado [  -0.27    376.7637 -381.7563] \n",
            "\n",
            "Novo vetor de pesos ajustado [  -0.17    426.2245 -332.8622] \n",
            "\n",
            "Novo vetor de pesos ajustado [  -0.07    398.017  -366.4463] \n",
            "\n",
            "Novo vetor de pesos ajustado [  -0.17    333.7278 -434.5109] \n",
            "\n",
            "Novo vetor de pesos ajustado [  -0.07    398.719  -373.6192] \n",
            "\n",
            "Novo vetor de pesos ajustado [  -0.17    332.0442 -443.5145] \n",
            "\n",
            "Novo vetor de pesos ajustado [  -0.07    363.4946 -419.0831] \n",
            "\n",
            "Novo vetor de pesos ajustado [  -0.17    426.3919 -360.8961] \n",
            "\n",
            "Novo vetor de pesos ajustado [  -0.07    377.2748 -412.745 ] \n",
            "\n",
            "Novo vetor de pesos ajustado [  -0.17    439.7648 -353.6009] \n",
            "\n",
            "Novo vetor de pesos ajustado [  -0.27    342.3534 -452.7721] \n",
            "\n",
            "Novo vetor de pesos ajustado [  -0.17    407.3082 -389.55  ] \n",
            "\n",
            "Novo vetor de pesos ajustado [  -0.07    325.6469 -472.4274] \n",
            "\n",
            "Novo vetor de pesos ajustado [  -0.17    395.5105 -408.2085] \n",
            "\n",
            "Novo vetor de pesos ajustado [  -0.27    478.4024 -325.427 ] \n",
            "\n",
            "Novo vetor de pesos ajustado [  -0.37    432.255  -382.0764] \n",
            "\n",
            "Novo vetor de pesos ajustado [  -0.47    402.3709 -415.1857] \n",
            "\n",
            "Novo vetor de pesos ajustado [  -0.37    433.6778 -384.5574] \n",
            "\n",
            "Novo vetor de pesos ajustado [  -0.27    358.1239 -461.8804] \n",
            "\n",
            "Novo vetor de pesos ajustado [  -0.17    427.0998 -397.0895] \n",
            "\n",
            "Novo vetor de pesos ajustado [  -0.07    331.2882 -494.9712] \n",
            "\n",
            "Novo vetor de pesos ajustado [   0.03    430.756  -403.0816] \n",
            "\n",
            "Novo vetor de pesos ajustado [   0.13    386.8979 -447.6206] \n",
            "\n",
            "Qtd de ajustes do vetor de pesos na época 4 : 24 \n",
            "\n",
            "Novo vetor de pesos ajustado [   0.03    469.4966 -367.7648] \n",
            "\n",
            "Novo vetor de pesos ajustado [  -0.07    416.5365 -424.6343] \n",
            "\n",
            "Novo vetor de pesos ajustado [   0.03    465.9973 -375.7402] \n",
            "\n",
            "Novo vetor de pesos ajustado [   0.13    437.7898 -409.3243] \n",
            "\n",
            "Novo vetor de pesos ajustado [   0.03    373.5006 -477.3889] \n",
            "\n",
            "Novo vetor de pesos ajustado [   0.13    438.4918 -416.4972] \n",
            "\n",
            "Novo vetor de pesos ajustado [   0.03    371.817  -486.3925] \n",
            "\n",
            "Novo vetor de pesos ajustado [   0.13    403.2674 -461.9611] \n",
            "\n",
            "Novo vetor de pesos ajustado [   0.03    466.1647 -403.7741] \n",
            "\n",
            "Novo vetor de pesos ajustado [   0.13    417.0476 -455.623 ] \n",
            "\n",
            "Novo vetor de pesos ajustado [   0.03    479.5376 -396.4789] \n",
            "\n",
            "Novo vetor de pesos ajustado [  -0.07    382.1262 -495.6501] \n",
            "\n",
            "Novo vetor de pesos ajustado [   0.03   447.081 -432.428] \n",
            "\n",
            "Novo vetor de pesos ajustado [   0.13    365.4197 -515.3054] \n",
            "\n",
            "Novo vetor de pesos ajustado [   0.03    435.2833 -451.0865] \n",
            "\n",
            "Novo vetor de pesos ajustado [  -0.07    518.1752 -368.305 ] \n",
            "\n",
            "Novo vetor de pesos ajustado [  -0.17    472.0278 -424.9544] \n",
            "\n",
            "Novo vetor de pesos ajustado [  -0.27    442.1437 -458.0637] \n",
            "\n",
            "Novo vetor de pesos ajustado [  -0.17    473.4506 -427.4354] \n",
            "\n",
            "Novo vetor de pesos ajustado [  -0.07    397.8967 -504.7584] \n",
            "\n",
            "Novo vetor de pesos ajustado [   0.03    466.8726 -439.9675] \n",
            "\n",
            "Novo vetor de pesos ajustado [   0.13    371.061  -537.8492] \n",
            "\n",
            "Novo vetor de pesos ajustado [   0.23    470.5288 -445.9596] \n",
            "\n",
            "Novo vetor de pesos ajustado [   0.33    426.6707 -490.4986] \n",
            "\n",
            "Qtd de ajustes do vetor de pesos na época 5 : 24 \n",
            "\n",
            "Novo vetor de pesos ajustado [   0.23    509.2694 -410.6428] \n",
            "\n",
            "Novo vetor de pesos ajustado [   0.13    456.3093 -467.5123] \n",
            "\n",
            "Novo vetor de pesos ajustado [   0.23    505.7701 -418.6182] \n",
            "\n",
            "Novo vetor de pesos ajustado [   0.33    477.5626 -452.2023] \n",
            "\n",
            "Novo vetor de pesos ajustado [   0.43    414.5152 -517.8975] \n",
            "\n",
            "Novo vetor de pesos ajustado [   0.53    479.5064 -457.0058] \n",
            "\n",
            "Novo vetor de pesos ajustado [   0.43    412.8316 -526.9011] \n",
            "\n",
            "Novo vetor de pesos ajustado [   0.33    475.7289 -468.7141] \n",
            "\n",
            "Novo vetor de pesos ajustado [   0.43    394.0676 -551.5915] \n",
            "\n",
            "Novo vetor de pesos ajustado [   0.33    463.9312 -487.3726] \n",
            "\n",
            "Novo vetor de pesos ajustado [   0.23    546.8231 -404.5911] \n",
            "\n",
            "Novo vetor de pesos ajustado [   0.13    500.6757 -461.2405] \n",
            "\n",
            "Novo vetor de pesos ajustado [   0.23    482.4366 -479.5741] \n",
            "\n",
            "Qtd de ajustes do vetor de pesos na época 6 : 13 \n",
            "\n",
            "Novo vetor de pesos ajustado [   0.13    434.17   -528.0438] \n",
            "\n",
            "Novo vetor de pesos ajustado [   0.03    504.0336 -463.8249] \n",
            "\n",
            "Novo vetor de pesos ajustado [   0.13    448.1979 -520.0024] \n",
            "\n",
            "Novo vetor de pesos ajustado [   0.03    531.0898 -437.2209] \n",
            "\n",
            "Novo vetor de pesos ajustado [  -0.07    501.2057 -470.3302] \n",
            "\n",
            "Novo vetor de pesos ajustado [   0.03    482.9666 -488.6638] \n",
            "\n",
            "Qtd de ajustes do vetor de pesos na época 7 : 6 \n",
            "\n",
            "Novo vetor de pesos ajustado [   0.13    532.4274 -439.7698] \n",
            "\n",
            "Novo vetor de pesos ajustado [   0.23    504.2199 -473.3539] \n",
            "\n",
            "Novo vetor de pesos ajustado [   0.13    439.9307 -541.4185] \n",
            "\n",
            "Novo vetor de pesos ajustado [   0.23    504.9219 -480.5268] \n",
            "\n",
            "Novo vetor de pesos ajustado [   0.13    438.2471 -550.4221] \n",
            "\n",
            "Novo vetor de pesos ajustado [   0.03    501.1444 -492.2351] \n",
            "\n",
            "Novo vetor de pesos ajustado [  -0.07    403.733  -591.4063] \n",
            "\n",
            "Novo vetor de pesos ajustado [  -0.17    497.5186 -522.9124] \n",
            "\n",
            "Novo vetor de pesos ajustado [  -0.07    562.4734 -459.6903] \n",
            "\n",
            "Novo vetor de pesos ajustado [   0.03    480.8121 -542.5677] \n",
            "\n",
            "Novo vetor de pesos ajustado [  -0.07    550.6757 -478.3488] \n",
            "\n",
            "Novo vetor de pesos ajustado [   0.03    494.84   -534.5263] \n",
            "\n",
            "Novo vetor de pesos ajustado [  -0.07    577.7319 -451.7448] \n",
            "\n",
            "Novo vetor de pesos ajustado [  -0.17    531.5845 -508.3942] \n",
            "\n",
            "Novo vetor de pesos ajustado [  -0.07    513.3454 -526.7278] \n",
            "\n",
            "Novo vetor de pesos ajustado [   0.03    544.6523 -496.0995] \n",
            "\n",
            "Novo vetor de pesos ajustado [   0.13    469.0984 -573.4224] \n",
            "\n",
            "Novo vetor de pesos ajustado [   0.23    538.0743 -508.6315] \n",
            "\n",
            "Novo vetor de pesos ajustado [   0.33    442.2628 -606.5132] \n",
            "\n",
            "Novo vetor de pesos ajustado [   0.43    541.7306 -514.6236] \n",
            "\n",
            "Novo vetor de pesos ajustado [   0.53    497.8725 -559.1626] \n",
            "\n",
            "Qtd de ajustes do vetor de pesos na época 8 : 21 \n",
            "\n",
            "Novo vetor de pesos ajustado [   0.43    580.4712 -479.3068] \n",
            "\n",
            "Novo vetor de pesos ajustado [   0.33    527.5111 -536.1763] \n",
            "\n",
            "Novo vetor de pesos ajustado [   0.43    576.9719 -487.2822] \n",
            "\n",
            "Novo vetor de pesos ajustado [   0.33    512.6827 -555.3468] \n",
            "\n",
            "Novo vetor de pesos ajustado [   0.43    577.6739 -494.4551] \n",
            "\n",
            "Novo vetor de pesos ajustado [   0.33    558.8662 -515.4405] \n",
            "\n",
            "Novo vetor de pesos ajustado [   0.43    506.9509 -571.6415] \n",
            "\n",
            "Novo vetor de pesos ajustado [   0.53    581.034  -505.7707] \n",
            "\n",
            "Novo vetor de pesos ajustado [   0.43    514.3592 -575.666 ] \n",
            "\n",
            "Novo vetor de pesos ajustado [   0.33    577.2565 -517.479 ] \n",
            "\n",
            "Novo vetor de pesos ajustado [   0.43    528.1394 -569.3279] \n",
            "\n",
            "Novo vetor de pesos ajustado [   0.33    590.6294 -510.1838] \n",
            "\n",
            "Novo vetor de pesos ajustado [   0.23   493.218 -609.355] \n",
            "\n",
            "Novo vetor de pesos ajustado [   0.33    558.1728 -546.1328] \n",
            "\n",
            "Novo vetor de pesos ajustado [   0.43    476.5115 -629.0102] \n",
            "\n",
            "Novo vetor de pesos ajustado [   0.33    546.3751 -564.7913] \n",
            "\n",
            "Novo vetor de pesos ajustado [   0.23    629.267  -482.0098] \n",
            "\n",
            "Novo vetor de pesos ajustado [   0.13    583.1196 -538.6592] \n",
            "\n",
            "Novo vetor de pesos ajustado [   0.23    564.8805 -556.9928] \n",
            "\n",
            "Qtd de ajustes do vetor de pesos na época 9 : 19 \n",
            "\n",
            "Novo vetor de pesos ajustado [   0.13    516.6139 -605.4625] \n",
            "\n",
            "Novo vetor de pesos ajustado [   0.03    586.4775 -541.2436] \n",
            "\n",
            "Novo vetor de pesos ajustado [   0.13    530.6418 -597.4211] \n",
            "\n",
            "Novo vetor de pesos ajustado [   0.03    613.5337 -514.6396] \n",
            "\n",
            "Novo vetor de pesos ajustado [  -0.07    583.6496 -547.7489] \n",
            "\n",
            "Novo vetor de pesos ajustado [   0.03    565.4105 -566.0825] \n",
            "\n",
            "Qtd de ajustes do vetor de pesos na época 10 : 6 \n",
            "\n",
            "Qtd de ajustes do vetor de pesos na época 11 : 0 \n",
            "\n",
            "\n",
            "Vetor de pesos final (ajustado):  [   0.03    565.4105 -566.0825]\n",
            "Número total de ajustes do vetor de pesos: 182\n",
            "Número total de epocas: 11\n"
          ]
        }
      ]
    },
    {
      "cell_type": "code",
      "metadata": {
        "colab": {
          "base_uri": "https://localhost:8080/"
        },
        "id": "CdZoAqlorNWC",
        "outputId": "7bcef81c-d78f-4b76-debb-0e4f21629ef5"
      },
      "source": [
        "plt.figure(figsize=(15,10))\n",
        "\n",
        "x_classe0 = []\n",
        "y_classe0 = []\n",
        "x_classe1 = []\n",
        "y_classe1 = []\n",
        "\n",
        "classe0 = []\n",
        "\n",
        "for example in df:\n",
        "    if example[2] == 0.0:\n",
        "        x_classe0.append(example[0])\n",
        "        y_classe0.append(example[1])\n",
        "    if example[2] == 1.0:\n",
        "        x_classe1.append(example[0])\n",
        "        y_classe1.append(example[1])\n",
        "        \n",
        "plt.scatter(x_classe0, y_classe0, color='r', label='0')\n",
        "plt.scatter(x_classe1, y_classe1, color='b', label='1')\n",
        "\n",
        "plt.legend()\n",
        "plt.xlabel(\"x1\")\n",
        "plt.ylabel(\"x2\")\n",
        "\n",
        "slp = -(weight[0]/weight[2]) / (weight[0]/weight[1])\n",
        "end = (weight[0]/weight[2])\n",
        "abline_values = [slp * i + end for i in x_classe0]\n",
        "plt.plot(x_classe0, abline_values, 'b',color=\"black\")\n",
        "\n",
        "plt.show()"
      ],
      "execution_count": null,
      "outputs": [
        {
          "output_type": "display_data",
          "data": {
            "image/png": "[encoded data removed]",
            "text/plain": [
              "<Figure size 1080x720 with 1 Axes>"
            ]
          },
          "metadata": {
            "needs_background": "light"
          }
        }
      ]
    },
    {
      "cell_type": "markdown",
      "metadata": {
        "id": "fWslZhJIw6LX"
      },
      "source": [
        "#Parte II – Executando\n"
      ]
    },
    {
      "cell_type": "code",
      "metadata": {
        "colab": {
          "base_uri": "https://localhost:8080/"
        },
        "id": "rtgb4yIkxE_I",
        "outputId": "822df287-108e-4331-f9bd-8a914f54570d"
      },
      "source": [
        "df0 = np.fromfile('/content/Atividade_avaliativa-2.1-RNA/data/data0.txt')\n",
        "print(df0)"
      ],
      "execution_count": null,
      "outputs": [
        {
          "output_type": "stream",
          "name": "stdout",
          "text": [
            "[-0.0015 -0.0358  0.     ...  1.0202  0.8653  1.    ]\n"
          ]
        }
      ]
    },
    {
      "cell_type": "code",
      "metadata": {
        "colab": {
          "base_uri": "https://localhost:8080/"
        },
        "id": "6jtgEeuHxX3e",
        "outputId": "73e66d06-06d1-4401-8faf-7315bed8146a"
      },
      "source": [
        "df0.shape"
      ],
      "execution_count": null,
      "outputs": [
        {
          "output_type": "execute_result",
          "data": {
            "text/plain": [
              "(1800,)"
            ]
          },
          "metadata": {},
          "execution_count": 259
        }
      ]
    },
    {
      "cell_type": "code",
      "metadata": {
        "colab": {
          "base_uri": "https://localhost:8080/"
        },
        "id": "Dz2ftxpLxdex",
        "outputId": "48167145-f264-4380-bb34-78654fda08c9"
      },
      "source": [
        "df0 = df0.reshape(600, 3)\n",
        "print(df0)"
      ],
      "execution_count": null,
      "outputs": [
        {
          "output_type": "stream",
          "name": "stdout",
          "text": [
            "[[-0.0015 -0.0358  0.    ]\n",
            " [ 0.0123  0.1025  0.    ]\n",
            " [ 0.1395  0.0561  0.    ]\n",
            " ...\n",
            " [ 0.9575  1.0035  1.    ]\n",
            " [ 0.9798  1.0095  1.    ]\n",
            " [ 1.0202  0.8653  1.    ]]\n"
          ]
        }
      ]
    },
    {
      "cell_type": "code",
      "metadata": {
        "id": "Ojorr-D8x_oR"
      },
      "source": [
        "import numpy as np\n",
        "\n",
        "class Perceptron(object):\n",
        "    \n",
        "   def __init__(self, no_of_inputs, epoch=100, \n",
        "                    learning_rate=np.random.uniform(0.1, 0.4, 1), \n",
        "                    baias=-1, \n",
        "                    random_train_set=False, \n",
        "                    show_training=False,\n",
        "                    weights=(-5.0, 0.5),\n",
        "                    use_epoch=False):\n",
        "        self.epoch = epoch\n",
        "        self.learning_rate= learning_rate\n",
        "        self.weights = np.random.uniform(weights[0], \n",
        "                                            weights[1], \n",
        "                                            no_of_inputs + 1)\n",
        "        self.baias = baias\n",
        "        self.random_train_set = random_train_set\n",
        "        self.show_training = show_training\n",
        "        self.use_epoch = use_epoch\n",
        "    \n",
        "   def __add_baias(self, inputs):\n",
        "        new_inputs = []\n",
        "        for row in inputs:\n",
        "            new_row = np.insert(row, 0, self.baias)\n",
        "            new_inputs.append(new_row)\n",
        "        return np.array(new_inputs)\n",
        "\n",
        "   def __weight_adjust(self, x_train, y_predicto, y_real):\n",
        "        erro = y_predicto - y_real\n",
        "        self.weights -= self.learning_rate * erro * x_train\n",
        "        self.weights = np.round(self.weights, 4)\n",
        "\n",
        "   def __activ_func(self, u): \n",
        "        if u >= 0.0:\n",
        "            return 1.0\n",
        "        else:\n",
        "            return 0.0\n",
        "\n",
        "   def __error(self, y_predicto, y_real):\n",
        "        if y_predicto != y_real:\n",
        "            return True\n",
        "        else:\n",
        "            return False\n",
        "\n",
        "   def __random_sets(self, x_train, y_train):\n",
        "        # Randomizando os dados de treino\n",
        "        index = np.arange(len(x_train))\n",
        "        np.random.shuffle(index)\n",
        "        x_train = x_train[index]\n",
        "        y_train = y_train[index]\n",
        "        return x_train, y_train\n",
        "        #---------------------------------\n",
        "    \n",
        "   def predict(self, x_test):\n",
        "        x_test = self.__add_baias(x_test)\n",
        "        y_predicto = []\n",
        "        for _x_test in x_test:\n",
        "            u = np.sum(np.dot(_x_test, self.weights))\n",
        "            y = self.__activ_func(u)\n",
        "            y_predicto.append(y)\n",
        "        return np.array(y_predicto)\n",
        "\n",
        "   def __show_training(self, epoch, count_adjust):\n",
        "        print(\"\\n\\tÉpoca:\", epoch)\n",
        "        print(\"Pesos:\", self.weights)\n",
        "        print(\"Quantidade de Ajustes:\", count_adjust)\n",
        "\n",
        "   def __learning(self, x_train, y_train, no_erro):\n",
        "        count_adjust = 0\n",
        "        for x, y in zip(x_train, y_train):\n",
        "            u = np.sum(np.dot(x, self.weights))\n",
        "            y_predicto = self.__activ_func(u)\n",
        "            if self.__error(y_predicto, y):\n",
        "                self.__weight_adjust(x, y_predicto, y)\n",
        "                no_erro = False\n",
        "                count_adjust += 1\n",
        "        return no_erro, count_adjust\n",
        "\n",
        "\n",
        "   def __epochs(self, x_train, y_train):\n",
        "        no_erro = False\n",
        "        epoch = 1\n",
        "        total_adjust = 0\n",
        "        while no_erro != True:\n",
        "\n",
        "            if self.use_epoch:\n",
        "                if epoch == self.epoch:\n",
        "                    break\n",
        "                \n",
        "            if self.random_train_set:\n",
        "                x_train, y_train = self.__random_sets(x_train,\n",
        "                                                         y_train)\n",
        "            \n",
        "            no_erro = True\n",
        "            \n",
        "            no_erro, count_adjust = self.__learning(x_train, \n",
        "                                                        y_train,\n",
        "                                                        no_erro)\n",
        "\n",
        "            if self.show_training:\n",
        "                self.__show_training(epoch, count_adjust)\n",
        "\n",
        "            epoch += 1\n",
        "            total_adjust += count_adjust\n",
        "        return epoch, total_adjust\n",
        "\n",
        "\n",
        "   def total_values(self, x_train, y_train):\n",
        "\n",
        "        x_train = self.__add_baias(x_train)\n",
        "        epoch, total_adjust = self.__epochs(x_train, y_train)\n",
        "        return epoch, total_adjust"
      ],
      "execution_count": null,
      "outputs": []
    },
    {
      "cell_type": "markdown",
      "metadata": {
        "id": "ZIL6nJs9ppas"
      },
      "source": [
        "#Calculo dos pesos para as configs. 1 e 2\n"
      ]
    },
    {
      "cell_type": "code",
      "metadata": {
        "id": "Jiqrbnsomu10",
        "colab": {
          "base_uri": "https://localhost:8080/"
        },
        "outputId": "3c2ee848-ff47-44bf-a0ac-78ea27bd6835"
      },
      "source": [
        "weight_max_1 = 100\n",
        "weight_min_1 = -100\n",
        "weights_1 = np.random.uniform(weight_min_1, weight_max_1, size=3)\n",
        "weights_1 = np.round(weights_1,4)\n",
        "print(\"Peso 1: \", weights_1)\n",
        "weight_max_2 = 0.5\n",
        "weight_min_2 = -0.5\n",
        "weights_2 = np.random.uniform(weight_min_2, weight_max_2, size=3)\n",
        "weights_2 = np.round(weights_2,4)\n",
        "print(\"Peso 2: \", weights_2)"
      ],
      "execution_count": null,
      "outputs": [
        {
          "output_type": "stream",
          "name": "stdout",
          "text": [
            "Peso 1:  [-2.0562 88.5115 -3.3707]\n",
            "Peso 2:  [-0.4194  0.4695 -0.2463]\n"
          ]
        }
      ]
    },
    {
      "cell_type": "markdown",
      "metadata": {
        "id": "L4IVK8COmySm"
      },
      "source": [
        "#Configuração 1\n",
        "Valor da taxa de aprendizado: 0.4<br>\n",
        "Peso: wi ∼ U(-100, +100)"
      ]
    },
    {
      "cell_type": "code",
      "metadata": {
        "id": "vOESB0g-mySq"
      },
      "source": [
        "taxa_aprendizado = 0.4"
      ],
      "execution_count": null,
      "outputs": []
    },
    {
      "cell_type": "code",
      "metadata": {
        "colab": {
          "base_uri": "https://localhost:8080/"
        },
        "id": "CmIAQLB1mySr",
        "outputId": "12e4231d-5151-43d7-9349-bada08e52915"
      },
      "source": [
        "epocas = []\n",
        "ajustes = []\n",
        "\n",
        "for i in range(1, 11):\n",
        "    perceptron = Perceptron(no_of_inputs=2, learning_rate=taxa_aprendizado, weights=weights_1)\n",
        "    treinamento_x = df0[:,[0,1]]\n",
        "    treinamento_y = df0[:,2]    \n",
        "    qtd_epocas, qtd_ajustes = perceptron.total_values(treinamento_x, treinamento_y)\n",
        "    epocas = np.append(epocas, qtd_epocas)\n",
        "    ajustes = np.append(ajustes, qtd_ajustes) \n",
        "\n",
        "def set_valores_media(values):\n",
        "  var = np.mean(values)\n",
        "  var = np.round(var,4)\n",
        "  return var\n",
        "\n",
        "def set_valores_desvio_padrao(values):\n",
        "  var = np.std(values)\n",
        "  var = np.round(var,4)\n",
        "  return var\n",
        "\n",
        "epocas_1 = epocas\n",
        "ajustes_1 = ajustes\n",
        "menor_qtde_epocas = int(epocas_1.min())\n",
        "epocas_media_1 = set_valores_media(epocas_1)\n",
        "ajustes_media_1 = set_valores_media(ajustes_1)\n",
        "epocas_desvio_padrao_1 = set_valores_desvio_padrao(epocas_1)\n",
        "ajustes_desvio_padrao_1 = set_valores_desvio_padrao(ajustes_1)\n",
        "\n",
        "print(\"Menor quantidade de épocas: \", menor_qtde_epocas)\n",
        "print(\"Medias: Epoca = \", epocas_media_1, \" | Ajustes = \", ajustes_media_1, \"\\nDesvios Padrao: Epoca = \", epocas_desvio_padrao_1, \" | Ajustes = \", ajustes_desvio_padrao_1)"
      ],
      "execution_count": null,
      "outputs": [
        {
          "output_type": "stream",
          "name": "stdout",
          "text": [
            "Menor quantidade de épocas:  3\n",
            "Medias: Epoca =  14.0  | Ajustes =  94.6 \n",
            "Desvios Padrao: Epoca =  7.5763  | Ajustes =  63.555\n"
          ]
        }
      ]
    },
    {
      "cell_type": "code",
      "metadata": {
        "colab": {
          "base_uri": "https://localhost:8080/"
        },
        "id": "ocdmvCV_mySt",
        "outputId": "d8a68f46-e1c2-474e-edaa-7cf0a60e0407"
      },
      "source": [
        "weights = perceptron.weights\n",
        "print(weights)"
      ],
      "execution_count": null,
      "outputs": [
        {
          "output_type": "stream",
          "name": "stdout",
          "text": [
            "[25.6276  4.1843 75.7988]\n"
          ]
        }
      ]
    },
    {
      "cell_type": "markdown",
      "metadata": {
        "id": "GwVxESskmySu"
      },
      "source": [
        "Gráfico do conjunto de dados e a reta que separa as classes"
      ]
    },
    {
      "cell_type": "code",
      "metadata": {
        "colab": {
          "base_uri": "https://localhost:8080/"
        },
        "id": "Ty0shtQ7mySw",
        "outputId": "fd76120b-47a2-4996-d1ea-54ed06ed4d3f"
      },
      "source": [
        "plt.figure(figsize=(15,10))\n",
        "\n",
        "x_classe0 = []\n",
        "y_classe0 = []\n",
        "x_classe1 = []\n",
        "y_classe1 = []\n",
        "\n",
        "classe0 = []\n",
        "max = 0\n",
        "min = 0\n",
        "\n",
        "for example in df0:\n",
        "    if example[2] == 0.0:\n",
        "        x_classe0.append(example[0])\n",
        "        y_classe0.append(example[1])\n",
        "    if example[2] == 1.0:\n",
        "        x_classe1.append(example[0])\n",
        "        y_classe1.append(example[1])\n",
        "        \n",
        "plt.scatter(x_classe0, y_classe0, color='r', label='0')\n",
        "plt.scatter(x_classe1, y_classe1, color='b', label='1')\n",
        "\n",
        "plt.legend()\n",
        "plt.xlabel(\"x1\")\n",
        "plt.ylabel(\"x2\")\n",
        "classe_tot =  x_classe0\n",
        "slp = -(weight[0]/weight[2]) / (weight[0]/weight[1])\n",
        "end = (weight[0]/weight[2])\n",
        "\n",
        "min_x = np.max(x_classe0)\n",
        "min_y = np.max(y_classe0)\n",
        "max_x = np.min(x_classe1)\n",
        "max_y = np.min(y_classe1)\n",
        "abline_values = [slp * i + end for i in x_classe0]\n",
        "plt.plot([min_x,max_x], [min_y,max_y], 'b',color=\"black\")\n",
        "\n",
        "plt.show()"
      ],
      "execution_count": null,
      "outputs": [
        {
          "output_type": "display_data",
          "data": {
            "image/png": "[encoded data removed]",
            "text/plain": [
              "<Figure size 1080x720 with 1 Axes>"
            ]
          },
          "metadata": {
            "needs_background": "light"
          }
        }
      ]
    },
    {
      "cell_type": "markdown",
      "metadata": {
        "id": "driQsjGTm9mQ"
      },
      "source": [
        "#Configuração 2\n",
        "Valor da taxa de aprendizado: 0.4<br>\n",
        "Peso: wi ∼ U(-0.5, +0.5)"
      ]
    },
    {
      "cell_type": "code",
      "metadata": {
        "colab": {
          "base_uri": "https://localhost:8080/"
        },
        "id": "IuvIx6v2m9mT",
        "outputId": "0bfbd1d1-a6be-4be2-dd12-10536783a3f0"
      },
      "source": [
        "epocas = []\n",
        "ajustes = []\n",
        "\n",
        "for i in range(1, 11):\n",
        "    perceptron = Perceptron(no_of_inputs=2, learning_rate=taxa_aprendizado, weights=weights_2)\n",
        "    treinamento_x = df0[:,[0,1]]\n",
        "    treinamento_y = df0[:,2]    \n",
        "    qtd_epocas, qtd_ajustes = perceptron.total_values(treinamento_x, treinamento_y)\n",
        "    epocas = np.append(epocas, qtd_epocas)\n",
        "    ajustes = np.append(ajustes, qtd_ajustes) \n",
        "\n",
        "def set_valores_media(values):\n",
        "  var = np.mean(values)\n",
        "  var = np.round(var,4)\n",
        "  return var\n",
        "\n",
        "def set_valores_desvio_padrao(values):\n",
        "  var = np.std(values)\n",
        "  var = np.round(var,4)\n",
        "  return var\n",
        "\n",
        "epocas_2 = epocas\n",
        "ajustes_2 = ajustes\n",
        "menor_qtde_epocas = int(epocas_2.min())\n",
        "epocas_media_2 = set_valores_media(epocas_2)\n",
        "ajustes_media_2 = set_valores_media(ajustes_2)\n",
        "epocas_desvio_padrao_2 = set_valores_desvio_padrao(epocas_2)\n",
        "ajustes_desvio_padrao_2 = set_valores_desvio_padrao(ajustes_2)\n",
        "\n",
        "print(\"Menor quantidade de épocas: \", menor_qtde_epocas)\n",
        "print(\"Medias: Epoca = \", epocas_media_2, \" | Ajustes = \", ajustes_media_2, \"\\nDesvios Padrao: Epoca = \", epocas_desvio_padrao_2, \" | Ajustes = \", ajustes_desvio_padrao_2)"
      ],
      "execution_count": null,
      "outputs": [
        {
          "output_type": "stream",
          "name": "stdout",
          "text": [
            "Menor quantidade de épocas:  3\n",
            "Medias: Epoca =  4.2  | Ajustes =  5.5 \n",
            "Desvios Padrao: Epoca =  0.6  | Ajustes =  1.8574\n"
          ]
        }
      ]
    },
    {
      "cell_type": "code",
      "metadata": {
        "colab": {
          "base_uri": "https://localhost:8080/"
        },
        "id": "74qR2EQim9mT",
        "outputId": "8608e6c7-a97d-4edd-ad84-7a887ca26820"
      },
      "source": [
        "weights = perceptron.weights\n",
        "print(weights)"
      ],
      "execution_count": null,
      "outputs": [
        {
          "output_type": "stream",
          "name": "stdout",
          "text": [
            "[ 0.3234 -0.1673  0.7046]\n"
          ]
        }
      ]
    },
    {
      "cell_type": "markdown",
      "metadata": {
        "id": "TK7jxGWhm9mU"
      },
      "source": [
        "Gráfico do conjunto de dados e a reta que separa as classes"
      ]
    },
    {
      "cell_type": "code",
      "metadata": {
        "colab": {
          "base_uri": "https://localhost:8080/"
        },
        "id": "h84EuZNRm9mU",
        "outputId": "2ae9afe1-74d3-4ce2-c1df-4adf2240ef34"
      },
      "source": [
        "plt.figure(figsize=(15,10))\n",
        "\n",
        "x_classe0 = []\n",
        "y_classe0 = []\n",
        "x_classe1 = []\n",
        "y_classe1 = []\n",
        "\n",
        "classe0 = []\n",
        "max = 0\n",
        "min = 0\n",
        "\n",
        "for example in df0:\n",
        "    if example[2] == 0.0:\n",
        "        x_classe0.append(example[0])\n",
        "        y_classe0.append(example[1])\n",
        "    if example[2] == 1.0:\n",
        "        x_classe1.append(example[0])\n",
        "        y_classe1.append(example[1])\n",
        "        \n",
        "plt.scatter(x_classe0, y_classe0, color='r', label='0')\n",
        "plt.scatter(x_classe1, y_classe1, color='b', label='1')\n",
        "\n",
        "plt.legend()\n",
        "plt.xlabel(\"x1\")\n",
        "plt.ylabel(\"x2\")\n",
        "classe_tot =  x_classe0\n",
        "slp = -(weight[0]/weight[2]) / (weight[0]/weight[1])\n",
        "end = (weight[0]/weight[2])\n",
        "\n",
        "min_x = np.max(x_classe0)\n",
        "min_y = np.max(y_classe0)\n",
        "max_x = np.min(x_classe1)\n",
        "max_y = np.min(y_classe1)\n",
        "abline_values = [slp * i + end for i in x_classe0]\n",
        "plt.plot([min_x,max_x], [min_y,max_y], 'b',color=\"black\")\n",
        "\n",
        "plt.show()"
      ],
      "execution_count": null,
      "outputs": [
        {
          "output_type": "display_data",
          "data": {
            "image/png": "[encoded data removed]",
            "text/plain": [
              "<Figure size 1080x720 with 1 Axes>"
            ]
          },
          "metadata": {
            "needs_background": "light"
          }
        }
      ]
    },
    {
      "cell_type": "markdown",
      "metadata": {
        "id": "NpYKEljcpzOB"
      },
      "source": [
        "#Calculo dos pesos para as configs. 3 e 4\n"
      ]
    },
    {
      "cell_type": "code",
      "metadata": {
        "colab": {
          "base_uri": "https://localhost:8080/"
        },
        "id": "qGfITKXmpyLe",
        "outputId": "1287eb08-cddc-44cc-9188-3f22d574b4c4"
      },
      "source": [
        "weight_max_1 = 100\n",
        "weight_min_1 = -100\n",
        "weights_1 = np.random.uniform(weight_min_1, weight_max_1, size=3)\n",
        "weights_1 = np.round(weights_1,4)\n",
        "print(\"Peso 1: \", weights_1)\n",
        "weight_max_2 = 0.5\n",
        "weight_min_2 = -0.5\n",
        "weights_2 = np.random.uniform(weight_min_2, weight_max_2, size=3)\n",
        "weights_2 = np.round(weights_2,4)\n",
        "print(\"Peso 2: \", weights_2)"
      ],
      "execution_count": null,
      "outputs": [
        {
          "output_type": "stream",
          "name": "stdout",
          "text": [
            "Peso 1:  [-33.4968  -7.7479  37.0072]\n",
            "Peso 2:  [ 0.4955  0.2645 -0.4921]\n"
          ]
        }
      ]
    },
    {
      "cell_type": "markdown",
      "metadata": {
        "id": "aEQyUYZzs_TL"
      },
      "source": [
        "#Configuração 3\n",
        "Valor da taxa de aprendizado: 0.1<br>\n",
        "Peso: wi ∼ U(-100, +100)"
      ]
    },
    {
      "cell_type": "code",
      "metadata": {
        "id": "bE2Gf26jtGIx"
      },
      "source": [
        "taxa_aprendizado = 0.1"
      ],
      "execution_count": null,
      "outputs": []
    },
    {
      "cell_type": "code",
      "metadata": {
        "colab": {
          "base_uri": "https://localhost:8080/"
        },
        "id": "H6OQ_Elcs_TM",
        "outputId": "5c32c6e3-be05-4e69-e2dd-2255da7612d7"
      },
      "source": [
        "epocas = []\n",
        "ajustes = []\n",
        "\n",
        "for i in range(1, 11):\n",
        "    perceptron = Perceptron(no_of_inputs=2, learning_rate=taxa_aprendizado, weights=weights_1)\n",
        "    treinamento_x = df0[:,[0,1]]\n",
        "    treinamento_y = df0[:,2]    \n",
        "    qtd_epocas, qtd_ajustes = perceptron.total_values(treinamento_x, treinamento_y)\n",
        "    epocas = np.append(epocas, qtd_epocas)\n",
        "    ajustes = np.append(ajustes, qtd_ajustes) \n",
        "\n",
        "def set_valores_media(values):\n",
        "  var = np.mean(values)\n",
        "  var = np.round(var,4)\n",
        "  return var\n",
        "\n",
        "def set_valores_desvio_padrao(values):\n",
        "  var = np.std(values)\n",
        "  var = np.round(var,4)\n",
        "  return var\n",
        "\n",
        "epocas_1 = epocas\n",
        "ajustes_1 = ajustes\n",
        "menor_qtde_epocas = int(epocas_1.min())\n",
        "epocas_media_1 = set_valores_media(epocas_1)\n",
        "ajustes_media_1 = set_valores_media(ajustes_1)\n",
        "epocas_desvio_padrao_1 = set_valores_desvio_padrao(epocas_1)\n",
        "ajustes_desvio_padrao_1 = set_valores_desvio_padrao(ajustes_1)\n",
        "\n",
        "print(\"Menor quantidade de épocas: \", menor_qtde_epocas)\n",
        "print(\"Medias: Epoca = \", epocas_media_1, \" | Ajustes = \", ajustes_media_1, \"\\nDesvios Padrao: Epoca = \", epocas_desvio_padrao_1, \" | Ajustes = \", ajustes_desvio_padrao_1)"
      ],
      "execution_count": null,
      "outputs": [
        {
          "output_type": "stream",
          "name": "stdout",
          "text": [
            "Menor quantidade de épocas:  7\n",
            "Medias: Epoca =  8.4  | Ajustes =  220.0 \n",
            "Desvios Padrao: Epoca =  1.4967  | Ajustes =  43.1231\n"
          ]
        }
      ]
    },
    {
      "cell_type": "code",
      "metadata": {
        "colab": {
          "base_uri": "https://localhost:8080/"
        },
        "id": "ZAhZU7Z2s_TM",
        "outputId": "779f2b6a-7ec5-41ab-b56e-d3d2e6c51b75"
      },
      "source": [
        "weights = perceptron.weights\n",
        "print(weights)"
      ],
      "execution_count": null,
      "outputs": [
        {
          "output_type": "stream",
          "name": "stdout",
          "text": [
            "[ 1.8959 -2.2025  5.8623]\n"
          ]
        }
      ]
    },
    {
      "cell_type": "markdown",
      "metadata": {
        "id": "o4aYEE5Hs_TM"
      },
      "source": [
        "Gráfico do conjunto de dados e a reta que separa as classes"
      ]
    },
    {
      "cell_type": "code",
      "metadata": {
        "colab": {
          "base_uri": "https://localhost:8080/"
        },
        "id": "utKUbuzBs_TM",
        "outputId": "0d5f5d53-9e17-46d3-b3c7-8b7908d10a76"
      },
      "source": [
        "plt.figure(figsize=(15,10))\n",
        "\n",
        "x_classe0 = []\n",
        "y_classe0 = []\n",
        "x_classe1 = []\n",
        "y_classe1 = []\n",
        "\n",
        "classe0 = []\n",
        "max = 0\n",
        "min = 0\n",
        "\n",
        "for example in df0:\n",
        "    if example[2] == 0.0:\n",
        "        x_classe0.append(example[0])\n",
        "        y_classe0.append(example[1])\n",
        "    if example[2] == 1.0:\n",
        "        x_classe1.append(example[0])\n",
        "        y_classe1.append(example[1])\n",
        "        \n",
        "plt.scatter(x_classe0, y_classe0, color='r', label='0')\n",
        "plt.scatter(x_classe1, y_classe1, color='b', label='1')\n",
        "\n",
        "plt.legend()\n",
        "plt.xlabel(\"x1\")\n",
        "plt.ylabel(\"x2\")\n",
        "classe_tot =  x_classe0\n",
        "slp = -(weight[0]/weight[2]) / (weight[0]/weight[1])\n",
        "end = (weight[0]/weight[2])\n",
        "\n",
        "min_x = np.max(x_classe0)\n",
        "min_y = np.max(y_classe0)\n",
        "max_x = np.min(x_classe1)\n",
        "max_y = np.min(y_classe1)\n",
        "abline_values = [slp * i + end for i in x_classe0]\n",
        "plt.plot([min_x,max_x], [min_y,max_y], 'b',color=\"black\")\n",
        "\n",
        "plt.show()"
      ],
      "execution_count": null,
      "outputs": [
        {
          "output_type": "display_data",
          "data": {
            "image/png": "[encoded data removed]",
            "text/plain": [
              "<Figure size 1080x720 with 1 Axes>"
            ]
          },
          "metadata": {
            "needs_background": "light"
          }
        }
      ]
    },
    {
      "cell_type": "markdown",
      "metadata": {
        "id": "o6n2xFBUrES1"
      },
      "source": [
        "#Configuração 4\n",
        "Valor da taxa de aprendizado: 0.1<br>\n",
        "Peso: wi ∼ U(-0.5, +0.5)"
      ]
    },
    {
      "cell_type": "code",
      "metadata": {
        "colab": {
          "base_uri": "https://localhost:8080/"
        },
        "id": "eAO1vrD5rES_",
        "outputId": "5c32c6e3-be05-4e69-e2dd-2255da7612d7"
      },
      "source": [
        "epocas = []\n",
        "ajustes = []\n",
        "\n",
        "for i in range(1, 11):\n",
        "    perceptron = Perceptron(no_of_inputs=2, learning_rate=taxa_aprendizado, weights=weights_1)\n",
        "    treinamento_x = df0[:,[0,1]]\n",
        "    treinamento_y = df0[:,2]    \n",
        "    qtd_epocas, qtd_ajustes = perceptron.total_values(treinamento_x, treinamento_y)\n",
        "    epocas = np.append(epocas, qtd_epocas)\n",
        "    ajustes = np.append(ajustes, qtd_ajustes) \n",
        "\n",
        "def set_valores_media(values):\n",
        "  var = np.mean(values)\n",
        "  var = np.round(var,4)\n",
        "  return var\n",
        "\n",
        "def set_valores_desvio_padrao(values):\n",
        "  var = np.std(values)\n",
        "  var = np.round(var,4)\n",
        "  return var\n",
        "\n",
        "epocas_1 = epocas\n",
        "ajustes_1 = ajustes\n",
        "menor_qtde_epocas = int(epocas_1.min())\n",
        "epocas_media_1 = set_valores_media(epocas_1)\n",
        "ajustes_media_1 = set_valores_media(ajustes_1)\n",
        "epocas_desvio_padrao_1 = set_valores_desvio_padrao(epocas_1)\n",
        "ajustes_desvio_padrao_1 = set_valores_desvio_padrao(ajustes_1)\n",
        "\n",
        "print(\"Menor quantidade de épocas: \", menor_qtde_epocas)\n",
        "print(\"Medias: Epoca = \", epocas_media_1, \" | Ajustes = \", ajustes_media_1, \"\\nDesvios Padrao: Epoca = \", epocas_desvio_padrao_1, \" | Ajustes = \", ajustes_desvio_padrao_1)"
      ],
      "execution_count": null,
      "outputs": [
        {
          "output_type": "stream",
          "name": "stdout",
          "text": [
            "Menor quantidade de épocas:  7\n",
            "Medias: Epoca =  8.4  | Ajustes =  220.0 \n",
            "Desvios Padrao: Epoca =  1.4967  | Ajustes =  43.1231\n"
          ]
        }
      ]
    },
    {
      "cell_type": "code",
      "metadata": {
        "colab": {
          "base_uri": "https://localhost:8080/"
        },
        "id": "AX-1hne6rETA",
        "outputId": "779f2b6a-7ec5-41ab-b56e-d3d2e6c51b75"
      },
      "source": [
        "weights = perceptron.weights\n",
        "print(weights)"
      ],
      "execution_count": null,
      "outputs": [
        {
          "output_type": "stream",
          "name": "stdout",
          "text": [
            "[ 1.8959 -2.2025  5.8623]\n"
          ]
        }
      ]
    },
    {
      "cell_type": "markdown",
      "metadata": {
        "id": "Myc1Ges9rETA"
      },
      "source": [
        "Gráfico do conjunto de dados e a reta que separa as classes"
      ]
    },
    {
      "cell_type": "code",
      "metadata": {
        "colab": {
          "base_uri": "https://localhost:8080/"
        },
        "id": "gRgUvvW8rETB",
        "outputId": "0d5f5d53-9e17-46d3-b3c7-8b7908d10a76"
      },
      "source": [
        "plt.figure(figsize=(15,10))\n",
        "\n",
        "x_classe0 = []\n",
        "y_classe0 = []\n",
        "x_classe1 = []\n",
        "y_classe1 = []\n",
        "\n",
        "classe0 = []\n",
        "max = 0\n",
        "min = 0\n",
        "\n",
        "for example in df0:\n",
        "    if example[2] == 0.0:\n",
        "        x_classe0.append(example[0])\n",
        "        y_classe0.append(example[1])\n",
        "    if example[2] == 1.0:\n",
        "        x_classe1.append(example[0])\n",
        "        y_classe1.append(example[1])\n",
        "        \n",
        "plt.scatter(x_classe0, y_classe0, color='r', label='0')\n",
        "plt.scatter(x_classe1, y_classe1, color='b', label='1')\n",
        "\n",
        "plt.legend()\n",
        "plt.xlabel(\"x1\")\n",
        "plt.ylabel(\"x2\")\n",
        "classe_tot =  x_classe0\n",
        "slp = -(weight[0]/weight[2]) / (weight[0]/weight[1])\n",
        "end = (weight[0]/weight[2])\n",
        "\n",
        "min_x = np.max(x_classe0)\n",
        "min_y = np.max(y_classe0)\n",
        "max_x = np.min(x_classe1)\n",
        "max_y = np.min(y_classe1)\n",
        "abline_values = [slp * i + end for i in x_classe0]\n",
        "plt.plot([min_x,max_x], [min_y,max_y], 'b',color=\"black\")\n",
        "\n",
        "plt.show()"
      ],
      "execution_count": null,
      "outputs": [
        {
          "output_type": "display_data",
          "data": {
            "image/png": "[encoded data removed]",
            "text/plain": [
              "<Figure size 1080x720 with 1 Axes>"
            ]
          },
          "metadata": {
            "needs_background": "light"
          }
        }
      ]
    },
    {
      "cell_type": "markdown",
      "metadata": {
        "id": "xA-xpdxPrMwv"
      },
      "source": [
        "#Calculo dos pesos para as configs. 5 e 6\n"
      ]
    },
    {
      "cell_type": "code",
      "metadata": {
        "colab": {
          "base_uri": "https://localhost:8080/"
        },
        "id": "be_FFBR7rMww",
        "outputId": "888645ca-bf9d-418b-ba8a-1bcb66c5540d"
      },
      "source": [
        "weight_max_1 = 100\n",
        "weight_min_1 = -100\n",
        "weights_1 = np.random.uniform(weight_min_1, weight_max_1, size=3)\n",
        "weights_1 = np.round(weights_1,4)\n",
        "print(\"Peso 1: \", weights_1)\n",
        "weight_max_2 = 0.5\n",
        "weight_min_2 = -0.5\n",
        "weights_2 = np.random.uniform(weight_min_2, weight_max_2, size=3)\n",
        "weights_2 = np.round(weights_2,4)\n",
        "print(\"Peso 2: \", weights_2)"
      ],
      "execution_count": null,
      "outputs": [
        {
          "output_type": "stream",
          "name": "stdout",
          "text": [
            "Peso 1:  [ 40.7754  32.7325 -89.0643]\n",
            "Peso 2:  [-0.0324  0.1056  0.2707]\n"
          ]
        }
      ]
    },
    {
      "cell_type": "markdown",
      "metadata": {
        "id": "6X0r_HdkrRCa"
      },
      "source": [
        "#Configuração 5\n",
        "Valor da taxa de aprendizado: 0.01<br>\n",
        "Peso: wi ∼ U(-100, +100)"
      ]
    },
    {
      "cell_type": "code",
      "metadata": {
        "id": "esg47xlKrRCc"
      },
      "source": [
        "taxa_aprendizado = 0.01"
      ],
      "execution_count": null,
      "outputs": []
    },
    {
      "cell_type": "code",
      "metadata": {
        "colab": {
          "base_uri": "https://localhost:8080/"
        },
        "id": "qNYk88eorRCd",
        "outputId": "6d0319dd-6616-41dc-f786-e001752abce8"
      },
      "source": [
        "epocas = []\n",
        "ajustes = []\n",
        "\n",
        "for i in range(1, 11):\n",
        "    perceptron = Perceptron(no_of_inputs=2, learning_rate=taxa_aprendizado, weights=weights_1)\n",
        "    treinamento_x = df0[:,[0,1]]\n",
        "    treinamento_y = df0[:,2]    \n",
        "    qtd_epocas, qtd_ajustes = perceptron.total_values(treinamento_x, treinamento_y)\n",
        "    epocas = np.append(epocas, qtd_epocas)\n",
        "    ajustes = np.append(ajustes, qtd_ajustes) \n",
        "\n",
        "def set_valores_media(values):\n",
        "  var = np.mean(values)\n",
        "  var = np.round(var,4)\n",
        "  return var\n",
        "\n",
        "def set_valores_desvio_padrao(values):\n",
        "  var = np.std(values)\n",
        "  var = np.round(var,4)\n",
        "  return var\n",
        "\n",
        "epocas_1 = epocas\n",
        "ajustes_1 = ajustes\n",
        "menor_qtde_epocas = int(epocas_1.min())\n",
        "epocas_media_1 = set_valores_media(epocas_1)\n",
        "ajustes_media_1 = set_valores_media(ajustes_1)\n",
        "epocas_desvio_padrao_1 = set_valores_desvio_padrao(epocas_1)\n",
        "ajustes_desvio_padrao_1 = set_valores_desvio_padrao(ajustes_1)\n",
        "\n",
        "print(\"Menor quantidade de épocas: \", menor_qtde_epocas)\n",
        "print(\"Medias: Epoca = \", epocas_media_1, \" | Ajustes = \", ajustes_media_1, \"\\nDesvios Padrao: Epoca = \", epocas_desvio_padrao_1, \" | Ajustes = \", ajustes_desvio_padrao_1)"
      ],
      "execution_count": null,
      "outputs": [
        {
          "output_type": "stream",
          "name": "stdout",
          "text": [
            "Menor quantidade de épocas:  15\n",
            "Medias: Epoca =  16.2  | Ajustes =  77.8 \n",
            "Desvios Padrao: Epoca =  0.8718  | Ajustes =  6.8088\n"
          ]
        }
      ]
    },
    {
      "cell_type": "code",
      "metadata": {
        "colab": {
          "base_uri": "https://localhost:8080/"
        },
        "id": "nNovcGL6rRCg",
        "outputId": "12c519b1-795a-4696-f7ab-f1f79d6e46fc"
      },
      "source": [
        "weights = perceptron.weights\n",
        "print(weights)"
      ],
      "execution_count": null,
      "outputs": [
        {
          "output_type": "stream",
          "name": "stdout",
          "text": [
            "[32.8979 19.3551 49.8176]\n"
          ]
        }
      ]
    },
    {
      "cell_type": "markdown",
      "metadata": {
        "id": "QtMprbKgrRCh"
      },
      "source": [
        "Gráfico do conjunto de dados e a reta que separa as classes"
      ]
    },
    {
      "cell_type": "code",
      "metadata": {
        "colab": {
          "base_uri": "https://localhost:8080/"
        },
        "id": "9d7mUc49rRCh",
        "outputId": "94d07e9d-4f78-40c2-cc11-b061a320ef03"
      },
      "source": [
        "plt.figure(figsize=(15,10))\n",
        "\n",
        "x_classe0 = []\n",
        "y_classe0 = []\n",
        "x_classe1 = []\n",
        "y_classe1 = []\n",
        "\n",
        "classe0 = []\n",
        "max = 0\n",
        "min = 0\n",
        "\n",
        "for example in df0:\n",
        "    if example[2] == 0.0:\n",
        "        x_classe0.append(example[0])\n",
        "        y_classe0.append(example[1])\n",
        "    if example[2] == 1.0:\n",
        "        x_classe1.append(example[0])\n",
        "        y_classe1.append(example[1])\n",
        "        \n",
        "plt.scatter(x_classe0, y_classe0, color='r', label='0')\n",
        "plt.scatter(x_classe1, y_classe1, color='b', label='1')\n",
        "\n",
        "plt.legend()\n",
        "plt.xlabel(\"x1\")\n",
        "plt.ylabel(\"x2\")\n",
        "classe_tot =  x_classe0\n",
        "slp = -(weight[0]/weight[2]) / (weight[0]/weight[1])\n",
        "end = (weight[0]/weight[2])\n",
        "\n",
        "min_x = np.max(x_classe0)\n",
        "min_y = np.max(y_classe0)\n",
        "max_x = np.min(x_classe1)\n",
        "max_y = np.min(y_classe1)\n",
        "abline_values = [slp * i + end for i in x_classe0]\n",
        "plt.plot([min_x,max_x], [min_y,max_y], 'b',color=\"black\")\n",
        "\n",
        "plt.show()"
      ],
      "execution_count": null,
      "outputs": [
        {
          "output_type": "display_data",
          "data": {
            "image/png": "[encoded data removed]",
            "text/plain": [
              "<Figure size 1080x720 with 1 Axes>"
            ]
          },
          "metadata": {
            "needs_background": "light"
          }
        }
      ]
    },
    {
      "cell_type": "markdown",
      "metadata": {
        "id": "p9FkKJxIrS_c"
      },
      "source": [
        "#Configuração 6\n",
        "Valor da taxa de aprendizado: 0.01<br>\n",
        "Peso: wi ∼ U(-0.5, +0.5)"
      ]
    },
    {
      "cell_type": "code",
      "metadata": {
        "colab": {
          "base_uri": "https://localhost:8080/"
        },
        "id": "srkGp8QXrS_e",
        "outputId": "2b515531-ce7f-4290-a4ff-34cb8633577b"
      },
      "source": [
        "epocas = []\n",
        "ajustes = []\n",
        "\n",
        "for i in range(1, 11):\n",
        "    perceptron = Perceptron(no_of_inputs=2, learning_rate=taxa_aprendizado, weights=weights_1)\n",
        "    treinamento_x = df0[:,[0,1]]\n",
        "    treinamento_y = df0[:,2]    \n",
        "    qtd_epocas, qtd_ajustes = perceptron.total_values(treinamento_x, treinamento_y)\n",
        "    epocas = np.append(epocas, qtd_epocas)\n",
        "    ajustes = np.append(ajustes, qtd_ajustes) \n",
        "\n",
        "def set_valores_media(values):\n",
        "  var = np.mean(values)\n",
        "  var = np.round(var,4)\n",
        "  return var\n",
        "\n",
        "def set_valores_desvio_padrao(values):\n",
        "  var = np.std(values)\n",
        "  var = np.round(var,4)\n",
        "  return var\n",
        "\n",
        "epocas_1 = epocas\n",
        "ajustes_1 = ajustes\n",
        "menor_qtde_epocas = int(epocas_1.min())\n",
        "epocas_media_1 = set_valores_media(epocas_1)\n",
        "ajustes_media_1 = set_valores_media(ajustes_1)\n",
        "epocas_desvio_padrao_1 = set_valores_desvio_padrao(epocas_1)\n",
        "ajustes_desvio_padrao_1 = set_valores_desvio_padrao(ajustes_1)\n",
        "\n",
        "print(\"Menor quantidade de épocas: \", menor_qtde_epocas)\n",
        "print(\"Medias: Epoca = \", epocas_media_1, \" | Ajustes = \", ajustes_media_1, \"\\nDesvios Padrao: Epoca = \", epocas_desvio_padrao_1, \" | Ajustes = \", ajustes_desvio_padrao_1)"
      ],
      "execution_count": null,
      "outputs": [
        {
          "output_type": "stream",
          "name": "stdout",
          "text": [
            "Menor quantidade de épocas:  16\n",
            "Medias: Epoca =  16.3  | Ajustes =  80.3 \n",
            "Desvios Padrao: Epoca =  0.6403  | Ajustes =  9.5504\n"
          ]
        }
      ]
    },
    {
      "cell_type": "code",
      "metadata": {
        "colab": {
          "base_uri": "https://localhost:8080/"
        },
        "id": "mZfJ_IjVrS_f",
        "outputId": "6edb5c39-f2df-4a47-919f-991b1bf4cfac"
      },
      "source": [
        "weights = perceptron.weights\n",
        "print(weights)"
      ],
      "execution_count": null,
      "outputs": [
        {
          "output_type": "stream",
          "name": "stdout",
          "text": [
            "[32.78   19.1836 49.5244]\n"
          ]
        }
      ]
    },
    {
      "cell_type": "markdown",
      "metadata": {
        "id": "k9qlK3lBrS_g"
      },
      "source": [
        "Gráfico do conjunto de dados e a reta que separa as classes"
      ]
    },
    {
      "cell_type": "code",
      "metadata": {
        "colab": {
          "base_uri": "https://localhost:8080/"
        },
        "id": "AC8DOCESrS_g",
        "outputId": "aa06ee64-60b9-457f-c1ed-d7e8ee17181e"
      },
      "source": [
        "plt.figure(figsize=(15,10))\n",
        "\n",
        "x_classe0 = []\n",
        "y_classe0 = []\n",
        "x_classe1 = []\n",
        "y_classe1 = []\n",
        "\n",
        "classe0 = []\n",
        "max = 0\n",
        "min = 0\n",
        "\n",
        "for example in df0:\n",
        "    if example[2] == 0.0:\n",
        "        x_classe0.append(example[0])\n",
        "        y_classe0.append(example[1])\n",
        "    if example[2] == 1.0:\n",
        "        x_classe1.append(example[0])\n",
        "        y_classe1.append(example[1])\n",
        "        \n",
        "plt.scatter(x_classe0, y_classe0, color='r', label='0')\n",
        "plt.scatter(x_classe1, y_classe1, color='b', label='1')\n",
        "\n",
        "plt.legend()\n",
        "plt.xlabel(\"x1\")\n",
        "plt.ylabel(\"x2\")\n",
        "classe_tot =  x_classe0\n",
        "slp = -(weight[0]/weight[2]) / (weight[0]/weight[1])\n",
        "end = (weight[0]/weight[2])\n",
        "\n",
        "min_x = np.max(x_classe0)\n",
        "min_y = np.max(y_classe0)\n",
        "max_x = np.min(x_classe1)\n",
        "max_y = np.min(y_classe1)\n",
        "abline_values = [slp * i + end for i in x_classe0]\n",
        "plt.plot([min_x,max_x], [min_y,max_y], 'b',color=\"black\")\n",
        "\n",
        "plt.show()"
      ],
      "execution_count": null,
      "outputs": [
        {
          "output_type": "display_data",
          "data": {
            "image/png": "[encoded data removed]",
            "text/plain": [
              "<Figure size 1080x720 with 1 Axes>"
            ]
          },
          "metadata": {
            "needs_background": "light"
          }
        }
      ]
    }
  ]
}
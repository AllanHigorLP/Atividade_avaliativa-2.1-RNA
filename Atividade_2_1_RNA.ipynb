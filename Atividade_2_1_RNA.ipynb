{
  "nbformat": 4,
  "nbformat_minor": 0,
  "metadata": {
    "colab": {
      "name": "Atividade 2.1 - RNA.ipynb",
      "provenance": [],
      "collapsed_sections": [],
      "include_colab_link": true
    },
    "kernelspec": {
      "display_name": "Python 3",
      "name": "python3"
    },
    "language_info": {
      "name": "python"
    }
  },
  "cells": [
    {
      "cell_type": "markdown",
      "metadata": {
        "id": "view-in-github",
        "colab_type": "text"
      },
      "source": [
        "<a href=\"https://colab.research.google.com/github/AllanHigorLP/Atividade_avaliativa-2.1-RNA/blob/main/Atividade_2_1_RNA.ipynb\" target=\"_parent\"><img src=\"https://colab.research.google.com/assets/colab-badge.svg\" alt=\"Open In Colab\"/></a>"
      ]
    },
    {
      "cell_type": "markdown",
      "metadata": {
        "id": "wEEpwdwNqtr2"
      },
      "source": [
        "# Detalhamento da Atividade"
      ]
    },
    {
      "cell_type": "code",
      "metadata": {
        "id": "eJyZxaKhq03F"
      },
      "source": [
        "import numpy as np # linear algebra\n",
        "import pandas as pd # data processing, CSV file I/O (e.g. pd.read_csv)\n",
        "import seaborn as sns\n",
        "import matplotlib.pyplot as plt\n",
        "from sklearn.model_selection import train_test_split #to split the dataset for training and testing\n",
        "from sklearn import metrics\n",
        "import unicodedata\n",
        "import io"
      ],
      "execution_count": 632,
      "outputs": []
    },
    {
      "cell_type": "code",
      "metadata": {
        "colab": {
          "base_uri": "https://localhost:8080/"
        },
        "id": "Ra8KOSdxq5NS",
        "outputId": "31efb03a-1301-483e-f452-67549fe8bda2"
      },
      "source": [
        "!git clone https://github.com/AllanHigorLP/Atividade_avaliativa-2.1-RNA/"
      ],
      "execution_count": 633,
      "outputs": [
        {
          "output_type": "stream",
          "name": "stdout",
          "text": [
            "fatal: destination path 'Atividade_avaliativa-2.1-RNA' already exists and is not an empty directory.\n"
          ]
        }
      ]
    },
    {
      "cell_type": "code",
      "metadata": {
        "colab": {
          "base_uri": "https://localhost:8080/"
        },
        "id": "9tCwbqKnq7O7",
        "outputId": "c31b94e1-2f06-4e3c-f6c5-b60ace2ab713"
      },
      "source": [
        "df = np.fromfile('/content/Atividade_avaliativa-2.1-RNA/data/dataAll.txt')\n",
        "print(df)"
      ],
      "execution_count": 634,
      "outputs": [
        {
          "output_type": "stream",
          "name": "stdout",
          "text": [
            "[-363.7884  244.1423    0.     ... -140.147   734.0983    0.    ]\n"
          ]
        }
      ]
    },
    {
      "cell_type": "code",
      "metadata": {
        "colab": {
          "base_uri": "https://localhost:8080/"
        },
        "id": "FNSYMK_Jq9S_",
        "outputId": "f808e6c5-ada9-4c2b-fe96-7c6ada0dd5f2"
      },
      "source": [
        "df.shape"
      ],
      "execution_count": 635,
      "outputs": [
        {
          "output_type": "execute_result",
          "data": {
            "text/plain": [
              "(3000,)"
            ]
          },
          "metadata": {},
          "execution_count": 635
        }
      ]
    },
    {
      "cell_type": "code",
      "metadata": {
        "colab": {
          "base_uri": "https://localhost:8080/"
        },
        "id": "Irl3HLzKq_D1",
        "outputId": "f5c436e8-8fed-4509-b83b-a4508b8f2e46"
      },
      "source": [
        "df = df.reshape(1000, 3)\n",
        "print(df)"
      ],
      "execution_count": 636,
      "outputs": [
        {
          "output_type": "stream",
          "name": "stdout",
          "text": [
            "[[-363.7884  244.1423    0.    ]\n",
            " [ 328.7572 -256.7658    1.    ]\n",
            " [-164.9827  613.2164    0.    ]\n",
            " ...\n",
            " [ 872.4311  669.1192    1.    ]\n",
            " [ 822.6894 -702.6489    1.    ]\n",
            " [-140.147   734.0983    0.    ]]\n"
          ]
        }
      ]
    },
    {
      "cell_type": "markdown",
      "metadata": {
        "id": "d1Cf4V0y1u4S"
      },
      "source": [
        "#Função para Gerar Valores Aleatorios Uniformemente Distribuidos"
      ]
    },
    {
      "cell_type": "code",
      "metadata": {
        "id": "Y414CLgt2DFb"
      },
      "source": [
        "def random_weights(min,max):\n",
        "  w = np.random.uniform(min, max, size=3)\n",
        "  w = np.round(w,4)\n",
        "  return w"
      ],
      "execution_count": 637,
      "outputs": []
    },
    {
      "cell_type": "markdown",
      "metadata": {
        "id": "rfy4N9KFrCvJ"
      },
      "source": [
        "# Parte I – Resolvendo um Problema Linearmente Separável"
      ]
    },
    {
      "cell_type": "code",
      "metadata": {
        "id": "FMcMhr4nrFle"
      },
      "source": [
        "# n (taxa de aprendizado)\n",
        "theta = 0.0\n",
        "n = 0.1\n",
        "bias = 1.0\n"
      ],
      "execution_count": 638,
      "outputs": []
    },
    {
      "cell_type": "code",
      "metadata": {
        "colab": {
          "base_uri": "https://localhost:8080/"
        },
        "id": "MPI6fSYorHb3",
        "outputId": "80d63b96-d29d-4ff7-ad99-ade5546bf5cf"
      },
      "source": [
        "weight = random_weights(-0.5,0.5)\n",
        "print(weight)"
      ],
      "execution_count": 639,
      "outputs": [
        {
          "output_type": "stream",
          "name": "stdout",
          "text": [
            "[0.3631 0.2917 0.3877]\n"
          ]
        }
      ]
    },
    {
      "cell_type": "code",
      "metadata": {
        "colab": {
          "base_uri": "https://localhost:8080/"
        },
        "id": "9QKkCWcirJ0p",
        "outputId": "1e8de210-829f-40c9-9ae6-59dfa2448869"
      },
      "source": [
        "epoca = 0\n",
        "erros = 1\n",
        "ajustes_total = 0\n",
        "ajustes_epoca = 0\n",
        "\n",
        "def soma_ponderada():\n",
        "    sum_pond = (weight[0]*(-1*bias)) + (weight[1]*example[0]) + (weight[2]*example[1])\n",
        "    return sum_pond \n",
        "\n",
        "def funcao_ativacao():\n",
        "    if u >= theta:\n",
        "        return 1.0\n",
        "    else:\n",
        "        return 0.0\n",
        "\n",
        "def novo_peso(w, fu_ac):\n",
        "    e = example[2] - fu_ac\n",
        "    novo_p = w + (n*e*np.array([(-1*bias), example[0], example[1]]))\n",
        "    novo_p = np.round(novo_p,4)\n",
        "    return novo_p\n",
        "    \n",
        "while (erros != 0):\n",
        "    epoca = epoca + 1\n",
        "    ajustes_epoca = 0\n",
        "    erros = 0\n",
        "    \n",
        "    for example in df:\n",
        "        funct_act = 0.0\n",
        "        u = 0.0\n",
        "        u = soma_ponderada()\n",
        "        funct_act = funcao_ativacao()\n",
        "        \n",
        "        if funct_act != example[2]:\n",
        "            ajustes_epoca = ajustes_epoca + 1\n",
        "            ajustes_total = ajustes_total + 1\n",
        "            erros = 1\n",
        "            weight = novo_peso(weight, funct_act)\n",
        "            print(\"Novo vetor de pesos ajustado\", weight, \"\\n\")\n",
        "            \n",
        "    print(\"Qtd de ajustes do vetor de pesos na época\", epoca, \":\", ajustes_epoca, \"\\n\")\n",
        "    \n",
        "print(\"\\nVetor de pesos final (ajustado): \", weight)\n",
        "print(\"Número total de ajustes do vetor de pesos:\", ajustes_total)\n",
        "print(\"Número total de epocas:\", epoca)"
      ],
      "execution_count": 640,
      "outputs": [
        {
          "output_type": "stream",
          "name": "stdout",
          "text": [
            "Novo vetor de pesos ajustado [  0.2631  33.1674 -25.2889] \n",
            "\n",
            "Novo vetor de pesos ajustado [  0.3631   1.7444 -59.6726] \n",
            "\n",
            "Novo vetor de pesos ajustado [  0.2631  74.5404 -23.843 ] \n",
            "\n",
            "Novo vetor de pesos ajustado [   0.3631   -8.9892 -122.9688] \n",
            "\n",
            "Novo vetor de pesos ajustado [   0.4631   40.1977 -106.3401] \n",
            "\n",
            "Novo vetor de pesos ajustado [  0.3631 122.7964 -26.4843] \n",
            "\n",
            "Novo vetor de pesos ajustado [   0.4631   82.7875 -104.377 ] \n",
            "\n",
            "Novo vetor de pesos ajustado [  0.5631 136.4573 -55.2847] \n",
            "\n",
            "Novo vetor de pesos ajustado [   0.4631   83.4972 -112.1542] \n",
            "\n",
            "Novo vetor de pesos ajustado [  0.5631 143.0567 -62.0319] \n",
            "\n",
            "Novo vetor de pesos ajustado [   0.4631  110.5787 -135.4877] \n",
            "\n",
            "Novo vetor de pesos ajustado [  0.3631 181.9532 -70.9456] \n",
            "\n",
            "Novo vetor de pesos ajustado [   0.2631  136.4286 -136.5815] \n",
            "\n",
            "Qtd de ajustes do vetor de pesos na época 1 : 13 \n",
            "\n",
            "Qtd de ajustes do vetor de pesos na época 2 : 0 \n",
            "\n",
            "\n",
            "Vetor de pesos final (ajustado):  [   0.2631  136.4286 -136.5815]\n",
            "Número total de ajustes do vetor de pesos: 13\n",
            "Número total de epocas: 2\n"
          ]
        }
      ]
    },
    {
      "cell_type": "code",
      "metadata": {
        "colab": {
          "base_uri": "https://localhost:8080/",
          "height": 605
        },
        "id": "CdZoAqlorNWC",
        "outputId": "2b87e530-232f-4de5-a399-4416e78c2619"
      },
      "source": [
        "plt.figure(figsize=(15,10))\n",
        "\n",
        "x_classe0 = []\n",
        "y_classe0 = []\n",
        "x_classe1 = []\n",
        "y_classe1 = []\n",
        "\n",
        "\n",
        "\n",
        "for example in df:\n",
        "    classe0.append(example)\n",
        "    if example[2] == 0.0:\n",
        "        x_classe0.append(example[0])\n",
        "        y_classe0.append(example[1])\n",
        "    if example[2] == 1.0:\n",
        "        x_classe1.append(example[0])\n",
        "        y_classe1.append(example[1])\n",
        "        \n",
        "plt.scatter(x_classe0, y_classe0, color='r', label='0')\n",
        "plt.scatter(x_classe1, y_classe1, color='b', label='1')\n",
        "\n",
        "plt.legend()\n",
        "plt.xlabel(\"x1\")\n",
        "plt.ylabel(\"x2\")\n",
        "\n",
        "x = np.arange(np.min(df[:,:1]),np.max(df[:,:1]), 0.1)\n",
        "slp = -(weight[0]/weight[2])\n",
        "plt.plot(x,  slp - (weight[1]/weight[2]*x), 'k', linewidth=2)\n",
        "\n",
        "\n",
        "\n",
        "'''end = (weight[0]/weight[2])\n",
        "abline_values = [slp * i + end for i in x_classe0]\n",
        "plt.plot(x_classe0, abline_values, 'b',color=\"black\")'''\n",
        "\n",
        "plt.show()"
      ],
      "execution_count": 641,
      "outputs": [
        {
          "output_type": "display_data",
          "data": {
            "image/png": "[encoded data removed]",
            "text/plain": [
              "<Figure size 1080x720 with 1 Axes>"
            ]
          },
          "metadata": {
            "needs_background": "light"
          }
        }
      ]
    },
    {
      "cell_type": "markdown",
      "metadata": {
        "id": "fWslZhJIw6LX"
      },
      "source": [
        "#Parte II – Executando\n"
      ]
    },
    {
      "cell_type": "code",
      "metadata": {
        "colab": {
          "base_uri": "https://localhost:8080/"
        },
        "id": "4mfufQjVqX4B",
        "outputId": "2e1f4058-32d8-4a72-8824-148bf3b153dd"
      },
      "source": [
        "x = 12%4\n",
        "print(x)"
      ],
      "execution_count": 642,
      "outputs": [
        {
          "output_type": "stream",
          "name": "stdout",
          "text": [
            "0\n"
          ]
        }
      ]
    },
    {
      "cell_type": "code",
      "metadata": {
        "colab": {
          "base_uri": "https://localhost:8080/"
        },
        "id": "rtgb4yIkxE_I",
        "outputId": "50f93b82-49eb-4b27-91eb-3e17e1816309"
      },
      "source": [
        "df0 = np.fromfile('/content/Atividade_avaliativa-2.1-RNA/data/data0.txt')\n",
        "print(df0)"
      ],
      "execution_count": 643,
      "outputs": [
        {
          "output_type": "stream",
          "name": "stdout",
          "text": [
            "[-0.00149369 -0.03581784  0.         ...  1.02021556  0.86533059\n",
            "  1.        ]\n"
          ]
        }
      ]
    },
    {
      "cell_type": "code",
      "metadata": {
        "colab": {
          "base_uri": "https://localhost:8080/"
        },
        "id": "6jtgEeuHxX3e",
        "outputId": "78217fd3-8aa1-4e48-bb2a-fa7f9c0ee22e"
      },
      "source": [
        "df0.shape"
      ],
      "execution_count": 644,
      "outputs": [
        {
          "output_type": "execute_result",
          "data": {
            "text/plain": [
              "(1800,)"
            ]
          },
          "metadata": {},
          "execution_count": 644
        }
      ]
    },
    {
      "cell_type": "code",
      "metadata": {
        "colab": {
          "base_uri": "https://localhost:8080/"
        },
        "id": "Dz2ftxpLxdex",
        "outputId": "1df482c8-10ce-4aa3-9071-feed54ba51e5"
      },
      "source": [
        "df0 = df0.reshape(600, 3)\n",
        "print(df0)"
      ],
      "execution_count": 645,
      "outputs": [
        {
          "output_type": "stream",
          "name": "stdout",
          "text": [
            "[[-0.00149369 -0.03581784  0.        ]\n",
            " [ 0.01234945  0.10249524  0.        ]\n",
            " [ 0.13954598  0.05607083  0.        ]\n",
            " ...\n",
            " [ 0.95751872  1.0035204   1.        ]\n",
            " [ 0.97981588  1.00949493  1.        ]\n",
            " [ 1.02021556  0.86533059  1.        ]]\n"
          ]
        }
      ]
    },
    {
      "cell_type": "code",
      "metadata": {
        "id": "Ojorr-D8x_oR"
      },
      "source": [
        "import numpy as np\n",
        "\n",
        "class Perceptron(object):\n",
        "    \n",
        "   def __init__(self, no_of_inputs, epoch=100, \n",
        "                    learning_rate=np.random.uniform(0.1, 0.4, 1), \n",
        "                    baias=-1, \n",
        "                    random_train_set=False, \n",
        "                    show_training=False,\n",
        "                    weights=(-5.0, 0.5),\n",
        "                    use_epoch=False):\n",
        "        self.epoch = epoch\n",
        "        self.learning_rate= learning_rate\n",
        "        self.weights = np.random.uniform(weights[0], \n",
        "                                            weights[1], \n",
        "                                            no_of_inputs + 1)\n",
        "        self.baias = baias\n",
        "        self.random_train_set = random_train_set\n",
        "        self.show_training = show_training\n",
        "        self.use_epoch = use_epoch\n",
        "    \n",
        "   def __add_baias(self, inputs):\n",
        "        new_inputs = []\n",
        "        for row in inputs:\n",
        "            new_row = np.insert(row, 0, self.baias)\n",
        "            new_inputs.append(new_row)\n",
        "        return np.array(new_inputs)\n",
        "\n",
        "   def __weight_adjust(self, x_train, y_predicto, y_real):\n",
        "        erro = y_predicto - y_real\n",
        "        self.weights -= self.learning_rate * erro * x_train\n",
        "        self.weights = np.round(self.weights, 4)\n",
        "\n",
        "   def __activ_func(self, u): \n",
        "        if u >= 0.0:\n",
        "            return 1.0\n",
        "        else:\n",
        "            return 0.0\n",
        "\n",
        "   def __error(self, y_predicto, y_real):\n",
        "        if y_predicto != y_real:\n",
        "            return True\n",
        "        else:\n",
        "            return False\n",
        "\n",
        "   def __random_sets(self, x_train, y_train):\n",
        "        # Randomizando os dados de treino\n",
        "        index = np.arange(len(x_train))\n",
        "        np.random.shuffle(index)\n",
        "        x_train = x_train[index]\n",
        "        y_train = y_train[index]\n",
        "        return x_train, y_train\n",
        "        #---------------------------------\n",
        "    \n",
        "   def predict(self, x_test):\n",
        "        x_test = self.__add_baias(x_test)\n",
        "        y_predicto = []\n",
        "        for _x_test in x_test:\n",
        "            u = np.sum(np.dot(_x_test, self.weights))\n",
        "            y = self.__activ_func(u)\n",
        "            y_predicto.append(y)\n",
        "        return np.array(y_predicto)\n",
        "\n",
        "   def __show_training(self, epoch, count_adjust):\n",
        "        print(\"\\n\\tÉpoca:\", epoch)\n",
        "        print(\"Pesos:\", self.weights)\n",
        "        print(\"Quantidade de Ajustes:\", count_adjust)\n",
        "\n",
        "   def __learning(self, x_train, y_train, no_erro):\n",
        "        count_adjust = 0\n",
        "        for x, y in zip(x_train, y_train):\n",
        "            u = np.sum(np.dot(x, self.weights))\n",
        "            y_predicto = self.__activ_func(u)\n",
        "            if self.__error(y_predicto, y):\n",
        "                self.__weight_adjust(x, y_predicto, y)\n",
        "                no_erro = False\n",
        "                count_adjust += 1\n",
        "        return no_erro, count_adjust\n",
        "\n",
        "\n",
        "   def __epochs(self, x_train, y_train):\n",
        "        no_erro = False\n",
        "        epoch = 1\n",
        "        total_adjust = 0\n",
        "        while no_erro != True:\n",
        "\n",
        "            if self.use_epoch:\n",
        "                if epoch == self.epoch:\n",
        "                    break\n",
        "                \n",
        "            if self.random_train_set:\n",
        "                x_train, y_train = self.__random_sets(x_train,\n",
        "                                                         y_train)\n",
        "            \n",
        "            no_erro = True\n",
        "            \n",
        "            no_erro, count_adjust = self.__learning(x_train, \n",
        "                                                        y_train,\n",
        "                                                        no_erro)\n",
        "\n",
        "            if self.show_training:\n",
        "                self.__show_training(epoch, count_adjust)\n",
        "\n",
        "            epoch += 1\n",
        "            total_adjust += count_adjust\n",
        "        return epoch, total_adjust\n",
        "\n",
        "\n",
        "   def total_values(self, x_train, y_train):\n",
        "\n",
        "        x_train = self.__add_baias(x_train)\n",
        "        epoch, total_adjust = self.__epochs(x_train, y_train)\n",
        "        return epoch, total_adjust"
      ],
      "execution_count": 646,
      "outputs": []
    },
    {
      "cell_type": "markdown",
      "metadata": {
        "id": "vlfAAv8E2ppZ"
      },
      "source": [
        "#Função para Gerar Valores dos Pesos"
      ]
    },
    {
      "cell_type": "code",
      "metadata": {
        "id": "6N8ho5hd2w-0"
      },
      "source": [
        "weight_max_1 = 100\n",
        "weight_min_1 = -100\n",
        "weight_max_2 = 0.5\n",
        "weight_min_2 = -0.5\n",
        "\n",
        "def new_weights():\n",
        "  weight_max_1 = 100\n",
        "  weight_min_1 = -100\n",
        "  weights_1 = random_weights(weight_min_1, weight_max_1)\n",
        "  print(\"Peso 1: \", weights_1)\n",
        "  #return weights_1\n",
        "  weight_max_2 = 0.5\n",
        "  weight_min_2 = -0.5\n",
        "  weights_2 = random_weights(weight_min_2, weight_max_2)\n",
        "  print(\"Peso 2: \", weights_2)\n",
        "  #return weights_2\n"
      ],
      "execution_count": 647,
      "outputs": []
    },
    {
      "cell_type": "markdown",
      "metadata": {
        "id": "ZIL6nJs9ppas"
      },
      "source": [
        "#Calculo dos pesos para as configs. 1 e 2\n"
      ]
    },
    {
      "cell_type": "code",
      "metadata": {
        "colab": {
          "base_uri": "https://localhost:8080/"
        },
        "id": "R7W0u_9I3LUe",
        "outputId": "fe95d724-a035-473f-efa8-3eaa1d348400"
      },
      "source": [
        "'''weights_1 = new_weights1()\n",
        "weights_2 = new_weights2()'''\n",
        "new_weights()"
      ],
      "execution_count": 648,
      "outputs": [
        {
          "output_type": "stream",
          "name": "stdout",
          "text": [
            "Peso 1:  [ 74.7543  -6.9302 -92.4577]\n",
            "Peso 2:  [ 0.4728 -0.1179  0.2996]\n"
          ]
        }
      ]
    },
    {
      "cell_type": "markdown",
      "metadata": {
        "id": "L4IVK8COmySm"
      },
      "source": [
        "#Configuração 1\n",
        "Valor da taxa de aprendizado: 0.4<br>\n",
        "Peso: wi ∼ U(-100, +100)"
      ]
    },
    {
      "cell_type": "code",
      "metadata": {
        "id": "vOESB0g-mySq"
      },
      "source": [
        "taxa_aprendizado = 0.4"
      ],
      "execution_count": 649,
      "outputs": []
    },
    {
      "cell_type": "code",
      "metadata": {
        "colab": {
          "base_uri": "https://localhost:8080/"
        },
        "id": "CmIAQLB1mySr",
        "outputId": "70dc10b7-2096-49ea-81e8-70b8dcc50092"
      },
      "source": [
        "epocas = []\n",
        "ajustes = []\n",
        "\n",
        "for i in range(1, 11):\n",
        "    perceptron = Perceptron(no_of_inputs=2, learning_rate=taxa_aprendizado, weights=weights_1)\n",
        "    treinamento_x = df0[:,[0,1]]\n",
        "    treinamento_y = df0[:,2]    \n",
        "    qtd_epocas, qtd_ajustes = perceptron.total_values(treinamento_x, treinamento_y)\n",
        "    epocas = np.append(epocas, qtd_epocas)\n",
        "    ajustes = np.append(ajustes, qtd_ajustes) \n",
        "\n",
        "def set_valores_media(values):\n",
        "  var = np.mean(values)\n",
        "  var = np.round(var,4)\n",
        "  return var\n",
        "\n",
        "def set_valores_desvio_padrao(values):\n",
        "  var = np.std(values)\n",
        "  var = np.round(var,4)\n",
        "  return var\n",
        "\n",
        "epocas_1 = epocas\n",
        "ajustes_1 = ajustes\n",
        "menor_qtde_epocas_1 = int(epocas_1.min())\n",
        "ajustes_media_1 = set_valores_media(ajustes_1)\n",
        "ajustes_desvio_padrao_1 = set_valores_desvio_padrao(ajustes_1)\n",
        "\n",
        "print(\"Menor quantidade de épocas: \", menor_qtde_epocas_1)\n",
        "print(\"Medias: Ajustes = \", ajustes_media_1, \"\\nDesvios Padrao: Ajustes = \", ajustes_desvio_padrao_1)"
      ],
      "execution_count": 650,
      "outputs": [
        {
          "output_type": "stream",
          "name": "stdout",
          "text": [
            "Menor quantidade de épocas:  2\n",
            "Medias: Ajustes =  230.2 \n",
            "Desvios Padrao: Ajustes =  138.8098\n"
          ]
        }
      ]
    },
    {
      "cell_type": "code",
      "metadata": {
        "colab": {
          "base_uri": "https://localhost:8080/"
        },
        "id": "ocdmvCV_mySt",
        "outputId": "988eeaf6-6b96-43f5-c9a4-0a2a7a85a130"
      },
      "source": [
        "weights = perceptron.weights\n",
        "print(weights)\n"
      ],
      "execution_count": 651,
      "outputs": [
        {
          "output_type": "stream",
          "name": "stdout",
          "text": [
            "[33.1081 19.0068 49.432 ]\n"
          ]
        }
      ]
    },
    {
      "cell_type": "markdown",
      "metadata": {
        "id": "GwVxESskmySu"
      },
      "source": [
        "**Gráfico do conjunto de dados e a reta que separa as classes**"
      ]
    },
    {
      "cell_type": "code",
      "metadata": {
        "colab": {
          "base_uri": "https://localhost:8080/",
          "height": 605
        },
        "id": "Ty0shtQ7mySw",
        "outputId": "49888475-4b3b-4c2f-853b-6c4503dda16b"
      },
      "source": [
        "plt.figure(figsize=(15,10))\n",
        "\n",
        "x_classe0 = []\n",
        "y_classe0 = []\n",
        "x_classe1 = []\n",
        "y_classe1 = []\n",
        "\n",
        "classe0 = []\n",
        "max = 0\n",
        "min = 0\n",
        "\n",
        "for example in df0:\n",
        "    if example[2] == 0.0:\n",
        "        x_classe0.append(example[0])\n",
        "        y_classe0.append(example[1])\n",
        "    if example[2] == 1.0:\n",
        "        x_classe1.append(example[0])\n",
        "        y_classe1.append(example[1])\n",
        "        \n",
        "plt.scatter(x_classe0, y_classe0, color='r', label='0')\n",
        "plt.scatter(x_classe1, y_classe1, color='b', label='1')\n",
        "\n",
        "plt.legend()\n",
        "plt.xlabel(\"x1\")\n",
        "plt.ylabel(\"x2\")\n",
        "\n",
        "\n",
        "x = np.arange(np.min(df0[:,:1]),np.max(df0[:,:1]), 0.1)\n",
        "slp =(weights[0]/weights[2])\n",
        "plt.plot(x,slp- (weights[1]/weights[2]*x), 'k', linewidth=2)\n",
        "\n",
        "plt.plot()\n",
        "plt.show()"
      ],
      "execution_count": 652,
      "outputs": [
        {
          "output_type": "display_data",
          "data": {
            "image/png": "[encoded data removed]",
            "text/plain": [
              "<Figure size 1080x720 with 1 Axes>"
            ]
          },
          "metadata": {
            "needs_background": "light"
          }
        }
      ]
    },
    {
      "cell_type": "markdown",
      "metadata": {
        "id": "driQsjGTm9mQ"
      },
      "source": [
        "#Configuração 2\n",
        "Valor da taxa de aprendizado: 0.4<br>\n",
        "Peso: wi ∼ U(-0.5, +0.5)"
      ]
    },
    {
      "cell_type": "code",
      "metadata": {
        "colab": {
          "base_uri": "https://localhost:8080/"
        },
        "id": "IuvIx6v2m9mT",
        "outputId": "950a04e2-2845-4bb6-8fa2-fdb608dd5892"
      },
      "source": [
        "epocas = []\n",
        "ajustes = []\n",
        "\n",
        "for i in range(1, 11):\n",
        "    perceptron = Perceptron(no_of_inputs=2, learning_rate=taxa_aprendizado, weights=weights_2)\n",
        "    treinamento_x = df0[:,[0,1]]\n",
        "    treinamento_y = df0[:,2]    \n",
        "    qtd_epocas, qtd_ajustes = perceptron.total_values(treinamento_x, treinamento_y)\n",
        "    epocas = np.append(epocas, qtd_epocas)\n",
        "    ajustes = np.append(ajustes, qtd_ajustes) \n",
        "\n",
        "def set_valores_media(values):\n",
        "  var = np.mean(values)\n",
        "  var = np.round(var,4)\n",
        "  return var\n",
        "\n",
        "def set_valores_desvio_padrao(values):\n",
        "  var = np.std(values)\n",
        "  var = np.round(var,4)\n",
        "  return var\n",
        "\n",
        "epocas_2 = epocas\n",
        "ajustes_2 = ajustes\n",
        "menor_qtde_epocas_2 = int(epocas_2.min())\n",
        "ajustes_media_2 = set_valores_media(ajustes_2)\n",
        "ajustes_desvio_padrao_2 = set_valores_desvio_padrao(ajustes_2)\n",
        "\n",
        "print(\"Menor quantidade de épocas: \", menor_qtde_epocas_1)\n",
        "print(\"Medias: Ajustes = \", ajustes_media_1, \"\\nDesvios Padrao: Ajustes = \", ajustes_desvio_padrao_1)"
      ],
      "execution_count": 653,
      "outputs": [
        {
          "output_type": "stream",
          "name": "stdout",
          "text": [
            "Menor quantidade de épocas:  2\n",
            "Medias: Ajustes =  230.2 \n",
            "Desvios Padrao: Ajustes =  138.8098\n"
          ]
        }
      ]
    },
    {
      "cell_type": "code",
      "metadata": {
        "colab": {
          "base_uri": "https://localhost:8080/"
        },
        "id": "74qR2EQim9mT",
        "outputId": "f44ff3bf-dd36-453f-8d6d-12f4464ded56"
      },
      "source": [
        "weights = perceptron.weights\n",
        "print(weights)"
      ],
      "execution_count": 654,
      "outputs": [
        {
          "output_type": "stream",
          "name": "stdout",
          "text": [
            "[0.6846 0.0693 1.1419]\n"
          ]
        }
      ]
    },
    {
      "cell_type": "markdown",
      "metadata": {
        "id": "TK7jxGWhm9mU"
      },
      "source": [
        "Gráfico do conjunto de dados e a reta que separa as classes"
      ]
    },
    {
      "cell_type": "code",
      "metadata": {
        "colab": {
          "base_uri": "https://localhost:8080/",
          "height": 605
        },
        "id": "h84EuZNRm9mU",
        "outputId": "8b6f0918-184d-447b-8ed0-2c9acd14c5be"
      },
      "source": [
        "plt.figure(figsize=(15,10))\n",
        "\n",
        "x_classe0 = []\n",
        "y_classe0 = []\n",
        "x_classe1 = []\n",
        "y_classe1 = []\n",
        "\n",
        "classe0 = []\n",
        "max = 0\n",
        "min = 0\n",
        "\n",
        "for example in df0:\n",
        "    if example[2] == 0.0:\n",
        "        x_classe0.append(example[0])\n",
        "        y_classe0.append(example[1])\n",
        "    if example[2] == 1.0:\n",
        "        x_classe1.append(example[0])\n",
        "        y_classe1.append(example[1])\n",
        "        \n",
        "plt.scatter(x_classe0, y_classe0, color='r', label='0')\n",
        "plt.scatter(x_classe1, y_classe1, color='b', label='1')\n",
        "\n",
        "plt.legend()\n",
        "plt.xlabel(\"x1\")\n",
        "plt.ylabel(\"x2\")\n",
        "\n",
        "x = np.arange(np.min(df0[:,:1]),np.max(df0[:,:1]), 0.1)\n",
        "slp =(weights[0]/weights[2])\n",
        "plt.plot(x,slp- (weights[1]/weights[2]*x), 'k', linewidth=2)\n",
        "\n",
        "plt.plot()\n",
        "\n",
        "plt.show()"
      ],
      "execution_count": 655,
      "outputs": [
        {
          "output_type": "display_data",
          "data": {
            "image/png": "[encoded data removed]",
            "text/plain": [
              "<Figure size 1080x720 with 1 Axes>"
            ]
          },
          "metadata": {
            "needs_background": "light"
          }
        }
      ]
    },
    {
      "cell_type": "markdown",
      "metadata": {
        "id": "NpYKEljcpzOB"
      },
      "source": [
        "#Calculo dos pesos para as configs. 3 e 4\n"
      ]
    },
    {
      "cell_type": "code",
      "metadata": {
        "colab": {
          "base_uri": "https://localhost:8080/"
        },
        "id": "qGfITKXmpyLe",
        "outputId": "f4c19315-4c25-47d2-fe3e-7172911aea06"
      },
      "source": [
        "new_weights()"
      ],
      "execution_count": 656,
      "outputs": [
        {
          "output_type": "stream",
          "name": "stdout",
          "text": [
            "Peso 1:  [-15.0748   6.3778  90.8268]\n",
            "Peso 2:  [ 0.2338 -0.1184  0.3278]\n"
          ]
        }
      ]
    },
    {
      "cell_type": "markdown",
      "metadata": {
        "id": "aEQyUYZzs_TL"
      },
      "source": [
        "#Configuração 3\n",
        "Valor da taxa de aprendizado: 0.1<br>\n",
        "Peso: wi ∼ U(-100, +100)"
      ]
    },
    {
      "cell_type": "code",
      "metadata": {
        "id": "bE2Gf26jtGIx"
      },
      "source": [
        "taxa_aprendizado = 0.1"
      ],
      "execution_count": 657,
      "outputs": []
    },
    {
      "cell_type": "code",
      "metadata": {
        "id": "H6OQ_Elcs_TM",
        "colab": {
          "base_uri": "https://localhost:8080/"
        },
        "outputId": "354ffb8c-1e66-471a-b04f-6258d945ae20"
      },
      "source": [
        "epocas = []\n",
        "ajustes = []\n",
        "\n",
        "for i in range(1, 11):\n",
        "    perceptron = Perceptron(no_of_inputs=2, learning_rate=taxa_aprendizado, weights=weights_1)\n",
        "    treinamento_x = df0[:,[0,1]]\n",
        "    treinamento_y = df0[:,2]    \n",
        "    qtd_epocas, qtd_ajustes = perceptron.total_values(treinamento_x, treinamento_y)\n",
        "    epocas = np.append(epocas, qtd_epocas)\n",
        "    ajustes = np.append(ajustes, qtd_ajustes) \n",
        "\n",
        "def set_valores_media(values):\n",
        "  var = np.mean(values)\n",
        "  var = np.round(var,4)\n",
        "  return var\n",
        "\n",
        "def set_valores_desvio_padrao(values):\n",
        "  var = np.std(values)\n",
        "  var = np.round(var,4)\n",
        "  return var\n",
        "\n",
        "epocas_3 = epocas\n",
        "ajustes_3 = ajustes\n",
        "menor_qtde_epocas_3 = int(epocas_3.min())\n",
        "ajustes_media_3 = set_valores_media(ajustes_3)\n",
        "ajustes_desvio_padrao_3 = set_valores_desvio_padrao(ajustes_3)\n",
        "\n",
        "print(\"Menor quantidade de épocas: \", menor_qtde_epocas_1)\n",
        "print(\"Medias: Ajustes = \", ajustes_media_1, \"\\nDesvios Padrao: Ajustes = \", ajustes_desvio_padrao_1)"
      ],
      "execution_count": 658,
      "outputs": [
        {
          "output_type": "stream",
          "name": "stdout",
          "text": [
            "Menor quantidade de épocas:  2\n",
            "Medias: Ajustes =  230.2 \n",
            "Desvios Padrao: Ajustes =  138.8098\n"
          ]
        }
      ]
    },
    {
      "cell_type": "code",
      "metadata": {
        "id": "ZAhZU7Z2s_TM",
        "colab": {
          "base_uri": "https://localhost:8080/"
        },
        "outputId": "18470beb-78b8-4c17-c25d-7f4e63e48651"
      },
      "source": [
        "weights = perceptron.weights\n",
        "print(weights)"
      ],
      "execution_count": 659,
      "outputs": [
        {
          "output_type": "stream",
          "name": "stdout",
          "text": [
            "[ 8.2482  2.9658 12.139 ]\n"
          ]
        }
      ]
    },
    {
      "cell_type": "markdown",
      "metadata": {
        "id": "o4aYEE5Hs_TM"
      },
      "source": [
        "Gráfico do conjunto de dados e a reta que separa as classes"
      ]
    },
    {
      "cell_type": "code",
      "metadata": {
        "id": "utKUbuzBs_TM",
        "colab": {
          "base_uri": "https://localhost:8080/",
          "height": 605
        },
        "outputId": "c4fc920e-8bd6-4e4e-8599-2307e057df8a"
      },
      "source": [
        "plt.figure(figsize=(15,10))\n",
        "\n",
        "x_classe0 = []\n",
        "y_classe0 = []\n",
        "x_classe1 = []\n",
        "y_classe1 = []\n",
        "\n",
        "classe0 = []\n",
        "max = 0\n",
        "min = 0\n",
        "\n",
        "for example in df0:\n",
        "    if example[2] == 0.0:\n",
        "        x_classe0.append(example[0])\n",
        "        y_classe0.append(example[1])\n",
        "        classe0.append(example[0])\n",
        "    if example[2] == 1.0:\n",
        "        x_classe1.append(example[0])\n",
        "        y_classe1.append(example[1])\n",
        "        classe0.append(example[0])\n",
        "        \n",
        "plt.scatter(x_classe0, y_classe0, color='r', label='0')\n",
        "plt.scatter(x_classe1, y_classe1, color='b', label='1')\n",
        "\n",
        "plt.legend()\n",
        "plt.xlabel(\"x1\")\n",
        "plt.ylabel(\"x2\")\n",
        "\n",
        "x = np.arange(np.min(df0[:,:1]),np.max(df0[:,:1]), 0.1)\n",
        "slp =(weights[0]/weights[2])\n",
        "plt.plot(x,slp- (weights[1]/weights[2]*x), 'k', linewidth=2)\n",
        "\n",
        "plt.plot()\n",
        "plt.show()"
      ],
      "execution_count": 660,
      "outputs": [
        {
          "output_type": "display_data",
          "data": {
            "image/png": "[encoded data removed]",
            "text/plain": [
              "<Figure size 1080x720 with 1 Axes>"
            ]
          },
          "metadata": {
            "needs_background": "light"
          }
        }
      ]
    },
    {
      "cell_type": "markdown",
      "metadata": {
        "id": "o6n2xFBUrES1"
      },
      "source": [
        "#Configuração 4\n",
        "Valor da taxa de aprendizado: 0.1<br>\n",
        "Peso: wi ∼ U(-0.5, +0.5)"
      ]
    },
    {
      "cell_type": "code",
      "metadata": {
        "id": "eAO1vrD5rES_",
        "colab": {
          "base_uri": "https://localhost:8080/"
        },
        "outputId": "516756c3-877b-4fe2-f699-2a7558dab5d7"
      },
      "source": [
        "epocas = []\n",
        "ajustes = []\n",
        "\n",
        "for i in range(1, 11):\n",
        "    perceptron = Perceptron(no_of_inputs=2, learning_rate=taxa_aprendizado, weights=weights_1)\n",
        "    treinamento_x = df0[:,[0,1]]\n",
        "    treinamento_y = df0[:,2]    \n",
        "    qtd_epocas, qtd_ajustes = perceptron.total_values(treinamento_x, treinamento_y)\n",
        "    epocas = np.append(epocas, qtd_epocas)\n",
        "    ajustes = np.append(ajustes, qtd_ajustes) \n",
        "\n",
        "def set_valores_media(values):\n",
        "  var = np.mean(values)\n",
        "  var = np.round(var,4)\n",
        "  return var\n",
        "\n",
        "def set_valores_desvio_padrao(values):\n",
        "  var = np.std(values)\n",
        "  var = np.round(var,4)\n",
        "  return var\n",
        "\n",
        "epocas_4 = epocas\n",
        "ajustes_4 = ajustes\n",
        "menor_qtde_epocas_4 = int(epocas_4.min())\n",
        "ajustes_media_4 = set_valores_media(ajustes_4)\n",
        "ajustes_desvio_padrao_4 = set_valores_desvio_padrao(ajustes_4)\n",
        "\n",
        "print(\"Menor quantidade de épocas: \", menor_qtde_epocas_1)\n",
        "print(\"Medias: Ajustes = \", ajustes_media_1, \"\\nDesvios Padrao: Ajustes = \", ajustes_desvio_padrao_1)"
      ],
      "execution_count": 661,
      "outputs": [
        {
          "output_type": "stream",
          "name": "stdout",
          "text": [
            "Menor quantidade de épocas:  2\n",
            "Medias: Ajustes =  230.2 \n",
            "Desvios Padrao: Ajustes =  138.8098\n"
          ]
        }
      ]
    },
    {
      "cell_type": "code",
      "metadata": {
        "id": "AX-1hne6rETA",
        "colab": {
          "base_uri": "https://localhost:8080/"
        },
        "outputId": "5d059f5c-9f53-4d90-cc2c-f07fa98754a0"
      },
      "source": [
        "weights = perceptron.weights\n",
        "print(weights)"
      ],
      "execution_count": 662,
      "outputs": [
        {
          "output_type": "stream",
          "name": "stdout",
          "text": [
            "[2.0297 1.1633 3.1081]\n"
          ]
        }
      ]
    },
    {
      "cell_type": "markdown",
      "metadata": {
        "id": "Myc1Ges9rETA"
      },
      "source": [
        "Gráfico do conjunto de dados e a reta que separa as classes"
      ]
    },
    {
      "cell_type": "code",
      "metadata": {
        "id": "gRgUvvW8rETB",
        "colab": {
          "base_uri": "https://localhost:8080/",
          "height": 605
        },
        "outputId": "045a1f1b-fe81-4391-f275-ab06adb23880"
      },
      "source": [
        "plt.figure(figsize=(15,10))\n",
        "\n",
        "x_classe0 = []\n",
        "y_classe0 = []\n",
        "x_classe1 = []\n",
        "y_classe1 = []\n",
        "\n",
        "classe0 = []\n",
        "max = 0\n",
        "min = 0\n",
        "\n",
        "for example in df0:\n",
        "    if example[2] == 0.0:\n",
        "        x_classe0.append(example[0])\n",
        "        y_classe0.append(example[1])\n",
        "    if example[2] == 1.0:\n",
        "        x_classe1.append(example[0])\n",
        "        y_classe1.append(example[1])\n",
        "        \n",
        "plt.scatter(x_classe0, y_classe0, color='r', label='0')\n",
        "plt.scatter(x_classe1, y_classe1, color='b', label='1')\n",
        "\n",
        "plt.legend()\n",
        "plt.xlabel(\"x1\")\n",
        "plt.ylabel(\"x2\")\n",
        "\n",
        "\n",
        "x = np.arange(np.min(df0[:,:1]),np.max(df0[:,:1]), 0.1)\n",
        "slp =(weights[0]/weights[2])\n",
        "plt.plot(x,slp- (weights[1]/weights[2]*x), 'k', linewidth=2)\n",
        "\n",
        "plt.plot()\n",
        "plt.show()"
      ],
      "execution_count": 663,
      "outputs": [
        {
          "output_type": "display_data",
          "data": {
            "image/png": "[encoded data removed]",
            "text/plain": [
              "<Figure size 1080x720 with 1 Axes>"
            ]
          },
          "metadata": {
            "needs_background": "light"
          }
        }
      ]
    },
    {
      "cell_type": "markdown",
      "metadata": {
        "id": "xA-xpdxPrMwv"
      },
      "source": [
        "#Calculo dos pesos para as configs. 5 e 6\n"
      ]
    },
    {
      "cell_type": "code",
      "metadata": {
        "id": "be_FFBR7rMww",
        "colab": {
          "base_uri": "https://localhost:8080/"
        },
        "outputId": "cfeb48f9-9c93-40e1-9fb6-0d096001e1ca"
      },
      "source": [
        "new_weights()"
      ],
      "execution_count": 664,
      "outputs": [
        {
          "output_type": "stream",
          "name": "stdout",
          "text": [
            "Peso 1:  [-91.8104  57.5405 -65.4972]\n",
            "Peso 2:  [-0.2538  0.4772 -0.3154]\n"
          ]
        }
      ]
    },
    {
      "cell_type": "markdown",
      "metadata": {
        "id": "6X0r_HdkrRCa"
      },
      "source": [
        "#Configuração 5\n",
        "Valor da taxa de aprendizado: 0.01<br>\n",
        "Peso: wi ∼ U(-100, +100)"
      ]
    },
    {
      "cell_type": "code",
      "metadata": {
        "id": "esg47xlKrRCc"
      },
      "source": [
        "taxa_aprendizado = 0.01"
      ],
      "execution_count": 665,
      "outputs": []
    },
    {
      "cell_type": "code",
      "metadata": {
        "colab": {
          "base_uri": "https://localhost:8080/"
        },
        "id": "qNYk88eorRCd",
        "outputId": "a42c1a68-905a-4945-d464-e23078024a48"
      },
      "source": [
        "epocas = []\n",
        "ajustes = []\n",
        "\n",
        "for i in range(1, 11):\n",
        "    perceptron = Perceptron(no_of_inputs=2, learning_rate=taxa_aprendizado, weights=weights_1)\n",
        "    treinamento_x = df0[:,[0,1]]\n",
        "    treinamento_y = df0[:,2]    \n",
        "    qtd_epocas, qtd_ajustes = perceptron.total_values(treinamento_x, treinamento_y)\n",
        "    epocas = np.append(epocas, qtd_epocas)\n",
        "    ajustes = np.append(ajustes, qtd_ajustes) \n",
        "\n",
        "def set_valores_media(values):\n",
        "  var = np.mean(values)\n",
        "  var = np.round(var,4)\n",
        "  return var\n",
        "\n",
        "def set_valores_desvio_padrao(values):\n",
        "  var = np.std(values)\n",
        "  var = np.round(var,4)\n",
        "  return var\n",
        "\n",
        "epocas_5 = epocas\n",
        "ajustes_5 = ajustes\n",
        "menor_qtde_epocas_5 = int(epocas_5.min())\n",
        "ajustes_media_5 = set_valores_media(ajustes_5)\n",
        "ajustes_desvio_padrao_5 = set_valores_desvio_padrao(ajustes_5)\n",
        "\n",
        "print(\"Menor quantidade de épocas: \", menor_qtde_epocas_1)\n",
        "print(\"Medias: Ajustes = \", ajustes_media_1, \"\\nDesvios Padrao: Ajustes = \", ajustes_desvio_padrao_1)"
      ],
      "execution_count": 666,
      "outputs": [
        {
          "output_type": "stream",
          "name": "stdout",
          "text": [
            "Menor quantidade de épocas:  2\n",
            "Medias: Ajustes =  230.2 \n",
            "Desvios Padrao: Ajustes =  138.8098\n"
          ]
        }
      ]
    },
    {
      "cell_type": "code",
      "metadata": {
        "colab": {
          "base_uri": "https://localhost:8080/"
        },
        "id": "nNovcGL6rRCg",
        "outputId": "8ac0d12b-d37b-455c-bfb4-a62ddc6dc9a8"
      },
      "source": [
        "weights = perceptron.weights\n",
        "print(weights)"
      ],
      "execution_count": 667,
      "outputs": [
        {
          "output_type": "stream",
          "name": "stdout",
          "text": [
            "[50.6769 30.3135 75.8044]\n"
          ]
        }
      ]
    },
    {
      "cell_type": "markdown",
      "metadata": {
        "id": "QtMprbKgrRCh"
      },
      "source": [
        "Gráfico do conjunto de dados e a reta que separa as classes"
      ]
    },
    {
      "cell_type": "code",
      "metadata": {
        "colab": {
          "base_uri": "https://localhost:8080/",
          "height": 605
        },
        "id": "9d7mUc49rRCh",
        "outputId": "fcea81a0-a646-4b27-d5ea-b32f43371612"
      },
      "source": [
        "plt.figure(figsize=(15,10))\n",
        "\n",
        "x_classe0 = []\n",
        "y_classe0 = []\n",
        "x_classe1 = []\n",
        "y_classe1 = []\n",
        "\n",
        "classe0 = []\n",
        "max = 0\n",
        "min = 0\n",
        "\n",
        "for example in df0:\n",
        "    if example[2] == 0.0:\n",
        "        x_classe0.append(example[0])\n",
        "        y_classe0.append(example[1])\n",
        "    if example[2] == 1.0:\n",
        "        x_classe1.append(example[0])\n",
        "        y_classe1.append(example[1])\n",
        "        \n",
        "plt.scatter(x_classe0, y_classe0, color='r', label='0')\n",
        "plt.scatter(x_classe1, y_classe1, color='b', label='1')\n",
        "\n",
        "plt.legend()\n",
        "plt.xlabel(\"x1\")\n",
        "plt.ylabel(\"x2\")\n",
        "\n",
        "x = np.arange(np.min(df0[:,:1]),np.max(df0[:,:1]), 0.1)\n",
        "slp =(weights[0]/weights[2])\n",
        "plt.plot(x,slp- (weights[1]/weights[2]*x), 'k', linewidth=2)\n",
        "\n",
        "plt.plot()\n",
        "\n",
        "plt.show()"
      ],
      "execution_count": 668,
      "outputs": [
        {
          "output_type": "display_data",
          "data": {
            "image/png": "[encoded data removed]",
            "text/plain": [
              "<Figure size 1080x720 with 1 Axes>"
            ]
          },
          "metadata": {
            "needs_background": "light"
          }
        }
      ]
    },
    {
      "cell_type": "markdown",
      "metadata": {
        "id": "p9FkKJxIrS_c"
      },
      "source": [
        "#Configuração 6\n",
        "Valor da taxa de aprendizado: 0.01<br>\n",
        "Peso: wi ∼ U(-0.5, +0.5)"
      ]
    },
    {
      "cell_type": "code",
      "metadata": {
        "id": "srkGp8QXrS_e",
        "colab": {
          "base_uri": "https://localhost:8080/"
        },
        "outputId": "68ff1daf-ba08-4d06-cb49-5d5a4ddb8178"
      },
      "source": [
        "epocas = []\n",
        "ajustes = []\n",
        "\n",
        "for i in range(1, 11):\n",
        "    perceptron = Perceptron(no_of_inputs=2, learning_rate=taxa_aprendizado, weights=weights_1)\n",
        "    treinamento_x = df0[:,[0,1]]\n",
        "    treinamento_y = df0[:,2]    \n",
        "    qtd_epocas, qtd_ajustes = perceptron.total_values(treinamento_x, treinamento_y)\n",
        "    epocas = np.append(epocas, qtd_epocas)\n",
        "    ajustes = np.append(ajustes, qtd_ajustes) \n",
        "\n",
        "def set_valores_media(values):\n",
        "  var = np.mean(values)\n",
        "  var = np.round(var,4)\n",
        "  return var\n",
        "\n",
        "def set_valores_desvio_padrao(values):\n",
        "  var = np.std(values)\n",
        "  var = np.round(var,4)\n",
        "  return var\n",
        "\n",
        "epocas_6 = epocas\n",
        "ajustes_6 = ajustes\n",
        "menor_qtde_epocas_6 = int(epocas_6.min())\n",
        "ajustes_media_6 = set_valores_media(ajustes_6)\n",
        "ajustes_desvio_padrao_6 = set_valores_desvio_padrao(ajustes_6)\n",
        "\n",
        "print(\"Menor quantidade de épocas: \", menor_qtde_epocas_1)\n",
        "print(\"Medias: Ajustes = \", ajustes_media_1, \"\\nDesvios Padrao: Ajustes = \", ajustes_desvio_padrao_1)"
      ],
      "execution_count": 669,
      "outputs": [
        {
          "output_type": "stream",
          "name": "stdout",
          "text": [
            "Menor quantidade de épocas:  2\n",
            "Medias: Ajustes =  230.2 \n",
            "Desvios Padrao: Ajustes =  138.8098\n"
          ]
        }
      ]
    },
    {
      "cell_type": "code",
      "metadata": {
        "colab": {
          "base_uri": "https://localhost:8080/"
        },
        "id": "mZfJ_IjVrS_f",
        "outputId": "5cbeabc8-8b63-4c27-8bba-fbfd1b00c3a6"
      },
      "source": [
        "weights = perceptron.weights\n",
        "print(weights)"
      ],
      "execution_count": 670,
      "outputs": [
        {
          "output_type": "stream",
          "name": "stdout",
          "text": [
            "[  8.8155 -13.0996  29.2994]\n"
          ]
        }
      ]
    },
    {
      "cell_type": "markdown",
      "metadata": {
        "id": "k9qlK3lBrS_g"
      },
      "source": [
        "Gráfico do conjunto de dados e a reta que separa as classes"
      ]
    },
    {
      "cell_type": "code",
      "metadata": {
        "id": "AC8DOCESrS_g",
        "colab": {
          "base_uri": "https://localhost:8080/",
          "height": 605
        },
        "outputId": "6b104319-72ca-4fdd-9fef-34105adffb06"
      },
      "source": [
        "plt.figure(figsize=(15,10))\n",
        "\n",
        "x_classe0 = []\n",
        "y_classe0 = []\n",
        "x_classe1 = []\n",
        "y_classe1 = []\n",
        "\n",
        "classe0 = []\n",
        "max = 0\n",
        "min = 0\n",
        "\n",
        "for example in df0:\n",
        "    if example[2] == 0.0:\n",
        "        x_classe0.append(example[0])\n",
        "        y_classe0.append(example[1])\n",
        "    if example[2] == 1.0:\n",
        "        x_classe1.append(example[0])\n",
        "        y_classe1.append(example[1])\n",
        "        \n",
        "plt.scatter(x_classe0, y_classe0, color='r', label='0')\n",
        "plt.scatter(x_classe1, y_classe1, color='b', label='1')\n",
        "\n",
        "plt.legend()\n",
        "plt.xlabel(\"x1\")\n",
        "plt.ylabel(\"x2\")\n",
        "\n",
        "x = np.arange(np.min(df0[:,:1]),np.max(df0[:,:1]), 0.1)\n",
        "slp =(weights[0]/weights[2])\n",
        "plt.plot(x,slp- (weights[1]/weights[2]*x), 'k', linewidth=2)\n",
        "\n",
        "plt.plot()\n",
        "\n",
        "plt.show()"
      ],
      "execution_count": 671,
      "outputs": [
        {
          "output_type": "display_data",
          "data": {
            "image/png": "[encoded data removed]",
            "text/plain": [
              "<Figure size 1080x720 with 1 Axes>"
            ]
          },
          "metadata": {
            "needs_background": "light"
          }
        }
      ]
    },
    {
      "cell_type": "markdown",
      "metadata": {
        "id": "OVB41L6tw_OF"
      },
      "source": [
        "#Tabela de Resultados Gerais"
      ]
    },
    {
      "cell_type": "code",
      "metadata": {
        "colab": {
          "base_uri": "https://localhost:8080/"
        },
        "id": "MuF-J5EiwGJ-",
        "outputId": "92d231ea-22af-4ab6-bc0b-7ece64172c08"
      },
      "source": [
        "from prettytable import PrettyTable\n",
        "x = PrettyTable()\n",
        "var_peso_1 = str(weight_min_1)+\"-->\"+str(weight_max_1)\n",
        "var_peso_2 = str(weight_min_2)+\"-->\"+str(weight_max_2)\n",
        "x.field_names = [\"Taxa de aprendizado\", \"Intervalo de pesos\", \"Media de Ajustes\", \"Desvio Padrao de Ajustes\", \"Menor No de Epocas para Convergencia\"]\n",
        "x.add_row([0.4,var_peso_1, ajustes_media_1, ajustes_desvio_padrao_1, menor_qtde_epocas_1])\n",
        "x.add_row([0.4,var_peso_2, ajustes_media_2, ajustes_desvio_padrao_2, menor_qtde_epocas_2])\n",
        "x.add_row([0.1,var_peso_1, ajustes_media_3, ajustes_desvio_padrao_3, menor_qtde_epocas_3])\n",
        "x.add_row([0.1,var_peso_2, ajustes_media_4, ajustes_desvio_padrao_4, menor_qtde_epocas_4])\n",
        "x.add_row([0.01,var_peso_1, ajustes_media_5, ajustes_desvio_padrao_5, menor_qtde_epocas_5])\n",
        "x.add_row([0.01,var_peso_2, ajustes_media_6, ajustes_desvio_padrao_6, menor_qtde_epocas_6])\n",
        "\n",
        "print (x)"
      ],
      "execution_count": 672,
      "outputs": [
        {
          "output_type": "stream",
          "name": "stdout",
          "text": [
            "+---------------------+--------------------+------------------+--------------------------+--------------------------------------+\n",
            "| Taxa de aprendizado | Intervalo de pesos | Media de Ajustes | Desvio Padrao de Ajustes | Menor No de Epocas para Convergencia |\n",
            "+---------------------+--------------------+------------------+--------------------------+--------------------------------------+\n",
            "|         0.4         |     -100-->100     |      230.2       |         138.8098         |                  2                   |\n",
            "|         0.4         |     -0.5-->0.5     |       6.0        |          1.6733          |                  4                   |\n",
            "|         0.1         |     -100-->100     |      572.9       |         334.5942         |                  10                  |\n",
            "|         0.1         |     -0.5-->0.5     |      774.9       |         320.0417         |                  5                   |\n",
            "|         0.01        |     -100-->100     |      5058.3      |        3142.9663         |                  48                  |\n",
            "|         0.01        |     -0.5-->0.5     |      7215.2      |        3282.9144         |                  19                  |\n",
            "+---------------------+--------------------+------------------+--------------------------+--------------------------------------+\n"
          ]
        }
      ]
    }
  ]
}
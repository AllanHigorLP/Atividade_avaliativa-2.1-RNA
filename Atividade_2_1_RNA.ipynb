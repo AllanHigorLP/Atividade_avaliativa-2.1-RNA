{
  "nbformat": 4,
  "nbformat_minor": 0,
  "metadata": {
    "colab": {
      "name": "Atividade 2.1 - RNA.ipynb",
      "provenance": [],
      "collapsed_sections": [],
      "include_colab_link": true
    },
    "kernelspec": {
      "name": "python3",
      "display_name": "Python 3"
    },
    "language_info": {
      "name": "python"
    }
  },
  "cells": [
    {
      "cell_type": "markdown",
      "metadata": {
        "id": "view-in-github",
        "colab_type": "text"
      },
      "source": [
        "<a href=\"https://colab.research.google.com/github/AllanHigorLP/Atividade_avaliativa-2.1-RNA/blob/main/Atividade_2_1_RNA.ipynb\" target=\"_parent\"><img src=\"https://colab.research.google.com/assets/colab-badge.svg\" alt=\"Open In Colab\"/></a>"
      ]
    },
    {
      "cell_type": "markdown",
      "metadata": {
        "id": "cJYnVFY5_4G4"
      },
      "source": [
        "**Criando o diretório no Google Drive**"
      ]
    },
    {
      "cell_type": "markdown",
      "metadata": {
        "id": "wEEpwdwNqtr2"
      },
      "source": [
        "# Detalhamento da Atividade"
      ]
    },
    {
      "cell_type": "code",
      "metadata": {
        "colab": {
          "base_uri": "https://localhost:8080/"
        },
        "id": "4mfufQjVqX4B",
        "outputId": "6521b705-0be2-4c67-e10e-59ec465fb80a"
      },
      "source": [
        "x = 12%4\n",
        "print(x)"
      ],
      "execution_count": null,
      "outputs": [
        {
          "output_type": "stream",
          "name": "stdout",
          "text": [
            "0\n"
          ]
        }
      ]
    },
    {
      "cell_type": "code",
      "metadata": {
        "id": "eJyZxaKhq03F"
      },
      "source": [
        "import numpy as np # linear algebra\n",
        "import pandas as pd # data processing, CSV file I/O (e.g. pd.read_csv)\n",
        "import seaborn as sns\n",
        "import matplotlib.pyplot as plt\n",
        "from sklearn.model_selection import train_test_split #to split the dataset for training and testing\n",
        "from sklearn import metrics\n",
        "import unicodedata\n",
        "import io"
      ],
      "execution_count": null,
      "outputs": []
    },
    {
      "cell_type": "code",
      "metadata": {
        "colab": {
          "base_uri": "https://localhost:8080/"
        },
        "id": "Ra8KOSdxq5NS",
        "outputId": "49940042-6084-490e-a8ca-3663d400e0c9"
      },
      "source": [
        "!git clone https://github.com/AllanHigorLP/Atividade_avaliativa-2.1-RNA/"
      ],
      "execution_count": null,
      "outputs": [
        {
          "output_type": "stream",
          "name": "stdout",
          "text": [
            "Cloning into 'Atividade_avaliativa-2.1-RNA'...\n",
            "remote: Enumerating objects: 58, done.\u001b[K\n",
            "remote: Counting objects: 100% (58/58), done.\u001b[K\n",
            "remote: Compressing objects: 100% (56/56), done.\u001b[K\n",
            "remote: Total 58 (delta 12), reused 9 (delta 0), pack-reused 0\u001b[K\n",
            "Unpacking objects: 100% (58/58), done.\n"
          ]
        }
      ]
    },
    {
      "cell_type": "code",
      "metadata": {
        "colab": {
          "base_uri": "https://localhost:8080/"
        },
        "id": "9tCwbqKnq7O7",
        "outputId": "4c5d28be-63c7-46a5-90d9-d5174b363030"
      },
      "source": [
        "df = np.fromfile('/content/Atividade_avaliativa-2.1-RNA/data/dataAll.txt')\n",
        "print(df)"
      ],
      "execution_count": null,
      "outputs": [
        {
          "output_type": "stream",
          "name": "stdout",
          "text": [
            "[-363.7884  244.1423    0.     ... -140.147   734.0983    0.    ]\n"
          ]
        }
      ]
    },
    {
      "cell_type": "code",
      "metadata": {
        "colab": {
          "base_uri": "https://localhost:8080/"
        },
        "id": "FNSYMK_Jq9S_",
        "outputId": "648fc817-2aab-4f89-9589-082c50d5f8d0"
      },
      "source": [
        "df.shape"
      ],
      "execution_count": null,
      "outputs": [
        {
          "output_type": "execute_result",
          "data": {
            "text/plain": [
              "(3000,)"
            ]
          },
          "metadata": {},
          "execution_count": 5
        }
      ]
    },
    {
      "cell_type": "code",
      "metadata": {
        "colab": {
          "base_uri": "https://localhost:8080/"
        },
        "id": "Irl3HLzKq_D1",
        "outputId": "106b7f09-f1e4-426d-a502-612fe592cbf1"
      },
      "source": [
        "df = df.reshape(1000, 3)\n",
        "print(df)"
      ],
      "execution_count": null,
      "outputs": [
        {
          "output_type": "stream",
          "name": "stdout",
          "text": [
            "[[-363.7884  244.1423    0.    ]\n",
            " [ 328.7572 -256.7658    1.    ]\n",
            " [-164.9827  613.2164    0.    ]\n",
            " ...\n",
            " [ 872.4311  669.1192    1.    ]\n",
            " [ 822.6894 -702.6489    1.    ]\n",
            " [-140.147   734.0983    0.    ]]\n"
          ]
        }
      ]
    },
    {
      "cell_type": "markdown",
      "metadata": {
        "id": "rfy4N9KFrCvJ"
      },
      "source": [
        "# Parte I – Resolvendo um Problema Linearmente Separável"
      ]
    },
    {
      "cell_type": "code",
      "metadata": {
        "id": "FMcMhr4nrFle"
      },
      "source": [
        "# n (taxa de aprendizado)\n",
        "theta = 0.0\n",
        "n = 0.1\n",
        "bias = 1.0\n",
        "weight_max = 0.5\n",
        "weight_min = -0.5\n"
      ],
      "execution_count": null,
      "outputs": []
    },
    {
      "cell_type": "code",
      "metadata": {
        "colab": {
          "base_uri": "https://localhost:8080/"
        },
        "id": "MPI6fSYorHb3",
        "outputId": "075f591d-347b-4ad0-e024-5a0a98eaeffa"
      },
      "source": [
        "weight = np.random.uniform(weight_min, weight_max, size=3)\n",
        "weight = np.round(weight,4)\n",
        "print(weight)"
      ],
      "execution_count": null,
      "outputs": [
        {
          "output_type": "stream",
          "name": "stdout",
          "text": [
            "[ 0.0215 -0.1538  0.4472]\n"
          ]
        }
      ]
    },
    {
      "cell_type": "code",
      "metadata": {
        "colab": {
          "base_uri": "https://localhost:8080/"
        },
        "id": "9QKkCWcirJ0p",
        "outputId": "afd138e1-b034-4865-9a5e-a56c6bf52680"
      },
      "source": [
        "epoca = 0\n",
        "erros = 1\n",
        "ajustes_total = 0\n",
        "ajustes_epoca = 0\n",
        "\n",
        "def soma_ponderada():\n",
        "    sum_pond = (weight[0]*(-1*bias)) + (weight[1]*example[0]) + (weight[2]*example[1])\n",
        "    return sum_pond \n",
        "\n",
        "def funcao_ativacao():\n",
        "    if u >= theta:\n",
        "        return 1.0\n",
        "    else:\n",
        "        return 0.0\n",
        "\n",
        "def novo_peso(w, fu_ac):\n",
        "    e = example[2] - fu_ac\n",
        "    novo_p = w + (n*e*np.array([(-1*bias), example[0], example[1]]))\n",
        "    novo_p = np.round(novo_p,4)\n",
        "    return novo_p\n",
        "    \n",
        "while (erros != 0):\n",
        "    epoca = epoca + 1\n",
        "    ajustes_epoca = 0\n",
        "    erros = 0\n",
        "    \n",
        "    for example in df:\n",
        "        funct_act = 0.0\n",
        "        u = 0.0\n",
        "        u = soma_ponderada()\n",
        "        funct_act = funcao_ativacao()\n",
        "        \n",
        "        if funct_act != example[2]:\n",
        "            ajustes_epoca = ajustes_epoca + 1\n",
        "            ajustes_total = ajustes_total + 1\n",
        "            erros = 1\n",
        "            weight = novo_peso(weight, funct_act)\n",
        "            print(\"Novo vetor de pesos ajustado\", weight, \"\\n\")\n",
        "            \n",
        "    print(\"Qtd de ajustes do vetor de pesos na época\", epoca, \":\", ajustes_epoca, \"\\n\")\n",
        "    \n",
        "print(\"\\nVetor de pesos final (ajustado): \", weight)\n",
        "print(\"Número total de ajustes do vetor de pesos:\", ajustes_total)\n",
        "print(\"Número total de epocas:\", epoca)"
      ],
      "execution_count": null,
      "outputs": [
        {
          "output_type": "stream",
          "name": "stdout",
          "text": [
            "Novo vetor de pesos ajustado [  0.1215  36.225  -23.967 ] \n",
            "\n",
            "Novo vetor de pesos ajustado [   0.2215  -17.4341 -100.4628] \n",
            "\n",
            "Novo vetor de pesos ajustado [  0.1215  55.3619 -64.6332] \n",
            "\n",
            "Novo vetor de pesos ajustado [2.150000e-02 1.379606e+02 1.522260e+01] \n",
            "\n",
            "Novo vetor de pesos ajustado [ 1.215000e-01  1.438064e+02 -6.307200e+01] \n",
            "\n",
            "Novo vetor de pesos ajustado [   0.2215  103.7975 -140.9647] \n",
            "\n",
            "Novo vetor de pesos ajustado [  0.3215 157.4673 -91.8724] \n",
            "\n",
            "Novo vetor de pesos ajustado [   0.2215  104.5072 -148.7419] \n",
            "\n",
            "Novo vetor de pesos ajustado [  0.3215 164.0667 -98.6196] \n",
            "\n",
            "Novo vetor de pesos ajustado [   0.2215  118.5421 -164.2555] \n",
            "\n",
            "Novo vetor de pesos ajustado [  0.3215 209.258  -89.5422] \n",
            "\n",
            "Novo vetor de pesos ajustado [   0.2215  151.477  -149.8504] \n",
            "\n",
            "Novo vetor de pesos ajustado [ 1.215000e-01  1.032104e+02 -1.983201e+02] \n",
            "\n",
            "Novo vetor de pesos ajustado [ 2.150000e-02  1.736578e+02 -1.562038e+02] \n",
            "\n",
            "Novo vetor de pesos ajustado [-7.850000e-02  1.268158e+02 -2.076137e+02] \n",
            "\n",
            "Novo vetor de pesos ajustado [-1.785000e-01  1.966794e+02 -1.433948e+02] \n",
            "\n",
            "Novo vetor de pesos ajustado [-7.850000e-02  1.408437e+02 -1.995723e+02] \n",
            "\n",
            "Novo vetor de pesos ajustado [-1.785000e-01  2.178312e+02 -1.347230e+02] \n",
            "\n",
            "Novo vetor de pesos ajustado [  -0.2785  181.5612 -177.951 ] \n",
            "\n",
            "Novo vetor de pesos ajustado [-1.785000e-01  1.633221e+02 -1.962846e+02] \n",
            "\n",
            "Novo vetor de pesos ajustado [  -0.2785  238.7445 -130.2295] \n",
            "\n",
            "Novo vetor de pesos ajustado [  -0.3785  174.3854 -212.6519] \n",
            "\n",
            "Novo vetor de pesos ajustado [  -0.2785  265.6936 -129.3811] \n",
            "\n",
            "Novo vetor de pesos ajustado [  -0.3785  218.6488 -217.285 ] \n",
            "\n",
            "Qtd de ajustes do vetor de pesos na época 1 : 24 \n",
            "\n",
            "Novo vetor de pesos ajustado [  -0.4785  170.3822 -265.7547] \n",
            "\n",
            "Novo vetor de pesos ajustado [  -0.5785  240.2458 -201.5358] \n",
            "\n",
            "Novo vetor de pesos ajustado [  -0.4785  184.4101 -257.7133] \n",
            "\n",
            "Novo vetor de pesos ajustado [  -0.5785  261.3976 -192.864 ] \n",
            "\n",
            "Novo vetor de pesos ajustado [  -0.6785  225.1276 -236.092 ] \n",
            "\n",
            "Novo vetor de pesos ajustado [  -0.7785  308.0195 -153.3105] \n",
            "\n",
            "Novo vetor de pesos ajustado [  -0.8785  261.8721 -209.9599] \n",
            "\n",
            "Novo vetor de pesos ajustado [  -0.7785  235.2465 -242.4823] \n",
            "\n",
            "Novo vetor de pesos ajustado [  -0.8785  282.2709 -195.9281] \n",
            "\n",
            "Novo vetor de pesos ajustado [  -0.9785  252.3868 -229.0374] \n",
            "\n",
            "Novo vetor de pesos ajustado [  -0.8785  234.1477 -247.371 ] \n",
            "\n",
            "Novo vetor de pesos ajustado [  -0.7785  265.4546 -216.7427] \n",
            "\n",
            "Novo vetor de pesos ajustado [  -0.6785  189.9007 -294.0656] \n",
            "\n",
            "Novo vetor de pesos ajustado [  -0.5785  258.8766 -229.2747] \n",
            "\n",
            "Novo vetor de pesos ajustado [  -0.4785  163.065  -327.1564] \n",
            "\n",
            "Novo vetor de pesos ajustado [  -0.5785  244.2387 -275.8085] \n",
            "\n",
            "Novo vetor de pesos ajustado [  -0.4785  343.7065 -183.9189] \n",
            "\n",
            "Novo vetor de pesos ajustado [  -0.5785  285.0016 -276.2562] \n",
            "\n",
            "Novo vetor de pesos ajustado [  -0.4785  241.1435 -320.7952] \n",
            "\n",
            "Novo vetor de pesos ajustado [  -0.5785  328.3866 -253.8833] \n",
            "\n",
            "Qtd de ajustes do vetor de pesos na época 2 : 20 \n",
            "\n",
            "Novo vetor de pesos ajustado [  -0.4785  296.9636 -288.267 ] \n",
            "\n",
            "Novo vetor de pesos ajustado [  -0.5785  247.0538 -339.5274] \n",
            "\n",
            "Novo vetor de pesos ajustado [  -0.6785  274.5174 -318.671 ] \n",
            "\n",
            "Novo vetor de pesos ajustado [  -0.5785  323.9782 -269.777 ] \n",
            "\n",
            "Novo vetor de pesos ajustado [  -0.4785  295.7707 -303.3611] \n",
            "\n",
            "Novo vetor de pesos ajustado [-3.785000e-01  3.829055e+02 -2.166713e+02] \n",
            "\n",
            "Novo vetor de pesos ajustado [-2.785000e-01  3.309902e+02 -2.728723e+02] \n",
            "\n",
            "Novo vetor de pesos ajustado [-1.785000e-01  2.661042e+02 -3.474884e+02] \n",
            "\n",
            "Novo vetor de pesos ajustado [-2.785000e-01  3.558130e+02 -2.684797e+02] \n",
            "\n",
            "Novo vetor de pesos ajustado [  -0.3785  278.35   -366.4674] \n",
            "\n",
            "Novo vetor de pesos ajustado [  -0.4785  323.2553 -323.0635] \n",
            "\n",
            "Qtd de ajustes do vetor de pesos na época 3 : 11 \n",
            "\n",
            "Qtd de ajustes do vetor de pesos na época 4 : 0 \n",
            "\n",
            "\n",
            "Vetor de pesos final (ajustado):  [  -0.4785  323.2553 -323.0635]\n",
            "Número total de ajustes do vetor de pesos: 55\n",
            "Número total de epocas: 4\n"
          ]
        }
      ]
    },
    {
      "cell_type": "code",
      "metadata": {
        "colab": {
          "base_uri": "https://localhost:8080/",
          "height": 606
        },
        "id": "CdZoAqlorNWC",
        "outputId": "f80fa12a-a39d-480a-ef0d-bbbefa9ced84"
      },
      "source": [
        "plt.figure(figsize=(15,10))\n",
        "\n",
        "x_classe0 = []\n",
        "y_classe0 = []\n",
        "x_classe1 = []\n",
        "y_classe1 = []\n",
        "\n",
        "classe0 = []\n",
        "\n",
        "for example in df:\n",
        "    if example[2] == 0.0:\n",
        "        x_classe0.append(example[0])\n",
        "        y_classe0.append(example[1])\n",
        "    if example[2] == 1.0:\n",
        "        x_classe1.append(example[0])\n",
        "        y_classe1.append(example[1])\n",
        "        \n",
        "plt.scatter(x_classe0, y_classe0, color='r', label='0')\n",
        "plt.scatter(x_classe1, y_classe1, color='b', label='1')\n",
        "\n",
        "plt.legend()\n",
        "plt.xlabel(\"x1\")\n",
        "plt.ylabel(\"x2\")\n",
        "\n",
        "# slp = -(weight[0]/weight[2]) / (weight[0]/weight[1])\n",
        "# end = (weight[0]/weight[2])\n",
        "#plt.axes.axline(0,10, slope=slp, color=\"black\", lw=2)\n",
        "plt.plot([-1000,1000], [-1000, 1000], 'k-')\n",
        "plt.show()"
      ],
      "execution_count": null,
      "outputs": [
        {
          "output_type": "display_data",
          "data": {
            "image/png": "[encoded data removed]",
            "text/plain": [
              "<Figure size 1080x720 with 1 Axes>"
            ]
          },
          "metadata": {
            "needs_background": "light"
          }
        }
      ]
    },
    {
      "cell_type": "markdown",
      "metadata": {
        "id": "fWslZhJIw6LX"
      },
      "source": [
        "#Parte II – Executando\n"
      ]
    },
    {
      "cell_type": "code",
      "metadata": {
        "colab": {
          "base_uri": "https://localhost:8080/"
        },
        "id": "rtgb4yIkxE_I",
        "outputId": "a7ad6859-b6fb-4f42-e42c-93c91082c23e"
      },
      "source": [
        "df0 = np.fromfile('/content/Atividade_avaliativa-2.1-RNA/data/df0.txt')\n",
        "print(df0)"
      ],
      "execution_count": null,
      "outputs": [
        {
          "output_type": "stream",
          "name": "stdout",
          "text": [
            "[-0.00149369 -0.03581784  0.         ...  1.02021556  0.86533059\n",
            "  1.        ]\n"
          ]
        }
      ]
    },
    {
      "cell_type": "code",
      "metadata": {
        "colab": {
          "base_uri": "https://localhost:8080/"
        },
        "id": "6jtgEeuHxX3e",
        "outputId": "57fa5d98-a0df-4826-c1c9-24e33e80efc9"
      },
      "source": [
        "df0.shape"
      ],
      "execution_count": null,
      "outputs": [
        {
          "output_type": "execute_result",
          "data": {
            "text/plain": [
              "(1800,)"
            ]
          },
          "metadata": {},
          "execution_count": 13
        }
      ]
    },
    {
      "cell_type": "code",
      "metadata": {
        "colab": {
          "base_uri": "https://localhost:8080/"
        },
        "id": "Dz2ftxpLxdex",
        "outputId": "94c681f2-7bd6-46a2-9859-b9c1d28053cf"
      },
      "source": [
        "df0 = df0.reshape(600, 3)\n",
        "print(df0)"
      ],
      "execution_count": null,
      "outputs": [
        {
          "output_type": "stream",
          "name": "stdout",
          "text": [
            "[[-0.00149369 -0.03581784  0.        ]\n",
            " [ 0.01234945  0.10249524  0.        ]\n",
            " [ 0.13954598  0.05607083  0.        ]\n",
            " ...\n",
            " [ 0.95751872  1.0035204   1.        ]\n",
            " [ 0.97981588  1.00949493  1.        ]\n",
            " [ 1.02021556  0.86533059  1.        ]]\n"
          ]
        }
      ]
    },
    {
      "cell_type": "code",
      "metadata": {
        "id": "Ojorr-D8x_oR"
      },
      "source": [
        "import numpy as np\n",
        "\n",
        "class Perceptron(object):\n",
        "    \n",
        "   def __init__(self, no_of_inputs, epoch=100, \n",
        "                    learning_rate=np.random.uniform(0.1, 0.4, 1), \n",
        "                    baias=-1, \n",
        "                    random_train_set=False, \n",
        "                    show_training=False,\n",
        "                    weights=(-5.0, 0.5),\n",
        "                    use_epoch=False):\n",
        "        self.epoch = epoch\n",
        "        self.learning_rate= learning_rate\n",
        "        self.weights = np.random.uniform(weights[0], \n",
        "                                            weights[1], \n",
        "                                            no_of_inputs + 1)\n",
        "        self.baias = baias\n",
        "        self.random_train_set = random_train_set\n",
        "        self.show_training = show_training\n",
        "        self.use_epoch = use_epoch\n",
        "    \n",
        "   def __add_baias(self, inputs):\n",
        "        new_inputs = []\n",
        "        for row in inputs:\n",
        "            new_row = np.insert(row, 0, self.baias)\n",
        "            new_inputs.append(new_row)\n",
        "        return np.array(new_inputs)\n",
        "\n",
        "   def __weight_adjust(self, x_train, y_predicto, y_real):\n",
        "        erro = y_predicto - y_real\n",
        "        self.weights -= self.learning_rate * erro * x_train\n",
        "        self.weights = np.round(self.weights, 4)\n",
        "\n",
        "   def __activ_func(self, u): \n",
        "        if u >= 0.0:\n",
        "            return 1.0\n",
        "        else:\n",
        "            return 0.0\n",
        "\n",
        "   def __error(self, y_predicto, y_real):\n",
        "        if y_predicto != y_real:\n",
        "            return True\n",
        "        else:\n",
        "            return False\n",
        "\n",
        "   def __random_sets(self, x_train, y_train):\n",
        "        # Randomizando os dados de treino\n",
        "        index = np.arange(len(x_train))\n",
        "        np.random.shuffle(index)\n",
        "        x_train = x_train[index]\n",
        "        y_train = y_train[index]\n",
        "        return x_train, y_train\n",
        "        #---------------------------------\n",
        "    \n",
        "   def predict(self, x_test):\n",
        "        x_test = self.__add_baias(x_test)\n",
        "        y_predicto = []\n",
        "        for _x_test in x_test:\n",
        "            u = np.sum(np.dot(_x_test, self.weights))\n",
        "            y = self.__activ_func(u)\n",
        "            y_predicto.append(y)\n",
        "        return np.array(y_predicto)\n",
        "\n",
        "   def __show_training(self, epoch, count_adjust):\n",
        "        print(\"\\n\\tÉpoca:\", epoch)\n",
        "        print(\"Pesos:\", self.weights)\n",
        "        print(\"Quantidade de Ajustes:\", count_adjust)\n",
        "\n",
        "   def __learning(self, x_train, y_train, no_erro):\n",
        "        count_adjust = 0\n",
        "        for x, y in zip(x_train, y_train):\n",
        "            u = np.sum(np.dot(x, self.weights))\n",
        "            y_predicto = self.__activ_func(u)\n",
        "            if self.__error(y_predicto, y):\n",
        "                self.__weight_adjust(x, y_predicto, y)\n",
        "                no_erro = False\n",
        "                count_adjust += 1\n",
        "        return no_erro, count_adjust\n",
        "\n",
        "\n",
        "   def __epochs(self, x_train, y_train):\n",
        "        no_erro = False\n",
        "        epoch = 1\n",
        "        total_adjust = 0\n",
        "        while no_erro != True:\n",
        "\n",
        "            if self.use_epoch:\n",
        "                if epoch == self.epoch:\n",
        "                    break\n",
        "                \n",
        "            if self.random_train_set:\n",
        "                x_train, y_train = self.__random_sets(x_train,\n",
        "                                                         y_train)\n",
        "            \n",
        "            no_erro = True\n",
        "            \n",
        "            no_erro, count_adjust = self.__learning(x_train, \n",
        "                                                        y_train,\n",
        "                                                        no_erro)\n",
        "\n",
        "            if self.show_training:\n",
        "                self.__show_training(epoch, count_adjust)\n",
        "\n",
        "            epoch += 1\n",
        "            total_adjust += count_adjust\n",
        "        return epoch, total_adjust\n",
        "\n",
        "\n",
        "   def total_values(self, x_train, y_train):\n",
        "\n",
        "        x_train = self.__add_baias(x_train)\n",
        "        epoch, total_adjust = self.__epochs(x_train, y_train)\n",
        "        \n",
        "        print(\"\\nQuantidade total de épocas:\", epoch)\n",
        "        print(\"Quantidade total de ajustes:\", total_adjust)\n",
        "        \n",
        "        np.set_printoptions(precision=4, suppress=True)\n",
        "        print(\"Vetor final de pesos:\", np.round(self.weights, 4))\n",
        "        return epoch, total_adjust"
      ],
      "execution_count": null,
      "outputs": []
    },
    {
      "cell_type": "code",
      "metadata": {
        "colab": {
          "base_uri": "https://localhost:8080/"
        },
        "id": "Oby4A04A-BPx",
        "outputId": "8ab380d7-4d8b-47cb-f604-88815ba971d5"
      },
      "source": [
        "weight_max_1 = 100\n",
        "weight_min_1 = -100\n",
        "weights_1 = np.random.uniform(weight_min_1, weight_max_1, size=3)\n",
        "weights_1 = np.round(weights_1,4)\n",
        "print(\"Peso 1: \", weights_1)\n",
        "weight_max_2 = 0.5\n",
        "weight_min_2 = -0.5\n",
        "weights_2 = np.random.uniform(weight_min_2, weight_max_2, size=3)\n",
        "weights_2 = np.round(weights_2,4)\n",
        "print(\"Peso 2: \", weights_2)"
      ],
      "execution_count": null,
      "outputs": [
        {
          "output_type": "stream",
          "name": "stdout",
          "text": [
            "Peso 1:  [ 33.4952  21.9268 -22.1216]\n",
            "Peso 2:  [ 0.1012 -0.2351 -0.1508]\n"
          ]
        }
      ]
    },
    {
      "cell_type": "markdown",
      "metadata": {
        "id": "rsr0Jk3Fz3Gy"
      },
      "source": [
        "#Configuração 1\n",
        "Valor da taxa de aprendizado: 0.4<br>\n",
        "Peso: wi ∼ U(-100, +100)"
      ]
    },
    {
      "cell_type": "code",
      "metadata": {
        "id": "pGeh1GRd5o4w"
      },
      "source": [
        "taxa_aprendizado = 0.4"
      ],
      "execution_count": null,
      "outputs": []
    },
    {
      "cell_type": "code",
      "metadata": {
        "colab": {
          "base_uri": "https://localhost:8080/"
        },
        "id": "xKrxLVBJz82L",
        "outputId": "c119ab15-1661-4801-fea8-00c0307c9ff1"
      },
      "source": [
        "epocas, ajustes = np.array([]), np.array([])\n",
        "\n",
        "for i in range(1, 11):\n",
        "    print(\"\\nIteração número \", i)\n",
        "    perceptron = Perceptron(no_of_inputs=2, learning_rate=taxa_aprendizado, weights=weights_1)\n",
        "    treinamento_x = df0[:,[0,1]]\n",
        "    treinamento_y = df0[:,2]\n",
        "    \n",
        "    qtd_epocas, qtd_ajustes = perceptron.total_values(treinamento_x, treinamento_y)\n",
        "    epocas = np.append(epocas, qtd_epocas)\n",
        "    ajustes = np.append(ajustes, qtd_ajustes)\n",
        "    \n",
        "\n",
        "epocas_1 = epocas\n",
        "ajustes_1 = ajustes\n",
        "epocas_media_1 = np.round(np.mean(epocas), 4)\n",
        "ajustes_media_1 = np.round(np.mean(ajustes), 4)\n",
        "epocas_desvio_padrao_1 = np.round(np.std(epocas), 4)\n",
        "ajustes_desvio_padrao_1 = np.round(np.std(ajustes), 4)\n",
        "\n",
        "print(\"\")\n",
        "print(\"Épocas. Média: \", epocas_media_1, \" Desvio Padrão: \", epocas_desvio_padrao_1)\n",
        "print(\"Ajustes. Média: \", ajustes_media_1, \" Desvio Padrão: \", ajustes_desvio_padrao_1)"
      ],
      "execution_count": 42,
      "outputs": [
        {
          "output_type": "stream",
          "name": "stdout",
          "text": [
            "\n",
            "Iteração número  1\n",
            "\n",
            "Quantidade total de épocas: 15\n",
            "Quantidade total de ajustes: 271\n",
            "Vetor final de pesos: [25.0121 14.7555 38.1147]\n",
            "\n",
            "Iteração número  2\n",
            "\n",
            "Quantidade total de épocas: 8\n",
            "Quantidade total de ajustes: 63\n",
            "Vetor final de pesos: [19.4645 -1.0048 70.6176]\n",
            "\n",
            "Iteração número  3\n",
            "\n",
            "Quantidade total de épocas: 14\n",
            "Quantidade total de ajustes: 166\n",
            "Vetor final de pesos: [25.335  14.7736 38.2241]\n",
            "\n",
            "Iteração número  4\n",
            "\n",
            "Quantidade total de épocas: 15\n",
            "Quantidade total de ajustes: 223\n",
            "Vetor final de pesos: [27.3258 15.8501 40.8808]\n",
            "\n",
            "Iteração número  5\n",
            "\n",
            "Quantidade total de épocas: 2\n",
            "Quantidade total de ajustes: 0\n",
            "Vetor final de pesos: [30.1622 -0.8479 46.3741]\n",
            "\n",
            "Iteração número  6\n",
            "\n",
            "Quantidade total de épocas: 19\n",
            "Quantidade total de ajustes: 187\n",
            "Vetor final de pesos: [36.9383 21.7875 55.7733]\n",
            "\n",
            "Iteração número  7\n",
            "\n",
            "Quantidade total de épocas: 2\n",
            "Quantidade total de ajustes: 0\n",
            "Vetor final de pesos: [42.6491 18.3155 78.8369]\n",
            "\n",
            "Iteração número  8\n",
            "\n",
            "Quantidade total de épocas: 7\n",
            "Quantidade total de ajustes: 28\n",
            "Vetor final de pesos: [37.2593  2.3475 52.4432]\n",
            "\n",
            "Iteração número  9\n",
            "\n",
            "Quantidade total de épocas: 21\n",
            "Quantidade total de ajustes: 174\n",
            "Vetor final de pesos: [44.7768 26.5284 67.3363]\n",
            "\n",
            "Iteração número  10\n",
            "\n",
            "Quantidade total de épocas: 23\n",
            "Quantidade total de ajustes: 69\n",
            "Vetor final de pesos: [62.7206 37.2303 93.7948]\n",
            "\n",
            "Épocas. Média:  12.6  Desvio Padrão:  7.1442\n",
            "Ajustes. Média:  118.1  Desvio Padrão:  92.741\n"
          ]
        }
      ]
    },
    {
      "cell_type": "code",
      "metadata": {
        "colab": {
          "base_uri": "https://localhost:8080/"
        },
        "id": "SdmsrYvC0oRj",
        "outputId": "720e0274-9eed-4941-9cb1-f3b429776d21"
      },
      "source": [
        "weights = perceptron.weights\n",
        "weights"
      ],
      "execution_count": null,
      "outputs": [
        {
          "output_type": "execute_result",
          "data": {
            "text/plain": [
              "array([ 15.0495, -17.2545,  43.8829])"
            ]
          },
          "metadata": {},
          "execution_count": 20
        }
      ]
    },
    {
      "cell_type": "markdown",
      "metadata": {
        "id": "oGFEPp8S0sO5"
      },
      "source": [
        "\n",
        "Obtenção da reta solução a partir do último vetor de pesos encontrado"
      ]
    },
    {
      "cell_type": "code",
      "metadata": {
        "colab": {
          "base_uri": "https://localhost:8080/"
        },
        "id": "Bc5FqkoO0t2E",
        "outputId": "82ed161c-3b96-403a-898d-44cdeed1d7dd"
      },
      "source": [
        "print(\"Equação da reta solução: x2 = \" + \n",
        "      str(np.round((weights[0]/weights[2]), 4)) + \n",
        "      \" -(\" + \n",
        "      str(np.round((weights[1]/weights[2]), 4)) + \n",
        "      \")*x1\")"
      ],
      "execution_count": null,
      "outputs": [
        {
          "output_type": "stream",
          "name": "stdout",
          "text": [
            "Equação da reta solução: x2 = 0.3429 -(-0.3932)*x1\n"
          ]
        }
      ]
    },
    {
      "cell_type": "markdown",
      "metadata": {
        "id": "LwtDSwbB0yS-"
      },
      "source": [
        "Gráfico do conjunto de dados e a reta que separa as classes"
      ]
    },
    {
      "cell_type": "code",
      "metadata": {
        "colab": {
          "base_uri": "https://localhost:8080/",
          "height": 606
        },
        "id": "T_3k0uTe00Q5",
        "outputId": "9471e54a-ba4e-4203-deae-f0492d31ec4f"
      },
      "source": [
        "plt.figure(figsize=(15,10))\n",
        "\n",
        "x_classe0 = []\n",
        "y_classe0 = []\n",
        "x_classe1 = []\n",
        "y_classe1 = []\n",
        "\n",
        "classe0 = []\n",
        "\n",
        "for example in df0:\n",
        "    if example[2] == 0.0:\n",
        "        x_classe0.append(example[0])\n",
        "        y_classe0.append(example[1])\n",
        "    if example[2] == 1.0:\n",
        "        x_classe1.append(example[0])\n",
        "        y_classe1.append(example[1])\n",
        "        \n",
        "plt.scatter(x_classe0, y_classe0, color='r', label='0')\n",
        "plt.scatter(x_classe1, y_classe1, color='b', label='1')\n",
        "\n",
        "plt.legend()\n",
        "plt.xlabel(\"x1\")\n",
        "plt.ylabel(\"x2\")\n",
        "\n",
        "# slp = -(weight[0]/weight[2]) / (weight[0]/weight[1])\n",
        "# end = (weight[0]/weight[2])\n",
        "#plt.axes.axline(0,10, slope=slp, color=\"black\", lw=2)\n",
        "plt.show()"
      ],
      "execution_count": null,
      "outputs": [
        {
          "output_type": "display_data",
          "data": {
            "image/png": "[encoded data removed]",
            "text/plain": [
              "<Figure size 1080x720 with 1 Axes>"
            ]
          },
          "metadata": {
            "needs_background": "light"
          }
        }
      ]
    }
  ]
}
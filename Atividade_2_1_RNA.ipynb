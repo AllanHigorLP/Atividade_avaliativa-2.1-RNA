{
  "nbformat": 4,
  "nbformat_minor": 0,
  "metadata": {
    "colab": {
      "name": "Atividade_2_1_RNA.ipynb",
      "provenance": [],
      "include_colab_link": true
    },
    "kernelspec": {
      "name": "python3",
      "display_name": "Python 3"
    },
    "language_info": {
      "name": "python"
    }
  },
  "cells": [
    {
      "cell_type": "markdown",
      "metadata": {
        "id": "view-in-github",
        "colab_type": "text"
      },
      "source": [
        "<a href=\"https://colab.research.google.com/github/AllanHigorLP/Atividade_avaliativa-2.1-RNA/blob/main/Atividade_2_1_RNA.ipynb\" target=\"_parent\"><img src=\"https://colab.research.google.com/assets/colab-badge.svg\" alt=\"Open In Colab\"/></a>"
      ]
    },
    {
      "cell_type": "markdown",
      "metadata": {
        "id": "sOINEKc-Z3W-"
      },
      "source": [
        "# Detalhamento da Atividade"
      ]
    },
    {
      "cell_type": "code",
      "metadata": {
        "colab": {
          "base_uri": "https://localhost:8080/"
        },
        "id": "_smFeCExX-Bu",
        "outputId": "662c5f46-42c1-4d0c-a145-27541754b76c"
      },
      "source": [
        "x = 12%4\n",
        "print(x)"
      ],
      "execution_count": null,
      "outputs": [
        {
          "output_type": "stream",
          "name": "stdout",
          "text": [
            "0\n"
          ]
        }
      ]
    },
    {
      "cell_type": "code",
      "metadata": {
        "id": "VS0-dsaC4_ig"
      },
      "source": [
        "import numpy as np # linear algebra\n",
        "import pandas as pd # data processing, CSV file I/O (e.g. pd.read_csv)\n",
        "import seaborn as sns\n",
        "import matplotlib.pyplot as plt\n",
        "from sklearn.model_selection import train_test_split #to split the dataset for training and testing\n",
        "from sklearn import metrics\n",
        "import unicodedata\n",
        "import io"
      ],
      "execution_count": null,
      "outputs": []
    },
    {
      "cell_type": "code",
      "metadata": {
        "colab": {
          "base_uri": "https://localhost:8080/"
        },
        "id": "jPSk5BuK5CZn",
        "outputId": "1daa815a-13d6-4995-946f-29e77182eb12"
      },
      "source": [
        "!git clone https://github.com/AllanHigorLP/Atividade_avaliativa-2.1-RNA/"
      ],
      "execution_count": null,
      "outputs": [
        {
          "output_type": "stream",
          "name": "stdout",
          "text": [
            "fatal: destination path 'Atividade_avaliativa-2.1-RNA' already exists and is not an empty directory.\n"
          ]
        }
      ]
    },
    {
      "cell_type": "code",
      "metadata": {
        "id": "nvM7Ej0Kgu9V",
        "colab": {
          "base_uri": "https://localhost:8080/"
        },
        "outputId": "474715f7-25f6-4d81-e3b4-13ad5e27e71f"
      },
      "source": [
        "df = np.fromfile('/content/Atividade_avaliativa-2.1-RNA/data/dataAll.txt')\n",
        "print(df)"
      ],
      "execution_count": null,
      "outputs": [
        {
          "output_type": "stream",
          "name": "stdout",
          "text": [
            "[-363.7884  244.1423    0.     ... -140.147   734.0983    0.    ]\n"
          ]
        }
      ]
    },
    {
      "cell_type": "code",
      "metadata": {
        "colab": {
          "base_uri": "https://localhost:8080/"
        },
        "id": "litm7nbaZH5V",
        "outputId": "621ec9dc-ea55-4ab0-a3dd-654001870655"
      },
      "source": [
        "df.shape\n"
      ],
      "execution_count": null,
      "outputs": [
        {
          "output_type": "execute_result",
          "data": {
            "text/plain": [
              "(3000,)"
            ]
          },
          "metadata": {},
          "execution_count": 39
        }
      ]
    },
    {
      "cell_type": "code",
      "metadata": {
        "colab": {
          "base_uri": "https://localhost:8080/"
        },
        "id": "uK5yeXqw5Vmo",
        "outputId": "d4fef53b-6291-4a73-ed4d-07e8f1f7aa00"
      },
      "source": [
        "df = df.reshape(1000, 3)\n",
        "print(df)"
      ],
      "execution_count": null,
      "outputs": [
        {
          "output_type": "stream",
          "name": "stdout",
          "text": [
            "[[-363.7884  244.1423    0.    ]\n",
            " [ 328.7572 -256.7658    1.    ]\n",
            " [-164.9827  613.2164    0.    ]\n",
            " ...\n",
            " [ 872.4311  669.1192    1.    ]\n",
            " [ 822.6894 -702.6489    1.    ]\n",
            " [-140.147   734.0983    0.    ]]\n"
          ]
        }
      ]
    },
    {
      "cell_type": "markdown",
      "metadata": {
        "id": "rtoCl_2U5zpo"
      },
      "source": [
        "# Parte I – Resolvendo um Problema Linearmente Separável"
      ]
    },
    {
      "cell_type": "code",
      "metadata": {
        "id": "b7NhzhEL6p4P"
      },
      "source": [
        "# n (taxa de aprendizado)\n",
        "theta = 0.0\n",
        "n = 0.1\n",
        "bias = 1.0\n",
        "weight_max = 0.5\n",
        "weight_min = -0.5\n"
      ],
      "execution_count": 218,
      "outputs": []
    },
    {
      "cell_type": "code",
      "metadata": {
        "colab": {
          "base_uri": "https://localhost:8080/"
        },
        "id": "h6amj_RypmTp",
        "outputId": "6bbcbc59-21f0-41cc-c4a4-20f73367e471"
      },
      "source": [
        "weight = np.random.uniform(weight_min, weight_max, size=3)\n",
        "weight = np.round(weight,4)\n",
        "print(weight)"
      ],
      "execution_count": 219,
      "outputs": [
        {
          "output_type": "stream",
          "name": "stdout",
          "text": [
            "[ 0.3801  0.086  -0.3416]\n"
          ]
        }
      ]
    },
    {
      "cell_type": "code",
      "metadata": {
        "colab": {
          "base_uri": "https://localhost:8080/"
        },
        "id": "oxZ3QVaYw_E5",
        "outputId": "da35ffd3-dd83-4df9-c3bf-a3b41d73ea81"
      },
      "source": [
        "epoca = 0\n",
        "erros = 1\n",
        "ajustes_total = 0\n",
        "ajustes_epoca = 0\n",
        "\n",
        "def soma_ponderada():\n",
        "    sum_pond = (weight[0]*(-1*bias)) + (weight[1]*example[0]) + (weight[2]*example[1])\n",
        "    return sum_pond \n",
        "\n",
        "def funcao_ativacao():\n",
        "    if u >= theta:\n",
        "        return 1.0\n",
        "    else:\n",
        "        return 0.0\n",
        "\n",
        "def novo_peso(w, fu_ac):\n",
        "    e = example[2] - fu_ac\n",
        "    novo_p = w + (n*e*np.array([(-1*bias), example[0], example[1]]))\n",
        "    novo_p = np.round(novo_p,4)\n",
        "    return novo_p\n",
        "    \n",
        "while (erros != 0):\n",
        "    epoca = epoca + 1\n",
        "    ajustes_epoca = 0\n",
        "    erros = 0\n",
        "    \n",
        "    for example in df:\n",
        "        funct_act = 0.0\n",
        "        u = 0.0\n",
        "        u = soma_ponderada()\n",
        "        funct_act = funcao_ativacao()\n",
        "        \n",
        "        if funct_act != example[2]:\n",
        "            ajustes_epoca = ajustes_epoca + 1\n",
        "            ajustes_total = ajustes_total + 1\n",
        "            erros = 1\n",
        "            weight = novo_peso(weight, funct_act)\n",
        "            print(\"Novo vetor de pesos ajustado\", weight, \"\\n\")\n",
        "            \n",
        "    print(\"Qtd de ajustes do vetor de pesos na época\", epoca, \":\", ajustes_epoca, \"\\n\")\n",
        "    \n",
        "print(\"\\nVetor de pesos final (ajustado): \", weight)\n",
        "print(\"Número total de ajustes do vetor de pesos:\", ajustes_total)\n",
        "print(\"Número total de epocas:\", epoca)"
      ],
      "execution_count": 216,
      "outputs": [
        {
          "output_type": "stream",
          "name": "stdout",
          "text": [
            "Novo vetor de pesos ajustado [ -0.1857  35.9854 -24.1596] \n",
            "\n",
            "Novo vetor de pesos ajustado [  -0.0857  -17.6737 -100.6554] \n",
            "\n",
            "Novo vetor de pesos ajustado [ -0.1857  55.1223 -64.8258] \n",
            "\n",
            "Novo vetor de pesos ajustado [ -0.2857 137.721   15.03  ] \n",
            "\n",
            "Novo vetor de pesos ajustado [ -0.1857 143.5668 -63.2646] \n",
            "\n",
            "Novo vetor de pesos ajustado [  -0.0857  103.5579 -141.1573] \n",
            "\n",
            "Novo vetor de pesos ajustado [  0.0143 157.2277 -92.065 ] \n",
            "\n",
            "Novo vetor de pesos ajustado [  -0.0857  104.2676 -148.9345] \n",
            "\n",
            "Novo vetor de pesos ajustado [  0.0143 163.8271 -98.8122] \n",
            "\n",
            "Novo vetor de pesos ajustado [  -0.0857  118.3025 -164.4481] \n",
            "\n",
            "Novo vetor de pesos ajustado [  0.0143 209.0184 -89.7348] \n",
            "\n",
            "Novo vetor de pesos ajustado [  -0.0857  151.2374 -150.043 ] \n",
            "\n",
            "Novo vetor de pesos ajustado [  -0.1857  102.9708 -198.5127] \n",
            "\n",
            "Novo vetor de pesos ajustado [  -0.2857  173.4182 -156.3964] \n",
            "\n",
            "Novo vetor de pesos ajustado [  -0.3857  126.5762 -207.8063] \n",
            "\n",
            "Novo vetor de pesos ajustado [  -0.4857  196.4398 -143.5874] \n",
            "\n",
            "Novo vetor de pesos ajustado [  -0.3857  140.6041 -199.7649] \n",
            "\n",
            "Novo vetor de pesos ajustado [  -0.4857  217.5916 -134.9156] \n",
            "\n",
            "Novo vetor de pesos ajustado [  -0.5857  181.3216 -178.1436] \n",
            "\n",
            "Novo vetor de pesos ajustado [  -0.4857  163.0825 -196.4772] \n",
            "\n",
            "Novo vetor de pesos ajustado [  -0.5857  238.5049 -130.4221] \n",
            "\n",
            "Novo vetor de pesos ajustado [  -0.6857  174.1458 -212.8445] \n",
            "\n",
            "Novo vetor de pesos ajustado [  -0.5857  265.454  -129.5737] \n",
            "\n",
            "Novo vetor de pesos ajustado [  -0.6857  218.4092 -217.4776] \n",
            "\n",
            "Qtd de ajustes do vetor de pesos na época 1 : 24 \n",
            "\n",
            "Novo vetor de pesos ajustado [  -0.7857  170.1426 -265.9473] \n",
            "\n",
            "Novo vetor de pesos ajustado [  -0.8857  240.0062 -201.7284] \n",
            "\n",
            "Novo vetor de pesos ajustado [  -0.7857  184.1705 -257.9059] \n",
            "\n",
            "Novo vetor de pesos ajustado [  -0.8857  261.158  -193.0566] \n",
            "\n",
            "Novo vetor de pesos ajustado [  -0.9857  224.888  -236.2846] \n",
            "\n",
            "Novo vetor de pesos ajustado [  -1.0857  307.7799 -153.5031] \n",
            "\n",
            "Novo vetor de pesos ajustado [  -1.1857  261.6325 -210.1525] \n",
            "\n",
            "Novo vetor de pesos ajustado [  -1.0857  235.0069 -242.6749] \n",
            "\n",
            "Novo vetor de pesos ajustado [  -1.1857  282.0313 -196.1207] \n",
            "\n",
            "Novo vetor de pesos ajustado [  -1.2857  252.1472 -229.23  ] \n",
            "\n",
            "Novo vetor de pesos ajustado [  -1.1857  233.9081 -247.5636] \n",
            "\n",
            "Novo vetor de pesos ajustado [  -1.0857  265.215  -216.9353] \n",
            "\n",
            "Novo vetor de pesos ajustado [  -0.9857  189.6611 -294.2583] \n",
            "\n",
            "Novo vetor de pesos ajustado [  -0.8857  258.637  -229.4674] \n",
            "\n",
            "Novo vetor de pesos ajustado [  -0.7857  162.8254 -327.3491] \n",
            "\n",
            "Novo vetor de pesos ajustado [  -0.8857  243.9991 -276.0012] \n",
            "\n",
            "Novo vetor de pesos ajustado [  -0.7857  343.4669 -184.1116] \n",
            "\n",
            "Novo vetor de pesos ajustado [  -0.8857  284.762  -276.4488] \n",
            "\n",
            "Novo vetor de pesos ajustado [  -0.7857  240.9039 -320.9878] \n",
            "\n",
            "Novo vetor de pesos ajustado [  -0.8857  328.147  -254.0759] \n",
            "\n",
            "Qtd de ajustes do vetor de pesos na época 2 : 20 \n",
            "\n",
            "Novo vetor de pesos ajustado [  -0.7857  296.724  -288.4596] \n",
            "\n",
            "Novo vetor de pesos ajustado [  -0.8857  246.8142 -339.72  ] \n",
            "\n",
            "Novo vetor de pesos ajustado [  -0.9857  274.2778 -318.8636] \n",
            "\n",
            "Novo vetor de pesos ajustado [  -0.8857  323.7386 -269.9696] \n",
            "\n",
            "Novo vetor de pesos ajustado [  -0.7857  295.5311 -303.5537] \n",
            "\n",
            "Novo vetor de pesos ajustado [  -0.6857  382.6659 -216.8639] \n",
            "\n",
            "Novo vetor de pesos ajustado [  -0.5857  330.7506 -273.0649] \n",
            "\n",
            "Novo vetor de pesos ajustado [  -0.4857  265.8646 -347.681 ] \n",
            "\n",
            "Novo vetor de pesos ajustado [  -0.5857  355.5734 -268.6723] \n",
            "\n",
            "Novo vetor de pesos ajustado [  -0.6857  278.1104 -366.66  ] \n",
            "\n",
            "Novo vetor de pesos ajustado [  -0.7857  323.0157 -323.2561] \n",
            "\n",
            "Qtd de ajustes do vetor de pesos na época 3 : 11 \n",
            "\n",
            "Qtd de ajustes do vetor de pesos na época 4 : 0 \n",
            "\n",
            "\n",
            "Vetor de pesos final (ajustado):  [  -0.7857  323.0157 -323.2561]\n",
            "Número total de ajustes do vetor de pesos: 55\n",
            "Número total de epocas: 4\n"
          ]
        }
      ]
    },
    {
      "cell_type": "code",
      "metadata": {
        "colab": {
          "base_uri": "https://localhost:8080/",
          "height": 820
        },
        "id": "IcGFP211xPcz",
        "outputId": "c91c05c5-b187-448c-8b26-84c31dd4d80d"
      },
      "source": [
        "plt.figure(figsize=(15,10))\n",
        "\n",
        "x_classe0 = []\n",
        "y_classe0 = []\n",
        "x_classe1 = []\n",
        "y_classe1 = []\n",
        "\n",
        "classe0 = []\n",
        "\n",
        "for example in df:\n",
        "    if example[2] == 0.0:\n",
        "        x_classe0.append(example[0])\n",
        "        y_classe0.append(example[1])\n",
        "    if example[2] == 1.0:\n",
        "        x_classe1.append(example[0])\n",
        "        y_classe1.append(example[1])\n",
        "        \n",
        "plt.scatter(x_classe0, y_classe0, color='r', label='0')\n",
        "plt.scatter(x_classe1, y_classe1, color='b', label='1')\n",
        "\n",
        "plt.legend()\n",
        "plt.xlabel(\"x1\")\n",
        "plt.ylabel(\"x2\")\n",
        "\n",
        "slp = -(weight[0]/weight[2]) / (weight[0]/weight[1])\n",
        "end = (weight[0]/weight[2])\n",
        "plt.axline((0, end), slope=slp, color=\"black\")\n",
        "\n",
        "plt.show()"
      ],
      "execution_count": 280,
      "outputs": [
        {
          "output_type": "error",
          "ename": "AttributeError",
          "evalue": "ignored",
          "traceback": [
            "\u001b[0;31m---------------------------------------------------------------------------\u001b[0m",
            "\u001b[0;31mAttributeError\u001b[0m                            Traceback (most recent call last)",
            "\u001b[0;32m<ipython-input-280-ae1c5efe6c34>\u001b[0m in \u001b[0;36m<module>\u001b[0;34m()\u001b[0m\n\u001b[1;32m     25\u001b[0m \u001b[0mslp\u001b[0m \u001b[0;34m=\u001b[0m \u001b[0;34m-\u001b[0m\u001b[0;34m(\u001b[0m\u001b[0mweight\u001b[0m\u001b[0;34m[\u001b[0m\u001b[0;36m0\u001b[0m\u001b[0;34m]\u001b[0m\u001b[0;34m/\u001b[0m\u001b[0mweight\u001b[0m\u001b[0;34m[\u001b[0m\u001b[0;36m2\u001b[0m\u001b[0;34m]\u001b[0m\u001b[0;34m)\u001b[0m \u001b[0;34m/\u001b[0m \u001b[0;34m(\u001b[0m\u001b[0mweight\u001b[0m\u001b[0;34m[\u001b[0m\u001b[0;36m0\u001b[0m\u001b[0;34m]\u001b[0m\u001b[0;34m/\u001b[0m\u001b[0mweight\u001b[0m\u001b[0;34m[\u001b[0m\u001b[0;36m1\u001b[0m\u001b[0;34m]\u001b[0m\u001b[0;34m)\u001b[0m\u001b[0;34m\u001b[0m\u001b[0;34m\u001b[0m\u001b[0m\n\u001b[1;32m     26\u001b[0m \u001b[0mend\u001b[0m \u001b[0;34m=\u001b[0m \u001b[0;34m(\u001b[0m\u001b[0mweight\u001b[0m\u001b[0;34m[\u001b[0m\u001b[0;36m0\u001b[0m\u001b[0;34m]\u001b[0m\u001b[0;34m/\u001b[0m\u001b[0mweight\u001b[0m\u001b[0;34m[\u001b[0m\u001b[0;36m2\u001b[0m\u001b[0;34m]\u001b[0m\u001b[0;34m)\u001b[0m\u001b[0;34m\u001b[0m\u001b[0;34m\u001b[0m\u001b[0m\n\u001b[0;32m---> 27\u001b[0;31m \u001b[0mplt\u001b[0m\u001b[0;34m.\u001b[0m\u001b[0maxline\u001b[0m\u001b[0;34m(\u001b[0m\u001b[0;34m(\u001b[0m\u001b[0;36m0\u001b[0m\u001b[0;34m,\u001b[0m \u001b[0mend\u001b[0m\u001b[0;34m)\u001b[0m\u001b[0;34m,\u001b[0m \u001b[0mslope\u001b[0m\u001b[0;34m=\u001b[0m\u001b[0mslp\u001b[0m\u001b[0;34m,\u001b[0m \u001b[0mcolor\u001b[0m\u001b[0;34m=\u001b[0m\u001b[0;34m\"black\"\u001b[0m\u001b[0;34m)\u001b[0m\u001b[0;34m\u001b[0m\u001b[0;34m\u001b[0m\u001b[0m\n\u001b[0m\u001b[1;32m     28\u001b[0m \u001b[0;34m\u001b[0m\u001b[0m\n\u001b[1;32m     29\u001b[0m \u001b[0mplt\u001b[0m\u001b[0;34m.\u001b[0m\u001b[0mshow\u001b[0m\u001b[0;34m(\u001b[0m\u001b[0;34m)\u001b[0m\u001b[0;34m\u001b[0m\u001b[0;34m\u001b[0m\u001b[0m\n",
            "\u001b[0;31mAttributeError\u001b[0m: module 'matplotlib.pyplot' has no attribute 'axline'"
          ]
        },
        {
          "output_type": "display_data",
          "data": {
            "image/png": "[encoded data removed]",
            "text/plain": [
              "<Figure size 1080x720 with 1 Axes>"
            ]
          },
          "metadata": {
            "needs_background": "light"
          }
        }
      ]
    }
  ]
}
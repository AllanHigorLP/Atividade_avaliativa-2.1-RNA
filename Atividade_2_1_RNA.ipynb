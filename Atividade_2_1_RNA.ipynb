{
  "nbformat": 4,
  "nbformat_minor": 0,
  "metadata": {
    "colab": {
      "name": "Atividade_2_1_RNA.ipynb",
      "provenance": [],
      "authorship_tag": "ABX9TyOK0rrl6Z97dVNDA78NBkuN",
      "include_colab_link": true
    },
    "kernelspec": {
      "name": "python3",
      "display_name": "Python 3"
    },
    "language_info": {
      "name": "python"
    }
  },
  "cells": [
    {
      "cell_type": "markdown",
      "metadata": {
        "id": "view-in-github",
        "colab_type": "text"
      },
      "source": [
        "<a href=\"https://colab.research.google.com/github/AllanHigorLP/Atividade_avaliativa-2.1-RNA/blob/main/Atividade_2_1_RNA.ipynb\" target=\"_parent\"><img src=\"https://colab.research.google.com/assets/colab-badge.svg\" alt=\"Open In Colab\"/></a>"
      ]
    },
    {
      "cell_type": "markdown",
      "metadata": {
        "id": "sOINEKc-Z3W-"
      },
      "source": [
        "# Detalhamento da Atividade"
      ]
    },
    {
      "cell_type": "code",
      "metadata": {
        "colab": {
          "base_uri": "https://localhost:8080/"
        },
        "id": "_smFeCExX-Bu",
        "outputId": "c2e9edc7-2381-40d2-e747-0d1d6cd3adcd"
      },
      "source": [
        "x = 12%4\n",
        "print(x)"
      ],
      "execution_count": null,
      "outputs": [
        {
          "output_type": "stream",
          "name": "stdout",
          "text": [
            "0\n"
          ]
        }
      ]
    },
    {
      "cell_type": "code",
      "metadata": {
        "colab": {
          "base_uri": "https://localhost:8080/"
        },
        "id": "qkblLVCXh_YG",
        "outputId": "a5990873-be03-4472-9ec5-f0a52840d0cc"
      },
      "source": [
        "from google.colab import drive\n",
        "drive.mount('/content/drive')"
      ],
      "execution_count": null,
      "outputs": [
        {
          "output_type": "stream",
          "name": "stdout",
          "text": [
            "Mounted at /content/drive\n"
          ]
        }
      ]
    },
    {
      "cell_type": "code",
      "metadata": {
        "id": "VS0-dsaC4_ig"
      },
      "source": [
        "import numpy as np # linear algebra\n",
        "import pandas as pd # data processing, CSV file I/O (e.g. pd.read_csv)\n",
        "import seaborn as sns\n",
        "import matplotlib.pyplot as plt\n",
        "from sklearn.model_selection import train_test_split #to split the dataset for training and testing\n",
        "from sklearn import metrics\n",
        "import unicodedata"
      ],
      "execution_count": 97,
      "outputs": []
    },
    {
      "cell_type": "code",
      "metadata": {
        "colab": {
          "base_uri": "https://localhost:8080/"
        },
        "id": "jPSk5BuK5CZn",
        "outputId": "4943fd97-1b06-42b6-f41f-28dd094b566d"
      },
      "source": [
        "df = np.fromfile('/content/drive/My Drive/Colab Notebooks/dataAll.txt')\n",
        "print(df)"
      ],
      "execution_count": null,
      "outputs": [
        {
          "output_type": "stream",
          "name": "stdout",
          "text": [
            "[-363.7884  244.1423    0.     ... -140.147   734.0983    0.    ]\n"
          ]
        }
      ]
    },
    {
      "cell_type": "code",
      "metadata": {
        "colab": {
          "base_uri": "https://localhost:8080/"
        },
        "id": "litm7nbaZH5V",
        "outputId": "b89a30d5-bae0-4e5f-d996-597bdfbdcca4"
      },
      "source": [
        "df.shape\n"
      ],
      "execution_count": null,
      "outputs": [
        {
          "output_type": "execute_result",
          "data": {
            "text/plain": [
              "(3000,)"
            ]
          },
          "metadata": {},
          "execution_count": 9
        }
      ]
    },
    {
      "cell_type": "code",
      "metadata": {
        "colab": {
          "base_uri": "https://localhost:8080/"
        },
        "id": "uK5yeXqw5Vmo",
        "outputId": "a23cde82-e7ac-49e1-c5c7-c134ea5fbd68"
      },
      "source": [
        "df = df.reshape(1000, 3)\n",
        "print(df)"
      ],
      "execution_count": null,
      "outputs": [
        {
          "output_type": "stream",
          "name": "stdout",
          "text": [
            "[[-363.7884  244.1423    0.    ]\n",
            " [ 328.7572 -256.7658    1.    ]\n",
            " [-164.9827  613.2164    0.    ]\n",
            " ...\n",
            " [ 872.4311  669.1192    1.    ]\n",
            " [ 822.6894 -702.6489    1.    ]\n",
            " [-140.147   734.0983    0.    ]]\n"
          ]
        }
      ]
    },
    {
      "cell_type": "markdown",
      "metadata": {
        "id": "rtoCl_2U5zpo"
      },
      "source": [
        "# Parte I – Resolvendo um Problema Linearmente Separável"
      ]
    },
    {
      "cell_type": "code",
      "metadata": {
        "id": "sX8HZQVA6AaP"
      },
      "source": [
        "# n (taxa de aprendizado)\n",
        "theta = 0.0\n",
        "n = 0.1\n",
        "bias = -1.0"
      ],
      "execution_count": 91,
      "outputs": []
    },
    {
      "cell_type": "code",
      "metadata": {
        "id": "b7NhzhEL6p4P",
        "colab": {
          "base_uri": "https://localhost:8080/"
        },
        "outputId": "23c83edb-5b79-4ed1-851e-0b5bc90dbec2"
      },
      "source": [
        "max = 0.5\n",
        "min = -0.5\n",
        "weight = np.random.uniform(min, max, size=3)\n",
        "print(np.round(weight,4))"
      ],
      "execution_count": 92,
      "outputs": [
        {
          "output_type": "stream",
          "name": "stdout",
          "text": [
            "[-0.0737 -0.2445 -0.355 ]\n"
          ]
        }
      ]
    },
    {
      "cell_type": "code",
      "metadata": {
        "id": "oxZ3QVaYw_E5",
        "outputId": "4f51c63d-0833-4cd4-a861-378838b99769",
        "colab": {
          "base_uri": "https://localhost:8080/"
        }
      },
      "source": [
        "epochs = 0\n",
        "u = 0\n",
        "adjust_total = 0\n",
        "erros_in_epoch = 1000\n",
        "\n",
        "while (erros_in_epoch != 0):\n",
        "    epochs += 1\n",
        "    adjust_in_epoch = 0\n",
        "    erros_in_epoch = 0\n",
        "    \n",
        "    for example in df:\n",
        "        fu = 0.0\n",
        "        u = weight[0]*bias + weight[1]*example[0] + weight[2]*example[1]\n",
        "        if u >= theta:\n",
        "            fu = 1.0\n",
        "        else:\n",
        "            fu = 0.0\n",
        "        u = 0.0\n",
        "        \n",
        "        if fu != example[2]:\n",
        "            adjust_in_epoch += 1\n",
        "            adjust_total += 1\n",
        "            erros_in_epoch += 1\n",
        "            weight = weight + n*(example[2] - fu)*np.array([bias, example[0], example[1]])\n",
        "            weight = np.round(weight, 4)\n",
        "            print(\"Vetor de pesos ajustado, novo vetor de pesos\")\n",
        "            np.set_printoptions(precision=4, suppress=True)\n",
        "            print(weight)\n",
        "            print(\"\")\n",
        "            \n",
        "    print(\"Número de ajustes do vetor de pesos na época\", epochs, \":\", adjust_in_epoch)\n",
        "    print(\"\")\n",
        "    \n",
        "print(\"Número total de ajustes do vetor de pesos:\", adjust_total)"
      ],
      "execution_count": 93,
      "outputs": [
        {
          "output_type": "stream",
          "name": "stdout",
          "text": [
            "Vetor de pesos ajustado, novo vetor de pesos\n",
            "[  0.0263  36.1343 -24.7692]\n",
            "\n",
            "Vetor de pesos ajustado, novo vetor de pesos\n",
            "[   0.1263  -17.5248 -101.265 ]\n",
            "\n",
            "Vetor de pesos ajustado, novo vetor de pesos\n",
            "[  0.0263  55.2712 -65.4354]\n",
            "\n",
            "Vetor de pesos ajustado, novo vetor de pesos\n",
            "[ -0.0737 137.8699  14.4204]\n",
            "\n",
            "Vetor de pesos ajustado, novo vetor de pesos\n",
            "[  0.0263 143.7157 -63.8742]\n",
            "\n",
            "Vetor de pesos ajustado, novo vetor de pesos\n",
            "[   0.1263  103.7068 -141.7669]\n",
            "\n",
            "Vetor de pesos ajustado, novo vetor de pesos\n",
            "[  0.2263 157.3766 -92.6746]\n",
            "\n",
            "Vetor de pesos ajustado, novo vetor de pesos\n",
            "[   0.1263  104.4165 -149.5441]\n",
            "\n",
            "Vetor de pesos ajustado, novo vetor de pesos\n",
            "[  0.2263 163.976  -99.4218]\n",
            "\n",
            "Vetor de pesos ajustado, novo vetor de pesos\n",
            "[   0.1263  118.4514 -165.0577]\n",
            "\n",
            "Vetor de pesos ajustado, novo vetor de pesos\n",
            "[  0.2263 209.1673 -90.3444]\n",
            "\n",
            "Vetor de pesos ajustado, novo vetor de pesos\n",
            "[   0.1263  151.3863 -150.6526]\n",
            "\n",
            "Vetor de pesos ajustado, novo vetor de pesos\n",
            "[   0.0263  103.1197 -199.1223]\n",
            "\n",
            "Vetor de pesos ajustado, novo vetor de pesos\n",
            "[  -0.0737  173.567  -157.006 ]\n",
            "\n",
            "Vetor de pesos ajustado, novo vetor de pesos\n",
            "[  -0.1737  126.725  -208.4159]\n",
            "\n",
            "Vetor de pesos ajustado, novo vetor de pesos\n",
            "[  -0.2737  196.5886 -144.197 ]\n",
            "\n",
            "Vetor de pesos ajustado, novo vetor de pesos\n",
            "[  -0.1737  140.7529 -200.3745]\n",
            "\n",
            "Vetor de pesos ajustado, novo vetor de pesos\n",
            "[  -0.2737  217.7404 -135.5252]\n",
            "\n",
            "Vetor de pesos ajustado, novo vetor de pesos\n",
            "[  -0.3737  181.4704 -178.7532]\n",
            "\n",
            "Vetor de pesos ajustado, novo vetor de pesos\n",
            "[  -0.2737  163.2313 -197.0868]\n",
            "\n",
            "Vetor de pesos ajustado, novo vetor de pesos\n",
            "[  -0.3737  238.6537 -131.0317]\n",
            "\n",
            "Vetor de pesos ajustado, novo vetor de pesos\n",
            "[  -0.4737  174.2946 -213.4541]\n",
            "\n",
            "Vetor de pesos ajustado, novo vetor de pesos\n",
            "[  -0.3737  265.6028 -130.1833]\n",
            "\n",
            "Vetor de pesos ajustado, novo vetor de pesos\n",
            "[  -0.4737  218.558  -218.0872]\n",
            "\n",
            "Número de ajustes do vetor de pesos na época 1 : 24\n",
            "\n",
            "Número de ajustes do vetor de pesos na época 2 : 0\n",
            "\n",
            "Número total de ajustes do vetor de pesos: 24\n"
          ]
        }
      ]
    },
    {
      "cell_type": "code",
      "metadata": {
        "id": "aWrpazKNxK-F",
        "outputId": "3f13e4b0-2a7a-4000-b6c2-bdf51d127052",
        "colab": {
          "base_uri": "https://localhost:8080/"
        }
      },
      "source": [
        "print(\"Equação da reta solução: x2 = \" + \n",
        "      str(np.round((weight[0]/weight[2]), 4)) + \n",
        "      \" -(\" + \n",
        "      str(np.round((weight[1]/weight[2]), 4)) + \n",
        "      \")*x1\")"
      ],
      "execution_count": 95,
      "outputs": [
        {
          "output_type": "stream",
          "name": "stdout",
          "text": [
            "Equação da reta solução: x2 = 0.0022 -(-1.0022)*x1\n"
          ]
        }
      ]
    },
    {
      "cell_type": "code",
      "metadata": {
        "id": "IcGFP211xPcz",
        "outputId": "568a7f62-4590-4475-c014-f4c3951d5baa",
        "colab": {
          "base_uri": "https://localhost:8080/",
          "height": 480
        }
      },
      "source": [
        "plt.figure(figsize=(13, 7))\n",
        "x_b = []\n",
        "y_b = []\n",
        "x_r = []\n",
        "y_r = []\n",
        "for example in df:\n",
        "    if example[2] == 1.0:\n",
        "        x_b.append(example[0])\n",
        "        y_b.append(example[1])\n",
        "    if example[2] == 0.0:\n",
        "        x_r.append(example[0])\n",
        "        y_r.append(example[1])\n",
        "        \n",
        "size = 10\n",
        "plt.scatter(x_b, y_b, s=size, color='b', marker=\"s\", label='1')\n",
        "plt.scatter(x_r, y_r, s=size, color='r', marker=\"o\", label='0')\n",
        "\n",
        "plt.legend(loc='upper left')\n",
        "plt.xlabel(\"x1\", size='x-large')\n",
        "plt.ylabel(\"x2\", labelpad=-10, size='x-large')\n",
        "\n",
        "slope = -(weight[0]/weight[2]) / (weight[0]/weight[1]) \n",
        "\n",
        "\n",
        "plt.axline(1, (weight[0]/weight[2]), slope, color=\"black\", lw=2)\n",
        "\n",
        "plt.show()"
      ],
      "execution_count": 120,
      "outputs": [
        {
          "output_type": "stream",
          "name": "stdout",
          "text": [
            "1.002158769519715\n",
            "0.0021720669530353\n"
          ]
        },
        {
          "output_type": "display_data",
          "data": {
            "image/png": "[encoded data removed]",
            "text/plain": [
              "<Figure size 936x504 with 1 Axes>"
            ]
          },
          "metadata": {
            "needs_background": "light"
          }
        }
      ]
    }
  ]
}
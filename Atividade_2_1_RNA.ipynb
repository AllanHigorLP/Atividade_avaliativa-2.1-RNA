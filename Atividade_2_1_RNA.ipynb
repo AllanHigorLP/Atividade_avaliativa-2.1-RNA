{
  "nbformat": 4,
  "nbformat_minor": 0,
  "metadata": {
    "colab": {
      "name": "Atividade 2.1 - RNA.ipynb",
      "provenance": [],
      "collapsed_sections": [],
      "include_colab_link": true
    },
    "kernelspec": {
      "display_name": "Python 3",
      "name": "python3"
    },
    "language_info": {
      "name": "python"
    }
  },
  "cells": [
    {
      "cell_type": "markdown",
      "metadata": {
        "id": "view-in-github",
        "colab_type": "text"
      },
      "source": [
        "<a href=\"https://colab.research.google.com/github/AllanHigorLP/Atividade_avaliativa-2.1-RNA/blob/main/Atividade_2_1_RNA.ipynb\" target=\"_parent\"><img src=\"https://colab.research.google.com/assets/colab-badge.svg\" alt=\"Open In Colab\"/></a>"
      ]
    },
    {
      "cell_type": "markdown",
      "metadata": {
        "id": "cJYnVFY5_4G4"
      },
      "source": [
        "**Criando o diretório no Google Drive**"
      ]
    },
    {
      "cell_type": "markdown",
      "metadata": {
        "id": "wEEpwdwNqtr2"
      },
      "source": [
        "# Detalhamento da Atividade"
      ]
    },
    {
      "cell_type": "code",
      "metadata": {
        "colab": {
          "base_uri": "https://localhost:8080/"
        },
        "id": "4mfufQjVqX4B",
        "outputId": "bec35288-119c-4ad5-e0ac-7d7b09c5a803"
      },
      "source": [
        "x = 12%4\n",
        "print(x)"
      ],
      "execution_count": null,
      "outputs": [
        {
          "output_type": "stream",
          "name": "stdout",
          "text": [
            "0\n"
          ]
        }
      ]
    },
    {
      "cell_type": "code",
      "metadata": {
        "id": "eJyZxaKhq03F"
      },
      "source": [
        "import numpy as np # linear algebra\n",
        "import pandas as pd # data processing, CSV file I/O (e.g. pd.read_csv)\n",
        "import seaborn as sns\n",
        "import matplotlib.pyplot as plt\n",
        "from sklearn.model_selection import train_test_split #to split the dataset for training and testing\n",
        "from sklearn import metrics\n",
        "import unicodedata\n",
        "import io"
      ],
      "execution_count": null,
      "outputs": []
    },
    {
      "cell_type": "code",
      "metadata": {
        "colab": {
          "base_uri": "https://localhost:8080/"
        },
        "id": "Ra8KOSdxq5NS",
        "outputId": "0e99db53-146f-4c66-b1c9-4157e343718a"
      },
      "source": [
        "!git clone https://github.com/AllanHigorLP/Atividade_avaliativa-2.1-RNA/"
      ],
      "execution_count": null,
      "outputs": [
        {
          "output_type": "stream",
          "name": "stdout",
          "text": [
            "fatal: destination path 'Atividade_avaliativa-2.1-RNA' already exists and is not an empty directory.\n"
          ]
        }
      ]
    },
    {
      "cell_type": "code",
      "metadata": {
        "colab": {
          "base_uri": "https://localhost:8080/"
        },
        "id": "9tCwbqKnq7O7",
        "outputId": "359da080-958b-45e1-81b4-d33e0002baf8"
      },
      "source": [
        "df = np.fromfile('/content/Atividade_avaliativa-2.1-RNA/data/dataAll.txt')\n",
        "print(df)"
      ],
      "execution_count": null,
      "outputs": [
        {
          "output_type": "stream",
          "name": "stdout",
          "text": [
            "[-363.7884  244.1423    0.     ... -140.147   734.0983    0.    ]\n"
          ]
        }
      ]
    },
    {
      "cell_type": "code",
      "metadata": {
        "colab": {
          "base_uri": "https://localhost:8080/"
        },
        "id": "FNSYMK_Jq9S_",
        "outputId": "b8cc7d61-83a7-482b-af53-50abbf05c622"
      },
      "source": [
        "df.shape"
      ],
      "execution_count": null,
      "outputs": [
        {
          "output_type": "execute_result",
          "data": {
            "text/plain": [
              "(3000,)"
            ]
          },
          "metadata": {},
          "execution_count": 128
        }
      ]
    },
    {
      "cell_type": "code",
      "metadata": {
        "colab": {
          "base_uri": "https://localhost:8080/"
        },
        "id": "Irl3HLzKq_D1",
        "outputId": "f4b59288-741f-40c5-f49e-63db1cce6340"
      },
      "source": [
        "df = df.reshape(1000, 3)\n",
        "print(df)"
      ],
      "execution_count": null,
      "outputs": [
        {
          "output_type": "stream",
          "name": "stdout",
          "text": [
            "[[-363.7884  244.1423    0.    ]\n",
            " [ 328.7572 -256.7658    1.    ]\n",
            " [-164.9827  613.2164    0.    ]\n",
            " ...\n",
            " [ 872.4311  669.1192    1.    ]\n",
            " [ 822.6894 -702.6489    1.    ]\n",
            " [-140.147   734.0983    0.    ]]\n"
          ]
        }
      ]
    },
    {
      "cell_type": "markdown",
      "metadata": {
        "id": "rfy4N9KFrCvJ"
      },
      "source": [
        "# Parte I – Resolvendo um Problema Linearmente Separável"
      ]
    },
    {
      "cell_type": "code",
      "metadata": {
        "id": "FMcMhr4nrFle"
      },
      "source": [
        "# n (taxa de aprendizado)\n",
        "theta = 0.0\n",
        "n = 0.1\n",
        "bias = 1.0\n",
        "weight_max = 0.5\n",
        "weight_min = -0.5\n"
      ],
      "execution_count": null,
      "outputs": []
    },
    {
      "cell_type": "code",
      "metadata": {
        "colab": {
          "base_uri": "https://localhost:8080/"
        },
        "id": "MPI6fSYorHb3",
        "outputId": "c5860df3-0274-48ee-c265-a3b5ed8de3b9"
      },
      "source": [
        "weight = np.random.uniform(weight_min, weight_max, size=3)\n",
        "weight = np.round(weight,4)\n",
        "print(weight)"
      ],
      "execution_count": null,
      "outputs": [
        {
          "output_type": "stream",
          "name": "stdout",
          "text": [
            "[-0.1777 -0.1309  0.0296]\n"
          ]
        }
      ]
    },
    {
      "cell_type": "code",
      "metadata": {
        "colab": {
          "base_uri": "https://localhost:8080/"
        },
        "id": "9QKkCWcirJ0p",
        "outputId": "233ed163-b3c1-4d01-ce89-28a361662e77"
      },
      "source": [
        "epoca = 0\n",
        "erros = 1\n",
        "ajustes_total = 0\n",
        "ajustes_epoca = 0\n",
        "\n",
        "def soma_ponderada():\n",
        "    sum_pond = (weight[0]*(-1*bias)) + (weight[1]*example[0]) + (weight[2]*example[1])\n",
        "    return sum_pond \n",
        "\n",
        "def funcao_ativacao():\n",
        "    if u >= theta:\n",
        "        return 1.0\n",
        "    else:\n",
        "        return 0.0\n",
        "\n",
        "def novo_peso(w, fu_ac):\n",
        "    e = example[2] - fu_ac\n",
        "    novo_p = w + (n*e*np.array([(-1*bias), example[0], example[1]]))\n",
        "    novo_p = np.round(novo_p,4)\n",
        "    return novo_p\n",
        "    \n",
        "while (erros != 0):\n",
        "    epoca = epoca + 1\n",
        "    ajustes_epoca = 0\n",
        "    erros = 0\n",
        "    \n",
        "    for example in df:\n",
        "        funct_act = 0.0\n",
        "        u = 0.0\n",
        "        u = soma_ponderada()\n",
        "        funct_act = funcao_ativacao()\n",
        "        \n",
        "        if funct_act != example[2]:\n",
        "            ajustes_epoca = ajustes_epoca + 1\n",
        "            ajustes_total = ajustes_total + 1\n",
        "            erros = 1\n",
        "            weight = novo_peso(weight, funct_act)\n",
        "            print(\"Novo vetor de pesos ajustado\", weight, \"\\n\")\n",
        "            \n",
        "    print(\"Qtd de ajustes do vetor de pesos na época\", epoca, \":\", ajustes_epoca, \"\\n\")\n",
        "    \n",
        "print(\"\\nVetor de pesos final (ajustado): \", weight)\n",
        "print(\"Número total de ajustes do vetor de pesos:\", ajustes_total)\n",
        "print(\"Número total de epocas:\", epoca)"
      ],
      "execution_count": null,
      "outputs": [
        {
          "output_type": "stream",
          "name": "stdout",
          "text": [
            "Novo vetor de pesos ajustado [ -0.0777  36.2479 -24.3846] \n",
            "\n",
            "Novo vetor de pesos ajustado [   0.0223  -17.4112 -100.8803] \n",
            "\n",
            "Novo vetor de pesos ajustado [ -0.0777  55.3848 -65.0507] \n",
            "\n",
            "Novo vetor de pesos ajustado [ -0.1777 137.9835  14.8051] \n",
            "\n",
            "Novo vetor de pesos ajustado [ -0.0777 143.8293 -63.4895] \n",
            "\n",
            "Novo vetor de pesos ajustado [   0.0223  103.8204 -141.3822] \n",
            "\n",
            "Novo vetor de pesos ajustado [  0.1223 157.4902 -92.2899] \n",
            "\n",
            "Novo vetor de pesos ajustado [   0.0223  104.5301 -149.1594] \n",
            "\n",
            "Novo vetor de pesos ajustado [  0.1223 164.0896 -99.0371] \n",
            "\n",
            "Novo vetor de pesos ajustado [   0.0223  118.565  -164.673 ] \n",
            "\n",
            "Novo vetor de pesos ajustado [  0.1223 209.2809 -89.9597] \n",
            "\n",
            "Novo vetor de pesos ajustado [   0.0223  151.4999 -150.2678] \n",
            "\n",
            "Novo vetor de pesos ajustado [  -0.0777  103.2333 -198.7375] \n",
            "\n",
            "Novo vetor de pesos ajustado [  -0.1777  173.6807 -156.6212] \n",
            "\n",
            "Novo vetor de pesos ajustado [  -0.2777  126.8387 -208.0311] \n",
            "\n",
            "Novo vetor de pesos ajustado [  -0.3777  196.7023 -143.8122] \n",
            "\n",
            "Novo vetor de pesos ajustado [  -0.2777  140.8666 -199.9897] \n",
            "\n",
            "Novo vetor de pesos ajustado [  -0.3777  217.8541 -135.1404] \n",
            "\n",
            "Novo vetor de pesos ajustado [  -0.4777  181.5841 -178.3684] \n",
            "\n",
            "Novo vetor de pesos ajustado [  -0.3777  163.345  -196.702 ] \n",
            "\n",
            "Novo vetor de pesos ajustado [  -0.4777  238.7674 -130.6469] \n",
            "\n",
            "Novo vetor de pesos ajustado [  -0.5777  174.4083 -213.0693] \n",
            "\n",
            "Novo vetor de pesos ajustado [  -0.4777  265.7165 -129.7985] \n",
            "\n",
            "Novo vetor de pesos ajustado [  -0.5777  218.6717 -217.7024] \n",
            "\n",
            "Qtd de ajustes do vetor de pesos na época 1 : 24 \n",
            "\n",
            "Novo vetor de pesos ajustado [  -0.6777  170.4051 -266.1721] \n",
            "\n",
            "Novo vetor de pesos ajustado [  -0.7777  240.2687 -201.9532] \n",
            "\n",
            "Novo vetor de pesos ajustado [  -0.6777  184.433  -258.1307] \n",
            "\n",
            "Novo vetor de pesos ajustado [  -0.7777  261.4205 -193.2814] \n",
            "\n",
            "Novo vetor de pesos ajustado [  -0.8777  225.1505 -236.5094] \n",
            "\n",
            "Novo vetor de pesos ajustado [  -0.9777  308.0424 -153.7279] \n",
            "\n",
            "Novo vetor de pesos ajustado [  -1.0777  261.895  -210.3773] \n",
            "\n",
            "Novo vetor de pesos ajustado [  -0.9777  235.2694 -242.8997] \n",
            "\n",
            "Novo vetor de pesos ajustado [  -1.0777  282.2938 -196.3455] \n",
            "\n",
            "Novo vetor de pesos ajustado [  -1.1777  252.4097 -229.4548] \n",
            "\n",
            "Novo vetor de pesos ajustado [  -1.0777  234.1706 -247.7884] \n",
            "\n",
            "Novo vetor de pesos ajustado [  -0.9777  265.4775 -217.1601] \n",
            "\n",
            "Novo vetor de pesos ajustado [  -0.8777  189.9236 -294.483 ] \n",
            "\n",
            "Novo vetor de pesos ajustado [  -0.7777  258.8995 -229.6921] \n",
            "\n",
            "Novo vetor de pesos ajustado [  -0.6777  163.0879 -327.5738] \n",
            "\n",
            "Novo vetor de pesos ajustado [  -0.7777  244.2616 -276.2259] \n",
            "\n",
            "Novo vetor de pesos ajustado [  -0.6777  343.7294 -184.3363] \n",
            "\n",
            "Novo vetor de pesos ajustado [  -0.7777  285.0245 -276.6736] \n",
            "\n",
            "Novo vetor de pesos ajustado [  -0.6777  241.1664 -321.2126] \n",
            "\n",
            "Novo vetor de pesos ajustado [  -0.7777  328.4095 -254.3007] \n",
            "\n",
            "Qtd de ajustes do vetor de pesos na época 2 : 20 \n",
            "\n",
            "Novo vetor de pesos ajustado [  -0.6777  296.9865 -288.6845] \n",
            "\n",
            "Novo vetor de pesos ajustado [  -0.7777  247.0767 -339.9449] \n",
            "\n",
            "Novo vetor de pesos ajustado [  -0.8777  274.5403 -319.0886] \n",
            "\n",
            "Novo vetor de pesos ajustado [  -0.7777  324.0011 -270.1946] \n",
            "\n",
            "Novo vetor de pesos ajustado [  -0.6777  295.7936 -303.7787] \n",
            "\n",
            "Novo vetor de pesos ajustado [  -0.5777  382.9284 -217.0889] \n",
            "\n",
            "Novo vetor de pesos ajustado [  -0.4777  331.0131 -273.2899] \n",
            "\n",
            "Novo vetor de pesos ajustado [  -0.3777  266.1271 -347.906 ] \n",
            "\n",
            "Novo vetor de pesos ajustado [  -0.4777  355.8359 -268.8973] \n",
            "\n",
            "Novo vetor de pesos ajustado [  -0.5777  278.3729 -366.885 ] \n",
            "\n",
            "Novo vetor de pesos ajustado [  -0.6777  323.2782 -323.4811] \n",
            "\n",
            "Qtd de ajustes do vetor de pesos na época 3 : 11 \n",
            "\n",
            "Qtd de ajustes do vetor de pesos na época 4 : 0 \n",
            "\n",
            "\n",
            "Vetor de pesos final (ajustado):  [  -0.6777  323.2782 -323.4811]\n",
            "Número total de ajustes do vetor de pesos: 55\n",
            "Número total de epocas: 4\n"
          ]
        }
      ]
    },
    {
      "cell_type": "code",
      "metadata": {
        "colab": {
          "base_uri": "https://localhost:8080/",
          "height": 606
        },
        "id": "CdZoAqlorNWC",
        "outputId": "b7caef74-c00d-42f8-b9f4-495205eaf749"
      },
      "source": [
        "plt.figure(figsize=(15,10))\n",
        "\n",
        "x_classe0 = []\n",
        "y_classe0 = []\n",
        "x_classe1 = []\n",
        "y_classe1 = []\n",
        "\n",
        "classe0 = []\n",
        "\n",
        "for example in df:\n",
        "    if example[2] == 0.0:\n",
        "        x_classe0.append(example[0])\n",
        "        y_classe0.append(example[1])\n",
        "    if example[2] == 1.0:\n",
        "        x_classe1.append(example[0])\n",
        "        y_classe1.append(example[1])\n",
        "        \n",
        "plt.scatter(x_classe0, y_classe0, color='r', label='0')\n",
        "plt.scatter(x_classe1, y_classe1, color='b', label='1')\n",
        "\n",
        "plt.legend()\n",
        "plt.xlabel(\"x1\")\n",
        "plt.ylabel(\"x2\")\n",
        "\n",
        "slp = -(weight[0]/weight[2]) / (weight[0]/weight[1])\n",
        "end = (weight[0]/weight[2])\n",
        "abline_values = [slp * i + end for i in x_classe0]\n",
        "plt.plot(x_classe0, abline_values, 'b',color=\"black\")\n",
        "\n",
        "plt.show()"
      ],
      "execution_count": null,
      "outputs": [
        {
          "output_type": "display_data",
          "data": {
            "image/png": "[encoded data removed]",
            "text/plain": [
              "<Figure size 1080x720 with 1 Axes>"
            ]
          },
          "metadata": {
            "needs_background": "light"
          }
        }
      ]
    },
    {
      "cell_type": "markdown",
      "metadata": {
        "id": "fWslZhJIw6LX"
      },
      "source": [
        "#Parte II – Executando\n"
      ]
    },
    {
      "cell_type": "code",
      "metadata": {
        "colab": {
          "base_uri": "https://localhost:8080/"
        },
        "id": "rtgb4yIkxE_I",
        "outputId": "60e3423b-fab8-4e25-e70b-08100ae5a250"
      },
      "source": [
        "df0 = np.fromfile('/content/Atividade_avaliativa-2.1-RNA/data/data0.txt')\n",
        "print(df0)"
      ],
      "execution_count": null,
      "outputs": [
        {
          "output_type": "stream",
          "name": "stdout",
          "text": [
            "[-0.0015 -0.0358  0.     ...  1.0202  0.8653  1.    ]\n"
          ]
        }
      ]
    },
    {
      "cell_type": "code",
      "metadata": {
        "colab": {
          "base_uri": "https://localhost:8080/"
        },
        "id": "6jtgEeuHxX3e",
        "outputId": "c437ca3f-0e75-40c7-89a5-cf33fcbc5e19"
      },
      "source": [
        "df0.shape"
      ],
      "execution_count": null,
      "outputs": [
        {
          "output_type": "execute_result",
          "data": {
            "text/plain": [
              "(1800,)"
            ]
          },
          "metadata": {},
          "execution_count": 135
        }
      ]
    },
    {
      "cell_type": "code",
      "metadata": {
        "colab": {
          "base_uri": "https://localhost:8080/"
        },
        "id": "Dz2ftxpLxdex",
        "outputId": "b7b5cdf8-4675-4c2d-9586-bae3b14309cf"
      },
      "source": [
        "df0 = df0.reshape(600, 3)\n",
        "print(df0)"
      ],
      "execution_count": null,
      "outputs": [
        {
          "output_type": "stream",
          "name": "stdout",
          "text": [
            "[[-0.0015 -0.0358  0.    ]\n",
            " [ 0.0123  0.1025  0.    ]\n",
            " [ 0.1395  0.0561  0.    ]\n",
            " ...\n",
            " [ 0.9575  1.0035  1.    ]\n",
            " [ 0.9798  1.0095  1.    ]\n",
            " [ 1.0202  0.8653  1.    ]]\n"
          ]
        }
      ]
    },
    {
      "cell_type": "code",
      "metadata": {
        "id": "Ojorr-D8x_oR"
      },
      "source": [
        "import numpy as np\n",
        "\n",
        "class Perceptron(object):\n",
        "    \n",
        "   def __init__(self, no_of_inputs, epoch=100, \n",
        "                    learning_rate=np.random.uniform(0.1, 0.4, 1), \n",
        "                    baias=-1, \n",
        "                    random_train_set=False, \n",
        "                    show_training=False,\n",
        "                    weights=(-5.0, 0.5),\n",
        "                    use_epoch=False):\n",
        "        self.epoch = epoch\n",
        "        self.learning_rate= learning_rate\n",
        "        self.weights = np.random.uniform(weights[0], \n",
        "                                            weights[1], \n",
        "                                            no_of_inputs + 1)\n",
        "        self.baias = baias\n",
        "        self.random_train_set = random_train_set\n",
        "        self.show_training = show_training\n",
        "        self.use_epoch = use_epoch\n",
        "    \n",
        "   def __add_baias(self, inputs):\n",
        "        new_inputs = []\n",
        "        for row in inputs:\n",
        "            new_row = np.insert(row, 0, self.baias)\n",
        "            new_inputs.append(new_row)\n",
        "        return np.array(new_inputs)\n",
        "\n",
        "   def __weight_adjust(self, x_train, y_predicto, y_real):\n",
        "        erro = y_predicto - y_real\n",
        "        self.weights -= self.learning_rate * erro * x_train\n",
        "        self.weights = np.round(self.weights, 4)\n",
        "\n",
        "   def __activ_func(self, u): \n",
        "        if u >= 0.0:\n",
        "            return 1.0\n",
        "        else:\n",
        "            return 0.0\n",
        "\n",
        "   def __error(self, y_predicto, y_real):\n",
        "        if y_predicto != y_real:\n",
        "            return True\n",
        "        else:\n",
        "            return False\n",
        "\n",
        "   def __random_sets(self, x_train, y_train):\n",
        "        # Randomizando os dados de treino\n",
        "        index = np.arange(len(x_train))\n",
        "        np.random.shuffle(index)\n",
        "        x_train = x_train[index]\n",
        "        y_train = y_train[index]\n",
        "        return x_train, y_train\n",
        "        #---------------------------------\n",
        "    \n",
        "   def predict(self, x_test):\n",
        "        x_test = self.__add_baias(x_test)\n",
        "        y_predicto = []\n",
        "        for _x_test in x_test:\n",
        "            u = np.sum(np.dot(_x_test, self.weights))\n",
        "            y = self.__activ_func(u)\n",
        "            y_predicto.append(y)\n",
        "        return np.array(y_predicto)\n",
        "\n",
        "   def __show_training(self, epoch, count_adjust):\n",
        "        print(\"\\n\\tÉpoca:\", epoch)\n",
        "        print(\"Pesos:\", self.weights)\n",
        "        print(\"Quantidade de Ajustes:\", count_adjust)\n",
        "\n",
        "   def __learning(self, x_train, y_train, no_erro):\n",
        "        count_adjust = 0\n",
        "        for x, y in zip(x_train, y_train):\n",
        "            u = np.sum(np.dot(x, self.weights))\n",
        "            y_predicto = self.__activ_func(u)\n",
        "            if self.__error(y_predicto, y):\n",
        "                self.__weight_adjust(x, y_predicto, y)\n",
        "                no_erro = False\n",
        "                count_adjust += 1\n",
        "        return no_erro, count_adjust\n",
        "\n",
        "\n",
        "   def __epochs(self, x_train, y_train):\n",
        "        no_erro = False\n",
        "        epoch = 1\n",
        "        total_adjust = 0\n",
        "        while no_erro != True:\n",
        "\n",
        "            if self.use_epoch:\n",
        "                if epoch == self.epoch:\n",
        "                    break\n",
        "                \n",
        "            if self.random_train_set:\n",
        "                x_train, y_train = self.__random_sets(x_train,\n",
        "                                                         y_train)\n",
        "            \n",
        "            no_erro = True\n",
        "            \n",
        "            no_erro, count_adjust = self.__learning(x_train, \n",
        "                                                        y_train,\n",
        "                                                        no_erro)\n",
        "\n",
        "            if self.show_training:\n",
        "                self.__show_training(epoch, count_adjust)\n",
        "\n",
        "            epoch += 1\n",
        "            total_adjust += count_adjust\n",
        "        return epoch, total_adjust\n",
        "\n",
        "\n",
        "   def total_values(self, x_train, y_train):\n",
        "\n",
        "        x_train = self.__add_baias(x_train)\n",
        "        epoch, total_adjust = self.__epochs(x_train, y_train)\n",
        "        return epoch, total_adjust"
      ],
      "execution_count": null,
      "outputs": []
    },
    {
      "cell_type": "code",
      "metadata": {
        "colab": {
          "base_uri": "https://localhost:8080/"
        },
        "id": "Oby4A04A-BPx",
        "outputId": "fa04864d-3b3a-4de1-b44c-f45addc869b1"
      },
      "source": [
        "weight_max_1 = 100\n",
        "weight_min_1 = -100\n",
        "weights_1 = np.random.uniform(weight_min_1, weight_max_1, size=3)\n",
        "weights_1 = np.round(weights_1,4)\n",
        "print(\"Peso 1: \", weights_1)\n",
        "weight_max_2 = 0.5\n",
        "weight_min_2 = -0.5\n",
        "weights_2 = np.random.uniform(weight_min_2, weight_max_2, size=3)\n",
        "weights_2 = np.round(weights_2,4)\n",
        "print(\"Peso 2: \", weights_2)"
      ],
      "execution_count": null,
      "outputs": [
        {
          "output_type": "stream",
          "name": "stdout",
          "text": [
            "Peso 1:  [-85.7257  74.7181   7.298 ]\n",
            "Peso 2:  [ 0.195   0.0773 -0.1529]\n"
          ]
        }
      ]
    },
    {
      "cell_type": "markdown",
      "metadata": {
        "id": "rsr0Jk3Fz3Gy"
      },
      "source": [
        "#Configuração 1\n",
        "Valor da taxa de aprendizado: 0.4<br>\n",
        "Peso: wi ∼ U(-100, +100)"
      ]
    },
    {
      "cell_type": "code",
      "metadata": {
        "id": "pGeh1GRd5o4w"
      },
      "source": [
        "taxa_aprendizado = 0.4"
      ],
      "execution_count": null,
      "outputs": []
    },
    {
      "cell_type": "code",
      "metadata": {
        "colab": {
          "base_uri": "https://localhost:8080/"
        },
        "id": "xKrxLVBJz82L",
        "outputId": "495600c2-6512-4741-d1e4-7d9d710147c9"
      },
      "source": [
        "epocas = []\n",
        "ajustes = []\n",
        "\n",
        "for i in range(1, 11):\n",
        "    perceptron = Perceptron(no_of_inputs=2, learning_rate=taxa_aprendizado, weights=weights_1)\n",
        "    treinamento_x = df0[:,[0,1]]\n",
        "    treinamento_y = df0[:,2]    \n",
        "    qtd_epocas, qtd_ajustes = perceptron.total_values(treinamento_x, treinamento_y)\n",
        "    epocas = np.append(epocas, qtd_epocas)\n",
        "    ajustes = np.append(ajustes, qtd_ajustes) \n",
        "\n",
        "def set_valores_media(var,values):\n",
        "  var = np.mean(values)\n",
        "  var = np.round(var,4)\n",
        "  return var\n",
        "\n",
        "def set_valores_desvio_padrao(var,values):\n",
        "  var = np.std(values)\n",
        "  var = np.round(var,4)\n",
        "  return var\n",
        "\n",
        "epocas_1 = epocas\n",
        "ajustes_1 = ajustes\n",
        "menor_qtde_epocas = int(epocas_1.min())\n",
        "epocas_media_1 = set_valores_media(epocas_media_1,epocas_1)\n",
        "ajustes_media_1 = set_valores_media(ajustes_media_1,ajustes_1)\n",
        "epocas_desvio_padrao_1 = set_valores_desvio_padrao(epocas_desvio_padrao_1, epocas_1)\n",
        "ajustes_desvio_padrao_1 = set_valores_desvio_padrao(ajustes_desvio_padrao_1, ajustes_1)\n",
        "\n",
        "print(\"Menor quantidade de épocas: \", menor_qtde_epocas)\n",
        "print(\"Medias: Epoca = \", epocas_media_1, \" | Ajustes = \", ajustes_media_1, \"\\nDesvios Padrao: Epoca = \", epocas_desvio_padrao_1, \" | Ajustes = \", ajustes_desvio_padrao_1)"
      ],
      "execution_count": null,
      "outputs": [
        {
          "output_type": "stream",
          "name": "stdout",
          "text": [
            "Menor quantidade de épocas:  3\n",
            "Medias: Epoca =  7.7  | Ajustes =  197.6 \n",
            "Desvios Padrao: Epoca =  2.4515  | Ajustes =  89.0721\n"
          ]
        }
      ]
    },
    {
      "cell_type": "code",
      "metadata": {
        "colab": {
          "base_uri": "https://localhost:8080/"
        },
        "id": "SdmsrYvC0oRj",
        "outputId": "d7514cd1-9947-4830-b889-490b1c1af63e"
      },
      "source": [
        "weights = perceptron.weights\n",
        "print(weights)"
      ],
      "execution_count": null,
      "outputs": [
        {
          "output_type": "stream",
          "name": "stdout",
          "text": [
            "[2.3558 1.0208 3.8243]\n"
          ]
        }
      ]
    },
    {
      "cell_type": "markdown",
      "metadata": {
        "id": "LwtDSwbB0yS-"
      },
      "source": [
        "Gráfico do conjunto de dados e a reta que separa as classes"
      ]
    },
    {
      "cell_type": "code",
      "metadata": {
        "colab": {
          "base_uri": "https://localhost:8080/",
          "height": 606
        },
        "id": "T_3k0uTe00Q5",
        "outputId": "39c76305-5cf1-406e-e82f-e2109a966098"
      },
      "source": [
        "plt.figure(figsize=(15,10))\n",
        "\n",
        "x_classe0 = []\n",
        "y_classe0 = []\n",
        "x_classe1 = []\n",
        "y_classe1 = []\n",
        "\n",
        "classe0 = []\n",
        "max = 0\n",
        "min = 0\n",
        "\n",
        "for example in df0:\n",
        "    if example[2] == 0.0:\n",
        "        x_classe0.append(example[0])\n",
        "        y_classe0.append(example[1])\n",
        "    if example[2] == 1.0:\n",
        "        x_classe1.append(example[0])\n",
        "        y_classe1.append(example[1])\n",
        "        \n",
        "plt.scatter(x_classe0, y_classe0, color='r', label='0')\n",
        "plt.scatter(x_classe1, y_classe1, color='b', label='1')\n",
        "\n",
        "plt.legend()\n",
        "plt.xlabel(\"x1\")\n",
        "plt.ylabel(\"x2\")\n",
        "classe_tot =  x_classe0\n",
        "slp = -(weight[0]/weight[2]) / (weight[0]/weight[1])\n",
        "end = (weight[0]/weight[2])\n",
        "\n",
        "min_x = np.max(x_classe0)\n",
        "min_y = np.max(y_classe0)\n",
        "max_x = np.min(x_classe1)\n",
        "max_y = np.min(y_classe1)\n",
        "abline_values = [slp * i + end for i in x_classe0]\n",
        "plt.plot([min_x,max_x], [min_y,max_y], 'b',color=\"black\")\n",
        "\n",
        "plt.show()"
      ],
      "execution_count": null,
      "outputs": [
        {
          "output_type": "display_data",
          "data": {
            "image/png": "[encoded data removed]",
            "text/plain": [
              "<Figure size 1080x720 with 1 Axes>"
            ]
          },
          "metadata": {
            "needs_background": "light"
          }
        }
      ]
    },
    {
      "cell_type": "markdown",
      "metadata": {
        "id": "ZIL6nJs9ppas"
      },
      "source": [
        "#Calculo dos pesos para as configs. 1 e 2\n"
      ]
    },
    {
      "cell_type": "code",
      "metadata": {
        "id": "Jiqrbnsomu10",
        "colab": {
          "base_uri": "https://localhost:8080/"
        },
        "outputId": "e97d97b4-8bfb-433b-bda1-3a824082034d"
      },
      "source": [
        "weight_max_1 = 100\n",
        "weight_min_1 = -100\n",
        "weights_1 = np.random.uniform(weight_min_1, weight_max_1, size=3)\n",
        "weights_1 = np.round(weights_1,4)\n",
        "print(\"Peso 1: \", weights_1)\n",
        "weight_max_2 = 0.5\n",
        "weight_min_2 = -0.5\n",
        "weights_2 = np.random.uniform(weight_min_2, weight_max_2, size=3)\n",
        "weights_2 = np.round(weights_2,4)\n",
        "print(\"Peso 2: \", weights_2)"
      ],
      "execution_count": 140,
      "outputs": [
        {
          "output_type": "stream",
          "name": "stdout",
          "text": [
            "Peso 1:  [ 81.4428 -18.1745  69.7539]\n",
            "Peso 2:  [-0.1683 -0.2335  0.091 ]\n"
          ]
        }
      ]
    },
    {
      "cell_type": "markdown",
      "metadata": {
        "id": "L4IVK8COmySm"
      },
      "source": [
        "#Configuração 1\n",
        "Valor da taxa de aprendizado: 0.4<br>\n",
        "Peso: wi ∼ U(-100, +100)"
      ]
    },
    {
      "cell_type": "code",
      "metadata": {
        "id": "vOESB0g-mySq"
      },
      "source": [
        "taxa_aprendizado = 0.4"
      ],
      "execution_count": 141,
      "outputs": []
    },
    {
      "cell_type": "code",
      "metadata": {
        "colab": {
          "base_uri": "https://localhost:8080/"
        },
        "id": "CmIAQLB1mySr",
        "outputId": "11642d3f-0027-4f61-e122-cff265f4d621"
      },
      "source": [
        "epocas = []\n",
        "ajustes = []\n",
        "\n",
        "for i in range(1, 11):\n",
        "    perceptron = Perceptron(no_of_inputs=2, learning_rate=taxa_aprendizado, weights=weights_1)\n",
        "    treinamento_x = df0[:,[0,1]]\n",
        "    treinamento_y = df0[:,2]    \n",
        "    qtd_epocas, qtd_ajustes = perceptron.total_values(treinamento_x, treinamento_y)\n",
        "    epocas = np.append(epocas, qtd_epocas)\n",
        "    ajustes = np.append(ajustes, qtd_ajustes) \n",
        "\n",
        "def set_valores_media(values):\n",
        "  var = np.mean(values)\n",
        "  var = np.round(var,4)\n",
        "  return var\n",
        "\n",
        "def set_valores_desvio_padrao(values):\n",
        "  var = np.std(values)\n",
        "  var = np.round(var,4)\n",
        "  return var\n",
        "\n",
        "epocas_1 = epocas\n",
        "ajustes_1 = ajustes\n",
        "menor_qtde_epocas = int(epocas_1.min())\n",
        "epocas_media_1 = set_valores_media(epocas_1)\n",
        "ajustes_media_1 = set_valores_media(ajustes_1)\n",
        "epocas_desvio_padrao_1 = set_valores_desvio_padrao(epocas_1)\n",
        "ajustes_desvio_padrao_1 = set_valores_desvio_padrao(ajustes_1)\n",
        "\n",
        "print(\"Menor quantidade de épocas: \", menor_qtde_epocas)\n",
        "print(\"Medias: Epoca = \", epocas_media_1, \" | Ajustes = \", ajustes_media_1, \"\\nDesvios Padrao: Epoca = \", epocas_desvio_padrao_1, \" | Ajustes = \", ajustes_desvio_padrao_1)"
      ],
      "execution_count": 154,
      "outputs": [
        {
          "output_type": "stream",
          "name": "stdout",
          "text": [
            "Menor quantidade de épocas:  4\n",
            "Medias: Epoca =  13.3  | Ajustes =  128.8 \n",
            "Desvios Padrao: Epoca =  6.7978  | Ajustes =  73.0038\n"
          ]
        }
      ]
    },
    {
      "cell_type": "code",
      "metadata": {
        "colab": {
          "base_uri": "https://localhost:8080/"
        },
        "id": "ocdmvCV_mySt",
        "outputId": "88aacd23-73ce-44e2-e258-4c36d21aa10f"
      },
      "source": [
        "weights = perceptron.weights\n",
        "print(weights)"
      ],
      "execution_count": 155,
      "outputs": [
        {
          "output_type": "stream",
          "name": "stdout",
          "text": [
            "[16.0366 -1.0418 59.1814]\n"
          ]
        }
      ]
    },
    {
      "cell_type": "markdown",
      "metadata": {
        "id": "GwVxESskmySu"
      },
      "source": [
        "Gráfico do conjunto de dados e a reta que separa as classes"
      ]
    },
    {
      "cell_type": "code",
      "metadata": {
        "colab": {
          "base_uri": "https://localhost:8080/",
          "height": 606
        },
        "id": "Ty0shtQ7mySw",
        "outputId": "c956129d-0c81-415a-ddc8-e79e809185e1"
      },
      "source": [
        "plt.figure(figsize=(15,10))\n",
        "\n",
        "x_classe0 = []\n",
        "y_classe0 = []\n",
        "x_classe1 = []\n",
        "y_classe1 = []\n",
        "\n",
        "classe0 = []\n",
        "max = 0\n",
        "min = 0\n",
        "\n",
        "for example in df0:\n",
        "    if example[2] == 0.0:\n",
        "        x_classe0.append(example[0])\n",
        "        y_classe0.append(example[1])\n",
        "    if example[2] == 1.0:\n",
        "        x_classe1.append(example[0])\n",
        "        y_classe1.append(example[1])\n",
        "        \n",
        "plt.scatter(x_classe0, y_classe0, color='r', label='0')\n",
        "plt.scatter(x_classe1, y_classe1, color='b', label='1')\n",
        "\n",
        "plt.legend()\n",
        "plt.xlabel(\"x1\")\n",
        "plt.ylabel(\"x2\")\n",
        "classe_tot =  x_classe0\n",
        "slp = -(weight[0]/weight[2]) / (weight[0]/weight[1])\n",
        "end = (weight[0]/weight[2])\n",
        "\n",
        "min_x = np.max(x_classe0)\n",
        "min_y = np.max(y_classe0)\n",
        "max_x = np.min(x_classe1)\n",
        "max_y = np.min(y_classe1)\n",
        "abline_values = [slp * i + end for i in x_classe0]\n",
        "plt.plot([min_x,max_x], [min_y,max_y], 'b',color=\"black\")\n",
        "\n",
        "plt.show()"
      ],
      "execution_count": 156,
      "outputs": [
        {
          "output_type": "display_data",
          "data": {
            "image/png": "[encoded data removed]",
            "text/plain": [
              "<Figure size 1080x720 with 1 Axes>"
            ]
          },
          "metadata": {
            "needs_background": "light"
          }
        }
      ]
    },
    {
      "cell_type": "markdown",
      "metadata": {
        "id": "driQsjGTm9mQ"
      },
      "source": [
        "#Configuração 2\n",
        "Valor da taxa de aprendizado: 0.4<br>\n",
        "Peso: wi ∼ U(-100, +100)"
      ]
    },
    {
      "cell_type": "code",
      "metadata": {
        "colab": {
          "base_uri": "https://localhost:8080/"
        },
        "id": "IuvIx6v2m9mT",
        "outputId": "21508c1c-8a27-4287-f7ba-ec26cdbd1649"
      },
      "source": [
        "epocas = []\n",
        "ajustes = []\n",
        "\n",
        "for i in range(1, 11):\n",
        "    perceptron = Perceptron(no_of_inputs=2, learning_rate=taxa_aprendizado, weights=weights_2)\n",
        "    treinamento_x = df0[:,[0,1]]\n",
        "    treinamento_y = df0[:,2]    \n",
        "    qtd_epocas, qtd_ajustes = perceptron.total_values(treinamento_x, treinamento_y)\n",
        "    epocas = np.append(epocas, qtd_epocas)\n",
        "    ajustes = np.append(ajustes, qtd_ajustes) \n",
        "\n",
        "def set_valores_media(values):\n",
        "  var = np.mean(values)\n",
        "  var = np.round(var,4)\n",
        "  return var\n",
        "\n",
        "def set_valores_desvio_padrao(values):\n",
        "  var = np.std(values)\n",
        "  var = np.round(var,4)\n",
        "  return var\n",
        "\n",
        "epocas_2 = epocas\n",
        "ajustes_2 = ajustes\n",
        "menor_qtde_epocas = int(epocas_2.min())\n",
        "epocas_media_2 = set_valores_media(epocas_2)\n",
        "ajustes_media_2 = set_valores_media(ajustes_2)\n",
        "epocas_desvio_padrao_2 = set_valores_desvio_padrao(epocas_2)\n",
        "ajustes_desvio_padrao_2 = set_valores_desvio_padrao(ajustes_2)\n",
        "\n",
        "print(\"Menor quantidade de épocas: \", menor_qtde_epocas)\n",
        "print(\"Medias: Epoca = \", epocas_media_2, \" | Ajustes = \", ajustes_media_2, \"\\nDesvios Padrao: Epoca = \", epocas_desvio_padrao_2, \" | Ajustes = \", ajustes_desvio_padrao_2)"
      ],
      "execution_count": 162,
      "outputs": [
        {
          "output_type": "stream",
          "name": "stdout",
          "text": [
            "Menor quantidade de épocas:  4\n",
            "Medias: Epoca =  4.2  | Ajustes =  5.5 \n",
            "Desvios Padrao: Epoca =  0.6  | Ajustes =  1.5\n"
          ]
        }
      ]
    },
    {
      "cell_type": "code",
      "metadata": {
        "colab": {
          "base_uri": "https://localhost:8080/"
        },
        "id": "74qR2EQim9mT",
        "outputId": "dd14d63d-bb66-4fbd-b117-7ab3cd49563a"
      },
      "source": [
        "weights = perceptron.weights\n",
        "print(weights)"
      ],
      "execution_count": 163,
      "outputs": [
        {
          "output_type": "stream",
          "name": "stdout",
          "text": [
            "[ 0.1948 -0.1702  0.592 ]\n"
          ]
        }
      ]
    },
    {
      "cell_type": "markdown",
      "metadata": {
        "id": "TK7jxGWhm9mU"
      },
      "source": [
        "Gráfico do conjunto de dados e a reta que separa as classes"
      ]
    },
    {
      "cell_type": "code",
      "metadata": {
        "colab": {
          "base_uri": "https://localhost:8080/",
          "height": 606
        },
        "id": "h84EuZNRm9mU",
        "outputId": "811b5494-d241-4a18-e92d-b1c6ed15f67a"
      },
      "source": [
        "plt.figure(figsize=(15,10))\n",
        "\n",
        "x_classe0 = []\n",
        "y_classe0 = []\n",
        "x_classe1 = []\n",
        "y_classe1 = []\n",
        "\n",
        "classe0 = []\n",
        "max = 0\n",
        "min = 0\n",
        "\n",
        "for example in df0:\n",
        "    if example[2] == 0.0:\n",
        "        x_classe0.append(example[0])\n",
        "        y_classe0.append(example[1])\n",
        "    if example[2] == 1.0:\n",
        "        x_classe1.append(example[0])\n",
        "        y_classe1.append(example[1])\n",
        "        \n",
        "plt.scatter(x_classe0, y_classe0, color='r', label='0')\n",
        "plt.scatter(x_classe1, y_classe1, color='b', label='1')\n",
        "\n",
        "plt.legend()\n",
        "plt.xlabel(\"x1\")\n",
        "plt.ylabel(\"x2\")\n",
        "classe_tot =  x_classe0\n",
        "slp = -(weight[0]/weight[2]) / (weight[0]/weight[1])\n",
        "end = (weight[0]/weight[2])\n",
        "\n",
        "min_x = np.max(x_classe0)\n",
        "min_y = np.max(y_classe0)\n",
        "max_x = np.min(x_classe1)\n",
        "max_y = np.min(y_classe1)\n",
        "abline_values = [slp * i + end for i in x_classe0]\n",
        "plt.plot([min_x,max_x], [min_y,max_y], 'b',color=\"black\")\n",
        "\n",
        "plt.show()"
      ],
      "execution_count": 164,
      "outputs": [
        {
          "output_type": "display_data",
          "data": {
            "image/png": "[encoded data removed]",
            "text/plain": [
              "<Figure size 1080x720 with 1 Axes>"
            ]
          },
          "metadata": {
            "needs_background": "light"
          }
        }
      ]
    },
    {
      "cell_type": "markdown",
      "metadata": {
        "id": "NpYKEljcpzOB"
      },
      "source": [
        "#Calculo dos pesos para as configs. 3 e 4\n"
      ]
    },
    {
      "cell_type": "code",
      "metadata": {
        "id": "qGfITKXmpyLe"
      },
      "source": [
        "weight_max_1 = 100\n",
        "weight_min_1 = -100\n",
        "weights_1 = np.random.uniform(weight_min_1, weight_max_1, size=3)\n",
        "weights_1 = np.round(weights_1,4)\n",
        "print(\"Peso 1: \", weights_1)\n",
        "weight_max_2 = 0.5\n",
        "weight_min_2 = -0.5\n",
        "weights_2 = np.random.uniform(weight_min_2, weight_max_2, size=3)\n",
        "weights_2 = np.round(weights_2,4)\n",
        "print(\"Peso 2: \", weights_2)"
      ],
      "execution_count": null,
      "outputs": []
    },
    {
      "cell_type": "markdown",
      "metadata": {
        "id": "spwatfrim-yu"
      },
      "source": [
        "#Configuração 3\n",
        "Valor da taxa de aprendizado: 0.6<br>\n",
        "Peso: wi ∼ U(-100, +100)"
      ]
    },
    {
      "cell_type": "code",
      "metadata": {
        "id": "Mi--bU14m-yv"
      },
      "source": [
        "taxa_aprendizado = 0.6"
      ],
      "execution_count": 165,
      "outputs": []
    }
  ]
}
{
  "nbformat": 4,
  "nbformat_minor": 0,
  "metadata": {
    "colab": {
      "name": "Atividade 2.1 - RNA.ipynb",
      "provenance": [],
      "collapsed_sections": [],
      "include_colab_link": true
    },
    "kernelspec": {
      "display_name": "Python 3",
      "name": "python3"
    },
    "language_info": {
      "name": "python"
    }
  },
  "cells": [
    {
      "cell_type": "markdown",
      "metadata": {
        "id": "view-in-github",
        "colab_type": "text"
      },
      "source": [
        "<a href=\"https://colab.research.google.com/github/AllanHigorLP/Atividade_avaliativa-2.1-RNA/blob/main/Atividade_2_1_RNA.ipynb\" target=\"_parent\"><img src=\"https://colab.research.google.com/assets/colab-badge.svg\" alt=\"Open In Colab\"/></a>"
      ]
    },
    {
      "cell_type": "markdown",
      "metadata": {
        "id": "cJYnVFY5_4G4"
      },
      "source": [
        "**Criando o diretório no Google Drive**"
      ]
    },
    {
      "cell_type": "markdown",
      "metadata": {
        "id": "wEEpwdwNqtr2"
      },
      "source": [
        "# Detalhamento da Atividade"
      ]
    },
    {
      "cell_type": "code",
      "metadata": {
        "colab": {
          "base_uri": "https://localhost:8080/"
        },
        "id": "4mfufQjVqX4B",
        "outputId": "6521b705-0be2-4c67-e10e-59ec465fb80a"
      },
      "source": [
        "x = 12%4\n",
        "print(x)"
      ],
      "execution_count": null,
      "outputs": [
        {
          "name": "stdout",
          "output_type": "stream",
          "text": [
            "0\n"
          ]
        }
      ]
    },
    {
      "cell_type": "code",
      "metadata": {
        "id": "eJyZxaKhq03F"
      },
      "source": [
        "import numpy as np # linear algebra\n",
        "import pandas as pd # data processing, CSV file I/O (e.g. pd.read_csv)\n",
        "import seaborn as sns\n",
        "import matplotlib.pyplot as plt\n",
        "from sklearn.model_selection import train_test_split #to split the dataset for training and testing\n",
        "from sklearn import metrics\n",
        "import unicodedata\n",
        "import io"
      ],
      "execution_count": null,
      "outputs": []
    },
    {
      "cell_type": "code",
      "metadata": {
        "colab": {
          "base_uri": "https://localhost:8080/"
        },
        "id": "Ra8KOSdxq5NS",
        "outputId": "590e6ff3-7a62-4002-ddc3-a1728bdec611"
      },
      "source": [
        "!git clone https://github.com/AllanHigorLP/Atividade_avaliativa-2.1-RNA/"
      ],
      "execution_count": null,
      "outputs": [
        {
          "name": "stdout",
          "output_type": "stream",
          "text": [
            "fatal: destination path 'Atividade_avaliativa-2.1-RNA' already exists and is not an empty directory.\n"
          ]
        }
      ]
    },
    {
      "cell_type": "code",
      "metadata": {
        "colab": {
          "base_uri": "https://localhost:8080/"
        },
        "id": "9tCwbqKnq7O7",
        "outputId": "285ef676-0dba-400a-d952-e44ce92ca363"
      },
      "source": [
        "df = np.fromfile('/content/Atividade_avaliativa-2.1-RNA/data/dataAll.txt')\n",
        "print(df)"
      ],
      "execution_count": null,
      "outputs": [
        {
          "name": "stdout",
          "output_type": "stream",
          "text": [
            "[-363.7884  244.1423    0.     ... -140.147   734.0983    0.    ]\n"
          ]
        }
      ]
    },
    {
      "cell_type": "code",
      "metadata": {
        "colab": {
          "base_uri": "https://localhost:8080/"
        },
        "id": "FNSYMK_Jq9S_",
        "outputId": "6fad78f8-0432-40cc-9981-b9d1596f3a6c"
      },
      "source": [
        "df.shape"
      ],
      "execution_count": null,
      "outputs": [
        {
          "data": {
            "text/plain": [
              "(3000,)"
            ]
          },
          "execution_count": 55,
          "metadata": {},
          "output_type": "execute_result"
        }
      ]
    },
    {
      "cell_type": "code",
      "metadata": {
        "colab": {
          "base_uri": "https://localhost:8080/"
        },
        "id": "Irl3HLzKq_D1",
        "outputId": "6cb570f9-fa88-44a1-f066-4b7261b539c2"
      },
      "source": [
        "df = df.reshape(1000, 3)\n",
        "print(df)"
      ],
      "execution_count": null,
      "outputs": [
        {
          "name": "stdout",
          "output_type": "stream",
          "text": [
            "[[-363.7884  244.1423    0.    ]\n",
            " [ 328.7572 -256.7658    1.    ]\n",
            " [-164.9827  613.2164    0.    ]\n",
            " ...\n",
            " [ 872.4311  669.1192    1.    ]\n",
            " [ 822.6894 -702.6489    1.    ]\n",
            " [-140.147   734.0983    0.    ]]\n"
          ]
        }
      ]
    },
    {
      "cell_type": "markdown",
      "metadata": {
        "id": "rfy4N9KFrCvJ"
      },
      "source": [
        "# Parte I – Resolvendo um Problema Linearmente Separável"
      ]
    },
    {
      "cell_type": "code",
      "metadata": {
        "id": "FMcMhr4nrFle"
      },
      "source": [
        "# n (taxa de aprendizado)\n",
        "theta = 0.0\n",
        "n = 0.1\n",
        "bias = 1.0\n",
        "weight_max = 0.5\n",
        "weight_min = -0.5\n"
      ],
      "execution_count": null,
      "outputs": []
    },
    {
      "cell_type": "code",
      "metadata": {
        "colab": {
          "base_uri": "https://localhost:8080/"
        },
        "id": "MPI6fSYorHb3",
        "outputId": "f57969f0-113f-4b3d-9e16-796eaa4b04d4"
      },
      "source": [
        "weight = np.random.uniform(weight_min, weight_max, size=3)\n",
        "weight = np.round(weight,4)\n",
        "print(weight)"
      ],
      "execution_count": null,
      "outputs": [
        {
          "name": "stdout",
          "output_type": "stream",
          "text": [
            "[0.1385 0.0061 0.014 ]\n"
          ]
        }
      ]
    },
    {
      "cell_type": "code",
      "metadata": {
        "colab": {
          "base_uri": "https://localhost:8080/"
        },
        "id": "9QKkCWcirJ0p",
        "outputId": "d07760b2-b96c-4889-dc6f-0964a8be217d"
      },
      "source": [
        "epoca = 0\n",
        "erros = 1\n",
        "ajustes_total = 0\n",
        "ajustes_epoca = 0\n",
        "\n",
        "def soma_ponderada():\n",
        "    sum_pond = (weight[0]*(-1*bias)) + (weight[1]*example[0]) + (weight[2]*example[1])\n",
        "    return sum_pond \n",
        "\n",
        "def funcao_ativacao():\n",
        "    if u >= theta:\n",
        "        return 1.0\n",
        "    else:\n",
        "        return 0.0\n",
        "\n",
        "def novo_peso(w, fu_ac):\n",
        "    e = example[2] - fu_ac\n",
        "    novo_p = w + (n*e*np.array([(-1*bias), example[0], example[1]]))\n",
        "    novo_p = np.round(novo_p,4)\n",
        "    return novo_p\n",
        "    \n",
        "while (erros != 0):\n",
        "    epoca = epoca + 1\n",
        "    ajustes_epoca = 0\n",
        "    erros = 0\n",
        "    \n",
        "    for example in df:\n",
        "        funct_act = 0.0\n",
        "        u = 0.0\n",
        "        u = soma_ponderada()\n",
        "        funct_act = funcao_ativacao()\n",
        "        \n",
        "        if funct_act != example[2]:\n",
        "            ajustes_epoca = ajustes_epoca + 1\n",
        "            ajustes_total = ajustes_total + 1\n",
        "            erros = 1\n",
        "            weight = novo_peso(weight, funct_act)\n",
        "            print(\"Novo vetor de pesos ajustado\", weight, \"\\n\")\n",
        "            \n",
        "    print(\"Qtd de ajustes do vetor de pesos na época\", epoca, \":\", ajustes_epoca, \"\\n\")\n",
        "    \n",
        "print(\"\\nVetor de pesos final (ajustado): \", weight)\n",
        "print(\"Número total de ajustes do vetor de pesos:\", ajustes_total)\n",
        "print(\"Número total de epocas:\", epoca)"
      ],
      "execution_count": null,
      "outputs": [
        {
          "name": "stdout",
          "output_type": "stream",
          "text": [
            "Novo vetor de pesos ajustado [  0.2385  36.3849 -24.4002] \n",
            "\n",
            "Novo vetor de pesos ajustado [   0.3385  -17.2742 -100.896 ] \n",
            "\n",
            "Novo vetor de pesos ajustado [  0.2385  55.5218 -65.0664] \n",
            "\n",
            "Novo vetor de pesos ajustado [  0.1385 138.1205  14.7894] \n",
            "\n",
            "Novo vetor de pesos ajustado [  0.2385 143.9663 -63.5052] \n",
            "\n",
            "Novo vetor de pesos ajustado [   0.3385  103.9574 -141.3979] \n",
            "\n",
            "Novo vetor de pesos ajustado [  0.4385 157.6272 -92.3056] \n",
            "\n",
            "Novo vetor de pesos ajustado [   0.3385  104.6671 -149.1751] \n",
            "\n",
            "Novo vetor de pesos ajustado [  0.4385 164.2266 -99.0528] \n",
            "\n",
            "Novo vetor de pesos ajustado [   0.3385  118.702  -164.6887] \n",
            "\n",
            "Novo vetor de pesos ajustado [  0.4385 209.4179 -89.9754] \n",
            "\n",
            "Novo vetor de pesos ajustado [   0.3385  151.6369 -150.2836] \n",
            "\n",
            "Novo vetor de pesos ajustado [   0.2385  103.3703 -198.7533] \n",
            "\n",
            "Novo vetor de pesos ajustado [ 1.385000e-01  1.738177e+02 -1.566370e+02] \n",
            "\n",
            "Novo vetor de pesos ajustado [ 3.850000e-02  1.269757e+02 -2.080469e+02] \n",
            "\n",
            "Novo vetor de pesos ajustado [-6.150000e-02  1.968393e+02 -1.438280e+02] \n",
            "\n",
            "Novo vetor de pesos ajustado [ 3.850000e-02  1.410036e+02 -2.000055e+02] \n",
            "\n",
            "Novo vetor de pesos ajustado [-6.150000e-02  2.179911e+02 -1.351562e+02] \n",
            "\n",
            "Novo vetor de pesos ajustado [-1.615000e-01  1.817211e+02 -1.783842e+02] \n",
            "\n",
            "Novo vetor de pesos ajustado [-6.150000e-02  1.634820e+02 -1.967178e+02] \n",
            "\n",
            "Novo vetor de pesos ajustado [-1.615000e-01  2.389044e+02 -1.306627e+02] \n",
            "\n",
            "Novo vetor de pesos ajustado [  -0.2615  174.5453 -213.0851] \n",
            "\n",
            "Novo vetor de pesos ajustado [-1.615000e-01  2.658535e+02 -1.298143e+02] \n",
            "\n",
            "Novo vetor de pesos ajustado [  -0.2615  218.8087 -217.7182] \n",
            "\n",
            "Qtd de ajustes do vetor de pesos na época 1 : 24 \n",
            "\n",
            "Novo vetor de pesos ajustado [  -0.3615  170.5421 -266.1879] \n",
            "\n",
            "Novo vetor de pesos ajustado [  -0.4615  240.4057 -201.969 ] \n",
            "\n",
            "Novo vetor de pesos ajustado [  -0.3615  184.57   -258.1465] \n",
            "\n",
            "Novo vetor de pesos ajustado [  -0.4615  261.5575 -193.2972] \n",
            "\n",
            "Novo vetor de pesos ajustado [  -0.5615  225.2875 -236.5252] \n",
            "\n",
            "Novo vetor de pesos ajustado [  -0.6615  308.1794 -153.7437] \n",
            "\n",
            "Novo vetor de pesos ajustado [  -0.7615  262.032  -210.3931] \n",
            "\n",
            "Novo vetor de pesos ajustado [  -0.6615  235.4064 -242.9155] \n",
            "\n",
            "Novo vetor de pesos ajustado [  -0.7615  282.4308 -196.3613] \n",
            "\n",
            "Novo vetor de pesos ajustado [  -0.8615  252.5467 -229.4706] \n",
            "\n",
            "Novo vetor de pesos ajustado [  -0.7615  234.3076 -247.8042] \n",
            "\n",
            "Novo vetor de pesos ajustado [  -0.6615  265.6145 -217.1759] \n",
            "\n",
            "Novo vetor de pesos ajustado [  -0.5615  190.0606 -294.4988] \n",
            "\n",
            "Novo vetor de pesos ajustado [  -0.4615  259.0365 -229.7079] \n",
            "\n",
            "Novo vetor de pesos ajustado [  -0.3615  163.2249 -327.5896] \n",
            "\n",
            "Novo vetor de pesos ajustado [  -0.4615  244.3986 -276.2417] \n",
            "\n",
            "Novo vetor de pesos ajustado [  -0.3615  343.8664 -184.3521] \n",
            "\n",
            "Novo vetor de pesos ajustado [  -0.4615  285.1615 -276.6894] \n",
            "\n",
            "Novo vetor de pesos ajustado [  -0.3615  241.3034 -321.2284] \n",
            "\n",
            "Novo vetor de pesos ajustado [  -0.4615  328.5465 -254.3165] \n",
            "\n",
            "Qtd de ajustes do vetor de pesos na época 2 : 20 \n",
            "\n",
            "Novo vetor de pesos ajustado [  -0.3615  297.1235 -288.7002] \n",
            "\n",
            "Novo vetor de pesos ajustado [  -0.4615  247.2137 -339.9606] \n",
            "\n",
            "Novo vetor de pesos ajustado [  -0.5615  274.6773 -319.1042] \n",
            "\n",
            "Novo vetor de pesos ajustado [  -0.4615  324.1381 -270.2102] \n",
            "\n",
            "Novo vetor de pesos ajustado [  -0.3615  295.9306 -303.7943] \n",
            "\n",
            "Novo vetor de pesos ajustado [-2.615000e-01  3.830654e+02 -2.171045e+02] \n",
            "\n",
            "Novo vetor de pesos ajustado [-1.615000e-01  3.311501e+02 -2.733055e+02] \n",
            "\n",
            "Novo vetor de pesos ajustado [-6.150000e-02  2.662641e+02 -3.479216e+02] \n",
            "\n",
            "Novo vetor de pesos ajustado [-1.615000e-01  3.559729e+02 -2.689129e+02] \n",
            "\n",
            "Novo vetor de pesos ajustado [-2.615000e-01  2.785100e+02 -3.669006e+02] \n",
            "\n",
            "Novo vetor de pesos ajustado [  -0.3615  323.4153 -323.4967] \n",
            "\n",
            "Qtd de ajustes do vetor de pesos na época 3 : 11 \n",
            "\n",
            "Qtd de ajustes do vetor de pesos na época 4 : 0 \n",
            "\n",
            "\n",
            "Vetor de pesos final (ajustado):  [  -0.3615  323.4153 -323.4967]\n",
            "Número total de ajustes do vetor de pesos: 55\n",
            "Número total de epocas: 4\n"
          ]
        }
      ]
    },
    {
      "cell_type": "code",
      "metadata": {
        "colab": {
          "base_uri": "https://localhost:8080/",
          "height": 606
        },
        "id": "CdZoAqlorNWC",
        "outputId": "057a6b14-1130-4be0-c6d4-1c538c45fb5b"
      },
      "source": [
        "plt.figure(figsize=(15,10))\n",
        "\n",
        "x_classe0 = []\n",
        "y_classe0 = []\n",
        "x_classe1 = []\n",
        "y_classe1 = []\n",
        "\n",
        "classe0 = []\n",
        "\n",
        "for example in df:\n",
        "    if example[2] == 0.0:\n",
        "        x_classe0.append(example[0])\n",
        "        y_classe0.append(example[1])\n",
        "    if example[2] == 1.0:\n",
        "        x_classe1.append(example[0])\n",
        "        y_classe1.append(example[1])\n",
        "        \n",
        "plt.scatter(x_classe0, y_classe0, color='r', label='0')\n",
        "plt.scatter(x_classe1, y_classe1, color='b', label='1')\n",
        "\n",
        "plt.legend()\n",
        "plt.xlabel(\"x1\")\n",
        "plt.ylabel(\"x2\")\n",
        "\n",
        "slp = -(weight[0]/weight[2]) / (weight[0]/weight[1])\n",
        "end = (weight[0]/weight[2])\n",
        "\n",
        "abline_values = [slp * i + end for i in x_classe0]\n",
        "plt.plot(x_classe0, abline_values, 'b',)\n",
        "\n",
        "plt.show()"
      ],
      "execution_count": null,
      "outputs": [
        {
          "output_type": "display_data",
          "data": {
            "image/png": "[encoded data removed]",
            "text/plain": [
              "<Figure size 1080x720 with 1 Axes>"
            ]
          },
          "metadata": {
            "needs_background": "light"
          }
        }
      ]
    },
    {
      "cell_type": "markdown",
      "metadata": {
        "id": "fWslZhJIw6LX"
      },
      "source": [
        "#Parte II – Executando\n"
      ]
    },
    {
      "cell_type": "code",
      "metadata": {
        "colab": {
          "base_uri": "https://localhost:8080/"
        },
        "id": "rtgb4yIkxE_I",
        "outputId": "a7ad6859-b6fb-4f42-e42c-93c91082c23e"
      },
      "source": [
        "df0 = np.fromfile('/content/Atividade_avaliativa-2.1-RNA/data/df0.txt')\n",
        "print(df0)"
      ],
      "execution_count": null,
      "outputs": [
        {
          "name": "stdout",
          "output_type": "stream",
          "text": [
            "[-0.00149369 -0.03581784  0.         ...  1.02021556  0.86533059\n",
            "  1.        ]\n"
          ]
        }
      ]
    },
    {
      "cell_type": "code",
      "metadata": {
        "colab": {
          "base_uri": "https://localhost:8080/"
        },
        "id": "6jtgEeuHxX3e",
        "outputId": "57fa5d98-a0df-4826-c1c9-24e33e80efc9"
      },
      "source": [
        "df0.shape"
      ],
      "execution_count": null,
      "outputs": [
        {
          "data": {
            "text/plain": [
              "(1800,)"
            ]
          },
          "execution_count": 13,
          "metadata": {},
          "output_type": "execute_result"
        }
      ]
    },
    {
      "cell_type": "code",
      "metadata": {
        "colab": {
          "base_uri": "https://localhost:8080/"
        },
        "id": "Dz2ftxpLxdex",
        "outputId": "94c681f2-7bd6-46a2-9859-b9c1d28053cf"
      },
      "source": [
        "df0 = df0.reshape(600, 3)\n",
        "print(df0)"
      ],
      "execution_count": null,
      "outputs": [
        {
          "name": "stdout",
          "output_type": "stream",
          "text": [
            "[[-0.00149369 -0.03581784  0.        ]\n",
            " [ 0.01234945  0.10249524  0.        ]\n",
            " [ 0.13954598  0.05607083  0.        ]\n",
            " ...\n",
            " [ 0.95751872  1.0035204   1.        ]\n",
            " [ 0.97981588  1.00949493  1.        ]\n",
            " [ 1.02021556  0.86533059  1.        ]]\n"
          ]
        }
      ]
    },
    {
      "cell_type": "code",
      "metadata": {
        "id": "Ojorr-D8x_oR"
      },
      "source": [
        "import numpy as np\n",
        "\n",
        "class Perceptron(object):\n",
        "    \n",
        "   def __init__(self, no_of_inputs, epoch=100, \n",
        "                    learning_rate=np.random.uniform(0.1, 0.4, 1), \n",
        "                    baias=-1, \n",
        "                    random_train_set=False, \n",
        "                    show_training=False,\n",
        "                    weights=(-5.0, 0.5),\n",
        "                    use_epoch=False):\n",
        "        self.epoch = epoch\n",
        "        self.learning_rate= learning_rate\n",
        "        self.weights = np.random.uniform(weights[0], \n",
        "                                            weights[1], \n",
        "                                            no_of_inputs + 1)\n",
        "        self.baias = baias\n",
        "        self.random_train_set = random_train_set\n",
        "        self.show_training = show_training\n",
        "        self.use_epoch = use_epoch\n",
        "    \n",
        "   def __add_baias(self, inputs):\n",
        "        new_inputs = []\n",
        "        for row in inputs:\n",
        "            new_row = np.insert(row, 0, self.baias)\n",
        "            new_inputs.append(new_row)\n",
        "        return np.array(new_inputs)\n",
        "\n",
        "   def __weight_adjust(self, x_train, y_predicto, y_real):\n",
        "        erro = y_predicto - y_real\n",
        "        self.weights -= self.learning_rate * erro * x_train\n",
        "        self.weights = np.round(self.weights, 4)\n",
        "\n",
        "   def __activ_func(self, u): \n",
        "        if u >= 0.0:\n",
        "            return 1.0\n",
        "        else:\n",
        "            return 0.0\n",
        "\n",
        "   def __error(self, y_predicto, y_real):\n",
        "        if y_predicto != y_real:\n",
        "            return True\n",
        "        else:\n",
        "            return False\n",
        "\n",
        "   def __random_sets(self, x_train, y_train):\n",
        "        # Randomizando os dados de treino\n",
        "        index = np.arange(len(x_train))\n",
        "        np.random.shuffle(index)\n",
        "        x_train = x_train[index]\n",
        "        y_train = y_train[index]\n",
        "        return x_train, y_train\n",
        "        #---------------------------------\n",
        "    \n",
        "   def predict(self, x_test):\n",
        "        x_test = self.__add_baias(x_test)\n",
        "        y_predicto = []\n",
        "        for _x_test in x_test:\n",
        "            u = np.sum(np.dot(_x_test, self.weights))\n",
        "            y = self.__activ_func(u)\n",
        "            y_predicto.append(y)\n",
        "        return np.array(y_predicto)\n",
        "\n",
        "   def __show_training(self, epoch, count_adjust):\n",
        "        print(\"\\n\\tÉpoca:\", epoch)\n",
        "        print(\"Pesos:\", self.weights)\n",
        "        print(\"Quantidade de Ajustes:\", count_adjust)\n",
        "\n",
        "   def __learning(self, x_train, y_train, no_erro):\n",
        "        count_adjust = 0\n",
        "        for x, y in zip(x_train, y_train):\n",
        "            u = np.sum(np.dot(x, self.weights))\n",
        "            y_predicto = self.__activ_func(u)\n",
        "            if self.__error(y_predicto, y):\n",
        "                self.__weight_adjust(x, y_predicto, y)\n",
        "                no_erro = False\n",
        "                count_adjust += 1\n",
        "        return no_erro, count_adjust\n",
        "\n",
        "\n",
        "   def __epochs(self, x_train, y_train):\n",
        "        no_erro = False\n",
        "        epoch = 1\n",
        "        total_adjust = 0\n",
        "        while no_erro != True:\n",
        "\n",
        "            if self.use_epoch:\n",
        "                if epoch == self.epoch:\n",
        "                    break\n",
        "                \n",
        "            if self.random_train_set:\n",
        "                x_train, y_train = self.__random_sets(x_train,\n",
        "                                                         y_train)\n",
        "            \n",
        "            no_erro = True\n",
        "            \n",
        "            no_erro, count_adjust = self.__learning(x_train, \n",
        "                                                        y_train,\n",
        "                                                        no_erro)\n",
        "\n",
        "            if self.show_training:\n",
        "                self.__show_training(epoch, count_adjust)\n",
        "\n",
        "            epoch += 1\n",
        "            total_adjust += count_adjust\n",
        "        return epoch, total_adjust\n",
        "\n",
        "\n",
        "   def total_values(self, x_train, y_train):\n",
        "\n",
        "        x_train = self.__add_baias(x_train)\n",
        "        epoch, total_adjust = self.__epochs(x_train, y_train)\n",
        "        \n",
        "        print(\"\\nQuantidade total de épocas:\", epoch)\n",
        "        print(\"Quantidade total de ajustes:\", total_adjust)\n",
        "        \n",
        "        np.set_printoptions(precision=4, suppress=True)\n",
        "        print(\"Vetor final de pesos:\", np.round(self.weights, 4))\n",
        "        return epoch, total_adjust"
      ],
      "execution_count": null,
      "outputs": []
    },
    {
      "cell_type": "code",
      "metadata": {
        "colab": {
          "base_uri": "https://localhost:8080/"
        },
        "id": "Oby4A04A-BPx",
        "outputId": "8ab380d7-4d8b-47cb-f604-88815ba971d5"
      },
      "source": [
        "weight_max_1 = 100\n",
        "weight_min_1 = -100\n",
        "weights_1 = np.random.uniform(weight_min_1, weight_max_1, size=3)\n",
        "weights_1 = np.round(weights_1,4)\n",
        "print(\"Peso 1: \", weights_1)\n",
        "weight_max_2 = 0.5\n",
        "weight_min_2 = -0.5\n",
        "weights_2 = np.random.uniform(weight_min_2, weight_max_2, size=3)\n",
        "weights_2 = np.round(weights_2,4)\n",
        "print(\"Peso 2: \", weights_2)"
      ],
      "execution_count": null,
      "outputs": [
        {
          "name": "stdout",
          "output_type": "stream",
          "text": [
            "Peso 1:  [ 33.4952  21.9268 -22.1216]\n",
            "Peso 2:  [ 0.1012 -0.2351 -0.1508]\n"
          ]
        }
      ]
    },
    {
      "cell_type": "markdown",
      "metadata": {
        "id": "rsr0Jk3Fz3Gy"
      },
      "source": [
        "#Configuração 1\n",
        "Valor da taxa de aprendizado: 0.4<br>\n",
        "Peso: wi ∼ U(-100, +100)"
      ]
    },
    {
      "cell_type": "code",
      "metadata": {
        "id": "pGeh1GRd5o4w"
      },
      "source": [
        "taxa_aprendizado = 0.4"
      ],
      "execution_count": null,
      "outputs": []
    },
    {
      "cell_type": "code",
      "metadata": {
        "colab": {
          "base_uri": "https://localhost:8080/"
        },
        "id": "xKrxLVBJz82L",
        "outputId": "08ba56ad-3be5-4571-b73b-21f36558e4fe"
      },
      "source": [
        "epocas = []\n",
        "ajustes = []\n",
        "\n",
        "for i in range(1, 11):\n",
        "    perceptron = Perceptron(no_of_inputs=2, learning_rate=taxa_aprendizado, weights=weights_1)\n",
        "    treinamento_x = df0[:,[0,1]]\n",
        "    treinamento_y = df0[:,2]    \n",
        "    num_da_epoca, num_de_ajustes = perceptron.total_values(treinamento_x, treinamento_y)\n",
        "    epocas = np.append(epocas, num_da_epoca)\n",
        "    ajustes = np.append(ajustes, num_de_ajustes)    \n",
        "\n",
        "epocas_1 = epocas\n",
        "ajustes_1 = ajustes\n",
        "\n",
        "def set_valores_media(var_media, values):\n",
        "  var_media = np.mean(values)\n",
        "  var_media = np.round(var_media,4)\n",
        "  return var_media\n",
        "\n",
        "def set_valores_desvio_padrao(var_desvio_padrao, values):\n",
        "  var_desvio_padrao = np.std(values)\n",
        "  var_desvio_padrao = np.round(var_desvio_padrao,4)\n",
        "  return var_desvio_padrao\n",
        "\n",
        "epocas_media_1 = set_valores_media(epocas_media_1, epocas)\n",
        "ajustes_media_1 = set_valores_media(ajustes_media_1, ajustes)\n",
        "epocas_desvio_padrao_1 = set_valores_desvio_padrao(epocas_desvio_padrao_1, epocas)\n",
        "ajustes_desvio_padrao_1 = set_valores_desvio_padrao(ajustes_desvio_padrao_1, ajustes)\n",
        "\n",
        "print(epocas_1)\n",
        "print(\"Menor Epoca = \")\n",
        "print(\"\\nMedias: Epoca = \", epocas_media_1, \"| Ajustes = \", ajustes_media_1, \"\\nDesvios Padrao: Epoca = \", epocas_desvio_padrao_1, \"| Ajustes = \", ajustes_desvio_padrao_1)"
      ],
      "execution_count": 89,
      "outputs": [
        {
          "output_type": "stream",
          "name": "stdout",
          "text": [
            "[ 4.  6. 10. 10. 10. 18. 13.  9.  2.  5.]\n",
            "Menor Epoca = \n",
            "\n",
            "Medias: Epoca =  8.7 | Ajustes =  153.4 \n",
            "Desvios Padrao: Epoca =  4.4508 | Ajustes =  134.751\n"
          ]
        }
      ]
    },
    {
      "cell_type": "code",
      "metadata": {
        "colab": {
          "base_uri": "https://localhost:8080/"
        },
        "id": "SdmsrYvC0oRj",
        "outputId": "720e0274-9eed-4941-9cb1-f3b429776d21"
      },
      "source": [
        "weights = perceptron.weights\n",
        "weights"
      ],
      "execution_count": null,
      "outputs": [
        {
          "data": {
            "text/plain": [
              "array([ 15.0495, -17.2545,  43.8829])"
            ]
          },
          "execution_count": 20,
          "metadata": {},
          "output_type": "execute_result"
        }
      ]
    },
    {
      "cell_type": "markdown",
      "metadata": {
        "id": "oGFEPp8S0sO5"
      },
      "source": [
        "\n",
        "Obtenção da reta solução a partir do último vetor de pesos encontrado"
      ]
    },
    {
      "cell_type": "code",
      "metadata": {
        "colab": {
          "base_uri": "https://localhost:8080/"
        },
        "id": "Bc5FqkoO0t2E",
        "outputId": "82ed161c-3b96-403a-898d-44cdeed1d7dd"
      },
      "source": [
        "print(\"Equação da reta solução: x2 = \" + \n",
        "      str(np.round((weights[0]/weights[2]), 4)) + \n",
        "      \" -(\" + \n",
        "      str(np.round((weights[1]/weights[2]), 4)) + \n",
        "      \")*x1\")"
      ],
      "execution_count": null,
      "outputs": [
        {
          "name": "stdout",
          "output_type": "stream",
          "text": [
            "Equação da reta solução: x2 = 0.3429 -(-0.3932)*x1\n"
          ]
        }
      ]
    },
    {
      "cell_type": "markdown",
      "metadata": {
        "id": "LwtDSwbB0yS-"
      },
      "source": [
        "Gráfico do conjunto de dados e a reta que separa as classes"
      ]
    },
    {
      "cell_type": "code",
      "metadata": {
        "colab": {
          "base_uri": "https://localhost:8080/",
          "height": 606
        },
        "id": "T_3k0uTe00Q5",
        "outputId": "9471e54a-ba4e-4203-deae-f0492d31ec4f"
      },
      "source": [
        "plt.figure(figsize=(15,10))\n",
        "\n",
        "x_classe0 = []\n",
        "y_classe0 = []\n",
        "x_classe1 = []\n",
        "y_classe1 = []\n",
        "\n",
        "classe0 = []\n",
        "\n",
        "for example in df0:\n",
        "    if example[2] == 0.0:\n",
        "        x_classe0.append(example[0])\n",
        "        y_classe0.append(example[1])\n",
        "    if example[2] == 1.0:\n",
        "        x_classe1.append(example[0])\n",
        "        y_classe1.append(example[1])\n",
        "        \n",
        "plt.scatter(x_classe0, y_classe0, color='r', label='0')\n",
        "plt.scatter(x_classe1, y_classe1, color='b', label='1')\n",
        "\n",
        "plt.legend()\n",
        "plt.xlabel(\"x1\")\n",
        "plt.ylabel(\"x2\")\n",
        "\n",
        "# slp = -(weight[0]/weight[2]) / (weight[0]/weight[1])\n",
        "# end = (weight[0]/weight[2])\n",
        "#plt.axes.axline(0,10, slope=slp, color=\"black\", lw=2)\n",
        "plt.show()"
      ],
      "execution_count": null,
      "outputs": [
        {
          "data": {
            "image/png": "[encoded data removed]",
            "text/plain": [
              "<Figure size 1080x720 with 1 Axes>"
            ]
          },
          "metadata": {},
          "output_type": "display_data"
        }
      ]
    }
  ]
}
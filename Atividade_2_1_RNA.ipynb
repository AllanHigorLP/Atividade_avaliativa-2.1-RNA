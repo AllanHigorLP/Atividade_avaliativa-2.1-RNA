{
  "nbformat": 4,
  "nbformat_minor": 0,
  "metadata": {
    "colab": {
      "name": "Atividade 2.1 - RNA.ipynb",
      "provenance": [],
      "collapsed_sections": [],
      "include_colab_link": true
    },
    "kernelspec": {
      "display_name": "Python 3",
      "name": "python3"
    },
    "language_info": {
      "name": "python"
    }
  },
  "cells": [
    {
      "cell_type": "markdown",
      "metadata": {
        "id": "view-in-github",
        "colab_type": "text"
      },
      "source": [
        "<a href=\"https://colab.research.google.com/github/AllanHigorLP/Atividade_avaliativa-2.1-RNA/blob/main/Atividade_2_1_RNA.ipynb\" target=\"_parent\"><img src=\"https://colab.research.google.com/assets/colab-badge.svg\" alt=\"Open In Colab\"/></a>"
      ]
    },
    {
      "cell_type": "markdown",
      "metadata": {
        "id": "wEEpwdwNqtr2"
      },
      "source": [
        "# Detalhamento da Atividade"
      ]
    },
    {
      "cell_type": "code",
      "metadata": {
        "id": "eJyZxaKhq03F"
      },
      "source": [
        "import numpy as np # linear algebra\n",
        "import pandas as pd # data processing, CSV file I/O (e.g. pd.read_csv)\n",
        "import seaborn as sns\n",
        "import matplotlib.pyplot as plt\n",
        "from sklearn.model_selection import train_test_split #to split the dataset for training and testing\n",
        "from sklearn import metrics\n",
        "import unicodedata\n",
        "import io\n",
        "import random"
      ],
      "execution_count": 294,
      "outputs": []
    },
    {
      "cell_type": "code",
      "metadata": {
        "id": "Ra8KOSdxq5NS",
        "colab": {
          "base_uri": "https://localhost:8080/"
        },
        "outputId": "397c555e-26a7-461f-eef1-aadd9ef1b3ec"
      },
      "source": [
        "!git clone https://github.com/AllanHigorLP/Atividade_avaliativa-2.1-RNA/"
      ],
      "execution_count": 295,
      "outputs": [
        {
          "output_type": "stream",
          "name": "stdout",
          "text": [
            "fatal: destination path 'Atividade_avaliativa-2.1-RNA' already exists and is not an empty directory.\n"
          ]
        }
      ]
    },
    {
      "cell_type": "code",
      "metadata": {
        "id": "9tCwbqKnq7O7",
        "colab": {
          "base_uri": "https://localhost:8080/"
        },
        "outputId": "42c5d52e-ebec-4102-dcac-355c3a98d491"
      },
      "source": [
        "df = np.fromfile('/content/Atividade_avaliativa-2.1-RNA/data/dataAll.txt')\n",
        "print(df)"
      ],
      "execution_count": 296,
      "outputs": [
        {
          "output_type": "stream",
          "name": "stdout",
          "text": [
            "[-363.7884  244.1423    0.     ... -140.147   734.0983    0.    ]\n"
          ]
        }
      ]
    },
    {
      "cell_type": "code",
      "metadata": {
        "id": "FNSYMK_Jq9S_",
        "colab": {
          "base_uri": "https://localhost:8080/"
        },
        "outputId": "c28d0081-ad80-4ac8-e8ea-de8a404a2217"
      },
      "source": [
        "df.shape"
      ],
      "execution_count": 297,
      "outputs": [
        {
          "output_type": "execute_result",
          "data": {
            "text/plain": [
              "(3000,)"
            ]
          },
          "metadata": {},
          "execution_count": 297
        }
      ]
    },
    {
      "cell_type": "code",
      "metadata": {
        "id": "Irl3HLzKq_D1",
        "colab": {
          "base_uri": "https://localhost:8080/"
        },
        "outputId": "4bb2ccc2-7066-4011-d2ee-17e14e2e56ff"
      },
      "source": [
        "df = df.reshape(1000, 3)\n",
        "print(df)"
      ],
      "execution_count": 298,
      "outputs": [
        {
          "output_type": "stream",
          "name": "stdout",
          "text": [
            "[[-363.7884  244.1423    0.    ]\n",
            " [ 328.7572 -256.7658    1.    ]\n",
            " [-164.9827  613.2164    0.    ]\n",
            " ...\n",
            " [ 872.4311  669.1192    1.    ]\n",
            " [ 822.6894 -702.6489    1.    ]\n",
            " [-140.147   734.0983    0.    ]]\n"
          ]
        }
      ]
    },
    {
      "cell_type": "markdown",
      "metadata": {
        "id": "d1Cf4V0y1u4S"
      },
      "source": [
        "#Função para Gerar Valores Aleatorios Uniformemente Distribuidos"
      ]
    },
    {
      "cell_type": "code",
      "metadata": {
        "id": "Y414CLgt2DFb"
      },
      "source": [
        "def random_weights(min,max):\n",
        "  w = np.random.uniform(min, max, size=3)\n",
        "  w = np.round(w,4)\n",
        "  return w"
      ],
      "execution_count": 299,
      "outputs": []
    },
    {
      "cell_type": "markdown",
      "metadata": {
        "id": "rfy4N9KFrCvJ"
      },
      "source": [
        "# Parte I – Resolvendo um Problema Linearmente Separável"
      ]
    },
    {
      "cell_type": "code",
      "metadata": {
        "id": "FMcMhr4nrFle"
      },
      "source": [
        "# n (taxa de aprendizado)\n",
        "theta = 0.0\n",
        "n = 0.1\n",
        "bias = 1.0\n"
      ],
      "execution_count": 300,
      "outputs": []
    },
    {
      "cell_type": "code",
      "metadata": {
        "id": "MPI6fSYorHb3",
        "colab": {
          "base_uri": "https://localhost:8080/"
        },
        "outputId": "e9f59a22-563a-4cf3-f142-96ff6c1b33b1"
      },
      "source": [
        "weight = random_weights(-0.5,0.5)\n",
        "print(weight)"
      ],
      "execution_count": 301,
      "outputs": [
        {
          "output_type": "stream",
          "name": "stdout",
          "text": [
            "[ 0.0974 -0.1629  0.3234]\n"
          ]
        }
      ]
    },
    {
      "cell_type": "code",
      "metadata": {
        "id": "9QKkCWcirJ0p",
        "colab": {
          "base_uri": "https://localhost:8080/"
        },
        "outputId": "5de4facf-13d6-4bb9-c7e3-fa90b996e36f"
      },
      "source": [
        "epoca = 0\n",
        "erros = 1\n",
        "ajustes_total = 0\n",
        "ajustes_epoca = 0\n",
        "\n",
        "def soma_ponderada():\n",
        "    sum_pond = (weight[0]*(-1*bias)) + (weight[1]*example[0]) + (weight[2]*example[1])\n",
        "    return sum_pond \n",
        "\n",
        "def funcao_ativacao():\n",
        "    if u >= theta:\n",
        "        return 1.0\n",
        "    else:\n",
        "        return 0.0\n",
        "\n",
        "def novo_peso(w, fu_ac):\n",
        "    e = example[2] - fu_ac\n",
        "    novo_p = w + (n*e*np.array([(-1*bias), example[0], example[1]]))\n",
        "    novo_p = np.round(novo_p,4)\n",
        "    return novo_p\n",
        "    \n",
        "while (erros != 0):\n",
        "    epoca = epoca + 1\n",
        "    ajustes_epoca = 0\n",
        "    erros = 0\n",
        "    \n",
        "    for example in df:\n",
        "        funct_act = 0.0\n",
        "        u = 0.0\n",
        "        u = soma_ponderada()\n",
        "        funct_act = funcao_ativacao()\n",
        "        \n",
        "        if funct_act != example[2]:\n",
        "            ajustes_epoca = ajustes_epoca + 1\n",
        "            ajustes_total = ajustes_total + 1\n",
        "            erros = 1\n",
        "            weight = novo_peso(weight, funct_act)\n",
        "            print(\"Novo vetor de pesos ajustado\", weight, \"\\n\")\n",
        "            \n",
        "    print(\"Qtd de ajustes do vetor de pesos na época\", epoca, \":\", ajustes_epoca, \"\\n\")\n",
        "    \n",
        "print(\"\\nVetor de pesos final (ajustado): \", weight)\n",
        "print(\"Número total de ajustes do vetor de pesos:\", ajustes_total)\n",
        "print(\"Número total de epocas:\", epoca)"
      ],
      "execution_count": 302,
      "outputs": [
        {
          "output_type": "stream",
          "name": "stdout",
          "text": [
            "Novo vetor de pesos ajustado [  0.1974  36.2159 -24.0908] \n",
            "\n",
            "Novo vetor de pesos ajustado [   0.2974  -17.4432 -100.5866] \n",
            "\n",
            "Novo vetor de pesos ajustado [  0.1974  55.3528 -64.757 ] \n",
            "\n",
            "Novo vetor de pesos ajustado [9.740000e-02 1.379515e+02 1.509880e+01] \n",
            "\n",
            "Novo vetor de pesos ajustado [  0.1974 143.7973 -63.1958] \n",
            "\n",
            "Novo vetor de pesos ajustado [   0.2974  103.7884 -141.0885] \n",
            "\n",
            "Novo vetor de pesos ajustado [  0.3974 157.4582 -91.9962] \n",
            "\n",
            "Novo vetor de pesos ajustado [   0.2974  104.4981 -148.8657] \n",
            "\n",
            "Novo vetor de pesos ajustado [  0.3974 164.0576 -98.7434] \n",
            "\n",
            "Novo vetor de pesos ajustado [   0.2974  118.533  -164.3793] \n",
            "\n",
            "Novo vetor de pesos ajustado [  0.3974 209.2489 -89.666 ] \n",
            "\n",
            "Novo vetor de pesos ajustado [   0.2974  151.4679 -149.9742] \n",
            "\n",
            "Novo vetor de pesos ajustado [ 1.974000e-01  1.032013e+02 -1.984439e+02] \n",
            "\n",
            "Novo vetor de pesos ajustado [ 9.740000e-02  1.736486e+02 -1.563276e+02] \n",
            "\n",
            "Novo vetor de pesos ajustado [-2.600000e-03  1.268066e+02 -2.077375e+02] \n",
            "\n",
            "Novo vetor de pesos ajustado [-1.026000e-01  1.966702e+02 -1.435186e+02] \n",
            "\n",
            "Novo vetor de pesos ajustado [-2.600000e-03  1.408345e+02 -1.996961e+02] \n",
            "\n",
            "Novo vetor de pesos ajustado [-1.026000e-01  2.178220e+02 -1.348468e+02] \n",
            "\n",
            "Novo vetor de pesos ajustado [  -0.2026  181.552  -178.0748] \n",
            "\n",
            "Novo vetor de pesos ajustado [-1.026000e-01  1.633129e+02 -1.964084e+02] \n",
            "\n",
            "Novo vetor de pesos ajustado [-2.026000e-01  2.387353e+02 -1.303533e+02] \n",
            "\n",
            "Novo vetor de pesos ajustado [  -0.3026  174.3762 -212.7757] \n",
            "\n",
            "Novo vetor de pesos ajustado [-2.026000e-01  2.656844e+02 -1.295049e+02] \n",
            "\n",
            "Novo vetor de pesos ajustado [  -0.3026  218.6396 -217.4088] \n",
            "\n",
            "Qtd de ajustes do vetor de pesos na época 1 : 24 \n",
            "\n",
            "Novo vetor de pesos ajustado [  -0.4026  170.373  -265.8785] \n",
            "\n",
            "Novo vetor de pesos ajustado [  -0.5026  240.2366 -201.6596] \n",
            "\n",
            "Novo vetor de pesos ajustado [  -0.4026  184.4009 -257.8371] \n",
            "\n",
            "Novo vetor de pesos ajustado [  -0.5026  261.3884 -192.9878] \n",
            "\n",
            "Novo vetor de pesos ajustado [  -0.6026  225.1184 -236.2158] \n",
            "\n",
            "Novo vetor de pesos ajustado [  -0.7026  308.0103 -153.4343] \n",
            "\n",
            "Novo vetor de pesos ajustado [  -0.8026  261.8629 -210.0837] \n",
            "\n",
            "Novo vetor de pesos ajustado [  -0.7026  235.2373 -242.6061] \n",
            "\n",
            "Novo vetor de pesos ajustado [  -0.8026  282.2617 -196.0519] \n",
            "\n",
            "Novo vetor de pesos ajustado [  -0.9026  252.3776 -229.1612] \n",
            "\n",
            "Novo vetor de pesos ajustado [  -0.8026  234.1385 -247.4948] \n",
            "\n",
            "Novo vetor de pesos ajustado [  -0.7026  265.4454 -216.8665] \n",
            "\n",
            "Novo vetor de pesos ajustado [  -0.6026  189.8915 -294.1894] \n",
            "\n",
            "Novo vetor de pesos ajustado [  -0.5026  258.8674 -229.3985] \n",
            "\n",
            "Novo vetor de pesos ajustado [  -0.4026  163.0558 -327.2802] \n",
            "\n",
            "Novo vetor de pesos ajustado [  -0.5026  244.2295 -275.9323] \n",
            "\n",
            "Novo vetor de pesos ajustado [  -0.4026  343.6973 -184.0427] \n",
            "\n",
            "Novo vetor de pesos ajustado [  -0.5026  284.9924 -276.38  ] \n",
            "\n",
            "Novo vetor de pesos ajustado [  -0.4026  241.1343 -320.919 ] \n",
            "\n",
            "Novo vetor de pesos ajustado [  -0.5026  328.3774 -254.0071] \n",
            "\n",
            "Qtd de ajustes do vetor de pesos na época 2 : 20 \n",
            "\n",
            "Novo vetor de pesos ajustado [  -0.4026  296.9544 -288.3908] \n",
            "\n",
            "Novo vetor de pesos ajustado [  -0.5026  247.0446 -339.6512] \n",
            "\n",
            "Novo vetor de pesos ajustado [  -0.6026  274.5082 -318.7948] \n",
            "\n",
            "Novo vetor de pesos ajustado [  -0.5026  323.969  -269.9008] \n",
            "\n",
            "Novo vetor de pesos ajustado [  -0.4026  295.7615 -303.4849] \n",
            "\n",
            "Novo vetor de pesos ajustado [-3.026000e-01  3.828963e+02 -2.167951e+02] \n",
            "\n",
            "Novo vetor de pesos ajustado [-2.026000e-01  3.309810e+02 -2.729961e+02] \n",
            "\n",
            "Novo vetor de pesos ajustado [-1.026000e-01  2.660950e+02 -3.476122e+02] \n",
            "\n",
            "Novo vetor de pesos ajustado [-2.026000e-01  3.558038e+02 -2.686035e+02] \n",
            "\n",
            "Novo vetor de pesos ajustado [-3.026000e-01  2.783409e+02 -3.665912e+02] \n",
            "\n",
            "Novo vetor de pesos ajustado [  -0.4026  323.2462 -323.1873] \n",
            "\n",
            "Qtd de ajustes do vetor de pesos na época 3 : 11 \n",
            "\n",
            "Qtd de ajustes do vetor de pesos na época 4 : 0 \n",
            "\n",
            "\n",
            "Vetor de pesos final (ajustado):  [  -0.4026  323.2462 -323.1873]\n",
            "Número total de ajustes do vetor de pesos: 55\n",
            "Número total de epocas: 4\n"
          ]
        }
      ]
    },
    {
      "cell_type": "code",
      "metadata": {
        "id": "CdZoAqlorNWC",
        "colab": {
          "base_uri": "https://localhost:8080/",
          "height": 606
        },
        "outputId": "d5514fab-39aa-4542-816e-e28969d37a39"
      },
      "source": [
        "plt.figure(figsize=(15,10))\n",
        "\n",
        "x_classe0 = []\n",
        "y_classe0 = []\n",
        "x_classe1 = []\n",
        "y_classe1 = []\n",
        "\n",
        "\n",
        "\n",
        "for example in df:\n",
        "   \n",
        "    if example[2] == 0.0:\n",
        "        x_classe0.append(example[0])\n",
        "        y_classe0.append(example[1])\n",
        "    if example[2] == 1.0:\n",
        "        x_classe1.append(example[0])\n",
        "        y_classe1.append(example[1])\n",
        "        \n",
        "plt.scatter(x_classe0, y_classe0, color='r', label='0')\n",
        "plt.scatter(x_classe1, y_classe1, color='b', label='1')\n",
        "\n",
        "plt.legend()\n",
        "plt.xlabel(\"x1\")\n",
        "plt.ylabel(\"x2\")\n",
        "\n",
        "x = np.arange(np.min(df[:,:1]),np.max(df[:,:1]), 0.1)\n",
        "slp = -(weight[0]/weight[2])\n",
        "plt.plot(x,  slp - (weight[1]/weight[2]*x), 'k', linewidth=2)\n",
        "\n",
        "\n",
        "\n",
        "'''end = (weight[0]/weight[2])\n",
        "abline_values = [slp * i + end for i in x_classe0]\n",
        "plt.plot(x_classe0, abline_values, 'b',color=\"black\")'''\n",
        "\n",
        "plt.show()"
      ],
      "execution_count": 303,
      "outputs": [
        {
          "output_type": "display_data",
          "data": {
            "image/png": "[encoded data removed]",
            "text/plain": [
              "<Figure size 1080x720 with 1 Axes>"
            ]
          },
          "metadata": {
            "needs_background": "light"
          }
        }
      ]
    },
    {
      "cell_type": "markdown",
      "metadata": {
        "id": "fWslZhJIw6LX"
      },
      "source": [
        "#Parte II – Executando\n"
      ]
    },
    {
      "cell_type": "code",
      "metadata": {
        "id": "4mfufQjVqX4B",
        "colab": {
          "base_uri": "https://localhost:8080/"
        },
        "outputId": "fa76ee81-3660-4c0f-a1ec-65c4c8aee7bd"
      },
      "source": [
        "x = 12%4\n",
        "print(x)"
      ],
      "execution_count": 304,
      "outputs": [
        {
          "output_type": "stream",
          "name": "stdout",
          "text": [
            "0\n"
          ]
        }
      ]
    },
    {
      "cell_type": "code",
      "metadata": {
        "id": "rtgb4yIkxE_I",
        "colab": {
          "base_uri": "https://localhost:8080/"
        },
        "outputId": "ccc10413-d2de-4397-a785-f4e4b5bd0198"
      },
      "source": [
        "df0 = np.fromfile('/content/Atividade_avaliativa-2.1-RNA/data/data0.txt')\n",
        "print(df0)"
      ],
      "execution_count": 305,
      "outputs": [
        {
          "output_type": "stream",
          "name": "stdout",
          "text": [
            "[-0.00149369 -0.03581784  0.         ...  1.02021556  0.86533059\n",
            "  1.        ]\n"
          ]
        }
      ]
    },
    {
      "cell_type": "code",
      "metadata": {
        "id": "6jtgEeuHxX3e",
        "colab": {
          "base_uri": "https://localhost:8080/"
        },
        "outputId": "d775cbdc-fcb6-4708-a8c8-169248440449"
      },
      "source": [
        "df0.shape"
      ],
      "execution_count": 306,
      "outputs": [
        {
          "output_type": "execute_result",
          "data": {
            "text/plain": [
              "(1800,)"
            ]
          },
          "metadata": {},
          "execution_count": 306
        }
      ]
    },
    {
      "cell_type": "code",
      "metadata": {
        "id": "Dz2ftxpLxdex",
        "colab": {
          "base_uri": "https://localhost:8080/"
        },
        "outputId": "39fff888-d047-4ee0-e9c8-f3d57470d38e"
      },
      "source": [
        "df0 = df0.reshape(600, 3)\n",
        "print(df0)"
      ],
      "execution_count": 307,
      "outputs": [
        {
          "output_type": "stream",
          "name": "stdout",
          "text": [
            "[[-0.00149369 -0.03581784  0.        ]\n",
            " [ 0.01234945  0.10249524  0.        ]\n",
            " [ 0.13954598  0.05607083  0.        ]\n",
            " ...\n",
            " [ 0.95751872  1.0035204   1.        ]\n",
            " [ 0.97981588  1.00949493  1.        ]\n",
            " [ 1.02021556  0.86533059  1.        ]]\n"
          ]
        }
      ]
    },
    {
      "cell_type": "code",
      "metadata": {
        "id": "Ojorr-D8x_oR"
      },
      "source": [
        "import numpy as np\n",
        "\n",
        "class Perceptron(object):\n",
        "    \n",
        "   def __init__(self, no_of_inputs, epoch=100, \n",
        "                    learning_rate=np.random.uniform(0.1, 0.4, 1), \n",
        "                    baias=-1, \n",
        "                    random_train_set=False, \n",
        "                    show_training=False,\n",
        "                    weights=(-5.0, 0.5),\n",
        "                    use_epoch=False):\n",
        "        self.epoch = epoch\n",
        "        self.learning_rate= learning_rate\n",
        "        self.weights = np.random.uniform(weights[0], \n",
        "                                            weights[1], \n",
        "                                            no_of_inputs + 1)\n",
        "        self.baias = baias\n",
        "        self.random_train_set = random_train_set\n",
        "        self.show_training = show_training\n",
        "        self.use_epoch = use_epoch\n",
        "    \n",
        "   def __add_baias(self, inputs):\n",
        "        new_inputs = []\n",
        "        for row in inputs:\n",
        "            new_row = np.insert(row, 0, self.baias)\n",
        "            new_inputs.append(new_row)\n",
        "        return np.array(new_inputs)\n",
        "\n",
        "   def __weight_adjust(self, x_train, y_predicto, y_real):\n",
        "        erro = y_predicto - y_real\n",
        "        self.weights -= self.learning_rate * erro * x_train\n",
        "        self.weights = np.round(self.weights, 4)\n",
        "\n",
        "   def __activ_func(self, u): \n",
        "        if u >= 0.0:\n",
        "            return 1.0\n",
        "        else:\n",
        "            return 0.0\n",
        "\n",
        "   def __error(self, y_predicto, y_real):\n",
        "        if y_predicto != y_real:\n",
        "            return True\n",
        "        else:\n",
        "            return False\n",
        "\n",
        "   def __random_sets(self, x_train, y_train):\n",
        "        # Randomizando os dados de treino\n",
        "        index = np.arange(len(x_train))\n",
        "        np.random.shuffle(index)\n",
        "        x_train = x_train[index]\n",
        "        y_train = y_train[index]\n",
        "        return x_train, y_train\n",
        "        #---------------------------------\n",
        "    \n",
        "   def predict(self, x_test):\n",
        "        x_test = self.__add_baias(x_test)\n",
        "        y_predicto = []\n",
        "        for _x_test in x_test:\n",
        "            u = np.sum(np.dot(_x_test, self.weights))\n",
        "            y = self.__activ_func(u)\n",
        "            y_predicto.append(y)\n",
        "        return np.array(y_predicto)\n",
        "\n",
        "   def __show_training(self, epoch, count_adjust):\n",
        "        print(\"\\n\\tÉpoca:\", epoch)\n",
        "        print(\"Pesos:\", self.weights)\n",
        "        print(\"Quantidade de Ajustes:\", count_adjust)\n",
        "\n",
        "   def __learning(self, x_train, y_train, no_erro):\n",
        "        count_adjust = 0\n",
        "        for x, y in zip(x_train, y_train):\n",
        "            u = np.sum(np.dot(x, self.weights))\n",
        "            y_predicto = self.__activ_func(u)\n",
        "            if self.__error(y_predicto, y):\n",
        "                self.__weight_adjust(x, y_predicto, y)\n",
        "                no_erro = False\n",
        "                count_adjust += 1\n",
        "        return no_erro, count_adjust\n",
        "\n",
        "\n",
        "   def __epochs(self, x_train, y_train):\n",
        "        no_erro = False\n",
        "        epoch = 1\n",
        "        total_adjust = 0\n",
        "        while no_erro != True:\n",
        "\n",
        "            if self.use_epoch:\n",
        "                if epoch == self.epoch:\n",
        "                    break\n",
        "                \n",
        "            if self.random_train_set:\n",
        "                x_train, y_train = self.__random_sets(x_train,\n",
        "                                                         y_train)\n",
        "            \n",
        "            no_erro = True\n",
        "            \n",
        "            no_erro, count_adjust = self.__learning(x_train, \n",
        "                                                        y_train,\n",
        "                                                        no_erro)\n",
        "\n",
        "            if self.show_training:\n",
        "                self.__show_training(epoch, count_adjust)\n",
        "\n",
        "            epoch += 1\n",
        "            total_adjust += count_adjust\n",
        "        return epoch, total_adjust\n",
        "\n",
        "\n",
        "   def total_values(self, x_train, y_train):\n",
        "\n",
        "        x_train = self.__add_baias(x_train)\n",
        "        epoch, total_adjust = self.__epochs(x_train, y_train)\n",
        "        return epoch, total_adjust"
      ],
      "execution_count": 308,
      "outputs": []
    },
    {
      "cell_type": "markdown",
      "metadata": {
        "id": "vlfAAv8E2ppZ"
      },
      "source": [
        "#Função para Gerar Valores dos Pesos"
      ]
    },
    {
      "cell_type": "code",
      "metadata": {
        "id": "6N8ho5hd2w-0"
      },
      "source": [
        "weight_max_1 = 100\n",
        "weight_min_1 = -100\n",
        "weight_max_2 = 0.5\n",
        "weight_min_2 = -0.5\n",
        "\n",
        "def new_weights():\n",
        "  weight_max_1 = 100\n",
        "  weight_min_1 = -100\n",
        "  weights_1 = random_weights(weight_min_1, weight_max_1)\n",
        "  print(\"Peso 1: \", weights_1)\n",
        "  \n",
        "  weight_max_2 = 0.5\n",
        "  weight_min_2 = -0.5\n",
        "  weights_2 = random_weights(weight_min_2, weight_max_2)\n",
        "  print(\"Peso 2: \", weights_2)\n",
        "  return weights_1, weights_2\n"
      ],
      "execution_count": 309,
      "outputs": []
    },
    {
      "cell_type": "markdown",
      "metadata": {
        "id": "ZIL6nJs9ppas"
      },
      "source": [
        "#Calculo dos pesos para as configs. 1 e 2\n"
      ]
    },
    {
      "cell_type": "code",
      "metadata": {
        "id": "R7W0u_9I3LUe",
        "colab": {
          "base_uri": "https://localhost:8080/"
        },
        "outputId": "c9d124fa-5110-47bb-a339-29d9166e40e3"
      },
      "source": [
        "weights_1, weights_2 = new_weights()\n",
        "\n"
      ],
      "execution_count": 310,
      "outputs": [
        {
          "output_type": "stream",
          "name": "stdout",
          "text": [
            "Peso 1:  [ 14.1957 -60.1175  42.7095]\n",
            "Peso 2:  [0.3666 0.3713 0.4714]\n"
          ]
        }
      ]
    },
    {
      "cell_type": "markdown",
      "metadata": {
        "id": "L4IVK8COmySm"
      },
      "source": [
        "#Configuração 1\n",
        "Valor da taxa de aprendizado: 0.4<br>\n",
        "Peso: wi ∼ U(-100, +100)"
      ]
    },
    {
      "cell_type": "code",
      "metadata": {
        "id": "vOESB0g-mySq"
      },
      "source": [
        "taxa_aprendizado = 0.4"
      ],
      "execution_count": 311,
      "outputs": []
    },
    {
      "cell_type": "code",
      "metadata": {
        "id": "CmIAQLB1mySr",
        "colab": {
          "base_uri": "https://localhost:8080/"
        },
        "outputId": "b62d291a-8618-48d2-e697-38a8a55c4e2f"
      },
      "source": [
        "epocas = []\n",
        "ajustes = []\n",
        "\n",
        "for i in range(1, 11):\n",
        "    perceptron = Perceptron(no_of_inputs=2, learning_rate=taxa_aprendizado, weights=weights_1)\n",
        "    treinamento_x = df0[:,[0,1]]\n",
        "    treinamento_y = df0[:,2]    \n",
        "    qtd_epocas, qtd_ajustes = perceptron.total_values(treinamento_x, treinamento_y)\n",
        "    epocas = np.append(epocas, qtd_epocas)\n",
        "    ajustes = np.append(ajustes, qtd_ajustes) \n",
        "\n",
        "def set_valores_media(values):\n",
        "  var = np.mean(values)\n",
        "  var = np.round(var,4)\n",
        "  return var\n",
        "\n",
        "def set_valores_desvio_padrao(values):\n",
        "  var = np.std(values)\n",
        "  var = np.round(var,4)\n",
        "  return var\n",
        "\n",
        "epocas_1 = epocas\n",
        "ajustes_1 = ajustes\n",
        "menor_qtde_epocas_1 = int(epocas_1.min())\n",
        "ajustes_media_1 = set_valores_media(ajustes_1)\n",
        "ajustes_desvio_padrao_1 = set_valores_desvio_padrao(ajustes_1)\n",
        "\n",
        "print(\"Menor quantidade de épocas: \", menor_qtde_epocas_1)\n",
        "print(\"Medias: Ajustes = \", ajustes_media_1, \"\\nDesvios Padrao: Ajustes = \", ajustes_desvio_padrao_1)"
      ],
      "execution_count": 312,
      "outputs": [
        {
          "output_type": "stream",
          "name": "stdout",
          "text": [
            "Menor quantidade de épocas:  6\n",
            "Medias: Ajustes =  239.9 \n",
            "Desvios Padrao: Ajustes =  105.2877\n"
          ]
        }
      ]
    },
    {
      "cell_type": "code",
      "metadata": {
        "id": "ocdmvCV_mySt",
        "colab": {
          "base_uri": "https://localhost:8080/"
        },
        "outputId": "376c70b4-4ae1-4789-958e-a3d1f524e1d1"
      },
      "source": [
        "weights = perceptron.weights\n",
        "print(weights)\n"
      ],
      "execution_count": 313,
      "outputs": [
        {
          "output_type": "stream",
          "name": "stdout",
          "text": [
            "[ 0.435  -0.4919  1.2352]\n"
          ]
        }
      ]
    },
    {
      "cell_type": "markdown",
      "metadata": {
        "id": "GwVxESskmySu"
      },
      "source": [
        "**Gráfico do conjunto de dados e a reta que separa as classes**"
      ]
    },
    {
      "cell_type": "code",
      "metadata": {
        "id": "Ty0shtQ7mySw",
        "colab": {
          "base_uri": "https://localhost:8080/",
          "height": 606
        },
        "outputId": "506dd242-ed20-446b-8fd2-3c36f2733dd8"
      },
      "source": [
        "plt.figure(figsize=(15,10))\n",
        "\n",
        "x_classe0 = []\n",
        "y_classe0 = []\n",
        "x_classe1 = []\n",
        "y_classe1 = []\n",
        "\n",
        "classe0 = []\n",
        "max = 0\n",
        "min = 0\n",
        "\n",
        "for example in df0:\n",
        "    if example[2] == 0.0:\n",
        "        x_classe0.append(example[0])\n",
        "        y_classe0.append(example[1])\n",
        "    if example[2] == 1.0:\n",
        "        x_classe1.append(example[0])\n",
        "        y_classe1.append(example[1])\n",
        "        \n",
        "plt.scatter(x_classe0, y_classe0, color='r', label='0')\n",
        "plt.scatter(x_classe1, y_classe1, color='b', label='1')\n",
        "\n",
        "plt.legend()\n",
        "plt.xlabel(\"x1\")\n",
        "plt.ylabel(\"x2\")\n",
        "\n",
        "\n",
        "x = np.arange(np.min(df0[:,:1]),np.max(df0[:,:1]), 0.1)\n",
        "slp =(weights[0]/weights[2])\n",
        "plt.plot(x,slp- (weights[1]/weights[2]*x), 'k', linewidth=2)\n",
        "\n",
        "plt.plot()\n",
        "plt.show()"
      ],
      "execution_count": 314,
      "outputs": [
        {
          "output_type": "display_data",
          "data": {
            "image/png": "[encoded data removed]",
            "text/plain": [
              "<Figure size 1080x720 with 1 Axes>"
            ]
          },
          "metadata": {
            "needs_background": "light"
          }
        }
      ]
    },
    {
      "cell_type": "markdown",
      "metadata": {
        "id": "driQsjGTm9mQ"
      },
      "source": [
        "#Configuração 2\n",
        "Valor da taxa de aprendizado: 0.4<br>\n",
        "Peso: wi ∼ U(-0.5, +0.5)"
      ]
    },
    {
      "cell_type": "code",
      "metadata": {
        "id": "IuvIx6v2m9mT",
        "colab": {
          "base_uri": "https://localhost:8080/"
        },
        "outputId": "c72412ac-c160-46e8-d5e0-e3eb784e26ce"
      },
      "source": [
        "epocas = []\n",
        "ajustes = []\n",
        "\n",
        "for i in range(1, 11):\n",
        "    perceptron = Perceptron(no_of_inputs=2, learning_rate=taxa_aprendizado, weights=weights_2)\n",
        "    treinamento_x = df0[:,[0,1]]\n",
        "    treinamento_y = df0[:,2]    \n",
        "    qtd_epocas, qtd_ajustes = perceptron.total_values(treinamento_x, treinamento_y)\n",
        "    epocas = np.append(epocas, qtd_epocas)\n",
        "    ajustes = np.append(ajustes, qtd_ajustes) \n",
        "\n",
        "def set_valores_media(values):\n",
        "  var = np.mean(values)\n",
        "  var = np.round(var,4)\n",
        "  return var\n",
        "\n",
        "def set_valores_desvio_padrao(values):\n",
        "  var = np.std(values)\n",
        "  var = np.round(var,4)\n",
        "  return var\n",
        "\n",
        "epocas_2 = epocas\n",
        "ajustes_2 = ajustes\n",
        "menor_qtde_epocas_2 = int(epocas_2.min())\n",
        "ajustes_media_2 = set_valores_media(ajustes_2)\n",
        "ajustes_desvio_padrao_2 = set_valores_desvio_padrao(ajustes_2)\n",
        "\n",
        "print(\"Menor quantidade de épocas: \", menor_qtde_epocas_2)\n",
        "print(\"Medias: Ajustes = \", ajustes_media_2, \"\\nDesvios Padrao: Ajustes = \", ajustes_desvio_padrao_2)"
      ],
      "execution_count": 315,
      "outputs": [
        {
          "output_type": "stream",
          "name": "stdout",
          "text": [
            "Menor quantidade de épocas:  3\n",
            "Medias: Ajustes =  2.0 \n",
            "Desvios Padrao: Ajustes =  0.0\n"
          ]
        }
      ]
    },
    {
      "cell_type": "code",
      "metadata": {
        "id": "74qR2EQim9mT",
        "colab": {
          "base_uri": "https://localhost:8080/"
        },
        "outputId": "f134b797-d81a-4464-98f8-03dd9d738c2d"
      },
      "source": [
        "weights = perceptron.weights\n",
        "print(weights)"
      ],
      "execution_count": 316,
      "outputs": [
        {
          "output_type": "stream",
          "name": "stdout",
          "text": [
            "[ 0.3674 -0.0112  0.7072]\n"
          ]
        }
      ]
    },
    {
      "cell_type": "markdown",
      "metadata": {
        "id": "TK7jxGWhm9mU"
      },
      "source": [
        "Gráfico do conjunto de dados e a reta que separa as classes"
      ]
    },
    {
      "cell_type": "code",
      "metadata": {
        "id": "h84EuZNRm9mU",
        "colab": {
          "base_uri": "https://localhost:8080/",
          "height": 606
        },
        "outputId": "5d01728c-122c-4408-b614-a9c9cd19e402"
      },
      "source": [
        "plt.figure(figsize=(15,10))\n",
        "\n",
        "x_classe0 = []\n",
        "y_classe0 = []\n",
        "x_classe1 = []\n",
        "y_classe1 = []\n",
        "\n",
        "classe0 = []\n",
        "max = 0\n",
        "min = 0\n",
        "\n",
        "for example in df0:\n",
        "    if example[2] == 0.0:\n",
        "        x_classe0.append(example[0])\n",
        "        y_classe0.append(example[1])\n",
        "    if example[2] == 1.0:\n",
        "        x_classe1.append(example[0])\n",
        "        y_classe1.append(example[1])\n",
        "        \n",
        "plt.scatter(x_classe0, y_classe0, color='r', label='0')\n",
        "plt.scatter(x_classe1, y_classe1, color='b', label='1')\n",
        "\n",
        "plt.legend()\n",
        "plt.xlabel(\"x1\")\n",
        "plt.ylabel(\"x2\")\n",
        "\n",
        "x = np.arange(np.min(df0[:,:1]),np.max(df0[:,:1]), 0.1)\n",
        "slp =(weights[0]/weights[2])\n",
        "plt.plot(x,slp- (weights[1]/weights[2]*x), 'k', linewidth=2)\n",
        "\n",
        "plt.plot()\n",
        "\n",
        "plt.show()"
      ],
      "execution_count": 317,
      "outputs": [
        {
          "output_type": "display_data",
          "data": {
            "image/png": "[encoded data removed]",
            "text/plain": [
              "<Figure size 1080x720 with 1 Axes>"
            ]
          },
          "metadata": {
            "needs_background": "light"
          }
        }
      ]
    },
    {
      "cell_type": "markdown",
      "metadata": {
        "id": "NpYKEljcpzOB"
      },
      "source": [
        "#Calculo dos pesos para as configs. 3 e 4\n"
      ]
    },
    {
      "cell_type": "code",
      "metadata": {
        "id": "qGfITKXmpyLe",
        "colab": {
          "base_uri": "https://localhost:8080/"
        },
        "outputId": "ac4f85f3-e86f-4746-e96a-1886969d6ba5"
      },
      "source": [
        "weights_1, weights_2 = new_weights()"
      ],
      "execution_count": 318,
      "outputs": [
        {
          "output_type": "stream",
          "name": "stdout",
          "text": [
            "Peso 1:  [ 7.6894 70.5738 20.1132]\n",
            "Peso 2:  [-0.0824 -0.2887  0.3968]\n"
          ]
        }
      ]
    },
    {
      "cell_type": "markdown",
      "metadata": {
        "id": "aEQyUYZzs_TL"
      },
      "source": [
        "#Configuração 3\n",
        "Valor da taxa de aprendizado: 0.1<br>\n",
        "Peso: wi ∼ U(-100, +100)"
      ]
    },
    {
      "cell_type": "code",
      "metadata": {
        "id": "bE2Gf26jtGIx"
      },
      "source": [
        "taxa_aprendizado = 0.1"
      ],
      "execution_count": 319,
      "outputs": []
    },
    {
      "cell_type": "code",
      "metadata": {
        "id": "H6OQ_Elcs_TM",
        "colab": {
          "base_uri": "https://localhost:8080/"
        },
        "outputId": "897d990b-abd3-4b73-92eb-1560e1a74fcc"
      },
      "source": [
        "epocas = []\n",
        "ajustes = []\n",
        "\n",
        "for i in range(1, 11):\n",
        "    perceptron = Perceptron(no_of_inputs=2, learning_rate=taxa_aprendizado, weights=weights_1)\n",
        "    treinamento_x = df0[:,[0,1]]\n",
        "    treinamento_y = df0[:,2]    \n",
        "    qtd_epocas, qtd_ajustes = perceptron.total_values(treinamento_x, treinamento_y)\n",
        "    epocas = np.append(epocas, qtd_epocas)\n",
        "    ajustes = np.append(ajustes, qtd_ajustes) \n",
        "\n",
        "def set_valores_media(values):\n",
        "  var = np.mean(values)\n",
        "  var = np.round(var,4)\n",
        "  return var\n",
        "\n",
        "def set_valores_desvio_padrao(values):\n",
        "  var = np.std(values)\n",
        "  var = np.round(var,4)\n",
        "  return var\n",
        "\n",
        "epocas_3 = epocas\n",
        "ajustes_3 = ajustes\n",
        "menor_qtde_epocas_3 = int(epocas_3.min())\n",
        "ajustes_media_3 = set_valores_media(ajustes_3)\n",
        "ajustes_desvio_padrao_3 = set_valores_desvio_padrao(ajustes_3)\n",
        "\n",
        "print(\"Menor quantidade de épocas: \", menor_qtde_epocas_3)\n",
        "print(\"Medias: Ajustes = \", ajustes_media_3, \"\\nDesvios Padrao: Ajustes = \", ajustes_desvio_padrao_3)"
      ],
      "execution_count": 320,
      "outputs": [
        {
          "output_type": "stream",
          "name": "stdout",
          "text": [
            "Menor quantidade de épocas:  24\n",
            "Medias: Ajustes =  351.7 \n",
            "Desvios Padrao: Ajustes =  155.622\n"
          ]
        }
      ]
    },
    {
      "cell_type": "code",
      "metadata": {
        "id": "ZAhZU7Z2s_TM",
        "colab": {
          "base_uri": "https://localhost:8080/"
        },
        "outputId": "8b4bb5af-201d-41d5-fbc3-91705f056d70"
      },
      "source": [
        "weights = perceptron.weights\n",
        "print(weights)"
      ],
      "execution_count": 321,
      "outputs": [
        {
          "output_type": "stream",
          "name": "stdout",
          "text": [
            "[37.9339 22.6079 56.7967]\n"
          ]
        }
      ]
    },
    {
      "cell_type": "markdown",
      "metadata": {
        "id": "o4aYEE5Hs_TM"
      },
      "source": [
        "Gráfico do conjunto de dados e a reta que separa as classes"
      ]
    },
    {
      "cell_type": "code",
      "metadata": {
        "id": "utKUbuzBs_TM",
        "colab": {
          "base_uri": "https://localhost:8080/",
          "height": 606
        },
        "outputId": "f4f4e9c5-1257-4b0b-b70b-34e1797ad360"
      },
      "source": [
        "plt.figure(figsize=(15,10))\n",
        "\n",
        "x_classe0 = []\n",
        "y_classe0 = []\n",
        "x_classe1 = []\n",
        "y_classe1 = []\n",
        "\n",
        "classe0 = []\n",
        "max = 0\n",
        "min = 0\n",
        "\n",
        "for example in df0:\n",
        "    if example[2] == 0.0:\n",
        "        x_classe0.append(example[0])\n",
        "        y_classe0.append(example[1])\n",
        "        classe0.append(example[0])\n",
        "    if example[2] == 1.0:\n",
        "        x_classe1.append(example[0])\n",
        "        y_classe1.append(example[1])\n",
        "        classe0.append(example[0])\n",
        "        \n",
        "plt.scatter(x_classe0, y_classe0, color='r', label='0')\n",
        "plt.scatter(x_classe1, y_classe1, color='b', label='1')\n",
        "\n",
        "plt.legend()\n",
        "plt.xlabel(\"x1\")\n",
        "plt.ylabel(\"x2\")\n",
        "\n",
        "x = np.arange(np.min(df0[:,:1]),np.max(df0[:,:1]), 0.1)\n",
        "slp =(weights[0]/weights[2])\n",
        "plt.plot(x,slp- (weights[1]/weights[2]*x), 'k', linewidth=2)\n",
        "\n",
        "plt.plot()\n",
        "plt.show()"
      ],
      "execution_count": 322,
      "outputs": [
        {
          "output_type": "display_data",
          "data": {
            "image/png": "[encoded data removed]",
            "text/plain": [
              "<Figure size 1080x720 with 1 Axes>"
            ]
          },
          "metadata": {
            "needs_background": "light"
          }
        }
      ]
    },
    {
      "cell_type": "markdown",
      "metadata": {
        "id": "o6n2xFBUrES1"
      },
      "source": [
        "#Configuração 4\n",
        "Valor da taxa de aprendizado: 0.1<br>\n",
        "Peso: wi ∼ U(-0.5, +0.5)"
      ]
    },
    {
      "cell_type": "code",
      "metadata": {
        "id": "eAO1vrD5rES_",
        "colab": {
          "base_uri": "https://localhost:8080/"
        },
        "outputId": "0e49e455-b459-4580-c99c-ccc56c9a178e"
      },
      "source": [
        "epocas = []\n",
        "ajustes = []\n",
        "\n",
        "for i in range(1, 11):\n",
        "    perceptron = Perceptron(no_of_inputs=2, learning_rate=taxa_aprendizado, weights=weights_1)\n",
        "    treinamento_x = df0[:,[0,1]]\n",
        "    treinamento_y = df0[:,2]    \n",
        "    qtd_epocas, qtd_ajustes = perceptron.total_values(treinamento_x, treinamento_y)\n",
        "    epocas = np.append(epocas, qtd_epocas)\n",
        "    ajustes = np.append(ajustes, qtd_ajustes) \n",
        "\n",
        "def set_valores_media(values):\n",
        "  var = np.mean(values)\n",
        "  var = np.round(var,4)\n",
        "  return var\n",
        "\n",
        "def set_valores_desvio_padrao(values):\n",
        "  var = np.std(values)\n",
        "  var = np.round(var,4)\n",
        "  return var\n",
        "\n",
        "epocas_4 = epocas\n",
        "ajustes_4 = ajustes\n",
        "menor_qtde_epocas_4 = int(epocas_4.min())\n",
        "ajustes_media_4 = set_valores_media(ajustes_4)\n",
        "ajustes_desvio_padrao_4 = set_valores_desvio_padrao(ajustes_4)\n",
        "\n",
        "print(\"Menor quantidade de épocas: \", menor_qtde_epocas_4)\n",
        "print(\"Medias: Ajustes = \", ajustes_media_4, \"\\nDesvios Padrao: Ajustes = \", ajustes_desvio_padrao_4)"
      ],
      "execution_count": 323,
      "outputs": [
        {
          "output_type": "stream",
          "name": "stdout",
          "text": [
            "Menor quantidade de épocas:  21\n",
            "Medias: Ajustes =  402.5 \n",
            "Desvios Padrao: Ajustes =  226.804\n"
          ]
        }
      ]
    },
    {
      "cell_type": "code",
      "metadata": {
        "id": "AX-1hne6rETA",
        "colab": {
          "base_uri": "https://localhost:8080/"
        },
        "outputId": "d08cd65a-aa45-410f-db61-9b8237d67a08"
      },
      "source": [
        "weights = perceptron.weights\n",
        "print(weights)"
      ],
      "execution_count": 324,
      "outputs": [
        {
          "output_type": "stream",
          "name": "stdout",
          "text": [
            "[42.3275 25.2461 63.4261]\n"
          ]
        }
      ]
    },
    {
      "cell_type": "markdown",
      "metadata": {
        "id": "Myc1Ges9rETA"
      },
      "source": [
        "Gráfico do conjunto de dados e a reta que separa as classes"
      ]
    },
    {
      "cell_type": "code",
      "metadata": {
        "id": "gRgUvvW8rETB",
        "colab": {
          "base_uri": "https://localhost:8080/",
          "height": 606
        },
        "outputId": "988f3d5e-6979-4dcf-a004-968d887265bc"
      },
      "source": [
        "plt.figure(figsize=(15,10))\n",
        "\n",
        "x_classe0 = []\n",
        "y_classe0 = []\n",
        "x_classe1 = []\n",
        "y_classe1 = []\n",
        "\n",
        "classe0 = []\n",
        "max = 0\n",
        "min = 0\n",
        "\n",
        "for example in df0:\n",
        "    if example[2] == 0.0:\n",
        "        x_classe0.append(example[0])\n",
        "        y_classe0.append(example[1])\n",
        "    if example[2] == 1.0:\n",
        "        x_classe1.append(example[0])\n",
        "        y_classe1.append(example[1])\n",
        "        \n",
        "plt.scatter(x_classe0, y_classe0, color='r', label='0')\n",
        "plt.scatter(x_classe1, y_classe1, color='b', label='1')\n",
        "\n",
        "plt.legend()\n",
        "plt.xlabel(\"x1\")\n",
        "plt.ylabel(\"x2\")\n",
        "\n",
        "\n",
        "x = np.arange(np.min(df0[:,:1]),np.max(df0[:,:1]), 0.1)\n",
        "slp =(weights[0]/weights[2])\n",
        "plt.plot(x,slp- (weights[1]/weights[2]*x), 'k', linewidth=2)\n",
        "\n",
        "plt.plot()\n",
        "plt.show()"
      ],
      "execution_count": 325,
      "outputs": [
        {
          "output_type": "display_data",
          "data": {
            "image/png": "[encoded data removed]",
            "text/plain": [
              "<Figure size 1080x720 with 1 Axes>"
            ]
          },
          "metadata": {
            "needs_background": "light"
          }
        }
      ]
    },
    {
      "cell_type": "markdown",
      "metadata": {
        "id": "xA-xpdxPrMwv"
      },
      "source": [
        "#Calculo dos pesos para as configs. 5 e 6\n"
      ]
    },
    {
      "cell_type": "code",
      "metadata": {
        "id": "be_FFBR7rMww",
        "colab": {
          "base_uri": "https://localhost:8080/"
        },
        "outputId": "adedaa02-5247-416a-bda3-99e8def02121"
      },
      "source": [
        "weights_1, weights_2 = new_weights()"
      ],
      "execution_count": 326,
      "outputs": [
        {
          "output_type": "stream",
          "name": "stdout",
          "text": [
            "Peso 1:  [-31.4559  87.2395 -31.7788]\n",
            "Peso 2:  [ 0.3845 -0.1217 -0.2735]\n"
          ]
        }
      ]
    },
    {
      "cell_type": "markdown",
      "metadata": {
        "id": "6X0r_HdkrRCa"
      },
      "source": [
        "#Configuração 5\n",
        "Valor da taxa de aprendizado: 0.01<br>\n",
        "Peso: wi ∼ U(-100, +100)"
      ]
    },
    {
      "cell_type": "code",
      "metadata": {
        "id": "esg47xlKrRCc"
      },
      "source": [
        "taxa_aprendizado = 0.01"
      ],
      "execution_count": 327,
      "outputs": []
    },
    {
      "cell_type": "code",
      "metadata": {
        "id": "qNYk88eorRCd",
        "colab": {
          "base_uri": "https://localhost:8080/"
        },
        "outputId": "b6491a1b-1e19-4e84-b3fd-2aeeb9152ec1"
      },
      "source": [
        "epocas = []\n",
        "ajustes = []\n",
        "\n",
        "for i in range(1, 11):\n",
        "    perceptron = Perceptron(no_of_inputs=2, learning_rate=taxa_aprendizado, weights=weights_1)\n",
        "    treinamento_x = df0[:,[0,1]]\n",
        "    treinamento_y = df0[:,2]    \n",
        "    qtd_epocas, qtd_ajustes = perceptron.total_values(treinamento_x, treinamento_y)\n",
        "    epocas = np.append(epocas, qtd_epocas)\n",
        "    ajustes = np.append(ajustes, qtd_ajustes) \n",
        "\n",
        "def set_valores_media(values):\n",
        "  var = np.mean(values)\n",
        "  var = np.round(var,4)\n",
        "  return var\n",
        "\n",
        "def set_valores_desvio_padrao(values):\n",
        "  var = np.std(values)\n",
        "  var = np.round(var,4)\n",
        "  return var\n",
        "\n",
        "epocas_5 = epocas\n",
        "ajustes_5 = ajustes\n",
        "menor_qtde_epocas_5 = int(epocas_5.min())\n",
        "ajustes_media_5 = set_valores_media(ajustes_5)\n",
        "ajustes_desvio_padrao_5 = set_valores_desvio_padrao(ajustes_5)\n",
        "\n",
        "print(\"Menor quantidade de épocas: \", menor_qtde_epocas_5)\n",
        "print(\"Medias: Ajustes = \", ajustes_media_5, \"\\nDesvios Padrao: Ajustes = \", ajustes_desvio_padrao_5)"
      ],
      "execution_count": 328,
      "outputs": [
        {
          "output_type": "stream",
          "name": "stdout",
          "text": [
            "Menor quantidade de épocas:  25\n",
            "Medias: Ajustes =  5213.4 \n",
            "Desvios Padrao: Ajustes =  2485.2193\n"
          ]
        }
      ]
    },
    {
      "cell_type": "code",
      "metadata": {
        "id": "nNovcGL6rRCg",
        "colab": {
          "base_uri": "https://localhost:8080/"
        },
        "outputId": "50943ddb-d056-49aa-9203-1046c2ab1994"
      },
      "source": [
        "weights = perceptron.weights\n",
        "print(weights)"
      ],
      "execution_count": 329,
      "outputs": [
        {
          "output_type": "stream",
          "name": "stdout",
          "text": [
            "[54.6295 32.679  81.7087]\n"
          ]
        }
      ]
    },
    {
      "cell_type": "markdown",
      "metadata": {
        "id": "QtMprbKgrRCh"
      },
      "source": [
        "Gráfico do conjunto de dados e a reta que separa as classes"
      ]
    },
    {
      "cell_type": "code",
      "metadata": {
        "id": "9d7mUc49rRCh",
        "colab": {
          "base_uri": "https://localhost:8080/",
          "height": 606
        },
        "outputId": "bd1df2ad-51e4-4163-8b4c-96f1fad8b1e7"
      },
      "source": [
        "plt.figure(figsize=(15,10))\n",
        "\n",
        "x_classe0 = []\n",
        "y_classe0 = []\n",
        "x_classe1 = []\n",
        "y_classe1 = []\n",
        "\n",
        "classe0 = []\n",
        "max = 0\n",
        "min = 0\n",
        "\n",
        "for example in df0:\n",
        "    if example[2] == 0.0:\n",
        "        x_classe0.append(example[0])\n",
        "        y_classe0.append(example[1])\n",
        "    if example[2] == 1.0:\n",
        "        x_classe1.append(example[0])\n",
        "        y_classe1.append(example[1])\n",
        "        \n",
        "plt.scatter(x_classe0, y_classe0, color='r', label='0')\n",
        "plt.scatter(x_classe1, y_classe1, color='b', label='1')\n",
        "\n",
        "plt.legend()\n",
        "plt.xlabel(\"x1\")\n",
        "plt.ylabel(\"x2\")\n",
        "\n",
        "x = np.arange(np.min(df0[:,:1]),np.max(df0[:,:1]), 0.1)\n",
        "slp =(weights[0]/weights[2])\n",
        "plt.plot(x,slp- (weights[1]/weights[2]*x), 'k', linewidth=2)\n",
        "\n",
        "plt.plot()\n",
        "\n",
        "plt.show()"
      ],
      "execution_count": 330,
      "outputs": [
        {
          "output_type": "display_data",
          "data": {
            "image/png": "[encoded data removed]",
            "text/plain": [
              "<Figure size 1080x720 with 1 Axes>"
            ]
          },
          "metadata": {
            "needs_background": "light"
          }
        }
      ]
    },
    {
      "cell_type": "markdown",
      "metadata": {
        "id": "p9FkKJxIrS_c"
      },
      "source": [
        "#Configuração 6\n",
        "Valor da taxa de aprendizado: 0.01<br>\n",
        "Peso: wi ∼ U(-0.5, +0.5)"
      ]
    },
    {
      "cell_type": "code",
      "metadata": {
        "id": "srkGp8QXrS_e",
        "colab": {
          "base_uri": "https://localhost:8080/"
        },
        "outputId": "a29ca053-d0cd-4e17-cf09-4e47ab25fdab"
      },
      "source": [
        "epocas = []\n",
        "ajustes = []\n",
        "\n",
        "for i in range(1, 11):\n",
        "    perceptron = Perceptron(no_of_inputs=2, learning_rate=taxa_aprendizado, weights=weights_1)\n",
        "    treinamento_x = df0[:,[0,1]]\n",
        "    treinamento_y = df0[:,2]    \n",
        "    qtd_epocas, qtd_ajustes = perceptron.total_values(treinamento_x, treinamento_y)\n",
        "    epocas = np.append(epocas, qtd_epocas)\n",
        "    ajustes = np.append(ajustes, qtd_ajustes) \n",
        "\n",
        "def set_valores_media(values):\n",
        "  var = np.mean(values)\n",
        "  var = np.round(var,4)\n",
        "  return var\n",
        "\n",
        "def set_valores_desvio_padrao(values):\n",
        "  var = np.std(values)\n",
        "  var = np.round(var,4)\n",
        "  return var\n",
        "\n",
        "epocas_6 = epocas\n",
        "ajustes_6 = ajustes\n",
        "menor_qtde_epocas_6 = int(epocas_6.min())\n",
        "ajustes_media_6 = set_valores_media(ajustes_6)\n",
        "ajustes_desvio_padrao_6 = set_valores_desvio_padrao(ajustes_6)\n",
        "\n",
        "print(\"Menor quantidade de épocas: \", menor_qtde_epocas_6)\n",
        "print(\"Medias: Ajustes = \", ajustes_media_6, \"\\nDesvios Padrao: Ajustes = \", ajustes_desvio_padrao_6)"
      ],
      "execution_count": 331,
      "outputs": [
        {
          "output_type": "stream",
          "name": "stdout",
          "text": [
            "Menor quantidade de épocas:  128\n",
            "Medias: Ajustes =  6638.6 \n",
            "Desvios Padrao: Ajustes =  3788.5996\n"
          ]
        }
      ]
    },
    {
      "cell_type": "code",
      "metadata": {
        "id": "mZfJ_IjVrS_f",
        "colab": {
          "base_uri": "https://localhost:8080/"
        },
        "outputId": "0c6ec88b-677a-40b6-e7e0-6a837844ad64"
      },
      "source": [
        "weights = perceptron.weights\n",
        "print(weights)"
      ],
      "execution_count": 332,
      "outputs": [
        {
          "output_type": "stream",
          "name": "stdout",
          "text": [
            "[6.3476 3.7906 9.5038]\n"
          ]
        }
      ]
    },
    {
      "cell_type": "markdown",
      "metadata": {
        "id": "k9qlK3lBrS_g"
      },
      "source": [
        "Gráfico do conjunto de dados e a reta que separa as classes"
      ]
    },
    {
      "cell_type": "code",
      "metadata": {
        "id": "AC8DOCESrS_g",
        "colab": {
          "base_uri": "https://localhost:8080/",
          "height": 606
        },
        "outputId": "11581045-58ba-4665-b1d1-7b77289f593f"
      },
      "source": [
        "plt.figure(figsize=(15,10))\n",
        "\n",
        "x_classe0 = []\n",
        "y_classe0 = []\n",
        "x_classe1 = []\n",
        "y_classe1 = []\n",
        "\n",
        "classe0 = []\n",
        "max = 0\n",
        "min = 0\n",
        "\n",
        "for example in df0:\n",
        "    if example[2] == 0.0:\n",
        "        x_classe0.append(example[0])\n",
        "        y_classe0.append(example[1])\n",
        "    if example[2] == 1.0:\n",
        "        x_classe1.append(example[0])\n",
        "        y_classe1.append(example[1])\n",
        "        \n",
        "plt.scatter(x_classe0, y_classe0, color='r', label='0')\n",
        "plt.scatter(x_classe1, y_classe1, color='b', label='1')\n",
        "\n",
        "plt.legend()\n",
        "plt.xlabel(\"x1\")\n",
        "plt.ylabel(\"x2\")\n",
        "\n",
        "x = np.arange(np.min(df0[:,:1]),np.max(df0[:,:1]), 0.1)\n",
        "slp =(weights[0]/weights[2])\n",
        "plt.plot(x,slp- (weights[1]/weights[2]*x), 'k', linewidth=2)\n",
        "\n",
        "plt.plot()\n",
        "\n",
        "plt.show()"
      ],
      "execution_count": 333,
      "outputs": [
        {
          "output_type": "display_data",
          "data": {
            "image/png": "[encoded data removed]",
            "text/plain": [
              "<Figure size 1080x720 with 1 Axes>"
            ]
          },
          "metadata": {
            "needs_background": "light"
          }
        }
      ]
    },
    {
      "cell_type": "markdown",
      "metadata": {
        "id": "OVB41L6tw_OF"
      },
      "source": [
        "#Tabela de Resultados Gerais"
      ]
    },
    {
      "cell_type": "code",
      "metadata": {
        "id": "MuF-J5EiwGJ-",
        "colab": {
          "base_uri": "https://localhost:8080/"
        },
        "outputId": "f6c76760-ea36-4701-b92f-f43c2d0ffbb6"
      },
      "source": [
        "from prettytable import PrettyTable\n",
        "t = PrettyTable()\n",
        "var_peso_1 = str(weight_min_1)+\"-->\"+str(weight_max_1)\n",
        "var_peso_2 = str(weight_min_2)+\"-->\"+str(weight_max_2)\n",
        "t.field_names = [\"Taxa de aprendizado\", \"Intervalo de pesos\", \"Media de Ajustes\", \"Desvio Padrao de Ajustes\", \"Menor No de Epocas para Convergencia\"]\n",
        "t.add_row([0.4,var_peso_1, ajustes_media_1, ajustes_desvio_padrao_1, menor_qtde_epocas_1])\n",
        "t.add_row([0.4,var_peso_2, ajustes_media_2, ajustes_desvio_padrao_2, menor_qtde_epocas_2])\n",
        "t.add_row([0.1,var_peso_1, ajustes_media_3, ajustes_desvio_padrao_3, menor_qtde_epocas_3])\n",
        "t.add_row([0.1,var_peso_2, ajustes_media_4, ajustes_desvio_padrao_4, menor_qtde_epocas_4])\n",
        "t.add_row([0.01,var_peso_1, ajustes_media_5, ajustes_desvio_padrao_5, menor_qtde_epocas_5])\n",
        "t.add_row([0.01,var_peso_2, ajustes_media_6, ajustes_desvio_padrao_6, menor_qtde_epocas_6])\n",
        "\n",
        "print (t)"
      ],
      "execution_count": 334,
      "outputs": [
        {
          "output_type": "stream",
          "name": "stdout",
          "text": [
            "+---------------------+--------------------+------------------+--------------------------+--------------------------------------+\n",
            "| Taxa de aprendizado | Intervalo de pesos | Media de Ajustes | Desvio Padrao de Ajustes | Menor No de Epocas para Convergencia |\n",
            "+---------------------+--------------------+------------------+--------------------------+--------------------------------------+\n",
            "|         0.4         |     -100-->100     |      239.9       |         105.2877         |                  6                   |\n",
            "|         0.4         |     -0.5-->0.5     |       2.0        |           0.0            |                  3                   |\n",
            "|         0.1         |     -100-->100     |      351.7       |         155.622          |                  24                  |\n",
            "|         0.1         |     -0.5-->0.5     |      402.5       |         226.804          |                  21                  |\n",
            "|         0.01        |     -100-->100     |      5213.4      |        2485.2193         |                  25                  |\n",
            "|         0.01        |     -0.5-->0.5     |      6638.6      |        3788.5996         |                 128                  |\n",
            "+---------------------+--------------------+------------------+--------------------------+--------------------------------------+\n"
          ]
        }
      ]
    },
    {
      "cell_type": "markdown",
      "metadata": {
        "id": "xPPb7YvwTb75"
      },
      "source": [
        "#Parte III – Validação Holdout em Problema Não-Linearmente Separável"
      ]
    },
    {
      "cell_type": "code",
      "metadata": {
        "id": "eM41Yz6QTdQv",
        "colab": {
          "base_uri": "https://localhost:8080/"
        },
        "outputId": "cb6dadff-a9e2-4d4c-8d43-b085d5956580"
      },
      "source": [
        "df_holdout = np.fromfile('/content/Atividade_avaliativa-2.1-RNA/data/dataHoldout.txt')\n",
        "print(df)"
      ],
      "execution_count": 335,
      "outputs": [
        {
          "output_type": "stream",
          "name": "stdout",
          "text": [
            "[[-363.7884  244.1423    0.    ]\n",
            " [ 328.7572 -256.7658    1.    ]\n",
            " [-164.9827  613.2164    0.    ]\n",
            " ...\n",
            " [ 872.4311  669.1192    1.    ]\n",
            " [ 822.6894 -702.6489    1.    ]\n",
            " [-140.147   734.0983    0.    ]]\n"
          ]
        }
      ]
    },
    {
      "cell_type": "code",
      "metadata": {
        "id": "SH15xTJaUjSj",
        "colab": {
          "base_uri": "https://localhost:8080/"
        },
        "outputId": "3f75b23f-5e4c-48d7-93a4-3c7fe3a7dd00"
      },
      "source": [
        "df_holdout.shape"
      ],
      "execution_count": 336,
      "outputs": [
        {
          "output_type": "execute_result",
          "data": {
            "text/plain": [
              "(2400,)"
            ]
          },
          "metadata": {},
          "execution_count": 336
        }
      ]
    },
    {
      "cell_type": "code",
      "metadata": {
        "id": "taVkuqa9UoQu",
        "colab": {
          "base_uri": "https://localhost:8080/"
        },
        "outputId": "6a7997a0-2e99-4b4d-efd6-bdbef0e2ce34"
      },
      "source": [
        "df_holdout = df_holdout.reshape(800, 3)\n",
        "print(df)"
      ],
      "execution_count": 337,
      "outputs": [
        {
          "output_type": "stream",
          "name": "stdout",
          "text": [
            "[[-363.7884  244.1423    0.    ]\n",
            " [ 328.7572 -256.7658    1.    ]\n",
            " [-164.9827  613.2164    0.    ]\n",
            " ...\n",
            " [ 872.4311  669.1192    1.    ]\n",
            " [ 822.6894 -702.6489    1.    ]\n",
            " [-140.147   734.0983    0.    ]]\n"
          ]
        }
      ]
    },
    {
      "cell_type": "markdown",
      "metadata": {
        "id": "xtr2LOWWV3kQ"
      },
      "source": [
        "\n",
        "\n",
        "#Gráfico Inicial\n",
        "\n",
        "\n",
        "\n",
        "\n",
        "\n",
        "\n"
      ]
    },
    {
      "cell_type": "code",
      "metadata": {
        "id": "7q-tZmDmU8T3",
        "colab": {
          "base_uri": "https://localhost:8080/",
          "height": 607
        },
        "outputId": "bd9174ff-ed08-4261-bc6a-510aee301b1d"
      },
      "source": [
        "x_classe0 = []\n",
        "y_classe0 = []\n",
        "x_classe1 = []\n",
        "y_classe1 = []\n",
        "\n",
        "plt.figure(figsize=(15,10))\n",
        "for example in df_holdout:\n",
        "    if example[2] == 0.0:\n",
        "        x_classe0.append(example[0])\n",
        "        y_classe0.append(example[1])\n",
        "    if example[2] == 1.0:\n",
        "        x_classe1.append(example[0])\n",
        "        y_classe1.append(example[1])\n",
        "plt.title('DataHoldout')\n",
        "plt.scatter(x_classe0, y_classe0, color='r', label='0')\n",
        "plt.scatter(x_classe1, y_classe1, color='b', label='1')\n",
        "plt.plot()\n",
        "plt.show()"
      ],
      "execution_count": 338,
      "outputs": [
        {
          "output_type": "display_data",
          "data": {
            "image/png": "[encoded data removed]",
            "text/plain": [
              "<Figure size 1080x720 with 1 Axes>"
            ]
          },
          "metadata": {
            "needs_background": "light"
          }
        }
      ]
    },
    {
      "cell_type": "markdown",
      "metadata": {
        "id": "5TUL6SiYWt-L"
      },
      "source": [
        "#Separando os dados em duas partições: Teste e Treinamento"
      ]
    },
    {
      "cell_type": "code",
      "metadata": {
        "id": "gv1ZaEC8XkGv",
        "colab": {
          "base_uri": "https://localhost:8080/"
        },
        "outputId": "a4ffaa93-38ac-4788-d7b7-d19e58769bd5"
      },
      "source": [
        "random.shuffle(df_holdout)\n",
        "\n",
        "X = df_holdout[:,:2]\n",
        "y = df_holdout[:,2:]\n",
        "\n",
        "X_train = X[:int(len(X)*0.7)]\n",
        "X_test = X[int(len(X)*0.7):]\n",
        "y_train = y[:int(len(y)*0.7)]\n",
        "y_test = y[int(len(y)*0.7):]\n",
        "\n",
        "print(len(X_train))\n",
        "print(len(X_test))\n",
        "print(len(y_train))\n",
        "print(len(y_test))"
      ],
      "execution_count": 344,
      "outputs": [
        {
          "output_type": "stream",
          "name": "stdout",
          "text": [
            "560\n",
            "240\n",
            "560\n",
            "240\n"
          ]
        }
      ]
    },
    {
      "cell_type": "markdown",
      "metadata": {
        "id": "7YGf2hFPZte4"
      },
      "source": [
        "#Configuração do Holdout\n"
      ]
    },
    {
      "cell_type": "code",
      "metadata": {
        "id": "XXq8bJuvZte4",
        "colab": {
          "base_uri": "https://localhost:8080/"
        },
        "outputId": "1bba1979-c351-45b0-c2ed-3a2809315dcb"
      },
      "source": [
        "epocas = []\n",
        "ajustes = []\n",
        "\n",
        "for i in range(1, 100):\n",
        "    perceptron = Perceptron(no_of_inputs=2, random_train_set=True)\n",
        "    treinamento_x = X_train\n",
        "    treinamento_y = y_train \n",
        "    qtd_epocas, qtd_ajustes = perceptron.total_values(treinamento_x, treinamento_y)\n",
        "    epocas = np.append(epocas, qtd_epocas)\n",
        "    ajustes = np.append(ajustes, qtd_ajustes) \n",
        "\n",
        "def set_valores_media(values):\n",
        "  var = np.mean(values)\n",
        "  var = np.round(var,4)\n",
        "  return var\n",
        "\n",
        "def set_valores_desvio_padrao(values):\n",
        "  var = np.std(values)\n",
        "  var = np.round(var,4)\n",
        "  return var\n",
        "\n",
        "epocas_h = epocas\n",
        "ajustes_h = ajustes\n",
        "menor_qtde_epocas_h = int(epocas_h.min())\n",
        "ajustes_media_h = set_valores_media(ajustes_h)\n",
        "ajustes_desvio_padrao_h = set_valores_desvio_padrao(ajustes_h)\n",
        "\n",
        "print(\"Menor quantidade de épocas: \", menor_qtde_epocas_h)\n",
        "print(\"Medias: Ajustes = \", ajustes_media_h, \"\\nDesvios Padrao: Ajustes = \", ajustes_desvio_padrao_h)"
      ],
      "execution_count": 340,
      "outputs": [
        {
          "output_type": "stream",
          "name": "stdout",
          "text": [
            "Menor quantidade de épocas:  2\n",
            "Medias: Ajustes =  0.7374 \n",
            "Desvios Padrao: Ajustes =  1.9979\n"
          ]
        }
      ]
    },
    {
      "cell_type": "code",
      "metadata": {
        "id": "6QgGjIbwZte5",
        "colab": {
          "base_uri": "https://localhost:8080/"
        },
        "outputId": "fa94e2ae-b7f5-41f9-e5fc-e59d9d313905"
      },
      "source": [
        "weights = perceptron.weights\n",
        "print(weights)"
      ],
      "execution_count": 341,
      "outputs": [
        {
          "output_type": "stream",
          "name": "stdout",
          "text": [
            "[-2.3393029  -2.01260676 -2.22026803]\n"
          ]
        }
      ]
    },
    {
      "cell_type": "markdown",
      "metadata": {
        "id": "5KFeAI5eZte5"
      },
      "source": [
        "#Matriz de confusão das previsões efetuadas para o conjunto de testes"
      ]
    },
    {
      "cell_type": "code",
      "metadata": {
        "id": "rptOUt06Zte5"
      },
      "source": [
        "y_pred = perceptron.predict(X_test)"
      ],
      "execution_count": 345,
      "outputs": []
    },
    {
      "cell_type": "code",
      "metadata": {
        "id": "NOBCzHsLIHK9",
        "colab": {
          "base_uri": "https://localhost:8080/",
          "height": 260
        },
        "outputId": "eeec1e73-49fb-45fb-97af-db6990f9a661"
      },
      "source": [
        "from sklearn.metrics import  confusion_matrix\n",
        "\n",
        "\n",
        "conf_matrix = confusion_matrix(y_pred, y_test)\n",
        "plt.matshow(conf_matrix, cmap=plt.cm.Greens)\n",
        "\n",
        "for (m, n), value in np.ndenumerate(conf_matrix):\n",
        "    plt.text(m, n, f\"{value}\", va=\"center\", ha=\"center\")\n",
        "plt.xlabel(\"y_pred\")\n",
        "plt.ylabel(\"y_test\")\n",
        "plt.colorbar()\n",
        "plt.plot()\n",
        "plt.show()"
      ],
      "execution_count": 346,
      "outputs": [
        {
          "output_type": "display_data",
          "data": {
            "image/png": "[encoded data removed]",
            "text/plain": [
              "<Figure size 288x288 with 2 Axes>"
            ]
          },
          "metadata": {
            "needs_background": "light"
          }
        }
      ]
    },
    {
      "cell_type": "markdown",
      "metadata": {
        "id": "eevdhdPvVt93"
      },
      "source": [
        "#acurácia da solução proposta para os dados do conjunto de treinamento"
      ]
    },
    {
      "cell_type": "code",
      "metadata": {
        "id": "DKSUqhRJVxRP",
        "colab": {
          "base_uri": "https://localhost:8080/"
        },
        "outputId": "f8bd1f40-8ba8-498c-cc27-d00f71a8e82c"
      },
      "source": [
        "from sklearn.metrics import  precision_score, accuracy_score, f1_score, recall_score\n",
        "acuracia = accuracy_score(y_pred, y_test)\n",
        "precisao = precision_score(y_pred, y_test)\n",
        "revogacao = recall_score(y_pred, y_test)\n",
        "fscore = f1_score(y_pred, y_test)\n",
        "\n",
        "print(\"Acuracia {:.3f}\".format(acuracia))\n",
        "print(\"Precisão: {:.3f}\".format(precisao))\n",
        "print(\"Revocação: {:.3f}\".format(revogacao))\n",
        "print(\"F1-Score: {:.3f}\".format(fscore))"
      ],
      "execution_count": 348,
      "outputs": [
        {
          "output_type": "stream",
          "name": "stdout",
          "text": [
            "Acuracia 0.746\n",
            "Precisão: 1.000\n",
            "Revocação: 0.716\n",
            "F1-Score: 0.835\n"
          ]
        }
      ]
    },
    {
      "cell_type": "markdown",
      "metadata": {
        "id": "B0HvIPnPa76n"
      },
      "source": [
        "Em tres das métricas, obtivemos resultados aceitáveis. Porém na precisão obtivemos o resultado 1, o que nos deixa na dúvida pois essa métrica nunca deverá ser 1 ou 100%. "
      ]
    }
  ]
}
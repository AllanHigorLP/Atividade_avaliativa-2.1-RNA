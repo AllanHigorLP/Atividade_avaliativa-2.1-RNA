{
  "nbformat": 4,
  "nbformat_minor": 0,
  "metadata": {
    "colab": {
      "name": "Atividade_2_1_RNA.ipynb",
      "provenance": [],
      "authorship_tag": "ABX9TyMIVD9crCXOtKdwVW304ec/",
      "include_colab_link": true
    },
    "kernelspec": {
      "name": "python3",
      "display_name": "Python 3"
    },
    "language_info": {
      "name": "python"
    }
  },
  "cells": [
    {
      "cell_type": "markdown",
      "metadata": {
        "id": "view-in-github",
        "colab_type": "text"
      },
      "source": [
        "<a href=\"https://colab.research.google.com/github/AllanHigorLP/Atividade_avaliativa-2.1-RNA/blob/main/Atividade_2_1_RNA.ipynb\" target=\"_parent\"><img src=\"https://colab.research.google.com/assets/colab-badge.svg\" alt=\"Open In Colab\"/></a>"
      ]
    },
    {
      "cell_type": "markdown",
      "metadata": {
        "id": "sOINEKc-Z3W-"
      },
      "source": [
        "# Parte I – Resolvendo um Problema Linearmente Separável"
      ]
    },
    {
      "cell_type": "code",
      "metadata": {
        "colab": {
          "base_uri": "https://localhost:8080/"
        },
        "id": "_smFeCExX-Bu",
        "outputId": "482fab5a-c95e-46e2-fb0a-ad1c61094690"
      },
      "source": [
        "x = 12%4\n",
        "print(x)"
      ],
      "execution_count": 1,
      "outputs": [
        {
          "output_type": "stream",
          "name": "stdout",
          "text": [
            "0\n"
          ]
        }
      ]
    },
    {
      "cell_type": "code",
      "metadata": {
        "colab": {
          "base_uri": "https://localhost:8080/"
        },
        "id": "qkblLVCXh_YG",
        "outputId": "3ddd2be7-3803-4374-897e-4e75b31324fd"
      },
      "source": [
        "from google.colab import drive\n",
        "drive.mount('/content/drive')"
      ],
      "execution_count": 49,
      "outputs": [
        {
          "output_type": "stream",
          "name": "stdout",
          "text": [
            "Mounted at /content/drive\n"
          ]
        }
      ]
    },
    {
      "cell_type": "code",
      "metadata": {
        "id": "JRJnUB-WZFwe"
      },
      "source": [
        "import numpy as np # linear algebra\n",
        "import pandas as pd # data processing, CSV file I/O (e.g. pd.read_csv)\n",
        "import seaborn as sns\n",
        "import matplotlib.pyplot as plt\n",
        "from sklearn.model_selection import train_test_split #to split the dataset for training and testing\n",
        "from sklearn import metrics\n",
        "import unicodedata"
      ],
      "execution_count": 50,
      "outputs": []
    },
    {
      "cell_type": "code",
      "metadata": {
        "id": "1PHMj1tn8s1e",
        "colab": {
          "base_uri": "https://localhost:8080/",
          "height": 299
        },
        "outputId": "37af925e-9af6-4a4a-f27c-53875d57defa"
      },
      "source": [
        "df = pd.read_fwf('/content/drive/My Drive/Colab Notebooks/dataAll.txt')\n",
        "e = np.fromfile(df, dtype='uint8')"
      ],
      "execution_count": 87,
      "outputs": [
        {
          "output_type": "error",
          "ename": "AttributeError",
          "evalue": "ignored",
          "traceback": [
            "\u001b[0;31m---------------------------------------------------------------------------\u001b[0m",
            "\u001b[0;31mAttributeError\u001b[0m                            Traceback (most recent call last)",
            "\u001b[0;32m<ipython-input-87-c0783664ce2c>\u001b[0m in \u001b[0;36m<module>\u001b[0;34m()\u001b[0m\n\u001b[1;32m      1\u001b[0m \u001b[0mdf\u001b[0m \u001b[0;34m=\u001b[0m \u001b[0mpd\u001b[0m\u001b[0;34m.\u001b[0m\u001b[0mread_fwf\u001b[0m\u001b[0;34m(\u001b[0m\u001b[0;34m'/content/drive/My Drive/Colab Notebooks/dataAll.txt'\u001b[0m\u001b[0;34m,\u001b[0m \u001b[0msep\u001b[0m\u001b[0;34m=\u001b[0m\u001b[0;34m\";\"\u001b[0m\u001b[0;34m)\u001b[0m\u001b[0;34m\u001b[0m\u001b[0;34m\u001b[0m\u001b[0m\n\u001b[0;32m----> 2\u001b[0;31m \u001b[0me\u001b[0m \u001b[0;34m=\u001b[0m \u001b[0mnp\u001b[0m\u001b[0;34m.\u001b[0m\u001b[0mfromfile\u001b[0m\u001b[0;34m(\u001b[0m\u001b[0mdf\u001b[0m\u001b[0;34m,\u001b[0m \u001b[0mdtype\u001b[0m\u001b[0;34m=\u001b[0m\u001b[0;34m'uint8'\u001b[0m\u001b[0;34m)\u001b[0m\u001b[0;34m\u001b[0m\u001b[0;34m\u001b[0m\u001b[0m\n\u001b[0m",
            "\u001b[0;32m/usr/local/lib/python3.7/dist-packages/pandas/core/generic.py\u001b[0m in \u001b[0;36m__getattr__\u001b[0;34m(self, name)\u001b[0m\n\u001b[1;32m   5139\u001b[0m             \u001b[0;32mif\u001b[0m \u001b[0mself\u001b[0m\u001b[0;34m.\u001b[0m\u001b[0m_info_axis\u001b[0m\u001b[0;34m.\u001b[0m\u001b[0m_can_hold_identifiers_and_holds_name\u001b[0m\u001b[0;34m(\u001b[0m\u001b[0mname\u001b[0m\u001b[0;34m)\u001b[0m\u001b[0;34m:\u001b[0m\u001b[0;34m\u001b[0m\u001b[0;34m\u001b[0m\u001b[0m\n\u001b[1;32m   5140\u001b[0m                 \u001b[0;32mreturn\u001b[0m \u001b[0mself\u001b[0m\u001b[0;34m[\u001b[0m\u001b[0mname\u001b[0m\u001b[0;34m]\u001b[0m\u001b[0;34m\u001b[0m\u001b[0;34m\u001b[0m\u001b[0m\n\u001b[0;32m-> 5141\u001b[0;31m             \u001b[0;32mreturn\u001b[0m \u001b[0mobject\u001b[0m\u001b[0;34m.\u001b[0m\u001b[0m__getattribute__\u001b[0m\u001b[0;34m(\u001b[0m\u001b[0mself\u001b[0m\u001b[0;34m,\u001b[0m \u001b[0mname\u001b[0m\u001b[0;34m)\u001b[0m\u001b[0;34m\u001b[0m\u001b[0;34m\u001b[0m\u001b[0m\n\u001b[0m\u001b[1;32m   5142\u001b[0m \u001b[0;34m\u001b[0m\u001b[0m\n\u001b[1;32m   5143\u001b[0m     \u001b[0;32mdef\u001b[0m \u001b[0m__setattr__\u001b[0m\u001b[0;34m(\u001b[0m\u001b[0mself\u001b[0m\u001b[0;34m,\u001b[0m \u001b[0mname\u001b[0m\u001b[0;34m:\u001b[0m \u001b[0mstr\u001b[0m\u001b[0;34m,\u001b[0m \u001b[0mvalue\u001b[0m\u001b[0;34m)\u001b[0m \u001b[0;34m->\u001b[0m \u001b[0;32mNone\u001b[0m\u001b[0;34m:\u001b[0m\u001b[0;34m\u001b[0m\u001b[0;34m\u001b[0m\u001b[0m\n",
            "\u001b[0;31mAttributeError\u001b[0m: 'DataFrame' object has no attribute 'flush'"
          ]
        }
      ]
    },
    {
      "cell_type": "code",
      "metadata": {
        "colab": {
          "base_uri": "https://localhost:8080/",
          "height": 470
        },
        "id": "litm7nbaZH5V",
        "outputId": "8f431b6e-2d6a-4a5e-e784-a09b32e28ca0"
      },
      "source": [
        "df.head(-1)\n"
      ],
      "execution_count": 83,
      "outputs": [
        {
          "output_type": "execute_result",
          "data": {
            "text/html": [
              "<div>\n",
              "<style scoped>\n",
              "    .dataframe tbody tr th:only-of-type {\n",
              "        vertical-align: middle;\n",
              "    }\n",
              "\n",
              "    .dataframe tbody tr th {\n",
              "        vertical-align: top;\n",
              "    }\n",
              "\n",
              "    .dataframe thead th {\n",
              "        text-align: right;\n",
              "    }\n",
              "</style>\n",
              "<table border=\"1\" class=\"dataframe\">\n",
              "  <thead>\n",
              "    <tr style=\"text-align: right;\">\n",
              "      <th></th>\n",
              "      <th>��QI��v�\u0011Ǻ���n@\u0000\u0000\u0000\u0000\u0000\u0000\u0000\u0000�H�}\u001d�t@n4��@\fp�\u0000\u0000\u0000\u0000\u0000\u0000�?�8EGr�d��V�/�)�@\u0000\u0000\u0000\u0000\u0000\u0000\u0000\u0000Nb\u0010X�Ā@\\�����@\u0000\u0000\u0000\u0000\u0000\u0000\u0000\u0000B&gt;�٬�s@fffff}u@\u0000\u0000\u0000\u0000\u0000\u0000\u0000\u0000�rh���U�Ԛ�\u001d�/s�\u0000\u0000\u0000\u0000\u0000\u0000�?��ڊ��e��w��#H�\u0000\u0000\u0000\u0000\u0000\u0000�?�lV}���@)�\u0010Ǻdv@\u0000\u0000\u0000\u0000\u0000\u0000�?����ۂ�@2�%��p@\u0000\u0000\u0000\u0000\u0000\u0000�?�\u0017&amp;S\u0005m�@�bٽ\u000b��\u0000\u0000\u0000\u0000\u0000\u0000�?�ǘ��\u0010'@P�\u0018s�c��\u0000\u0000\u0000\u0000\u0000\u0000�?KY�8V��,e\u0019���@\u0000\u0000\u0000\u0000\u0000\u0000\u0000\u0000䃞ͪ\u001df@\"lxz���@\u0000\u0000\u0000\u0000\u0000\u0000\u0000\u0000�B�i^\u001a�@t$��\u0010��@\u0000\u0000\u0000\u0000\u0000\u0000\u0000\u0000�^)�\u0010�H�\u0015\u001d��?\\e�\u0000\u0000\u0000\u0000\u0000\u0000�?�\u0014\u001d��~��\u0004ŏ1�d�\u0000\u0000\u0000\u0000\u0000\u0000\u0000\u0000��&lt;����lxz�,�P@\u0000\u0000\u0000\u0000\u0000\u0000\u0000\u0000\u0014?�ܵT�p_\u0007�\u0019�@�\u0000\u0000\u0000\u0000\u0000\u0000\u0000\u00007�A`�ω@ۊ�ew�@\u0000\u0000\u0000\u0000\u0000\u0000�?�]K�\u0007�~@�</th>\n",
              "      <th>Unnamed: 1</th>\n",
              "      <th>Unnamed: 2</th>\n",
              "    </tr>\n",
              "  </thead>\n",
              "  <tbody>\n",
              "    <tr>\n",
              "      <th>0</th>\n",
              "      <td>�0��u�\u0000\u0000\u0000\u0000\u0000\u0000�?1�*\u0018\u0015o�@��JY�Վ�\u0000\u0000\u0000\u0000\u0000\u0000�?����:����...</td>\n",
              "      <td>NaN</td>\n",
              "      <td>NaN</td>\n",
              "    </tr>\n",
              "    <tr>\n",
              "      <th>1</th>\n",
              "      <td>�0���\u0000\u0000\u0000\u0000\u0000\u0000\u0000\u0000�\u0004ŏ�\u0012���ͪ�U&amp;�@\u0000\u0000\u0000\u0000\u0000\u0000\u0000\u0000\\t��g3����m...</td>\n",
              "      <td>NaN</td>\n",
              "      <td>NaN</td>\n",
              "    </tr>\n",
              "    <tr>\n",
              "      <th>2</th>\n",
              "      <td>�@\u0011Ǻ�����\u0000\u0000\u0000\u0000\u0000\u0000�?�St$���T����\u0000\u0000\u0000\u0000\u0000\u0000�?�i�q���@...</td>\n",
              "      <td>NaN</td>\n",
              "      <td>NaN</td>\n",
              "    </tr>\n",
              "    <tr>\n",
              "      <th>3</th>\n",
              "      <td>�-��W�\u0000\u0000\u0000\u0000\u0000\u0000�?J{�/L��@pΈ��\u0016@\u0000\u0000\u0000\u0000\u0000\u0000�?h��|?�t��...</td>\n",
              "      <td>NaN</td>\n",
              "      <td>NaN</td>\n",
              "    </tr>\n",
              "    <tr>\n",
              "      <th>4</th>\n",
              "      <td>�c��8EGr�@\u0000\u0000\u0000\u0000\u0000\u0000\u0000\u0000,e\u0019�X�u@n4��@\\�@\u0000\u0000\u0000\u0000\u0000\u0000\u0000\u0000R�\u001e...</td>\n",
              "      <td>NaN</td>\n",
              "      <td>NaN</td>\n",
              "    </tr>\n",
              "    <tr>\n",
              "      <th>...</th>\n",
              "      <td>...</td>\n",
              "      <td>...</td>\n",
              "      <td>...</td>\n",
              "    </tr>\n",
              "    <tr>\n",
              "      <th>80</th>\n",
              "      <td>�-�r�+�\u0016��]k@\u0000\u0000\u0000\u0000\u0000\u0000\u0000\u00000*�\u0013Л{@��QI��N@\u0000\u0000\u0000\u0000\u0000\u0000�?aT...</td>\n",
              "      <td>NaN</td>\n",
              "      <td>NaN</td>\n",
              "    </tr>\n",
              "    <tr>\n",
              "      <th>81</th>\n",
              "      <td>�0B��J{�/L�t@\u0000\u0000\u0000\u0000\u0000\u0000\u0000\u0000t$����{@�c]�F�[@\u0000\u0000\u0000\u0000\u0000\u0000�?�...</td>\n",
              "      <td>NaN</td>\n",
              "      <td>NaN</td>\n",
              "    </tr>\n",
              "    <tr>\n",
              "      <th>82</th>\n",
              "      <td>��\u0000\u0000\u0000\u0000\u0000\u0000�?$(~��[N�\u0016�����x�\u0000\u0000\u0000\u0000\u0000\u0000�?\b�\u001cZd�a@l\\t�...</td>\n",
              "      <td>NaN</td>\n",
              "      <td>NaN</td>\n",
              "    </tr>\n",
              "    <tr>\n",
              "      <th>83</th>\n",
              "      <td>O�tS�X�2�1���\u0000\u0000\u0000\u0000\u0000\u0000�?Q�\u001b|a��4��@��t�\u0000\u0000\u0000\u0000\u0000\u0000\u0000\u0000\u0018�...</td>\n",
              "      <td>NaN</td>\n",
              "      <td>NaN</td>\n",
              "    </tr>\n",
              "    <tr>\n",
              "      <th>84</th>\n",
              "      <td>�-�.p@��k\\t��\u0014�\u0000\u0000\u0000\u0000\u0000\u0000�?�'\u000f\u000b�\u0006;@gDiop��\u0000\u0000\u0000\u0000\u0000\u0000�?...</td>\n",
              "      <td>NaN</td>\n",
              "      <td>NaN</td>\n",
              "    </tr>\n",
              "  </tbody>\n",
              "</table>\n",
              "<p>85 rows × 3 columns</p>\n",
              "</div>"
            ],
            "text/plain": [
              "   ��QI��v�\u0011Ǻ���n@\u0000\u0000\u0000\u0000\u0000\u0000\u0000\u0000�H�}\n",
              "�t@n4��@\n",
              "p�\u0000\u0000\u0000\u0000\u0000\u0000�?�8EGr�d��V�/�)�@\u0000\u0000\u0000\u0000\u0000\u0000\u0000\u0000Nb\u0010X�Ā@\\�����@\u0000\u0000\u0000\u0000\u0000\u0000\u0000\u0000B>�٬�s@fffff}u@\u0000\u0000\u0000\u0000\u0000\u0000\u0000\u0000�rh���U�Ԛ�\n",
              "�/s�\u0000\u0000\u0000\u0000\u0000\u0000�?��ڊ��e��w��#H�\u0000\u0000\u0000\u0000\u0000\u0000�?�lV}���@)�\u0010Ǻdv@\u0000\u0000\u0000\u0000\u0000\u0000�?����ۂ�@2�%��p@\u0000\u0000\u0000\u0000\u0000\u0000�?�\u0017&S\u0005m�@�bٽ\n",
              "��\u0000\u0000\u0000\u0000\u0000\u0000�?�ǘ��\u0010'@P�\u0018s�c��\u0000\u0000\u0000\u0000\u0000\u0000�?KY�8V��,e\u0019���@\u0000\u0000\u0000\u0000\u0000\u0000\u0000\u0000䃞ͪ\n",
              "f@\"lxz���@\u0000\u0000\u0000\u0000\u0000\u0000\u0000\u0000�B�i^\u001a�@t$��\u0010��@\u0000\u0000\u0000\u0000\u0000\u0000\u0000\u0000�^)�\u0010�H�\u0015\n",
              "��?\\e�\u0000\u0000\u0000\u0000\u0000\u0000�?�\u0014\n",
              "��~��\u0004ŏ1�d�\u0000\u0000\u0000\u0000\u0000\u0000\u0000\u0000��<����lxz�,�P@\u0000\u0000\u0000\u0000\u0000\u0000\u0000\u0000\u0014?�ܵT�p_\u0007�\u0019�@�\u0000\u0000\u0000\u0000\u0000\u0000\u0000\u00007�A`�ω@ۊ�ew�@\u0000\u0000\u0000\u0000\u0000\u0000�?�]K�\u0007�~@�  ... Unnamed: 2\n",
              "0   �0��u�\u0000\u0000\u0000\u0000\u0000\u0000�?1�*\u0018\u0015o�@��JY�Վ�\u0000\u0000\u0000\u0000\u0000\u0000�?����:����...                                                                                                                                                                                                                                                                                                                                                                                                          ...        NaN\n",
              "1   �0���\u0000\u0000\u0000\u0000\u0000\u0000\u0000\u0000�\u0004ŏ�\u0012���ͪ�U&�@\u0000\u0000\u0000\u0000\u0000\u0000\u0000\u0000\\t��g3����m...                                                                                                                                                                                                                                                                                                                                                                                                          ...        NaN\n",
              "2   �@\u0011Ǻ�����\u0000\u0000\u0000\u0000\u0000\u0000�?�St$���T����\u0000\u0000\u0000\u0000\u0000\u0000�?�i�q���@...                                                                                                                                                                                                                                                                                                                                                                                                          ...        NaN\n",
              "3   �-��W�\u0000\u0000\u0000\u0000\u0000\u0000�?J{�/L��@pΈ��\u0016@\u0000\u0000\u0000\u0000\u0000\u0000�?h��|?�t��...                                                                                                                                                                                                                                                                                                                                                                                                          ...        NaN\n",
              "4   �c��8EGr�@\u0000\u0000\u0000\u0000\u0000\u0000\u0000\u0000,e\u0019�X�u@n4��@\\�@\u0000\u0000\u0000\u0000\u0000\u0000\u0000\u0000R�\n",
              "...                                                                                                                                                                                                                                                                                                                                                                                                          ...        NaN\n",
              "..                                                ...                                                                                                                                                                                                                                                                                                                                                                                                          ...        ...\n",
              "80  �-�r�+�\u0016��]k@\u0000\u0000\u0000\u0000\u0000\u0000\u0000\u00000*�\u0013Л{@��QI��N@\u0000\u0000\u0000\u0000\u0000\u0000�?aT...                                                                                                                                                                                                                                                                                                                                                                                                          ...        NaN\n",
              "81  �0B��J{�/L�t@\u0000\u0000\u0000\u0000\u0000\u0000\u0000\u0000t$����{@�c]�F�[@\u0000\u0000\u0000\u0000\u0000\u0000�?�...                                                                                                                                                                                                                                                                                                                                                                                                          ...        NaN\n",
              "82  ��\u0000\u0000\u0000\u0000\u0000\u0000�?$(~��[N�\u0016�����x�\u0000\u0000\u0000\u0000\u0000\u0000�?\b�\n",
              "Zd�a@l\\t�...                                                                                                                                                                                                                                                                                                                                                                                                          ...        NaN\n",
              "83  O�tS�X�2�1���\u0000\u0000\u0000\u0000\u0000\u0000�?Q�\u001b|a��4��@��t�\u0000\u0000\u0000\u0000\u0000\u0000\u0000\u0000\u0018�...                                                                                                                                                                                                                                                                                                                                                                                                          ...        NaN\n",
              "84  �-�.p@��k\\t��\u0014�\u0000\u0000\u0000\u0000\u0000\u0000�?�'\u000f\n",
              "�\u0006;@gDiop��\u0000\u0000\u0000\u0000\u0000\u0000�?...                                                                                                                                                                                                                                                                                                                                                                                                          ...        NaN\n",
              "\n",
              "[85 rows x 3 columns]"
            ]
          },
          "metadata": {},
          "execution_count": 83
        }
      ]
    }
  ]
}
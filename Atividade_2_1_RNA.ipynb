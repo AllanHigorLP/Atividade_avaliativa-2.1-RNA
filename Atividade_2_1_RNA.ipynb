{
  "nbformat": 4,
  "nbformat_minor": 0,
  "metadata": {
    "colab": {
      "name": "Atividade 2.1 - RNA.ipynb",
      "provenance": [],
      "collapsed_sections": [],
      "include_colab_link": true
    },
    "kernelspec": {
      "display_name": "Python 3",
      "name": "python3"
    },
    "language_info": {
      "name": "python"
    }
  },
  "cells": [
    {
      "cell_type": "markdown",
      "metadata": {
        "id": "view-in-github",
        "colab_type": "text"
      },
      "source": [
        "<a href=\"https://colab.research.google.com/github/AllanHigorLP/Atividade_avaliativa-2.1-RNA/blob/main/Atividade_2_1_RNA.ipynb\" target=\"_parent\"><img src=\"https://colab.research.google.com/assets/colab-badge.svg\" alt=\"Open In Colab\"/></a>"
      ]
    },
    {
      "cell_type": "markdown",
      "metadata": {
        "id": "wEEpwdwNqtr2"
      },
      "source": [
        "# Detalhamento da Atividade"
      ]
    },
    {
      "cell_type": "code",
      "metadata": {
        "id": "eJyZxaKhq03F"
      },
      "source": [
        "import numpy as np # linear algebra\n",
        "import pandas as pd # data processing, CSV file I/O (e.g. pd.read_csv)\n",
        "import seaborn as sns\n",
        "import matplotlib.pyplot as plt\n",
        "from sklearn.model_selection import train_test_split #to split the dataset for training and testing\n",
        "from sklearn import metrics\n",
        "import unicodedata\n",
        "import io\n",
        "import random"
      ],
      "execution_count": 132,
      "outputs": []
    },
    {
      "cell_type": "code",
      "metadata": {
        "colab": {
          "base_uri": "https://localhost:8080/"
        },
        "id": "Ra8KOSdxq5NS",
        "outputId": "78d4b867-4487-4c84-e977-c396821ecfa4"
      },
      "source": [
        "!git clone https://github.com/AllanHigorLP/Atividade_avaliativa-2.1-RNA/"
      ],
      "execution_count": 133,
      "outputs": [
        {
          "output_type": "stream",
          "name": "stdout",
          "text": [
            "fatal: destination path 'Atividade_avaliativa-2.1-RNA' already exists and is not an empty directory.\n"
          ]
        }
      ]
    },
    {
      "cell_type": "code",
      "metadata": {
        "colab": {
          "base_uri": "https://localhost:8080/"
        },
        "id": "9tCwbqKnq7O7",
        "outputId": "8c4b0869-80b0-4351-f124-bb7f8520ad7f"
      },
      "source": [
        "df = np.fromfile('/content/Atividade_avaliativa-2.1-RNA/data/dataAll.txt')\n",
        "print(df)"
      ],
      "execution_count": 134,
      "outputs": [
        {
          "output_type": "stream",
          "name": "stdout",
          "text": [
            "[-363.7884  244.1423    0.     ... -140.147   734.0983    0.    ]\n"
          ]
        }
      ]
    },
    {
      "cell_type": "code",
      "metadata": {
        "colab": {
          "base_uri": "https://localhost:8080/"
        },
        "id": "FNSYMK_Jq9S_",
        "outputId": "aa3fea1b-cf9a-420a-ffc1-c563e168b87b"
      },
      "source": [
        "df.shape"
      ],
      "execution_count": 135,
      "outputs": [
        {
          "output_type": "execute_result",
          "data": {
            "text/plain": [
              "(3000,)"
            ]
          },
          "metadata": {},
          "execution_count": 135
        }
      ]
    },
    {
      "cell_type": "code",
      "metadata": {
        "colab": {
          "base_uri": "https://localhost:8080/"
        },
        "id": "Irl3HLzKq_D1",
        "outputId": "12cbf882-ab1f-4074-c806-54b67468e2a2"
      },
      "source": [
        "df = df.reshape(1000, 3)\n",
        "print(df)"
      ],
      "execution_count": 136,
      "outputs": [
        {
          "output_type": "stream",
          "name": "stdout",
          "text": [
            "[[-363.7884  244.1423    0.    ]\n",
            " [ 328.7572 -256.7658    1.    ]\n",
            " [-164.9827  613.2164    0.    ]\n",
            " ...\n",
            " [ 872.4311  669.1192    1.    ]\n",
            " [ 822.6894 -702.6489    1.    ]\n",
            " [-140.147   734.0983    0.    ]]\n"
          ]
        }
      ]
    },
    {
      "cell_type": "markdown",
      "metadata": {
        "id": "d1Cf4V0y1u4S"
      },
      "source": [
        "#Função para Gerar Valores Aleatorios Uniformemente Distribuidos"
      ]
    },
    {
      "cell_type": "code",
      "metadata": {
        "id": "Y414CLgt2DFb"
      },
      "source": [
        "def random_weights(min,max):\n",
        "  w = np.random.uniform(min, max, size=3)\n",
        "  w = np.round(w,4)\n",
        "  return w"
      ],
      "execution_count": 137,
      "outputs": []
    },
    {
      "cell_type": "markdown",
      "metadata": {
        "id": "rfy4N9KFrCvJ"
      },
      "source": [
        "# Parte I – Resolvendo um Problema Linearmente Separável"
      ]
    },
    {
      "cell_type": "code",
      "metadata": {
        "id": "FMcMhr4nrFle"
      },
      "source": [
        "# n (taxa de aprendizado)\n",
        "theta = 0.0\n",
        "n = 0.1\n",
        "bias = 1.0\n"
      ],
      "execution_count": 138,
      "outputs": []
    },
    {
      "cell_type": "code",
      "metadata": {
        "colab": {
          "base_uri": "https://localhost:8080/"
        },
        "id": "MPI6fSYorHb3",
        "outputId": "c99271f7-e162-4315-a263-f4a2dba4cf7b"
      },
      "source": [
        "weight = random_weights(-0.5,0.5)\n",
        "print(weight)"
      ],
      "execution_count": 139,
      "outputs": [
        {
          "output_type": "stream",
          "name": "stdout",
          "text": [
            "[ 0.3121  0.0413 -0.2246]\n"
          ]
        }
      ]
    },
    {
      "cell_type": "code",
      "metadata": {
        "colab": {
          "base_uri": "https://localhost:8080/"
        },
        "id": "9QKkCWcirJ0p",
        "outputId": "34154c55-bb95-40bd-c37d-c442ed94495e"
      },
      "source": [
        "epoca = 0\n",
        "erros = 1\n",
        "ajustes_total = 0\n",
        "ajustes_epoca = 0\n",
        "\n",
        "def soma_ponderada():\n",
        "    sum_pond = (weight[0]*(-1*bias)) + (weight[1]*example[0]) + (weight[2]*example[1])\n",
        "    return sum_pond \n",
        "\n",
        "def funcao_ativacao():\n",
        "    if u >= theta:\n",
        "        return 1.0\n",
        "    else:\n",
        "        return 0.0\n",
        "\n",
        "def novo_peso(w, fu_ac):\n",
        "    e = example[2] - fu_ac\n",
        "    novo_p = w + (n*e*np.array([(-1*bias), example[0], example[1]]))\n",
        "    novo_p = np.round(novo_p,4)\n",
        "    return novo_p\n",
        "    \n",
        "while (erros != 0):\n",
        "    epoca = epoca + 1\n",
        "    ajustes_epoca = 0\n",
        "    erros = 0\n",
        "    \n",
        "    for example in df:\n",
        "        funct_act = 0.0\n",
        "        u = 0.0\n",
        "        u = soma_ponderada()\n",
        "        funct_act = funcao_ativacao()\n",
        "        \n",
        "        if funct_act != example[2]:\n",
        "            ajustes_epoca = ajustes_epoca + 1\n",
        "            ajustes_total = ajustes_total + 1\n",
        "            erros = 1\n",
        "            weight = novo_peso(weight, funct_act)\n",
        "            print(\"Novo vetor de pesos ajustado\", weight, \"\\n\")\n",
        "            \n",
        "    print(\"Qtd de ajustes do vetor de pesos na época\", epoca, \":\", ajustes_epoca, \"\\n\")\n",
        "    \n",
        "print(\"\\nVetor de pesos final (ajustado): \", weight)\n",
        "print(\"Número total de ajustes do vetor de pesos:\", ajustes_total)\n",
        "print(\"Número total de epocas:\", epoca)"
      ],
      "execution_count": 140,
      "outputs": [
        {
          "output_type": "stream",
          "name": "stdout",
          "text": [
            "Novo vetor de pesos ajustado [ 0.2121 72.8373 35.605 ] \n",
            "\n",
            "Novo vetor de pesos ajustado [  0.1121  73.9905 -23.243 ] \n",
            "\n",
            "Novo vetor de pesos ajustado [   0.2121   -9.5391 -122.3688] \n",
            "\n",
            "Novo vetor de pesos ajustado [   0.3121   39.6478 -105.7401] \n",
            "\n",
            "Novo vetor de pesos ajustado [  0.2121 122.2465 -25.8843] \n",
            "\n",
            "Novo vetor de pesos ajustado [   0.3121   82.2376 -103.777 ] \n",
            "\n",
            "Novo vetor de pesos ajustado [  0.4121 135.9074 -54.6847] \n",
            "\n",
            "Novo vetor de pesos ajustado [   0.3121   82.9473 -111.5542] \n",
            "\n",
            "Novo vetor de pesos ajustado [  0.4121 142.5068 -61.4319] \n",
            "\n",
            "Novo vetor de pesos ajustado [   0.3121  110.0288 -134.8877] \n",
            "\n",
            "Novo vetor de pesos ajustado [  0.2121 181.4033 -70.3456] \n",
            "\n",
            "Novo vetor de pesos ajustado [ 1.121000e-01  1.358787e+02 -1.359815e+02] \n",
            "\n",
            "Qtd de ajustes do vetor de pesos na época 1 : 12 \n",
            "\n",
            "Qtd de ajustes do vetor de pesos na época 2 : 0 \n",
            "\n",
            "\n",
            "Vetor de pesos final (ajustado):  [ 1.121000e-01  1.358787e+02 -1.359815e+02]\n",
            "Número total de ajustes do vetor de pesos: 12\n",
            "Número total de epocas: 2\n"
          ]
        }
      ]
    },
    {
      "cell_type": "code",
      "metadata": {
        "colab": {
          "base_uri": "https://localhost:8080/",
          "height": 605
        },
        "id": "CdZoAqlorNWC",
        "outputId": "7ca15ad5-6854-452b-832e-cd80019ea965"
      },
      "source": [
        "plt.figure(figsize=(15,10))\n",
        "\n",
        "x_classe0 = []\n",
        "y_classe0 = []\n",
        "x_classe1 = []\n",
        "y_classe1 = []\n",
        "\n",
        "\n",
        "\n",
        "for example in df:\n",
        "   \n",
        "    if example[2] == 0.0:\n",
        "        x_classe0.append(example[0])\n",
        "        y_classe0.append(example[1])\n",
        "    if example[2] == 1.0:\n",
        "        x_classe1.append(example[0])\n",
        "        y_classe1.append(example[1])\n",
        "        \n",
        "plt.scatter(x_classe0, y_classe0, color='r', label='0')\n",
        "plt.scatter(x_classe1, y_classe1, color='b', label='1')\n",
        "\n",
        "plt.legend()\n",
        "plt.xlabel(\"x1\")\n",
        "plt.ylabel(\"x2\")\n",
        "\n",
        "x = np.arange(np.min(df[:,:1]),np.max(df[:,:1]), 0.1)\n",
        "slp = -(weight[0]/weight[2])\n",
        "plt.plot(x,  slp - (weight[1]/weight[2]*x), 'k', linewidth=2)\n",
        "\n",
        "\n",
        "\n",
        "'''end = (weight[0]/weight[2])\n",
        "abline_values = [slp * i + end for i in x_classe0]\n",
        "plt.plot(x_classe0, abline_values, 'b',color=\"black\")'''\n",
        "\n",
        "plt.show()"
      ],
      "execution_count": 141,
      "outputs": [
        {
          "output_type": "display_data",
          "data": {
            "image/png": "[encoded data removed]",
            "text/plain": [
              "<Figure size 1080x720 with 1 Axes>"
            ]
          },
          "metadata": {
            "needs_background": "light"
          }
        }
      ]
    },
    {
      "cell_type": "markdown",
      "metadata": {
        "id": "fWslZhJIw6LX"
      },
      "source": [
        "#Parte II – Executando\n"
      ]
    },
    {
      "cell_type": "code",
      "metadata": {
        "colab": {
          "base_uri": "https://localhost:8080/"
        },
        "id": "4mfufQjVqX4B",
        "outputId": "4699fe9e-bf45-47a1-b390-e7d21de8d20c"
      },
      "source": [
        "x = 12%4\n",
        "print(x)"
      ],
      "execution_count": 142,
      "outputs": [
        {
          "output_type": "stream",
          "name": "stdout",
          "text": [
            "0\n"
          ]
        }
      ]
    },
    {
      "cell_type": "code",
      "metadata": {
        "colab": {
          "base_uri": "https://localhost:8080/"
        },
        "id": "rtgb4yIkxE_I",
        "outputId": "05f2e6b3-7042-44a5-e8fa-6bb6963f3625"
      },
      "source": [
        "df0 = np.fromfile('/content/Atividade_avaliativa-2.1-RNA/data/data0.txt')\n",
        "print(df0)"
      ],
      "execution_count": 143,
      "outputs": [
        {
          "output_type": "stream",
          "name": "stdout",
          "text": [
            "[-0.00149369 -0.03581784  0.         ...  1.02021556  0.86533059\n",
            "  1.        ]\n"
          ]
        }
      ]
    },
    {
      "cell_type": "code",
      "metadata": {
        "colab": {
          "base_uri": "https://localhost:8080/"
        },
        "id": "6jtgEeuHxX3e",
        "outputId": "663a2262-6ccb-40c4-d783-a9f0c0b87050"
      },
      "source": [
        "df0.shape"
      ],
      "execution_count": 144,
      "outputs": [
        {
          "output_type": "execute_result",
          "data": {
            "text/plain": [
              "(1800,)"
            ]
          },
          "metadata": {},
          "execution_count": 144
        }
      ]
    },
    {
      "cell_type": "code",
      "metadata": {
        "colab": {
          "base_uri": "https://localhost:8080/"
        },
        "id": "Dz2ftxpLxdex",
        "outputId": "3626011f-76c6-495a-acae-216d75483e1c"
      },
      "source": [
        "df0 = df0.reshape(600, 3)\n",
        "print(df0)"
      ],
      "execution_count": 145,
      "outputs": [
        {
          "output_type": "stream",
          "name": "stdout",
          "text": [
            "[[-0.00149369 -0.03581784  0.        ]\n",
            " [ 0.01234945  0.10249524  0.        ]\n",
            " [ 0.13954598  0.05607083  0.        ]\n",
            " ...\n",
            " [ 0.95751872  1.0035204   1.        ]\n",
            " [ 0.97981588  1.00949493  1.        ]\n",
            " [ 1.02021556  0.86533059  1.        ]]\n"
          ]
        }
      ]
    },
    {
      "cell_type": "code",
      "metadata": {
        "id": "Ojorr-D8x_oR"
      },
      "source": [
        "import numpy as np\n",
        "\n",
        "class Perceptron(object):\n",
        "    \n",
        "   def __init__(self, no_of_inputs, epoch=100, \n",
        "                    learning_rate=np.random.uniform(0.1, 0.4, 1), \n",
        "                    baias=-1, \n",
        "                    random_train_set=False, \n",
        "                    show_training=False,\n",
        "                    weights=(-5.0, 0.5),\n",
        "                    use_epoch=False):\n",
        "        self.epoch = epoch\n",
        "        self.learning_rate= learning_rate\n",
        "        self.weights = np.random.uniform(weights[0], \n",
        "                                            weights[1], \n",
        "                                            no_of_inputs + 1)\n",
        "        self.baias = baias\n",
        "        self.random_train_set = random_train_set\n",
        "        self.show_training = show_training\n",
        "        self.use_epoch = use_epoch\n",
        "    \n",
        "   def __add_baias(self, inputs):\n",
        "        new_inputs = []\n",
        "        for row in inputs:\n",
        "            new_row = np.insert(row, 0, self.baias)\n",
        "            new_inputs.append(new_row)\n",
        "        return np.array(new_inputs)\n",
        "\n",
        "   def __weight_adjust(self, x_train, y_predicto, y_real):\n",
        "        erro = y_predicto - y_real\n",
        "        self.weights -= self.learning_rate * erro * x_train\n",
        "        self.weights = np.round(self.weights, 4)\n",
        "\n",
        "   def __activ_func(self, u): \n",
        "        if u >= 0.0:\n",
        "            return 1.0\n",
        "        else:\n",
        "            return 0.0\n",
        "\n",
        "   def __error(self, y_predicto, y_real):\n",
        "        if y_predicto != y_real:\n",
        "            return True\n",
        "        else:\n",
        "            return False\n",
        "\n",
        "   def __random_sets(self, x_train, y_train):\n",
        "        # Randomizando os dados de treino\n",
        "        index = np.arange(len(x_train))\n",
        "        np.random.shuffle(index)\n",
        "        x_train = x_train[index]\n",
        "        y_train = y_train[index]\n",
        "        return x_train, y_train\n",
        "        #---------------------------------\n",
        "    \n",
        "   def predict(self, x_test):\n",
        "        x_test = self.__add_baias(x_test)\n",
        "        y_predicto = []\n",
        "        for _x_test in x_test:\n",
        "            u = np.sum(np.dot(_x_test, self.weights))\n",
        "            y = self.__activ_func(u)\n",
        "            y_predicto.append(y)\n",
        "        return np.array(y_predicto)\n",
        "\n",
        "   def __show_training(self, epoch, count_adjust):\n",
        "        print(\"\\n\\tÉpoca:\", epoch)\n",
        "        print(\"Pesos:\", self.weights)\n",
        "        print(\"Quantidade de Ajustes:\", count_adjust)\n",
        "\n",
        "   def __learning(self, x_train, y_train, no_erro):\n",
        "        count_adjust = 0\n",
        "        for x, y in zip(x_train, y_train):\n",
        "            u = np.sum(np.dot(x, self.weights))\n",
        "            y_predicto = self.__activ_func(u)\n",
        "            if self.__error(y_predicto, y):\n",
        "                self.__weight_adjust(x, y_predicto, y)\n",
        "                no_erro = False\n",
        "                count_adjust += 1\n",
        "        return no_erro, count_adjust\n",
        "\n",
        "\n",
        "   def __epochs(self, x_train, y_train):\n",
        "        no_erro = False\n",
        "        epoch = 1\n",
        "        total_adjust = 0\n",
        "        while no_erro != True:\n",
        "\n",
        "            if self.use_epoch:\n",
        "                if epoch == self.epoch:\n",
        "                    break\n",
        "                \n",
        "            if self.random_train_set:\n",
        "                x_train, y_train = self.__random_sets(x_train,\n",
        "                                                         y_train)\n",
        "            \n",
        "            no_erro = True\n",
        "            \n",
        "            no_erro, count_adjust = self.__learning(x_train, \n",
        "                                                        y_train,\n",
        "                                                        no_erro)\n",
        "\n",
        "            if self.show_training:\n",
        "                self.__show_training(epoch, count_adjust)\n",
        "\n",
        "            epoch += 1\n",
        "            total_adjust += count_adjust\n",
        "        return epoch, total_adjust\n",
        "\n",
        "\n",
        "   def total_values(self, x_train, y_train):\n",
        "\n",
        "        x_train = self.__add_baias(x_train)\n",
        "        epoch, total_adjust = self.__epochs(x_train, y_train)\n",
        "        return epoch, total_adjust"
      ],
      "execution_count": 146,
      "outputs": []
    },
    {
      "cell_type": "markdown",
      "metadata": {
        "id": "vlfAAv8E2ppZ"
      },
      "source": [
        "#Função para Gerar Valores dos Pesos"
      ]
    },
    {
      "cell_type": "code",
      "metadata": {
        "id": "6N8ho5hd2w-0"
      },
      "source": [
        "weight_max_1 = 100\n",
        "weight_min_1 = -100\n",
        "weight_max_2 = 0.5\n",
        "weight_min_2 = -0.5\n",
        "\n",
        "def new_weights():\n",
        "  weight_max_1 = 100\n",
        "  weight_min_1 = -100\n",
        "  weights_1 = random_weights(weight_min_1, weight_max_1)\n",
        "  print(\"Peso 1: \", weights_1)\n",
        "  \n",
        "  weight_max_2 = 0.5\n",
        "  weight_min_2 = -0.5\n",
        "  weights_2 = random_weights(weight_min_2, weight_max_2)\n",
        "  print(\"Peso 2: \", weights_2)\n",
        "  return weights_1, weights_2\n"
      ],
      "execution_count": 147,
      "outputs": []
    },
    {
      "cell_type": "markdown",
      "metadata": {
        "id": "ZIL6nJs9ppas"
      },
      "source": [
        "#Calculo dos pesos para as configs. 1 e 2\n"
      ]
    },
    {
      "cell_type": "code",
      "metadata": {
        "colab": {
          "base_uri": "https://localhost:8080/"
        },
        "id": "R7W0u_9I3LUe",
        "outputId": "8259a42e-75d5-427e-a429-cf4e1c3c5b24"
      },
      "source": [
        "weights_1, weights_2 = new_weights()\n",
        "\n"
      ],
      "execution_count": 148,
      "outputs": [
        {
          "output_type": "stream",
          "name": "stdout",
          "text": [
            "Peso 1:  [42.9584 71.3289 75.8248]\n",
            "Peso 2:  [ 0.3634  0.0361 -0.4862]\n"
          ]
        }
      ]
    },
    {
      "cell_type": "markdown",
      "metadata": {
        "id": "L4IVK8COmySm"
      },
      "source": [
        "#Configuração 1\n",
        "Valor da taxa de aprendizado: 0.4<br>\n",
        "Peso: wi ∼ U(-100, +100)"
      ]
    },
    {
      "cell_type": "code",
      "metadata": {
        "id": "vOESB0g-mySq"
      },
      "source": [
        "taxa_aprendizado = 0.4"
      ],
      "execution_count": 149,
      "outputs": []
    },
    {
      "cell_type": "code",
      "metadata": {
        "colab": {
          "base_uri": "https://localhost:8080/"
        },
        "id": "CmIAQLB1mySr",
        "outputId": "1943b995-eba2-4b89-96aa-05b8c92e4c2c"
      },
      "source": [
        "epocas = []\n",
        "ajustes = []\n",
        "\n",
        "for i in range(1, 11):\n",
        "    perceptron = Perceptron(no_of_inputs=2, learning_rate=taxa_aprendizado, weights=weights_1)\n",
        "    treinamento_x = df0[:,[0,1]]\n",
        "    treinamento_y = df0[:,2]    \n",
        "    qtd_epocas, qtd_ajustes = perceptron.total_values(treinamento_x, treinamento_y)\n",
        "    epocas = np.append(epocas, qtd_epocas)\n",
        "    ajustes = np.append(ajustes, qtd_ajustes) \n",
        "\n",
        "def set_valores_media(values):\n",
        "  var = np.mean(values)\n",
        "  var = np.round(var,4)\n",
        "  return var\n",
        "\n",
        "def set_valores_desvio_padrao(values):\n",
        "  var = np.std(values)\n",
        "  var = np.round(var,4)\n",
        "  return var\n",
        "\n",
        "epocas_1 = epocas\n",
        "ajustes_1 = ajustes\n",
        "menor_qtde_epocas_1 = int(epocas_1.min())\n",
        "ajustes_media_1 = set_valores_media(ajustes_1)\n",
        "ajustes_desvio_padrao_1 = set_valores_desvio_padrao(ajustes_1)\n",
        "\n",
        "print(\"Menor quantidade de épocas: \", menor_qtde_epocas_1)\n",
        "print(\"Medias: Ajustes = \", ajustes_media_1, \"\\nDesvios Padrao: Ajustes = \", ajustes_desvio_padrao_1)"
      ],
      "execution_count": 150,
      "outputs": [
        {
          "output_type": "stream",
          "name": "stdout",
          "text": [
            "Menor quantidade de épocas:  23\n",
            "Medias: Ajustes =  132.3 \n",
            "Desvios Padrao: Ajustes =  29.2406\n"
          ]
        }
      ]
    },
    {
      "cell_type": "code",
      "metadata": {
        "colab": {
          "base_uri": "https://localhost:8080/"
        },
        "id": "ocdmvCV_mySt",
        "outputId": "4f795781-69c1-4363-bd2c-b4437c1f3464"
      },
      "source": [
        "weights = perceptron.weights\n",
        "print(weights)\n"
      ],
      "execution_count": 151,
      "outputs": [
        {
          "output_type": "stream",
          "name": "stdout",
          "text": [
            "[53.4943 31.383  79.905 ]\n"
          ]
        }
      ]
    },
    {
      "cell_type": "markdown",
      "metadata": {
        "id": "GwVxESskmySu"
      },
      "source": [
        "**Gráfico do conjunto de dados e a reta que separa as classes**"
      ]
    },
    {
      "cell_type": "code",
      "metadata": {
        "colab": {
          "base_uri": "https://localhost:8080/",
          "height": 605
        },
        "id": "Ty0shtQ7mySw",
        "outputId": "e824a005-eccd-41f9-9e9a-47e5e8de36a1"
      },
      "source": [
        "plt.figure(figsize=(15,10))\n",
        "\n",
        "x_classe0 = []\n",
        "y_classe0 = []\n",
        "x_classe1 = []\n",
        "y_classe1 = []\n",
        "\n",
        "classe0 = []\n",
        "max = 0\n",
        "min = 0\n",
        "\n",
        "for example in df0:\n",
        "    if example[2] == 0.0:\n",
        "        x_classe0.append(example[0])\n",
        "        y_classe0.append(example[1])\n",
        "    if example[2] == 1.0:\n",
        "        x_classe1.append(example[0])\n",
        "        y_classe1.append(example[1])\n",
        "        \n",
        "plt.scatter(x_classe0, y_classe0, color='r', label='0')\n",
        "plt.scatter(x_classe1, y_classe1, color='b', label='1')\n",
        "\n",
        "plt.legend()\n",
        "plt.xlabel(\"x1\")\n",
        "plt.ylabel(\"x2\")\n",
        "\n",
        "\n",
        "x = np.arange(np.min(df0[:,:1]),np.max(df0[:,:1]), 0.1)\n",
        "slp =(weights[0]/weights[2])\n",
        "plt.plot(x,slp- (weights[1]/weights[2]*x), 'k', linewidth=2)\n",
        "\n",
        "plt.plot()\n",
        "plt.show()"
      ],
      "execution_count": 152,
      "outputs": [
        {
          "output_type": "display_data",
          "data": {
            "image/png": "[encoded data removed]",
            "text/plain": [
              "<Figure size 1080x720 with 1 Axes>"
            ]
          },
          "metadata": {
            "needs_background": "light"
          }
        }
      ]
    },
    {
      "cell_type": "markdown",
      "metadata": {
        "id": "driQsjGTm9mQ"
      },
      "source": [
        "#Configuração 2\n",
        "Valor da taxa de aprendizado: 0.4<br>\n",
        "Peso: wi ∼ U(-0.5, +0.5)"
      ]
    },
    {
      "cell_type": "code",
      "metadata": {
        "colab": {
          "base_uri": "https://localhost:8080/"
        },
        "id": "IuvIx6v2m9mT",
        "outputId": "3fb69af6-c692-48ef-f831-4554a45a1b29"
      },
      "source": [
        "epocas = []\n",
        "ajustes = []\n",
        "\n",
        "for i in range(1, 11):\n",
        "    perceptron = Perceptron(no_of_inputs=2, learning_rate=taxa_aprendizado, weights=weights_2)\n",
        "    treinamento_x = df0[:,[0,1]]\n",
        "    treinamento_y = df0[:,2]    \n",
        "    qtd_epocas, qtd_ajustes = perceptron.total_values(treinamento_x, treinamento_y)\n",
        "    epocas = np.append(epocas, qtd_epocas)\n",
        "    ajustes = np.append(ajustes, qtd_ajustes) \n",
        "\n",
        "def set_valores_media(values):\n",
        "  var = np.mean(values)\n",
        "  var = np.round(var,4)\n",
        "  return var\n",
        "\n",
        "def set_valores_desvio_padrao(values):\n",
        "  var = np.std(values)\n",
        "  var = np.round(var,4)\n",
        "  return var\n",
        "\n",
        "epocas_2 = epocas\n",
        "ajustes_2 = ajustes\n",
        "menor_qtde_epocas_2 = int(epocas_2.min())\n",
        "ajustes_media_2 = set_valores_media(ajustes_2)\n",
        "ajustes_desvio_padrao_2 = set_valores_desvio_padrao(ajustes_2)\n",
        "\n",
        "print(\"Menor quantidade de épocas: \", menor_qtde_epocas_2)\n",
        "print(\"Medias: Ajustes = \", ajustes_media_2, \"\\nDesvios Padrao: Ajustes = \", ajustes_desvio_padrao_2)"
      ],
      "execution_count": 153,
      "outputs": [
        {
          "output_type": "stream",
          "name": "stdout",
          "text": [
            "Menor quantidade de épocas:  23\n",
            "Medias: Ajustes =  132.3 \n",
            "Desvios Padrao: Ajustes =  29.2406\n"
          ]
        }
      ]
    },
    {
      "cell_type": "code",
      "metadata": {
        "colab": {
          "base_uri": "https://localhost:8080/"
        },
        "id": "74qR2EQim9mT",
        "outputId": "2092f15a-3f27-4d31-c8f5-077782c862af"
      },
      "source": [
        "weights = perceptron.weights\n",
        "print(weights)"
      ],
      "execution_count": 154,
      "outputs": [
        {
          "output_type": "stream",
          "name": "stdout",
          "text": [
            "[ 0.3122 -0.1381  0.6261]\n"
          ]
        }
      ]
    },
    {
      "cell_type": "markdown",
      "metadata": {
        "id": "TK7jxGWhm9mU"
      },
      "source": [
        "Gráfico do conjunto de dados e a reta que separa as classes"
      ]
    },
    {
      "cell_type": "code",
      "metadata": {
        "colab": {
          "base_uri": "https://localhost:8080/",
          "height": 605
        },
        "id": "h84EuZNRm9mU",
        "outputId": "e3299d48-3112-4f5a-f448-08aa326f72a6"
      },
      "source": [
        "plt.figure(figsize=(15,10))\n",
        "\n",
        "x_classe0 = []\n",
        "y_classe0 = []\n",
        "x_classe1 = []\n",
        "y_classe1 = []\n",
        "\n",
        "classe0 = []\n",
        "max = 0\n",
        "min = 0\n",
        "\n",
        "for example in df0:\n",
        "    if example[2] == 0.0:\n",
        "        x_classe0.append(example[0])\n",
        "        y_classe0.append(example[1])\n",
        "    if example[2] == 1.0:\n",
        "        x_classe1.append(example[0])\n",
        "        y_classe1.append(example[1])\n",
        "        \n",
        "plt.scatter(x_classe0, y_classe0, color='r', label='0')\n",
        "plt.scatter(x_classe1, y_classe1, color='b', label='1')\n",
        "\n",
        "plt.legend()\n",
        "plt.xlabel(\"x1\")\n",
        "plt.ylabel(\"x2\")\n",
        "\n",
        "x = np.arange(np.min(df0[:,:1]),np.max(df0[:,:1]), 0.1)\n",
        "slp =(weights[0]/weights[2])\n",
        "plt.plot(x,slp- (weights[1]/weights[2]*x), 'k', linewidth=2)\n",
        "\n",
        "plt.plot()\n",
        "\n",
        "plt.show()"
      ],
      "execution_count": 155,
      "outputs": [
        {
          "output_type": "display_data",
          "data": {
            "image/png": "[encoded data removed]",
            "text/plain": [
              "<Figure size 1080x720 with 1 Axes>"
            ]
          },
          "metadata": {
            "needs_background": "light"
          }
        }
      ]
    },
    {
      "cell_type": "markdown",
      "metadata": {
        "id": "NpYKEljcpzOB"
      },
      "source": [
        "#Calculo dos pesos para as configs. 3 e 4\n"
      ]
    },
    {
      "cell_type": "code",
      "metadata": {
        "colab": {
          "base_uri": "https://localhost:8080/"
        },
        "id": "qGfITKXmpyLe",
        "outputId": "9201a897-2f07-4171-bf55-9b3bf468fc1b"
      },
      "source": [
        "weights_1, weights_2 = new_weights()"
      ],
      "execution_count": 156,
      "outputs": [
        {
          "output_type": "stream",
          "name": "stdout",
          "text": [
            "Peso 1:  [-38.3712  87.43    75.5139]\n",
            "Peso 2:  [0.3857 0.2956 0.286 ]\n"
          ]
        }
      ]
    },
    {
      "cell_type": "markdown",
      "metadata": {
        "id": "aEQyUYZzs_TL"
      },
      "source": [
        "#Configuração 3\n",
        "Valor da taxa de aprendizado: 0.1<br>\n",
        "Peso: wi ∼ U(-100, +100)"
      ]
    },
    {
      "cell_type": "code",
      "metadata": {
        "id": "bE2Gf26jtGIx"
      },
      "source": [
        "taxa_aprendizado = 0.1"
      ],
      "execution_count": 157,
      "outputs": []
    },
    {
      "cell_type": "code",
      "metadata": {
        "id": "H6OQ_Elcs_TM",
        "colab": {
          "base_uri": "https://localhost:8080/"
        },
        "outputId": "a1791d4c-696f-4eca-ecfe-1ec6e1124a20"
      },
      "source": [
        "epocas = []\n",
        "ajustes = []\n",
        "\n",
        "for i in range(1, 11):\n",
        "    perceptron = Perceptron(no_of_inputs=2, learning_rate=taxa_aprendizado, weights=weights_1)\n",
        "    treinamento_x = df0[:,[0,1]]\n",
        "    treinamento_y = df0[:,2]    \n",
        "    qtd_epocas, qtd_ajustes = perceptron.total_values(treinamento_x, treinamento_y)\n",
        "    epocas = np.append(epocas, qtd_epocas)\n",
        "    ajustes = np.append(ajustes, qtd_ajustes) \n",
        "\n",
        "def set_valores_media(values):\n",
        "  var = np.mean(values)\n",
        "  var = np.round(var,4)\n",
        "  return var\n",
        "\n",
        "def set_valores_desvio_padrao(values):\n",
        "  var = np.std(values)\n",
        "  var = np.round(var,4)\n",
        "  return var\n",
        "\n",
        "epocas_3 = epocas\n",
        "ajustes_3 = ajustes\n",
        "menor_qtde_epocas_3 = int(epocas_3.min())\n",
        "ajustes_media_3 = set_valores_media(ajustes_3)\n",
        "ajustes_desvio_padrao_3 = set_valores_desvio_padrao(ajustes_3)\n",
        "\n",
        "print(\"Menor quantidade de épocas: \", menor_qtde_epocas_3)\n",
        "print(\"Medias: Ajustes = \", ajustes_media_3, \"\\nDesvios Padrao: Ajustes = \", ajustes_desvio_padrao_3)"
      ],
      "execution_count": 158,
      "outputs": [
        {
          "output_type": "stream",
          "name": "stdout",
          "text": [
            "Menor quantidade de épocas:  23\n",
            "Medias: Ajustes =  132.3 \n",
            "Desvios Padrao: Ajustes =  29.2406\n"
          ]
        }
      ]
    },
    {
      "cell_type": "code",
      "metadata": {
        "id": "ZAhZU7Z2s_TM",
        "colab": {
          "base_uri": "https://localhost:8080/"
        },
        "outputId": "2c8c2bd5-1057-47b7-8bf1-02a6dc236659"
      },
      "source": [
        "weights = perceptron.weights\n",
        "print(weights)"
      ],
      "execution_count": 159,
      "outputs": [
        {
          "output_type": "stream",
          "name": "stdout",
          "text": [
            "[15.3791  9.0246 22.9948]\n"
          ]
        }
      ]
    },
    {
      "cell_type": "markdown",
      "metadata": {
        "id": "o4aYEE5Hs_TM"
      },
      "source": [
        "Gráfico do conjunto de dados e a reta que separa as classes"
      ]
    },
    {
      "cell_type": "code",
      "metadata": {
        "id": "utKUbuzBs_TM",
        "colab": {
          "base_uri": "https://localhost:8080/",
          "height": 605
        },
        "outputId": "ab6a68e1-f586-4194-ff59-715c9d81514d"
      },
      "source": [
        "plt.figure(figsize=(15,10))\n",
        "\n",
        "x_classe0 = []\n",
        "y_classe0 = []\n",
        "x_classe1 = []\n",
        "y_classe1 = []\n",
        "\n",
        "classe0 = []\n",
        "max = 0\n",
        "min = 0\n",
        "\n",
        "for example in df0:\n",
        "    if example[2] == 0.0:\n",
        "        x_classe0.append(example[0])\n",
        "        y_classe0.append(example[1])\n",
        "        classe0.append(example[0])\n",
        "    if example[2] == 1.0:\n",
        "        x_classe1.append(example[0])\n",
        "        y_classe1.append(example[1])\n",
        "        classe0.append(example[0])\n",
        "        \n",
        "plt.scatter(x_classe0, y_classe0, color='r', label='0')\n",
        "plt.scatter(x_classe1, y_classe1, color='b', label='1')\n",
        "\n",
        "plt.legend()\n",
        "plt.xlabel(\"x1\")\n",
        "plt.ylabel(\"x2\")\n",
        "\n",
        "x = np.arange(np.min(df0[:,:1]),np.max(df0[:,:1]), 0.1)\n",
        "slp =(weights[0]/weights[2])\n",
        "plt.plot(x,slp- (weights[1]/weights[2]*x), 'k', linewidth=2)\n",
        "\n",
        "plt.plot()\n",
        "plt.show()"
      ],
      "execution_count": 160,
      "outputs": [
        {
          "output_type": "display_data",
          "data": {
            "image/png": "[encoded data removed]",
            "text/plain": [
              "<Figure size 1080x720 with 1 Axes>"
            ]
          },
          "metadata": {
            "needs_background": "light"
          }
        }
      ]
    },
    {
      "cell_type": "markdown",
      "metadata": {
        "id": "o6n2xFBUrES1"
      },
      "source": [
        "#Configuração 4\n",
        "Valor da taxa de aprendizado: 0.1<br>\n",
        "Peso: wi ∼ U(-0.5, +0.5)"
      ]
    },
    {
      "cell_type": "code",
      "metadata": {
        "id": "eAO1vrD5rES_",
        "colab": {
          "base_uri": "https://localhost:8080/"
        },
        "outputId": "ec45ec59-d424-4323-ddd0-3a53c883afa3"
      },
      "source": [
        "epocas = []\n",
        "ajustes = []\n",
        "\n",
        "for i in range(1, 11):\n",
        "    perceptron = Perceptron(no_of_inputs=2, learning_rate=taxa_aprendizado, weights=weights_1)\n",
        "    treinamento_x = df0[:,[0,1]]\n",
        "    treinamento_y = df0[:,2]    \n",
        "    qtd_epocas, qtd_ajustes = perceptron.total_values(treinamento_x, treinamento_y)\n",
        "    epocas = np.append(epocas, qtd_epocas)\n",
        "    ajustes = np.append(ajustes, qtd_ajustes) \n",
        "\n",
        "def set_valores_media(values):\n",
        "  var = np.mean(values)\n",
        "  var = np.round(var,4)\n",
        "  return var\n",
        "\n",
        "def set_valores_desvio_padrao(values):\n",
        "  var = np.std(values)\n",
        "  var = np.round(var,4)\n",
        "  return var\n",
        "\n",
        "epocas_4 = epocas\n",
        "ajustes_4 = ajustes\n",
        "menor_qtde_epocas_4 = int(epocas_4.min())\n",
        "ajustes_media_4 = set_valores_media(ajustes_4)\n",
        "ajustes_desvio_padrao_4 = set_valores_desvio_padrao(ajustes_4)\n",
        "\n",
        "print(\"Menor quantidade de épocas: \", menor_qtde_epocas_4)\n",
        "print(\"Medias: Ajustes = \", ajustes_media_4, \"\\nDesvios Padrao: Ajustes = \", ajustes_desvio_padrao_4)"
      ],
      "execution_count": 161,
      "outputs": [
        {
          "output_type": "stream",
          "name": "stdout",
          "text": [
            "Menor quantidade de épocas:  23\n",
            "Medias: Ajustes =  132.3 \n",
            "Desvios Padrao: Ajustes =  29.2406\n"
          ]
        }
      ]
    },
    {
      "cell_type": "code",
      "metadata": {
        "id": "AX-1hne6rETA",
        "colab": {
          "base_uri": "https://localhost:8080/"
        },
        "outputId": "e526343f-ff02-4217-c9f0-f90c43da67a0"
      },
      "source": [
        "weights = perceptron.weights\n",
        "print(weights)"
      ],
      "execution_count": 162,
      "outputs": [
        {
          "output_type": "stream",
          "name": "stdout",
          "text": [
            "[ 3.0883 -4.3915 10.1238]\n"
          ]
        }
      ]
    },
    {
      "cell_type": "markdown",
      "metadata": {
        "id": "Myc1Ges9rETA"
      },
      "source": [
        "Gráfico do conjunto de dados e a reta que separa as classes"
      ]
    },
    {
      "cell_type": "code",
      "metadata": {
        "id": "gRgUvvW8rETB",
        "colab": {
          "base_uri": "https://localhost:8080/",
          "height": 605
        },
        "outputId": "15350249-62a1-454a-9379-34416a08c871"
      },
      "source": [
        "plt.figure(figsize=(15,10))\n",
        "\n",
        "x_classe0 = []\n",
        "y_classe0 = []\n",
        "x_classe1 = []\n",
        "y_classe1 = []\n",
        "\n",
        "classe0 = []\n",
        "max = 0\n",
        "min = 0\n",
        "\n",
        "for example in df0:\n",
        "    if example[2] == 0.0:\n",
        "        x_classe0.append(example[0])\n",
        "        y_classe0.append(example[1])\n",
        "    if example[2] == 1.0:\n",
        "        x_classe1.append(example[0])\n",
        "        y_classe1.append(example[1])\n",
        "        \n",
        "plt.scatter(x_classe0, y_classe0, color='r', label='0')\n",
        "plt.scatter(x_classe1, y_classe1, color='b', label='1')\n",
        "\n",
        "plt.legend()\n",
        "plt.xlabel(\"x1\")\n",
        "plt.ylabel(\"x2\")\n",
        "\n",
        "\n",
        "x = np.arange(np.min(df0[:,:1]),np.max(df0[:,:1]), 0.1)\n",
        "slp =(weights[0]/weights[2])\n",
        "plt.plot(x,slp- (weights[1]/weights[2]*x), 'k', linewidth=2)\n",
        "\n",
        "plt.plot()\n",
        "plt.show()"
      ],
      "execution_count": 163,
      "outputs": [
        {
          "output_type": "display_data",
          "data": {
            "image/png": "[encoded data removed]",
            "text/plain": [
              "<Figure size 1080x720 with 1 Axes>"
            ]
          },
          "metadata": {
            "needs_background": "light"
          }
        }
      ]
    },
    {
      "cell_type": "markdown",
      "metadata": {
        "id": "xA-xpdxPrMwv"
      },
      "source": [
        "#Calculo dos pesos para as configs. 5 e 6\n"
      ]
    },
    {
      "cell_type": "code",
      "metadata": {
        "id": "be_FFBR7rMww",
        "colab": {
          "base_uri": "https://localhost:8080/"
        },
        "outputId": "766ebbf9-cd28-466f-b4ab-9873cb4704fa"
      },
      "source": [
        "weights_1, weights_2 = new_weights()"
      ],
      "execution_count": 164,
      "outputs": [
        {
          "output_type": "stream",
          "name": "stdout",
          "text": [
            "Peso 1:  [-41.2585  41.1425  13.6684]\n",
            "Peso 2:  [-0.0955 -0.0351 -0.099 ]\n"
          ]
        }
      ]
    },
    {
      "cell_type": "markdown",
      "metadata": {
        "id": "6X0r_HdkrRCa"
      },
      "source": [
        "#Configuração 5\n",
        "Valor da taxa de aprendizado: 0.01<br>\n",
        "Peso: wi ∼ U(-100, +100)"
      ]
    },
    {
      "cell_type": "code",
      "metadata": {
        "id": "esg47xlKrRCc"
      },
      "source": [
        "taxa_aprendizado = 0.01"
      ],
      "execution_count": 165,
      "outputs": []
    },
    {
      "cell_type": "code",
      "metadata": {
        "colab": {
          "base_uri": "https://localhost:8080/"
        },
        "id": "qNYk88eorRCd",
        "outputId": "98c2bcac-ada8-4f1a-817b-78ccdd410c25"
      },
      "source": [
        "epocas = []\n",
        "ajustes = []\n",
        "\n",
        "for i in range(1, 11):\n",
        "    perceptron = Perceptron(no_of_inputs=2, learning_rate=taxa_aprendizado, weights=weights_1)\n",
        "    treinamento_x = df0[:,[0,1]]\n",
        "    treinamento_y = df0[:,2]    \n",
        "    qtd_epocas, qtd_ajustes = perceptron.total_values(treinamento_x, treinamento_y)\n",
        "    epocas = np.append(epocas, qtd_epocas)\n",
        "    ajustes = np.append(ajustes, qtd_ajustes) \n",
        "\n",
        "def set_valores_media(values):\n",
        "  var = np.mean(values)\n",
        "  var = np.round(var,4)\n",
        "  return var\n",
        "\n",
        "def set_valores_desvio_padrao(values):\n",
        "  var = np.std(values)\n",
        "  var = np.round(var,4)\n",
        "  return var\n",
        "\n",
        "epocas_5 = epocas\n",
        "ajustes_5 = ajustes\n",
        "menor_qtde_epocas_5 = int(epocas_5.min())\n",
        "ajustes_media_5 = set_valores_media(ajustes_5)\n",
        "ajustes_desvio_padrao_5 = set_valores_desvio_padrao(ajustes_5)\n",
        "\n",
        "print(\"Menor quantidade de épocas: \", menor_qtde_epocas_5)\n",
        "print(\"Medias: Ajustes = \", ajustes_media_5, \"\\nDesvios Padrao: Ajustes = \", ajustes_desvio_padrao_5)"
      ],
      "execution_count": 166,
      "outputs": [
        {
          "output_type": "stream",
          "name": "stdout",
          "text": [
            "Menor quantidade de épocas:  23\n",
            "Medias: Ajustes =  132.3 \n",
            "Desvios Padrao: Ajustes =  29.2406\n"
          ]
        }
      ]
    },
    {
      "cell_type": "code",
      "metadata": {
        "colab": {
          "base_uri": "https://localhost:8080/"
        },
        "id": "nNovcGL6rRCg",
        "outputId": "63b960b0-217a-4f9f-8403-a167c8eeb3ca"
      },
      "source": [
        "weights = perceptron.weights\n",
        "print(weights)"
      ],
      "execution_count": 167,
      "outputs": [
        {
          "output_type": "stream",
          "name": "stdout",
          "text": [
            "[ 10.0931 -15.0052  33.5322]\n"
          ]
        }
      ]
    },
    {
      "cell_type": "markdown",
      "metadata": {
        "id": "QtMprbKgrRCh"
      },
      "source": [
        "Gráfico do conjunto de dados e a reta que separa as classes"
      ]
    },
    {
      "cell_type": "code",
      "metadata": {
        "colab": {
          "base_uri": "https://localhost:8080/",
          "height": 605
        },
        "id": "9d7mUc49rRCh",
        "outputId": "b780bc3f-8dd0-4def-e355-b7421930202a"
      },
      "source": [
        "plt.figure(figsize=(15,10))\n",
        "\n",
        "x_classe0 = []\n",
        "y_classe0 = []\n",
        "x_classe1 = []\n",
        "y_classe1 = []\n",
        "\n",
        "classe0 = []\n",
        "max = 0\n",
        "min = 0\n",
        "\n",
        "for example in df0:\n",
        "    if example[2] == 0.0:\n",
        "        x_classe0.append(example[0])\n",
        "        y_classe0.append(example[1])\n",
        "    if example[2] == 1.0:\n",
        "        x_classe1.append(example[0])\n",
        "        y_classe1.append(example[1])\n",
        "        \n",
        "plt.scatter(x_classe0, y_classe0, color='r', label='0')\n",
        "plt.scatter(x_classe1, y_classe1, color='b', label='1')\n",
        "\n",
        "plt.legend()\n",
        "plt.xlabel(\"x1\")\n",
        "plt.ylabel(\"x2\")\n",
        "\n",
        "x = np.arange(np.min(df0[:,:1]),np.max(df0[:,:1]), 0.1)\n",
        "slp =(weights[0]/weights[2])\n",
        "plt.plot(x,slp- (weights[1]/weights[2]*x), 'k', linewidth=2)\n",
        "\n",
        "plt.plot()\n",
        "\n",
        "plt.show()"
      ],
      "execution_count": 168,
      "outputs": [
        {
          "output_type": "display_data",
          "data": {
            "image/png": "[encoded data removed]",
            "text/plain": [
              "<Figure size 1080x720 with 1 Axes>"
            ]
          },
          "metadata": {
            "needs_background": "light"
          }
        }
      ]
    },
    {
      "cell_type": "markdown",
      "metadata": {
        "id": "p9FkKJxIrS_c"
      },
      "source": [
        "#Configuração 6\n",
        "Valor da taxa de aprendizado: 0.01<br>\n",
        "Peso: wi ∼ U(-0.5, +0.5)"
      ]
    },
    {
      "cell_type": "code",
      "metadata": {
        "id": "srkGp8QXrS_e",
        "colab": {
          "base_uri": "https://localhost:8080/"
        },
        "outputId": "e0a00fbf-1616-4d83-9e68-3289e910159c"
      },
      "source": [
        "epocas = []\n",
        "ajustes = []\n",
        "\n",
        "for i in range(1, 11):\n",
        "    perceptron = Perceptron(no_of_inputs=2, learning_rate=taxa_aprendizado, weights=weights_1)\n",
        "    treinamento_x = df0[:,[0,1]]\n",
        "    treinamento_y = df0[:,2]    \n",
        "    qtd_epocas, qtd_ajustes = perceptron.total_values(treinamento_x, treinamento_y)\n",
        "    epocas = np.append(epocas, qtd_epocas)\n",
        "    ajustes = np.append(ajustes, qtd_ajustes) \n",
        "\n",
        "def set_valores_media(values):\n",
        "  var = np.mean(values)\n",
        "  var = np.round(var,4)\n",
        "  return var\n",
        "\n",
        "def set_valores_desvio_padrao(values):\n",
        "  var = np.std(values)\n",
        "  var = np.round(var,4)\n",
        "  return var\n",
        "\n",
        "epocas_6 = epocas\n",
        "ajustes_6 = ajustes\n",
        "menor_qtde_epocas_6 = int(epocas_6.min())\n",
        "ajustes_media_6 = set_valores_media(ajustes_6)\n",
        "ajustes_desvio_padrao_6 = set_valores_desvio_padrao(ajustes_6)\n",
        "\n",
        "print(\"Menor quantidade de épocas: \", menor_qtde_epocas_6)\n",
        "print(\"Medias: Ajustes = \", ajustes_media_6, \"\\nDesvios Padrao: Ajustes = \", ajustes_desvio_padrao_6)"
      ],
      "execution_count": 169,
      "outputs": [
        {
          "output_type": "stream",
          "name": "stdout",
          "text": [
            "Menor quantidade de épocas:  23\n",
            "Medias: Ajustes =  132.3 \n",
            "Desvios Padrao: Ajustes =  29.2406\n"
          ]
        }
      ]
    },
    {
      "cell_type": "code",
      "metadata": {
        "colab": {
          "base_uri": "https://localhost:8080/"
        },
        "id": "mZfJ_IjVrS_f",
        "outputId": "e52be465-3230-44ac-9323-d17a1e0b5b33"
      },
      "source": [
        "weights = perceptron.weights\n",
        "print(weights)"
      ],
      "execution_count": 170,
      "outputs": [
        {
          "output_type": "stream",
          "name": "stdout",
          "text": [
            "[13.8262  8.2601 20.6761]\n"
          ]
        }
      ]
    },
    {
      "cell_type": "markdown",
      "metadata": {
        "id": "k9qlK3lBrS_g"
      },
      "source": [
        "Gráfico do conjunto de dados e a reta que separa as classes"
      ]
    },
    {
      "cell_type": "code",
      "metadata": {
        "id": "AC8DOCESrS_g",
        "colab": {
          "base_uri": "https://localhost:8080/",
          "height": 605
        },
        "outputId": "b248a944-84a1-4c51-e8db-2f0e6c923dcb"
      },
      "source": [
        "plt.figure(figsize=(15,10))\n",
        "\n",
        "x_classe0 = []\n",
        "y_classe0 = []\n",
        "x_classe1 = []\n",
        "y_classe1 = []\n",
        "\n",
        "classe0 = []\n",
        "max = 0\n",
        "min = 0\n",
        "\n",
        "for example in df0:\n",
        "    if example[2] == 0.0:\n",
        "        x_classe0.append(example[0])\n",
        "        y_classe0.append(example[1])\n",
        "    if example[2] == 1.0:\n",
        "        x_classe1.append(example[0])\n",
        "        y_classe1.append(example[1])\n",
        "        \n",
        "plt.scatter(x_classe0, y_classe0, color='r', label='0')\n",
        "plt.scatter(x_classe1, y_classe1, color='b', label='1')\n",
        "\n",
        "plt.legend()\n",
        "plt.xlabel(\"x1\")\n",
        "plt.ylabel(\"x2\")\n",
        "\n",
        "x = np.arange(np.min(df0[:,:1]),np.max(df0[:,:1]), 0.1)\n",
        "slp =(weights[0]/weights[2])\n",
        "plt.plot(x,slp- (weights[1]/weights[2]*x), 'k', linewidth=2)\n",
        "\n",
        "plt.plot()\n",
        "\n",
        "plt.show()"
      ],
      "execution_count": 171,
      "outputs": [
        {
          "output_type": "display_data",
          "data": {
            "image/png": "[encoded data removed]",
            "text/plain": [
              "<Figure size 1080x720 with 1 Axes>"
            ]
          },
          "metadata": {
            "needs_background": "light"
          }
        }
      ]
    },
    {
      "cell_type": "markdown",
      "metadata": {
        "id": "OVB41L6tw_OF"
      },
      "source": [
        "#Tabela de Resultados Gerais"
      ]
    },
    {
      "cell_type": "code",
      "metadata": {
        "colab": {
          "base_uri": "https://localhost:8080/"
        },
        "id": "MuF-J5EiwGJ-",
        "outputId": "5b82217e-60ed-47a9-a366-5853decefbb6"
      },
      "source": [
        "from prettytable import PrettyTable\n",
        "x = PrettyTable()\n",
        "var_peso_1 = str(weight_min_1)+\"-->\"+str(weight_max_1)\n",
        "var_peso_2 = str(weight_min_2)+\"-->\"+str(weight_max_2)\n",
        "x.field_names = [\"Taxa de aprendizado\", \"Intervalo de pesos\", \"Media de Ajustes\", \"Desvio Padrao de Ajustes\", \"Menor No de Epocas para Convergencia\"]\n",
        "x.add_row([0.4,var_peso_1, ajustes_media_1, ajustes_desvio_padrao_1, menor_qtde_epocas_1])\n",
        "x.add_row([0.4,var_peso_2, ajustes_media_2, ajustes_desvio_padrao_2, menor_qtde_epocas_2])\n",
        "x.add_row([0.1,var_peso_1, ajustes_media_3, ajustes_desvio_padrao_3, menor_qtde_epocas_3])\n",
        "x.add_row([0.1,var_peso_2, ajustes_media_4, ajustes_desvio_padrao_4, menor_qtde_epocas_4])\n",
        "x.add_row([0.01,var_peso_1, ajustes_media_5, ajustes_desvio_padrao_5, menor_qtde_epocas_5])\n",
        "x.add_row([0.01,var_peso_2, ajustes_media_6, ajustes_desvio_padrao_6, menor_qtde_epocas_6])\n",
        "\n",
        "print (x)"
      ],
      "execution_count": 172,
      "outputs": [
        {
          "output_type": "stream",
          "name": "stdout",
          "text": [
            "+---------------------+--------------------+------------------+--------------------------+--------------------------------------+\n",
            "| Taxa de aprendizado | Intervalo de pesos | Media de Ajustes | Desvio Padrao de Ajustes | Menor No de Epocas para Convergencia |\n",
            "+---------------------+--------------------+------------------+--------------------------+--------------------------------------+\n",
            "|         0.4         |     -100-->100     |      132.3       |         29.2406          |                  23                  |\n",
            "|         0.4         |     -0.5-->0.5     |       6.2        |          2.5219          |                  3                   |\n",
            "|         0.1         |     -100-->100     |      686.5       |         369.0483         |                  8                   |\n",
            "|         0.1         |     -0.5-->0.5     |      446.8       |         309.6517         |                  2                   |\n",
            "|         0.01        |     -100-->100     |      3846.1      |        2316.9077         |                  13                  |\n",
            "|         0.01        |     -0.5-->0.5     |      4908.5      |        3748.3918         |                  34                  |\n",
            "+---------------------+--------------------+------------------+--------------------------+--------------------------------------+\n"
          ]
        }
      ]
    },
    {
      "cell_type": "markdown",
      "metadata": {
        "id": "xPPb7YvwTb75"
      },
      "source": [
        "#Parte III – Validação Holdout em Problema Não-Linearmente Separável"
      ]
    },
    {
      "cell_type": "code",
      "metadata": {
        "colab": {
          "base_uri": "https://localhost:8080/"
        },
        "id": "eM41Yz6QTdQv",
        "outputId": "6dd0c14a-dda2-4e75-a35a-14559e0a8d36"
      },
      "source": [
        "df_holdout = np.fromfile('/content/Atividade_avaliativa-2.1-RNA/data/dataHoldout.txt')\n",
        "print(df)"
      ],
      "execution_count": 173,
      "outputs": [
        {
          "output_type": "stream",
          "name": "stdout",
          "text": [
            "[[-363.7884  244.1423    0.    ]\n",
            " [ 328.7572 -256.7658    1.    ]\n",
            " [-164.9827  613.2164    0.    ]\n",
            " ...\n",
            " [ 872.4311  669.1192    1.    ]\n",
            " [ 822.6894 -702.6489    1.    ]\n",
            " [-140.147   734.0983    0.    ]]\n"
          ]
        }
      ]
    },
    {
      "cell_type": "code",
      "metadata": {
        "colab": {
          "base_uri": "https://localhost:8080/"
        },
        "id": "SH15xTJaUjSj",
        "outputId": "8988c39e-11d7-46f9-a793-325cdd21aabe"
      },
      "source": [
        "df_holdout.shape"
      ],
      "execution_count": 174,
      "outputs": [
        {
          "output_type": "execute_result",
          "data": {
            "text/plain": [
              "(2400,)"
            ]
          },
          "metadata": {},
          "execution_count": 174
        }
      ]
    },
    {
      "cell_type": "code",
      "metadata": {
        "colab": {
          "base_uri": "https://localhost:8080/"
        },
        "id": "taVkuqa9UoQu",
        "outputId": "ec39aa4b-2ff2-40ee-e220-ee4a7f93e059"
      },
      "source": [
        "df_holdout = df_holdout.reshape(800, 3)\n",
        "print(df)"
      ],
      "execution_count": 175,
      "outputs": [
        {
          "output_type": "stream",
          "name": "stdout",
          "text": [
            "[[-363.7884  244.1423    0.    ]\n",
            " [ 328.7572 -256.7658    1.    ]\n",
            " [-164.9827  613.2164    0.    ]\n",
            " ...\n",
            " [ 872.4311  669.1192    1.    ]\n",
            " [ 822.6894 -702.6489    1.    ]\n",
            " [-140.147   734.0983    0.    ]]\n"
          ]
        }
      ]
    },
    {
      "cell_type": "markdown",
      "metadata": {
        "id": "xtr2LOWWV3kQ"
      },
      "source": [
        "\n",
        "\n",
        "#Gráfico Inicial\n",
        "\n",
        "\n",
        "\n",
        "\n",
        "\n",
        "\n"
      ]
    },
    {
      "cell_type": "code",
      "metadata": {
        "colab": {
          "base_uri": "https://localhost:8080/",
          "height": 606
        },
        "id": "7q-tZmDmU8T3",
        "outputId": "b91f7f0f-39bb-4eb2-921e-4a4102195989"
      },
      "source": [
        "x_classe0 = []\n",
        "y_classe0 = []\n",
        "x_classe1 = []\n",
        "y_classe1 = []\n",
        "\n",
        "plt.figure(figsize=(15,10))\n",
        "for example in df_holdout:\n",
        "    if example[2] == 0.0:\n",
        "        x_classe0.append(example[0])\n",
        "        y_classe0.append(example[1])\n",
        "    if example[2] == 1.0:\n",
        "        x_classe1.append(example[0])\n",
        "        y_classe1.append(example[1])\n",
        "plt.title('DataHoldout')\n",
        "plt.scatter(x_classe0, y_classe0, color='r', label='0')\n",
        "plt.scatter(x_classe1, y_classe1, color='b', label='1')\n",
        "plt.plot()\n",
        "plt.show()"
      ],
      "execution_count": 176,
      "outputs": [
        {
          "output_type": "display_data",
          "data": {
            "image/png": "[encoded data removed]",
            "text/plain": [
              "<Figure size 1080x720 with 1 Axes>"
            ]
          },
          "metadata": {
            "needs_background": "light"
          }
        }
      ]
    },
    {
      "cell_type": "markdown",
      "metadata": {
        "id": "5TUL6SiYWt-L"
      },
      "source": [
        "#Separando os dados em duas partições: Teste e Treinamento"
      ]
    },
    {
      "cell_type": "code",
      "metadata": {
        "id": "gv1ZaEC8XkGv"
      },
      "source": [
        "\n",
        "random.shuffle(df_holdout)\n",
        "\n",
        "x = df_holdout[: , :2]\n",
        "y = df_holdout[:,2:]\n",
        "\n",
        "x_train = X[:int(len(x)*0.7)]\n",
        "x_test = X[int(len(x)*0.7):]\n",
        "\n",
        "y_train = y[:int(len(y)*0.7)]\n",
        "y_test = y[int(len(y)*0.7):]\n"
      ],
      "execution_count": 177,
      "outputs": []
    },
    {
      "cell_type": "markdown",
      "metadata": {
        "id": "7YGf2hFPZte4"
      },
      "source": [
        "#Configuração do Holdout\n"
      ]
    },
    {
      "cell_type": "code",
      "metadata": {
        "colab": {
          "base_uri": "https://localhost:8080/",
          "height": 35
        },
        "id": "aU62eFPihWFF",
        "outputId": "cb64c302-458b-42bf-d578-96f2498a5ab9"
      },
      "source": [
        "'''taxa_aprendizado = 0.9\n",
        "new_weights()'''"
      ],
      "execution_count": 178,
      "outputs": [
        {
          "output_type": "execute_result",
          "data": {
            "application/vnd.google.colaboratory.intrinsic+json": {
              "type": "string"
            },
            "text/plain": [
              "'taxa_aprendizado = 0.9\\nnew_weights()'"
            ]
          },
          "metadata": {},
          "execution_count": 178
        }
      ]
    },
    {
      "cell_type": "code",
      "metadata": {
        "id": "XXq8bJuvZte4"
      },
      "source": [
        "epocas = []\n",
        "ajustes = []\n",
        "\n",
        "for i in range(1, 100):\n",
        "    perceptron = Perceptron(no_of_inputs=2, random_train_set=True)\n",
        "    treinamento_x = X_train\n",
        "    treinamento_y = y_train \n",
        "    qtd_epocas, qtd_ajustes = perceptron.total_values(treinamento_x, treinamento_y)\n",
        "    epocas = np.append(epocas, qtd_epocas)\n",
        "    ajustes = np.append(ajustes, qtd_ajustes) \n",
        "\n",
        "def set_valores_media(values):\n",
        "  var = np.mean(values)\n",
        "  var = np.round(var,4)\n",
        "  return var\n",
        "\n",
        "def set_valores_desvio_padrao(values):\n",
        "  var = np.std(values)\n",
        "  var = np.round(var,4)\n",
        "  return var\n",
        "\n",
        "epocas_h = epocas\n",
        "ajustes_h = ajustes\n",
        "menor_qtde_epocas_h = int(epocas_h.min())\n",
        "ajustes_media_h = set_valores_media(ajustes_h)\n",
        "ajustes_desvio_padrao_h = set_valores_desvio_padrao(ajustes_h)\n",
        "\n",
        "print(\"Menor quantidade de épocas: \", menor_qtde_epocas_h)\n",
        "print(\"Medias: Ajustes = \", ajustes_media_h, \"\\nDesvios Padrao: Ajustes = \", ajustes_desvio_padrao_h)"
      ],
      "execution_count": null,
      "outputs": []
    },
    {
      "cell_type": "code",
      "metadata": {
        "id": "6QgGjIbwZte5"
      },
      "source": [
        "weights = perceptron.weights\n",
        "print(weights)"
      ],
      "execution_count": null,
      "outputs": []
    },
    {
      "cell_type": "markdown",
      "metadata": {
        "id": "5KFeAI5eZte5"
      },
      "source": [
        "Gráfico do conjunto de dados e a reta que separa as classes"
      ]
    },
    {
      "cell_type": "code",
      "metadata": {
        "id": "rptOUt06Zte5"
      },
      "source": [
        "plt.figure(figsize=(15,10))\n",
        "\n",
        "x_classe0 = []\n",
        "y_classe0 = []\n",
        "x_classe1 = []\n",
        "y_classe1 = []\n",
        "\n",
        "classe0 = []\n",
        "max = 0\n",
        "min = 0\n",
        "\n",
        "for example in df0:\n",
        "    if example[2] == 0.0:\n",
        "        x_classe0.append(example[0])\n",
        "        y_classe0.append(example[1])\n",
        "    if example[2] == 1.0:\n",
        "        x_classe1.append(example[0])\n",
        "        y_classe1.append(example[1])\n",
        "        \n",
        "plt.scatter(x_classe0, y_classe0, color='r', label='0')\n",
        "plt.scatter(x_classe1, y_classe1, color='b', label='1')\n",
        "\n",
        "plt.legend()\n",
        "plt.xlabel(\"x1\")\n",
        "plt.ylabel(\"x2\")\n",
        "\n",
        "x = np.arange(np.min(df0[:,:1]),np.max(df0[:,:1]), 0.1)\n",
        "slp =(weights[0]/weights[2])\n",
        "plt.plot(x,slp- (weights[1]/weights[2]*x), 'k', linewidth=2)\n",
        "\n",
        "plt.plot()\n",
        "\n",
        "plt.show()"
      ],
      "execution_count": null,
      "outputs": []
    }
  ]
}
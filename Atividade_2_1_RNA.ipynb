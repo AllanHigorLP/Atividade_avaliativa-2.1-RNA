{
  "nbformat": 4,
  "nbformat_minor": 0,
  "metadata": {
    "colab": {
      "name": "Atividade_2_1_RNA.ipynb",
      "provenance": [],
      "toc_visible": true,
      "authorship_tag": "ABX9TyMsbQtr9bIa5OSG//mN1Cg0",
      "include_colab_link": true
    },
    "kernelspec": {
      "name": "python3",
      "display_name": "Python 3"
    },
    "language_info": {
      "name": "python"
    }
  },
  "cells": [
    {
      "cell_type": "markdown",
      "metadata": {
        "id": "view-in-github",
        "colab_type": "text"
      },
      "source": [
        "<a href=\"https://colab.research.google.com/github/AllanHigorLP/Atividade_avaliativa-2.1-RNA/blob/main/Atividade_2_1_RNA.ipynb\" target=\"_parent\"><img src=\"https://colab.research.google.com/assets/colab-badge.svg\" alt=\"Open In Colab\"/></a>"
      ]
    },
    {
      "cell_type": "markdown",
      "metadata": {
        "id": "sOINEKc-Z3W-"
      },
      "source": [
        "# Detalhamento da Atividade"
      ]
    },
    {
      "cell_type": "code",
      "metadata": {
        "colab": {
          "base_uri": "https://localhost:8080/"
        },
        "id": "_smFeCExX-Bu",
        "outputId": "c2e9edc7-2381-40d2-e747-0d1d6cd3adcd"
      },
      "source": [
        "x = 12%4\n",
        "print(x)"
      ],
      "execution_count": 1,
      "outputs": [
        {
          "output_type": "stream",
          "name": "stdout",
          "text": [
            "0\n"
          ]
        }
      ]
    },
    {
      "cell_type": "code",
      "metadata": {
        "colab": {
          "base_uri": "https://localhost:8080/"
        },
        "id": "qkblLVCXh_YG",
        "outputId": "a5990873-be03-4472-9ec5-f0a52840d0cc"
      },
      "source": [
        "from google.colab import drive\n",
        "drive.mount('/content/drive')"
      ],
      "execution_count": 6,
      "outputs": [
        {
          "output_type": "stream",
          "name": "stdout",
          "text": [
            "Mounted at /content/drive\n"
          ]
        }
      ]
    },
    {
      "cell_type": "code",
      "metadata": {
        "id": "VS0-dsaC4_ig"
      },
      "source": [
        "import numpy as np # linear algebra\n",
        "import pandas as pd # data processing, CSV file I/O (e.g. pd.read_csv)\n",
        "import seaborn as sns\n",
        "import matplotlib.pyplot as plt\n",
        "from sklearn.model_selection import train_test_split #to split the dataset for training and testing\n",
        "from sklearn import metrics\n",
        "import unicodedata"
      ],
      "execution_count": 7,
      "outputs": []
    },
    {
      "cell_type": "code",
      "metadata": {
        "colab": {
          "base_uri": "https://localhost:8080/"
        },
        "id": "jPSk5BuK5CZn",
        "outputId": "4943fd97-1b06-42b6-f41f-28dd094b566d"
      },
      "source": [
        "df = np.fromfile('/content/drive/My Drive/Colab Notebooks/dataAll.txt')\n",
        "print(df)"
      ],
      "execution_count": 8,
      "outputs": [
        {
          "output_type": "stream",
          "name": "stdout",
          "text": [
            "[-363.7884  244.1423    0.     ... -140.147   734.0983    0.    ]\n"
          ]
        }
      ]
    },
    {
      "cell_type": "code",
      "metadata": {
        "colab": {
          "base_uri": "https://localhost:8080/"
        },
        "id": "litm7nbaZH5V",
        "outputId": "b89a30d5-bae0-4e5f-d996-597bdfbdcca4"
      },
      "source": [
        "df.shape\n"
      ],
      "execution_count": 9,
      "outputs": [
        {
          "output_type": "execute_result",
          "data": {
            "text/plain": [
              "(3000,)"
            ]
          },
          "metadata": {},
          "execution_count": 9
        }
      ]
    },
    {
      "cell_type": "code",
      "metadata": {
        "colab": {
          "base_uri": "https://localhost:8080/"
        },
        "id": "uK5yeXqw5Vmo",
        "outputId": "a23cde82-e7ac-49e1-c5c7-c134ea5fbd68"
      },
      "source": [
        "df = df.reshape(1000, 3)\n",
        "print(df)"
      ],
      "execution_count": 12,
      "outputs": [
        {
          "output_type": "stream",
          "name": "stdout",
          "text": [
            "[[-363.7884  244.1423    0.    ]\n",
            " [ 328.7572 -256.7658    1.    ]\n",
            " [-164.9827  613.2164    0.    ]\n",
            " ...\n",
            " [ 872.4311  669.1192    1.    ]\n",
            " [ 822.6894 -702.6489    1.    ]\n",
            " [-140.147   734.0983    0.    ]]\n"
          ]
        }
      ]
    },
    {
      "cell_type": "markdown",
      "metadata": {
        "id": "rtoCl_2U5zpo"
      },
      "source": [
        "# Parte I – Resolvendo um Problema Linearmente Separável"
      ]
    },
    {
      "cell_type": "code",
      "metadata": {
        "id": "sX8HZQVA6AaP"
      },
      "source": [
        "# n (taxa de aprendizado)\n",
        "theta = 0.0\n",
        "n = 0.1"
      ],
      "execution_count": 43,
      "outputs": []
    },
    {
      "cell_type": "code",
      "metadata": {
        "id": "b7NhzhEL6p4P",
        "outputId": "02f056bc-77a2-4492-a7dd-9cbfea5375ef",
        "colab": {
          "base_uri": "https://localhost:8080/"
        }
      },
      "source": [
        "max = 0.5\n",
        "min = -0.5\n",
        "weight = np.random.uniform(min, max, size=3)\n",
        "print(np.round(weight,4))"
      ],
      "execution_count": 44,
      "outputs": [
        {
          "output_type": "stream",
          "name": "stdout",
          "text": [
            "[ 0.3525  0.3218 -0.4757]\n"
          ]
        }
      ]
    }
  ]
}
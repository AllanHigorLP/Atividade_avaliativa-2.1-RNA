{
  "nbformat": 4,
  "nbformat_minor": 0,
  "metadata": {
    "colab": {
      "name": "Atividade 2.1 - RNA.ipynb",
      "provenance": [],
      "collapsed_sections": [],
      "include_colab_link": true
    },
    "kernelspec": {
      "display_name": "Python 3",
      "name": "python3"
    },
    "language_info": {
      "name": "python"
    }
  },
  "cells": [
    {
      "cell_type": "markdown",
      "metadata": {
        "id": "view-in-github",
        "colab_type": "text"
      },
      "source": [
        "<a href=\"https://colab.research.google.com/github/AllanHigorLP/Atividade_avaliativa-2.1-RNA/blob/main/Atividade_2_1_RNA.ipynb\" target=\"_parent\"><img src=\"https://colab.research.google.com/assets/colab-badge.svg\" alt=\"Open In Colab\"/></a>"
      ]
    },
    {
      "cell_type": "markdown",
      "metadata": {
        "id": "cJYnVFY5_4G4"
      },
      "source": [
        "**Criando o diretório no Google Drive**"
      ]
    },
    {
      "cell_type": "markdown",
      "metadata": {
        "id": "wEEpwdwNqtr2"
      },
      "source": [
        "# Detalhamento da Atividade"
      ]
    },
    {
      "cell_type": "code",
      "metadata": {
        "colab": {
          "base_uri": "https://localhost:8080/"
        },
        "id": "4mfufQjVqX4B",
        "outputId": "423a5ecc-6fbb-4f84-f24e-ca43179c096d"
      },
      "source": [
        "x = 12%4\n",
        "print(x)"
      ],
      "execution_count": 214,
      "outputs": [
        {
          "output_type": "stream",
          "name": "stdout",
          "text": [
            "0\n"
          ]
        }
      ]
    },
    {
      "cell_type": "code",
      "metadata": {
        "id": "eJyZxaKhq03F"
      },
      "source": [
        "import numpy as np # linear algebra\n",
        "import pandas as pd # data processing, CSV file I/O (e.g. pd.read_csv)\n",
        "import seaborn as sns\n",
        "import matplotlib.pyplot as plt\n",
        "from sklearn.model_selection import train_test_split #to split the dataset for training and testing\n",
        "from sklearn import metrics\n",
        "import unicodedata\n",
        "import io"
      ],
      "execution_count": 215,
      "outputs": []
    },
    {
      "cell_type": "code",
      "metadata": {
        "colab": {
          "base_uri": "https://localhost:8080/"
        },
        "id": "Ra8KOSdxq5NS",
        "outputId": "1e0eaa92-2398-491f-e8e7-d62e4ecc9f04"
      },
      "source": [
        "!git clone https://github.com/AllanHigorLP/Atividade_avaliativa-2.1-RNA/"
      ],
      "execution_count": 216,
      "outputs": [
        {
          "output_type": "stream",
          "name": "stdout",
          "text": [
            "fatal: destination path 'Atividade_avaliativa-2.1-RNA' already exists and is not an empty directory.\n"
          ]
        }
      ]
    },
    {
      "cell_type": "code",
      "metadata": {
        "colab": {
          "base_uri": "https://localhost:8080/"
        },
        "id": "9tCwbqKnq7O7",
        "outputId": "71ec4a76-4099-4195-f4fb-61d15a4549eb"
      },
      "source": [
        "df = np.fromfile('/content/Atividade_avaliativa-2.1-RNA/data/dataAll.txt')\n",
        "print(df)"
      ],
      "execution_count": 217,
      "outputs": [
        {
          "output_type": "stream",
          "name": "stdout",
          "text": [
            "[-363.7884  244.1423    0.     ... -140.147   734.0983    0.    ]\n"
          ]
        }
      ]
    },
    {
      "cell_type": "code",
      "metadata": {
        "colab": {
          "base_uri": "https://localhost:8080/"
        },
        "id": "FNSYMK_Jq9S_",
        "outputId": "bce45064-40f7-4abd-cd4b-324c0d774041"
      },
      "source": [
        "df.shape"
      ],
      "execution_count": 218,
      "outputs": [
        {
          "output_type": "execute_result",
          "data": {
            "text/plain": [
              "(3000,)"
            ]
          },
          "metadata": {},
          "execution_count": 218
        }
      ]
    },
    {
      "cell_type": "code",
      "metadata": {
        "colab": {
          "base_uri": "https://localhost:8080/"
        },
        "id": "Irl3HLzKq_D1",
        "outputId": "12ed7e6e-562c-44c4-cc08-682e516225a3"
      },
      "source": [
        "df = df.reshape(1000, 3)\n",
        "print(df)"
      ],
      "execution_count": 219,
      "outputs": [
        {
          "output_type": "stream",
          "name": "stdout",
          "text": [
            "[[-363.7884  244.1423    0.    ]\n",
            " [ 328.7572 -256.7658    1.    ]\n",
            " [-164.9827  613.2164    0.    ]\n",
            " ...\n",
            " [ 872.4311  669.1192    1.    ]\n",
            " [ 822.6894 -702.6489    1.    ]\n",
            " [-140.147   734.0983    0.    ]]\n"
          ]
        }
      ]
    },
    {
      "cell_type": "markdown",
      "metadata": {
        "id": "rfy4N9KFrCvJ"
      },
      "source": [
        "# Parte I – Resolvendo um Problema Linearmente Separável"
      ]
    },
    {
      "cell_type": "code",
      "metadata": {
        "id": "FMcMhr4nrFle"
      },
      "source": [
        "# n (taxa de aprendizado)\n",
        "theta = 0.0\n",
        "n = 0.1\n",
        "bias = 1.0\n",
        "weight_max = 0.5\n",
        "weight_min = -0.5\n"
      ],
      "execution_count": 220,
      "outputs": []
    },
    {
      "cell_type": "code",
      "metadata": {
        "colab": {
          "base_uri": "https://localhost:8080/"
        },
        "id": "MPI6fSYorHb3",
        "outputId": "da830c7d-5ccc-4eef-bbd6-455e91fd9366"
      },
      "source": [
        "weight = np.random.uniform(weight_min, weight_max, size=3)\n",
        "weight = np.round(weight,4)\n",
        "print(weight)"
      ],
      "execution_count": 221,
      "outputs": [
        {
          "output_type": "stream",
          "name": "stdout",
          "text": [
            "[0.2655 0.3538 0.0426]\n"
          ]
        }
      ]
    },
    {
      "cell_type": "code",
      "metadata": {
        "colab": {
          "base_uri": "https://localhost:8080/"
        },
        "id": "9QKkCWcirJ0p",
        "outputId": "9daf54ce-a20c-44e6-acab-6df854baa463"
      },
      "source": [
        "epoca = 0\n",
        "erros = 1\n",
        "ajustes_total = 0\n",
        "ajustes_epoca = 0\n",
        "\n",
        "def soma_ponderada():\n",
        "    sum_pond = (weight[0]*(-1*bias)) + (weight[1]*example[0]) + (weight[2]*example[1])\n",
        "    return sum_pond \n",
        "\n",
        "def funcao_ativacao():\n",
        "    if u >= theta:\n",
        "        return 1.0\n",
        "    else:\n",
        "        return 0.0\n",
        "\n",
        "def novo_peso(w, fu_ac):\n",
        "    e = example[2] - fu_ac\n",
        "    novo_p = w + (n*e*np.array([(-1*bias), example[0], example[1]]))\n",
        "    novo_p = np.round(novo_p,4)\n",
        "    return novo_p\n",
        "    \n",
        "while (erros != 0):\n",
        "    epoca = epoca + 1\n",
        "    ajustes_epoca = 0\n",
        "    erros = 0\n",
        "    \n",
        "    for example in df:\n",
        "        funct_act = 0.0\n",
        "        u = 0.0\n",
        "        u = soma_ponderada()\n",
        "        funct_act = funcao_ativacao()\n",
        "        \n",
        "        if funct_act != example[2]:\n",
        "            ajustes_epoca = ajustes_epoca + 1\n",
        "            ajustes_total = ajustes_total + 1\n",
        "            erros = 1\n",
        "            weight = novo_peso(weight, funct_act)\n",
        "            print(\"Novo vetor de pesos ajustado\", weight, \"\\n\")\n",
        "            \n",
        "    print(\"Qtd de ajustes do vetor de pesos na época\", epoca, \":\", ajustes_epoca, \"\\n\")\n",
        "    \n",
        "print(\"\\nVetor de pesos final (ajustado): \", weight)\n",
        "print(\"Número total de ajustes do vetor de pesos:\", ajustes_total)\n",
        "print(\"Número total de epocas:\", epoca)"
      ],
      "execution_count": 222,
      "outputs": [
        {
          "output_type": "stream",
          "name": "stdout",
          "text": [
            "Novo vetor de pesos ajustado [  0.3655 -53.3053 -76.4532] \n",
            "\n",
            "Novo vetor de pesos ajustado [  0.2655  19.4907 -40.6236] \n",
            "\n",
            "Novo vetor de pesos ajustado [  0.1655 102.0894  39.2322] \n",
            "\n",
            "Novo vetor de pesos ajustado [  0.2655 107.9352 -39.0624] \n",
            "\n",
            "Novo vetor de pesos ajustado [   0.3655   67.9263 -116.9551] \n",
            "\n",
            "Novo vetor de pesos ajustado [  0.4655 126.3692 -75.3748] \n",
            "\n",
            "Novo vetor de pesos ajustado [   0.3655   73.4091 -132.2443] \n",
            "\n",
            "Novo vetor de pesos ajustado [  0.4655 132.9686 -82.122 ] \n",
            "\n",
            "Novo vetor de pesos ajustado [   0.3655   87.444  -147.7579] \n",
            "\n",
            "Novo vetor de pesos ajustado [   0.4655  101.7824 -138.3717] \n",
            "\n",
            "Novo vetor de pesos ajustado [  0.5655 192.4983 -63.6584] \n",
            "\n",
            "Novo vetor de pesos ajustado [   0.4655  134.7173 -123.9666] \n",
            "\n",
            "Novo vetor de pesos ajustado [   0.3655   84.8075 -175.227 ] \n",
            "\n",
            "Novo vetor de pesos ajustado [   0.2655  112.6312 -157.1721] \n",
            "\n",
            "Novo vetor de pesos ajustado [   0.1655  140.0948 -136.3158] \n",
            "\n",
            "Novo vetor de pesos ajustado [   0.0655   71.2391 -206.3861] \n",
            "\n",
            "Novo vetor de pesos ajustado [   0.1655  102.6895 -181.9547] \n",
            "\n",
            "Novo vetor de pesos ajustado [   0.0655  165.5868 -123.7677] \n",
            "\n",
            "Novo vetor de pesos ajustado [   0.1655  116.4697 -175.6166] \n",
            "\n",
            "Novo vetor de pesos ajustado [   0.0655  182.9496 -123.6108] \n",
            "\n",
            "Novo vetor de pesos ajustado [   0.1655  129.7955 -197.5267] \n",
            "\n",
            "Novo vetor de pesos ajustado [   0.2655  226.1751 -119.4288] \n",
            "\n",
            "Novo vetor de pesos ajustado [   0.1655  128.7637 -218.6   ] \n",
            "\n",
            "Novo vetor de pesos ajustado [   0.0655  222.5493 -150.1061] \n",
            "\n",
            "Novo vetor de pesos ajustado [   0.1655  151.9248 -234.2518] \n",
            "\n",
            "Novo vetor de pesos ajustado [   0.0655  236.2832 -172.4391] \n",
            "\n",
            "Novo vetor de pesos ajustado [  -0.0345  176.591  -234.6436] \n",
            "\n",
            "Novo vetor de pesos ajustado [   0.0655  241.5458 -171.4214] \n",
            "\n",
            "Novo vetor de pesos ajustado [   0.1655  159.8845 -254.2988] \n",
            "\n",
            "Novo vetor de pesos ajustado [   0.0655  229.7481 -190.0799] \n",
            "\n",
            "Novo vetor de pesos ajustado [   0.1655  173.9124 -246.2574] \n",
            "\n",
            "Novo vetor de pesos ajustado [   0.0655  250.8999 -181.4081] \n",
            "\n",
            "Novo vetor de pesos ajustado [  -0.0345  214.6299 -224.6361] \n",
            "\n",
            "Novo vetor de pesos ajustado [  -0.1345  297.5218 -141.8546] \n",
            "\n",
            "Novo vetor de pesos ajustado [  -0.2345  251.3744 -198.504 ] \n",
            "\n",
            "Novo vetor de pesos ajustado [  -0.1345  224.7488 -231.0264] \n",
            "\n",
            "Novo vetor de pesos ajustado [  -0.2345  271.7732 -184.4722] \n",
            "\n",
            "Novo vetor de pesos ajustado [  -0.3345  241.8891 -217.5815] \n",
            "\n",
            "Novo vetor de pesos ajustado [  -0.2345  223.65   -235.9151] \n",
            "\n",
            "Novo vetor de pesos ajustado [  -0.1345  254.9569 -205.2868] \n",
            "\n",
            "Novo vetor de pesos ajustado [  -0.0345  179.403  -282.6098] \n",
            "\n",
            "Novo vetor de pesos ajustado [   0.0655  248.3789 -217.8189] \n",
            "\n",
            "Novo vetor de pesos ajustado [   0.1655  152.5673 -315.7006] \n",
            "\n",
            "Novo vetor de pesos ajustado [   0.0655  233.741  -264.3527] \n",
            "\n",
            "Novo vetor de pesos ajustado [   0.1655  333.2088 -172.4631] \n",
            "\n",
            "Novo vetor de pesos ajustado [   0.0655  274.5039 -264.8004] \n",
            "\n",
            "Novo vetor de pesos ajustado [   0.1655  230.6458 -309.3394] \n",
            "\n",
            "Novo vetor de pesos ajustado [   0.0655  317.8889 -242.4275] \n",
            "\n",
            "Qtd de ajustes do vetor de pesos na época 1 : 48 \n",
            "\n",
            "Novo vetor de pesos ajustado [   0.1655  286.4659 -276.8113] \n",
            "\n",
            "Novo vetor de pesos ajustado [   0.0655  236.5561 -328.0717] \n",
            "\n",
            "Novo vetor de pesos ajustado [  -0.0345  264.0197 -307.2154] \n",
            "\n",
            "Novo vetor de pesos ajustado [   0.0655  313.4805 -258.3214] \n",
            "\n",
            "Novo vetor de pesos ajustado [   0.1655  285.273  -291.9055] \n",
            "\n",
            "Novo vetor de pesos ajustado [   0.2655  372.4078 -205.2157] \n",
            "\n",
            "Novo vetor de pesos ajustado [   0.3655  320.4925 -261.4167] \n",
            "\n",
            "Novo vetor de pesos ajustado [   0.4655  255.6065 -336.0328] \n",
            "\n",
            "Novo vetor de pesos ajustado [   0.3655  345.3153 -257.0241] \n",
            "\n",
            "Novo vetor de pesos ajustado [   0.2655  267.8524 -355.0118] \n",
            "\n",
            "Novo vetor de pesos ajustado [   0.1655  312.7577 -311.6079] \n",
            "\n",
            "Qtd de ajustes do vetor de pesos na época 2 : 11 \n",
            "\n",
            "Qtd de ajustes do vetor de pesos na época 3 : 0 \n",
            "\n",
            "\n",
            "Vetor de pesos final (ajustado):  [   0.1655  312.7577 -311.6079]\n",
            "Número total de ajustes do vetor de pesos: 59\n",
            "Número total de epocas: 3\n"
          ]
        }
      ]
    },
    {
      "cell_type": "code",
      "metadata": {
        "colab": {
          "base_uri": "https://localhost:8080/",
          "height": 606
        },
        "id": "CdZoAqlorNWC",
        "outputId": "31d6dd62-bc8f-4326-ddb8-bb9be51723b1"
      },
      "source": [
        "plt.figure(figsize=(15,10))\n",
        "\n",
        "x_classe0 = []\n",
        "y_classe0 = []\n",
        "x_classe1 = []\n",
        "y_classe1 = []\n",
        "\n",
        "classe0 = []\n",
        "\n",
        "for example in df:\n",
        "    if example[2] == 0.0:\n",
        "        x_classe0.append(example[0])\n",
        "        y_classe0.append(example[1])\n",
        "    if example[2] == 1.0:\n",
        "        x_classe1.append(example[0])\n",
        "        y_classe1.append(example[1])\n",
        "        \n",
        "plt.scatter(x_classe0, y_classe0, color='r', label='0')\n",
        "plt.scatter(x_classe1, y_classe1, color='b', label='1')\n",
        "\n",
        "plt.legend()\n",
        "plt.xlabel(\"x1\")\n",
        "plt.ylabel(\"x2\")\n",
        "\n",
        "slp = -(weight[0]/weight[2]) / (weight[0]/weight[1])\n",
        "end = (weight[0]/weight[2])\n",
        "abline_values = [slp * i + end for i in x_classe0]\n",
        "plt.plot(x_classe0, abline_values, 'b',color=\"black\")\n",
        "\n",
        "plt.show()"
      ],
      "execution_count": 223,
      "outputs": [
        {
          "output_type": "display_data",
          "data": {
            "image/png": "[encoded data removed]",
            "text/plain": [
              "<Figure size 1080x720 with 1 Axes>"
            ]
          },
          "metadata": {
            "needs_background": "light"
          }
        }
      ]
    },
    {
      "cell_type": "markdown",
      "metadata": {
        "id": "fWslZhJIw6LX"
      },
      "source": [
        "#Parte II – Executando\n"
      ]
    },
    {
      "cell_type": "code",
      "metadata": {
        "colab": {
          "base_uri": "https://localhost:8080/"
        },
        "id": "rtgb4yIkxE_I",
        "outputId": "b2f5072a-8779-461e-bda3-1e056318ddca"
      },
      "source": [
        "df0 = np.fromfile('/content/Atividade_avaliativa-2.1-RNA/data/data0.txt')\n",
        "print(df0)"
      ],
      "execution_count": 224,
      "outputs": [
        {
          "output_type": "stream",
          "name": "stdout",
          "text": [
            "[-0.0015 -0.0358  0.     ...  1.0202  0.8653  1.    ]\n"
          ]
        }
      ]
    },
    {
      "cell_type": "code",
      "metadata": {
        "colab": {
          "base_uri": "https://localhost:8080/"
        },
        "id": "6jtgEeuHxX3e",
        "outputId": "e56c10f2-605a-4a9f-c532-467880531937"
      },
      "source": [
        "df0.shape"
      ],
      "execution_count": 225,
      "outputs": [
        {
          "output_type": "execute_result",
          "data": {
            "text/plain": [
              "(1800,)"
            ]
          },
          "metadata": {},
          "execution_count": 225
        }
      ]
    },
    {
      "cell_type": "code",
      "metadata": {
        "colab": {
          "base_uri": "https://localhost:8080/"
        },
        "id": "Dz2ftxpLxdex",
        "outputId": "58bcbd2b-ff4f-4967-cbb9-ab37dbfb8a94"
      },
      "source": [
        "df0 = df0.reshape(600, 3)\n",
        "print(df0)"
      ],
      "execution_count": 226,
      "outputs": [
        {
          "output_type": "stream",
          "name": "stdout",
          "text": [
            "[[-0.0015 -0.0358  0.    ]\n",
            " [ 0.0123  0.1025  0.    ]\n",
            " [ 0.1395  0.0561  0.    ]\n",
            " ...\n",
            " [ 0.9575  1.0035  1.    ]\n",
            " [ 0.9798  1.0095  1.    ]\n",
            " [ 1.0202  0.8653  1.    ]]\n"
          ]
        }
      ]
    },
    {
      "cell_type": "code",
      "metadata": {
        "id": "Ojorr-D8x_oR"
      },
      "source": [
        "import numpy as np\n",
        "\n",
        "class Perceptron(object):\n",
        "    \n",
        "   def __init__(self, no_of_inputs, epoch=100, \n",
        "                    learning_rate=np.random.uniform(0.1, 0.4, 1), \n",
        "                    baias=-1, \n",
        "                    random_train_set=False, \n",
        "                    show_training=False,\n",
        "                    weights=(-5.0, 0.5),\n",
        "                    use_epoch=False):\n",
        "        self.epoch = epoch\n",
        "        self.learning_rate= learning_rate\n",
        "        self.weights = np.random.uniform(weights[0], \n",
        "                                            weights[1], \n",
        "                                            no_of_inputs + 1)\n",
        "        self.baias = baias\n",
        "        self.random_train_set = random_train_set\n",
        "        self.show_training = show_training\n",
        "        self.use_epoch = use_epoch\n",
        "    \n",
        "   def __add_baias(self, inputs):\n",
        "        new_inputs = []\n",
        "        for row in inputs:\n",
        "            new_row = np.insert(row, 0, self.baias)\n",
        "            new_inputs.append(new_row)\n",
        "        return np.array(new_inputs)\n",
        "\n",
        "   def __weight_adjust(self, x_train, y_predicto, y_real):\n",
        "        erro = y_predicto - y_real\n",
        "        self.weights -= self.learning_rate * erro * x_train\n",
        "        self.weights = np.round(self.weights, 4)\n",
        "\n",
        "   def __activ_func(self, u): \n",
        "        if u >= 0.0:\n",
        "            return 1.0\n",
        "        else:\n",
        "            return 0.0\n",
        "\n",
        "   def __error(self, y_predicto, y_real):\n",
        "        if y_predicto != y_real:\n",
        "            return True\n",
        "        else:\n",
        "            return False\n",
        "\n",
        "   def __random_sets(self, x_train, y_train):\n",
        "        # Randomizando os dados de treino\n",
        "        index = np.arange(len(x_train))\n",
        "        np.random.shuffle(index)\n",
        "        x_train = x_train[index]\n",
        "        y_train = y_train[index]\n",
        "        return x_train, y_train\n",
        "        #---------------------------------\n",
        "    \n",
        "   def predict(self, x_test):\n",
        "        x_test = self.__add_baias(x_test)\n",
        "        y_predicto = []\n",
        "        for _x_test in x_test:\n",
        "            u = np.sum(np.dot(_x_test, self.weights))\n",
        "            y = self.__activ_func(u)\n",
        "            y_predicto.append(y)\n",
        "        return np.array(y_predicto)\n",
        "\n",
        "   def __show_training(self, epoch, count_adjust):\n",
        "        print(\"\\n\\tÉpoca:\", epoch)\n",
        "        print(\"Pesos:\", self.weights)\n",
        "        print(\"Quantidade de Ajustes:\", count_adjust)\n",
        "\n",
        "   def __learning(self, x_train, y_train, no_erro):\n",
        "        count_adjust = 0\n",
        "        for x, y in zip(x_train, y_train):\n",
        "            u = np.sum(np.dot(x, self.weights))\n",
        "            y_predicto = self.__activ_func(u)\n",
        "            if self.__error(y_predicto, y):\n",
        "                self.__weight_adjust(x, y_predicto, y)\n",
        "                no_erro = False\n",
        "                count_adjust += 1\n",
        "        return no_erro, count_adjust\n",
        "\n",
        "\n",
        "   def __epochs(self, x_train, y_train):\n",
        "        no_erro = False\n",
        "        epoch = 1\n",
        "        total_adjust = 0\n",
        "        while no_erro != True:\n",
        "\n",
        "            if self.use_epoch:\n",
        "                if epoch == self.epoch:\n",
        "                    break\n",
        "                \n",
        "            if self.random_train_set:\n",
        "                x_train, y_train = self.__random_sets(x_train,\n",
        "                                                         y_train)\n",
        "            \n",
        "            no_erro = True\n",
        "            \n",
        "            no_erro, count_adjust = self.__learning(x_train, \n",
        "                                                        y_train,\n",
        "                                                        no_erro)\n",
        "\n",
        "            if self.show_training:\n",
        "                self.__show_training(epoch, count_adjust)\n",
        "\n",
        "            epoch += 1\n",
        "            total_adjust += count_adjust\n",
        "        return epoch, total_adjust\n",
        "\n",
        "\n",
        "   def total_values(self, x_train, y_train):\n",
        "\n",
        "        x_train = self.__add_baias(x_train)\n",
        "        epoch, total_adjust = self.__epochs(x_train, y_train)\n",
        "        return epoch, total_adjust"
      ],
      "execution_count": 227,
      "outputs": []
    },
    {
      "cell_type": "markdown",
      "metadata": {
        "id": "ZIL6nJs9ppas"
      },
      "source": [
        "#Calculo dos pesos para as configs. 1 e 2\n"
      ]
    },
    {
      "cell_type": "code",
      "metadata": {
        "colab": {
          "base_uri": "https://localhost:8080/"
        },
        "id": "Jiqrbnsomu10",
        "outputId": "a4f7a05a-6309-4217-e415-dffbaba9b9b2"
      },
      "source": [
        "weight_max_1 = 100\n",
        "weight_min_1 = -100\n",
        "weights_1 = np.random.uniform(weight_min_1, weight_max_1, size=3)\n",
        "weights_1 = np.round(weights_1,4)\n",
        "print(\"Peso 1: \", weights_1)\n",
        "weight_max_2 = 0.5\n",
        "weight_min_2 = -0.5\n",
        "weights_2 = np.random.uniform(weight_min_2, weight_max_2, size=3)\n",
        "weights_2 = np.round(weights_2,4)\n",
        "print(\"Peso 2: \", weights_2)"
      ],
      "execution_count": 228,
      "outputs": [
        {
          "output_type": "stream",
          "name": "stdout",
          "text": [
            "Peso 1:  [-97.7638 -79.8221 -30.9423]\n",
            "Peso 2:  [-0.0032 -0.3573 -0.414 ]\n"
          ]
        }
      ]
    },
    {
      "cell_type": "markdown",
      "metadata": {
        "id": "L4IVK8COmySm"
      },
      "source": [
        "#Configuração 1\n",
        "Valor da taxa de aprendizado: 0.4<br>\n",
        "Peso: wi ∼ U(-100, +100)"
      ]
    },
    {
      "cell_type": "code",
      "metadata": {
        "id": "vOESB0g-mySq"
      },
      "source": [
        "taxa_aprendizado = 0.4"
      ],
      "execution_count": 229,
      "outputs": []
    },
    {
      "cell_type": "code",
      "metadata": {
        "colab": {
          "base_uri": "https://localhost:8080/"
        },
        "id": "CmIAQLB1mySr",
        "outputId": "daee86da-4820-4cdb-86eb-61ae79f9ca35"
      },
      "source": [
        "epocas = []\n",
        "ajustes = []\n",
        "\n",
        "for i in range(1, 11):\n",
        "    perceptron = Perceptron(no_of_inputs=2, learning_rate=taxa_aprendizado, weights=weights_1)\n",
        "    treinamento_x = df0[:,[0,1]]\n",
        "    treinamento_y = df0[:,2]    \n",
        "    qtd_epocas, qtd_ajustes = perceptron.total_values(treinamento_x, treinamento_y)\n",
        "    epocas = np.append(epocas, qtd_epocas)\n",
        "    ajustes = np.append(ajustes, qtd_ajustes) \n",
        "\n",
        "def set_valores_media(values):\n",
        "  var = np.mean(values)\n",
        "  var = np.round(var,4)\n",
        "  return var\n",
        "\n",
        "def set_valores_desvio_padrao(values):\n",
        "  var = np.std(values)\n",
        "  var = np.round(var,4)\n",
        "  return var\n",
        "\n",
        "epocas_1 = epocas\n",
        "ajustes_1 = ajustes\n",
        "menor_qtde_epocas_1 = int(epocas_1.min())\n",
        "epocas_media_1 = set_valores_media(epocas_1)\n",
        "ajustes_media_1 = set_valores_media(ajustes_1)\n",
        "epocas_desvio_padrao_1 = set_valores_desvio_padrao(epocas_1)\n",
        "ajustes_desvio_padrao_1 = set_valores_desvio_padrao(ajustes_1)\n",
        "\n",
        "print(\"Menor quantidade de épocas: \", menor_qtde_epocas_1)\n",
        "print(\"Medias: Epoca = \", epocas_media_1, \" | Ajustes = \", ajustes_media_1, \"\\nDesvios Padrao: Epoca = \", epocas_desvio_padrao_1, \" | Ajustes = \", ajustes_desvio_padrao_1)"
      ],
      "execution_count": 230,
      "outputs": [
        {
          "output_type": "stream",
          "name": "stdout",
          "text": [
            "Menor quantidade de épocas:  13\n",
            "Medias: Epoca =  14.2  | Ajustes =  815.5 \n",
            "Desvios Padrao: Epoca =  0.8718  | Ajustes =  23.342\n"
          ]
        }
      ]
    },
    {
      "cell_type": "code",
      "metadata": {
        "colab": {
          "base_uri": "https://localhost:8080/"
        },
        "id": "ocdmvCV_mySt",
        "outputId": "260b24ef-6a59-41ea-c54a-5afac79723d8"
      },
      "source": [
        "weights = perceptron.weights\n",
        "print(weights)"
      ],
      "execution_count": 231,
      "outputs": [
        {
          "output_type": "stream",
          "name": "stdout",
          "text": [
            "[ 6.4051 -9.0026 21.3974]\n"
          ]
        }
      ]
    },
    {
      "cell_type": "markdown",
      "metadata": {
        "id": "GwVxESskmySu"
      },
      "source": [
        "Gráfico do conjunto de dados e a reta que separa as classes"
      ]
    },
    {
      "cell_type": "code",
      "metadata": {
        "colab": {
          "base_uri": "https://localhost:8080/",
          "height": 606
        },
        "id": "Ty0shtQ7mySw",
        "outputId": "5b5eccdf-3837-4f85-e5a4-0adafd5710e3"
      },
      "source": [
        "plt.figure(figsize=(15,10))\n",
        "\n",
        "x_classe0 = []\n",
        "y_classe0 = []\n",
        "x_classe1 = []\n",
        "y_classe1 = []\n",
        "\n",
        "classe0 = []\n",
        "max = 0\n",
        "min = 0\n",
        "\n",
        "for example in df0:\n",
        "    if example[2] == 0.0:\n",
        "        x_classe0.append(example[0])\n",
        "        y_classe0.append(example[1])\n",
        "    if example[2] == 1.0:\n",
        "        x_classe1.append(example[0])\n",
        "        y_classe1.append(example[1])\n",
        "        \n",
        "plt.scatter(x_classe0, y_classe0, color='r', label='0')\n",
        "plt.scatter(x_classe1, y_classe1, color='b', label='1')\n",
        "\n",
        "plt.legend()\n",
        "plt.xlabel(\"x1\")\n",
        "plt.ylabel(\"x2\")\n",
        "classe_tot =  x_classe0\n",
        "slp = -(weight[0]/weight[2]) / (weight[0]/weight[1])\n",
        "end = (weight[0]/weight[2])\n",
        "\n",
        "min_x = np.max(x_classe0)\n",
        "min_y = np.max(y_classe0)\n",
        "max_x = np.min(x_classe1)\n",
        "max_y = np.min(y_classe1)\n",
        "abline_values = [slp * i + end for i in x_classe0]\n",
        "plt.plot([min_x,max_x], [min_y,max_y], 'b',color=\"black\")\n",
        "\n",
        "plt.show()"
      ],
      "execution_count": 232,
      "outputs": [
        {
          "output_type": "display_data",
          "data": {
            "image/png": "[encoded data removed]",
            "text/plain": [
              "<Figure size 1080x720 with 1 Axes>"
            ]
          },
          "metadata": {
            "needs_background": "light"
          }
        }
      ]
    },
    {
      "cell_type": "markdown",
      "metadata": {
        "id": "driQsjGTm9mQ"
      },
      "source": [
        "#Configuração 2\n",
        "Valor da taxa de aprendizado: 0.4<br>\n",
        "Peso: wi ∼ U(-0.5, +0.5)"
      ]
    },
    {
      "cell_type": "code",
      "metadata": {
        "colab": {
          "base_uri": "https://localhost:8080/"
        },
        "id": "IuvIx6v2m9mT",
        "outputId": "19cc1940-8185-4f1f-8dab-4372e5c43f97"
      },
      "source": [
        "epocas = []\n",
        "ajustes = []\n",
        "\n",
        "for i in range(1, 11):\n",
        "    perceptron = Perceptron(no_of_inputs=2, learning_rate=taxa_aprendizado, weights=weights_2)\n",
        "    treinamento_x = df0[:,[0,1]]\n",
        "    treinamento_y = df0[:,2]    \n",
        "    qtd_epocas, qtd_ajustes = perceptron.total_values(treinamento_x, treinamento_y)\n",
        "    epocas = np.append(epocas, qtd_epocas)\n",
        "    ajustes = np.append(ajustes, qtd_ajustes) \n",
        "\n",
        "def set_valores_media(values):\n",
        "  var = np.mean(values)\n",
        "  var = np.round(var,4)\n",
        "  return var\n",
        "\n",
        "def set_valores_desvio_padrao(values):\n",
        "  var = np.std(values)\n",
        "  var = np.round(var,4)\n",
        "  return var\n",
        "\n",
        "epocas_2 = epocas\n",
        "ajustes_2 = ajustes\n",
        "menor_qtde_epocas_2 = int(epocas_2.min())\n",
        "epocas_media_2 = set_valores_media(epocas_2)\n",
        "ajustes_media_2 = set_valores_media(ajustes_2)\n",
        "epocas_desvio_padrao_2 = set_valores_desvio_padrao(epocas_2)\n",
        "ajustes_desvio_padrao_2 = set_valores_desvio_padrao(ajustes_2)\n",
        "\n",
        "print(\"Menor quantidade de épocas: \", menor_qtde_epocas_2)\n",
        "print(\"Medias: Epoca = \", epocas_media_2, \" | Ajustes = \", ajustes_media_2, \"\\nDesvios Padrao: Epoca = \", epocas_desvio_padrao_2, \" | Ajustes = \", ajustes_desvio_padrao_2)"
      ],
      "execution_count": 233,
      "outputs": [
        {
          "output_type": "stream",
          "name": "stdout",
          "text": [
            "Menor quantidade de épocas:  4\n",
            "Medias: Epoca =  4.8  | Ajustes =  7.9 \n",
            "Desvios Padrao: Epoca =  1.077  | Ajustes =  2.7\n"
          ]
        }
      ]
    },
    {
      "cell_type": "code",
      "metadata": {
        "colab": {
          "base_uri": "https://localhost:8080/"
        },
        "id": "74qR2EQim9mT",
        "outputId": "6cae4bd6-69c9-4cdb-ca21-7934cb829439"
      },
      "source": [
        "weights = perceptron.weights\n",
        "print(weights)"
      ],
      "execution_count": 234,
      "outputs": [
        {
          "output_type": "stream",
          "name": "stdout",
          "text": [
            "[0.5856 0.1321 1.2168]\n"
          ]
        }
      ]
    },
    {
      "cell_type": "markdown",
      "metadata": {
        "id": "TK7jxGWhm9mU"
      },
      "source": [
        "Gráfico do conjunto de dados e a reta que separa as classes"
      ]
    },
    {
      "cell_type": "code",
      "metadata": {
        "colab": {
          "base_uri": "https://localhost:8080/",
          "height": 606
        },
        "id": "h84EuZNRm9mU",
        "outputId": "73e727f7-25fd-4020-d7f1-baf3ca09dd39"
      },
      "source": [
        "plt.figure(figsize=(15,10))\n",
        "\n",
        "x_classe0 = []\n",
        "y_classe0 = []\n",
        "x_classe1 = []\n",
        "y_classe1 = []\n",
        "\n",
        "classe0 = []\n",
        "max = 0\n",
        "min = 0\n",
        "\n",
        "for example in df0:\n",
        "    if example[2] == 0.0:\n",
        "        x_classe0.append(example[0])\n",
        "        y_classe0.append(example[1])\n",
        "    if example[2] == 1.0:\n",
        "        x_classe1.append(example[0])\n",
        "        y_classe1.append(example[1])\n",
        "        \n",
        "plt.scatter(x_classe0, y_classe0, color='r', label='0')\n",
        "plt.scatter(x_classe1, y_classe1, color='b', label='1')\n",
        "\n",
        "plt.legend()\n",
        "plt.xlabel(\"x1\")\n",
        "plt.ylabel(\"x2\")\n",
        "classe_tot =  x_classe0\n",
        "slp = -(weight[0]/weight[2]) / (weight[0]/weight[1])\n",
        "end = (weight[0]/weight[2])\n",
        "\n",
        "min_x = np.max(x_classe0)\n",
        "min_y = np.max(y_classe0)\n",
        "max_x = np.min(x_classe1)\n",
        "max_y = np.min(y_classe1)\n",
        "abline_values = [slp * i + end for i in x_classe0]\n",
        "plt.plot([min_x,max_x], [min_y,max_y], 'b',color=\"black\")\n",
        "\n",
        "plt.show()"
      ],
      "execution_count": 235,
      "outputs": [
        {
          "output_type": "display_data",
          "data": {
            "image/png": "[encoded data removed]",
            "text/plain": [
              "<Figure size 1080x720 with 1 Axes>"
            ]
          },
          "metadata": {
            "needs_background": "light"
          }
        }
      ]
    },
    {
      "cell_type": "markdown",
      "metadata": {
        "id": "NpYKEljcpzOB"
      },
      "source": [
        "#Calculo dos pesos para as configs. 3 e 4\n"
      ]
    },
    {
      "cell_type": "code",
      "metadata": {
        "colab": {
          "base_uri": "https://localhost:8080/"
        },
        "id": "qGfITKXmpyLe",
        "outputId": "f0e785c6-3a86-4eb8-f30a-ef935b3ed2df"
      },
      "source": [
        "weight_max_1 = 100\n",
        "weight_min_1 = -100\n",
        "weights_1 = np.random.uniform(weight_min_1, weight_max_1, size=3)\n",
        "weights_1 = np.round(weights_1,4)\n",
        "print(\"Peso 1: \", weights_1)\n",
        "weight_max_2 = 0.5\n",
        "weight_min_2 = -0.5\n",
        "weights_2 = np.random.uniform(weight_min_2, weight_max_2, size=3)\n",
        "weights_2 = np.round(weights_2,4)\n",
        "print(\"Peso 2: \", weights_2)"
      ],
      "execution_count": 236,
      "outputs": [
        {
          "output_type": "stream",
          "name": "stdout",
          "text": [
            "Peso 1:  [-17.7283 -81.2661 -50.8708]\n",
            "Peso 2:  [ 0.1622 -0.2718  0.2494]\n"
          ]
        }
      ]
    },
    {
      "cell_type": "markdown",
      "metadata": {
        "id": "aEQyUYZzs_TL"
      },
      "source": [
        "#Configuração 3\n",
        "Valor da taxa de aprendizado: 0.1<br>\n",
        "Peso: wi ∼ U(-100, +100)"
      ]
    },
    {
      "cell_type": "code",
      "metadata": {
        "id": "bE2Gf26jtGIx"
      },
      "source": [
        "taxa_aprendizado = 0.1"
      ],
      "execution_count": 237,
      "outputs": []
    },
    {
      "cell_type": "code",
      "metadata": {
        "id": "H6OQ_Elcs_TM",
        "colab": {
          "base_uri": "https://localhost:8080/"
        },
        "outputId": "e01d3bf5-de7b-48ef-e949-b25e9f218d6d"
      },
      "source": [
        "epocas = []\n",
        "ajustes = []\n",
        "\n",
        "for i in range(1, 11):\n",
        "    perceptron = Perceptron(no_of_inputs=2, learning_rate=taxa_aprendizado, weights=weights_1)\n",
        "    treinamento_x = df0[:,[0,1]]\n",
        "    treinamento_y = df0[:,2]    \n",
        "    qtd_epocas, qtd_ajustes = perceptron.total_values(treinamento_x, treinamento_y)\n",
        "    epocas = np.append(epocas, qtd_epocas)\n",
        "    ajustes = np.append(ajustes, qtd_ajustes) \n",
        "\n",
        "def set_valores_media(values):\n",
        "  var = np.mean(values)\n",
        "  var = np.round(var,4)\n",
        "  return var\n",
        "\n",
        "def set_valores_desvio_padrao(values):\n",
        "  var = np.std(values)\n",
        "  var = np.round(var,4)\n",
        "  return var\n",
        "\n",
        "epocas_3 = epocas\n",
        "ajustes_3 = ajustes\n",
        "menor_qtde_epocas_3 = int(epocas_3.min())\n",
        "epocas_media_3 = set_valores_media(epocas_3)\n",
        "ajustes_media_3 = set_valores_media(ajustes_3)\n",
        "epocas_desvio_padrao_3 = set_valores_desvio_padrao(epocas_3)\n",
        "ajustes_desvio_padrao_3 = set_valores_desvio_padrao(ajustes_3)\n",
        "\n",
        "print(\"Menor quantidade de épocas: \", menor_qtde_epocas_3)\n",
        "print(\"Medias: Epoca = \", epocas_media_1, \" | Ajustes = \", ajustes_media_1, \"\\nDesvios Padrao: Epoca = \", epocas_desvio_padrao_1, \" | Ajustes = \", ajustes_desvio_padrao_1)"
      ],
      "execution_count": 238,
      "outputs": [
        {
          "output_type": "stream",
          "name": "stdout",
          "text": [
            "Menor quantidade de épocas:  13\n",
            "Medias: Epoca =  14.2  | Ajustes =  815.5 \n",
            "Desvios Padrao: Epoca =  0.8718  | Ajustes =  23.342\n"
          ]
        }
      ]
    },
    {
      "cell_type": "code",
      "metadata": {
        "id": "ZAhZU7Z2s_TM",
        "colab": {
          "base_uri": "https://localhost:8080/"
        },
        "outputId": "a09d4bd8-4484-4cbe-ca59-9cec2e0297ee"
      },
      "source": [
        "weights = perceptron.weights\n",
        "print(weights)"
      ],
      "execution_count": 239,
      "outputs": [
        {
          "output_type": "stream",
          "name": "stdout",
          "text": [
            "[ 2.7314 -3.9277  9.0142]\n"
          ]
        }
      ]
    },
    {
      "cell_type": "markdown",
      "metadata": {
        "id": "o4aYEE5Hs_TM"
      },
      "source": [
        "Gráfico do conjunto de dados e a reta que separa as classes"
      ]
    },
    {
      "cell_type": "code",
      "metadata": {
        "id": "utKUbuzBs_TM",
        "colab": {
          "base_uri": "https://localhost:8080/",
          "height": 606
        },
        "outputId": "e82f5f9e-e51b-4193-8c05-db311ef6f229"
      },
      "source": [
        "plt.figure(figsize=(15,10))\n",
        "\n",
        "x_classe0 = []\n",
        "y_classe0 = []\n",
        "x_classe1 = []\n",
        "y_classe1 = []\n",
        "\n",
        "classe0 = []\n",
        "max = 0\n",
        "min = 0\n",
        "\n",
        "for example in df0:\n",
        "    if example[2] == 0.0:\n",
        "        x_classe0.append(example[0])\n",
        "        y_classe0.append(example[1])\n",
        "    if example[2] == 1.0:\n",
        "        x_classe1.append(example[0])\n",
        "        y_classe1.append(example[1])\n",
        "        \n",
        "plt.scatter(x_classe0, y_classe0, color='r', label='0')\n",
        "plt.scatter(x_classe1, y_classe1, color='b', label='1')\n",
        "\n",
        "plt.legend()\n",
        "plt.xlabel(\"x1\")\n",
        "plt.ylabel(\"x2\")\n",
        "classe_tot =  x_classe0\n",
        "slp = -(weight[0]/weight[2]) / (weight[0]/weight[1])\n",
        "end = (weight[0]/weight[2])\n",
        "\n",
        "min_x = np.max(x_classe0)\n",
        "min_y = np.max(y_classe0)\n",
        "max_x = np.min(x_classe1)\n",
        "max_y = np.min(y_classe1)\n",
        "abline_values = [slp * i + end for i in x_classe0]\n",
        "plt.plot([min_x,max_x], [min_y,max_y], 'b',color=\"black\")\n",
        "\n",
        "plt.show()"
      ],
      "execution_count": 240,
      "outputs": [
        {
          "output_type": "display_data",
          "data": {
            "image/png": "[encoded data removed]",
            "text/plain": [
              "<Figure size 1080x720 with 1 Axes>"
            ]
          },
          "metadata": {
            "needs_background": "light"
          }
        }
      ]
    },
    {
      "cell_type": "markdown",
      "metadata": {
        "id": "o6n2xFBUrES1"
      },
      "source": [
        "#Configuração 4\n",
        "Valor da taxa de aprendizado: 0.1<br>\n",
        "Peso: wi ∼ U(-0.5, +0.5)"
      ]
    },
    {
      "cell_type": "code",
      "metadata": {
        "id": "eAO1vrD5rES_",
        "colab": {
          "base_uri": "https://localhost:8080/"
        },
        "outputId": "a95f9b3d-ed79-4b02-d488-d0bdb5b3d5cd"
      },
      "source": [
        "epocas = []\n",
        "ajustes = []\n",
        "\n",
        "for i in range(1, 11):\n",
        "    perceptron = Perceptron(no_of_inputs=2, learning_rate=taxa_aprendizado, weights=weights_1)\n",
        "    treinamento_x = df0[:,[0,1]]\n",
        "    treinamento_y = df0[:,2]    \n",
        "    qtd_epocas, qtd_ajustes = perceptron.total_values(treinamento_x, treinamento_y)\n",
        "    epocas = np.append(epocas, qtd_epocas)\n",
        "    ajustes = np.append(ajustes, qtd_ajustes) \n",
        "\n",
        "def set_valores_media(values):\n",
        "  var = np.mean(values)\n",
        "  var = np.round(var,4)\n",
        "  return var\n",
        "\n",
        "def set_valores_desvio_padrao(values):\n",
        "  var = np.std(values)\n",
        "  var = np.round(var,4)\n",
        "  return var\n",
        "\n",
        "epocas_4 = epocas\n",
        "ajustes_4 = ajustes\n",
        "menor_qtde_epocas_4 = int(epocas_4.min())\n",
        "epocas_media_4 = set_valores_media(epocas_4)\n",
        "ajustes_media_4 = set_valores_media(ajustes_4)\n",
        "epocas_desvio_padrao_4 = set_valores_desvio_padrao(epocas_4)\n",
        "ajustes_desvio_padrao_4 = set_valores_desvio_padrao(ajustes_4)\n",
        "\n",
        "print(\"Menor quantidade de épocas: \", menor_qtde_epocas_4)\n",
        "print(\"Medias: Epoca = \", epocas_media_1, \" | Ajustes = \", ajustes_media_1, \"\\nDesvios Padrao: Epoca = \", epocas_desvio_padrao_1, \" | Ajustes = \", ajustes_desvio_padrao_1)"
      ],
      "execution_count": 241,
      "outputs": [
        {
          "output_type": "stream",
          "name": "stdout",
          "text": [
            "Menor quantidade de épocas:  13\n",
            "Medias: Epoca =  14.2  | Ajustes =  815.5 \n",
            "Desvios Padrao: Epoca =  0.8718  | Ajustes =  23.342\n"
          ]
        }
      ]
    },
    {
      "cell_type": "code",
      "metadata": {
        "id": "AX-1hne6rETA",
        "colab": {
          "base_uri": "https://localhost:8080/"
        },
        "outputId": "69e0c8b3-7368-415a-e428-df3de9c09476"
      },
      "source": [
        "weights = perceptron.weights\n",
        "print(weights)"
      ],
      "execution_count": 242,
      "outputs": [
        {
          "output_type": "stream",
          "name": "stdout",
          "text": [
            "[ 1.7986 -2.3852  5.7576]\n"
          ]
        }
      ]
    },
    {
      "cell_type": "markdown",
      "metadata": {
        "id": "Myc1Ges9rETA"
      },
      "source": [
        "Gráfico do conjunto de dados e a reta que separa as classes"
      ]
    },
    {
      "cell_type": "code",
      "metadata": {
        "id": "gRgUvvW8rETB",
        "colab": {
          "base_uri": "https://localhost:8080/",
          "height": 606
        },
        "outputId": "86283727-54e7-41db-da1a-8bd7074ba4da"
      },
      "source": [
        "plt.figure(figsize=(15,10))\n",
        "\n",
        "x_classe0 = []\n",
        "y_classe0 = []\n",
        "x_classe1 = []\n",
        "y_classe1 = []\n",
        "\n",
        "classe0 = []\n",
        "max = 0\n",
        "min = 0\n",
        "\n",
        "for example in df0:\n",
        "    if example[2] == 0.0:\n",
        "        x_classe0.append(example[0])\n",
        "        y_classe0.append(example[1])\n",
        "    if example[2] == 1.0:\n",
        "        x_classe1.append(example[0])\n",
        "        y_classe1.append(example[1])\n",
        "        \n",
        "plt.scatter(x_classe0, y_classe0, color='r', label='0')\n",
        "plt.scatter(x_classe1, y_classe1, color='b', label='1')\n",
        "\n",
        "plt.legend()\n",
        "plt.xlabel(\"x1\")\n",
        "plt.ylabel(\"x2\")\n",
        "classe_tot =  x_classe0\n",
        "slp = -(weight[0]/weight[2]) / (weight[0]/weight[1])\n",
        "end = (weight[0]/weight[2])\n",
        "\n",
        "min_x = np.max(x_classe0)\n",
        "min_y = np.max(y_classe0)\n",
        "max_x = np.min(x_classe1)\n",
        "max_y = np.min(y_classe1)\n",
        "abline_values = [slp * i + end for i in x_classe0]\n",
        "plt.plot([min_x,max_x], [min_y,max_y], 'b',color=\"black\")\n",
        "\n",
        "plt.show()"
      ],
      "execution_count": 243,
      "outputs": [
        {
          "output_type": "display_data",
          "data": {
            "image/png": "[encoded data removed]",
            "text/plain": [
              "<Figure size 1080x720 with 1 Axes>"
            ]
          },
          "metadata": {
            "needs_background": "light"
          }
        }
      ]
    },
    {
      "cell_type": "markdown",
      "metadata": {
        "id": "xA-xpdxPrMwv"
      },
      "source": [
        "#Calculo dos pesos para as configs. 5 e 6\n"
      ]
    },
    {
      "cell_type": "code",
      "metadata": {
        "id": "be_FFBR7rMww",
        "colab": {
          "base_uri": "https://localhost:8080/"
        },
        "outputId": "3fc9352b-66e4-41d9-a2fa-0e95b73e0b60"
      },
      "source": [
        "weight_max_1 = 100\n",
        "weight_min_1 = -100\n",
        "weights_1 = np.random.uniform(weight_min_1, weight_max_1, size=3)\n",
        "weights_1 = np.round(weights_1,4)\n",
        "print(\"Peso 1: \", weights_1)\n",
        "weight_max_2 = 0.5\n",
        "weight_min_2 = -0.5\n",
        "weights_2 = np.random.uniform(weight_min_2, weight_max_2, size=3)\n",
        "weights_2 = np.round(weights_2,4)\n",
        "print(\"Peso 2: \", weights_2)"
      ],
      "execution_count": 244,
      "outputs": [
        {
          "output_type": "stream",
          "name": "stdout",
          "text": [
            "Peso 1:  [ 85.0676 -77.4625  49.264 ]\n",
            "Peso 2:  [-0.2116 -0.1447  0.3505]\n"
          ]
        }
      ]
    },
    {
      "cell_type": "markdown",
      "metadata": {
        "id": "6X0r_HdkrRCa"
      },
      "source": [
        "#Configuração 5\n",
        "Valor da taxa de aprendizado: 0.01<br>\n",
        "Peso: wi ∼ U(-100, +100)"
      ]
    },
    {
      "cell_type": "code",
      "metadata": {
        "id": "esg47xlKrRCc"
      },
      "source": [
        "taxa_aprendizado = 0.01"
      ],
      "execution_count": 245,
      "outputs": []
    },
    {
      "cell_type": "code",
      "metadata": {
        "colab": {
          "base_uri": "https://localhost:8080/"
        },
        "id": "qNYk88eorRCd",
        "outputId": "64530f53-80e8-42f5-903c-5377c551d946"
      },
      "source": [
        "epocas = []\n",
        "ajustes = []\n",
        "\n",
        "for i in range(1, 11):\n",
        "    perceptron = Perceptron(no_of_inputs=2, learning_rate=taxa_aprendizado, weights=weights_1)\n",
        "    treinamento_x = df0[:,[0,1]]\n",
        "    treinamento_y = df0[:,2]    \n",
        "    qtd_epocas, qtd_ajustes = perceptron.total_values(treinamento_x, treinamento_y)\n",
        "    epocas = np.append(epocas, qtd_epocas)\n",
        "    ajustes = np.append(ajustes, qtd_ajustes) \n",
        "\n",
        "def set_valores_media(values):\n",
        "  var = np.mean(values)\n",
        "  var = np.round(var,4)\n",
        "  return var\n",
        "\n",
        "def set_valores_desvio_padrao(values):\n",
        "  var = np.std(values)\n",
        "  var = np.round(var,4)\n",
        "  return var\n",
        "\n",
        "epocas_5 = epocas\n",
        "ajustes_5 = ajustes\n",
        "menor_qtde_epocas_5 = int(epocas_5.min())\n",
        "epocas_media_5 = set_valores_media(epocas_5)\n",
        "ajustes_media_5 = set_valores_media(ajustes_5)\n",
        "epocas_desvio_padrao_5 = set_valores_desvio_padrao(epocas_5)\n",
        "ajustes_desvio_padrao_5 = set_valores_desvio_padrao(ajustes_5)\n",
        "\n",
        "print(\"Menor quantidade de épocas: \", menor_qtde_epocas_5)\n",
        "print(\"Medias: Epoca = \", epocas_media_1, \" | Ajustes = \", ajustes_media_1, \"\\nDesvios Padrao: Epoca = \", epocas_desvio_padrao_1, \" | Ajustes = \", ajustes_desvio_padrao_1)"
      ],
      "execution_count": 246,
      "outputs": [
        {
          "output_type": "stream",
          "name": "stdout",
          "text": [
            "Menor quantidade de épocas:  38\n",
            "Medias: Epoca =  14.2  | Ajustes =  815.5 \n",
            "Desvios Padrao: Epoca =  0.8718  | Ajustes =  23.342\n"
          ]
        }
      ]
    },
    {
      "cell_type": "code",
      "metadata": {
        "colab": {
          "base_uri": "https://localhost:8080/"
        },
        "id": "nNovcGL6rRCg",
        "outputId": "02041369-4fa9-480a-8ab5-95c7582026ab"
      },
      "source": [
        "weights = perceptron.weights\n",
        "print(weights)"
      ],
      "execution_count": 247,
      "outputs": [
        {
          "output_type": "stream",
          "name": "stdout",
          "text": [
            "[23.1335 13.8352 34.5978]\n"
          ]
        }
      ]
    },
    {
      "cell_type": "markdown",
      "metadata": {
        "id": "QtMprbKgrRCh"
      },
      "source": [
        "Gráfico do conjunto de dados e a reta que separa as classes"
      ]
    },
    {
      "cell_type": "code",
      "metadata": {
        "colab": {
          "base_uri": "https://localhost:8080/",
          "height": 606
        },
        "id": "9d7mUc49rRCh",
        "outputId": "15b49548-2d19-4170-a98a-21e9ade824c1"
      },
      "source": [
        "plt.figure(figsize=(15,10))\n",
        "\n",
        "x_classe0 = []\n",
        "y_classe0 = []\n",
        "x_classe1 = []\n",
        "y_classe1 = []\n",
        "\n",
        "classe0 = []\n",
        "max = 0\n",
        "min = 0\n",
        "\n",
        "for example in df0:\n",
        "    if example[2] == 0.0:\n",
        "        x_classe0.append(example[0])\n",
        "        y_classe0.append(example[1])\n",
        "    if example[2] == 1.0:\n",
        "        x_classe1.append(example[0])\n",
        "        y_classe1.append(example[1])\n",
        "        \n",
        "plt.scatter(x_classe0, y_classe0, color='r', label='0')\n",
        "plt.scatter(x_classe1, y_classe1, color='b', label='1')\n",
        "\n",
        "plt.legend()\n",
        "plt.xlabel(\"x1\")\n",
        "plt.ylabel(\"x2\")\n",
        "classe_tot =  x_classe0\n",
        "slp = -(weight[0]/weight[2]) / (weight[0]/weight[1])\n",
        "end = (weight[0]/weight[2])\n",
        "\n",
        "min_x = np.max(x_classe0)\n",
        "min_y = np.max(y_classe0)\n",
        "max_x = np.min(x_classe1)\n",
        "max_y = np.min(y_classe1)\n",
        "abline_values = [slp * i + end for i in x_classe0]\n",
        "plt.plot([min_x,max_x], [min_y,max_y], 'b',color=\"black\")\n",
        "\n",
        "plt.show()"
      ],
      "execution_count": 248,
      "outputs": [
        {
          "output_type": "display_data",
          "data": {
            "image/png": "[encoded data removed]",
            "text/plain": [
              "<Figure size 1080x720 with 1 Axes>"
            ]
          },
          "metadata": {
            "needs_background": "light"
          }
        }
      ]
    },
    {
      "cell_type": "markdown",
      "metadata": {
        "id": "p9FkKJxIrS_c"
      },
      "source": [
        "#Configuração 6\n",
        "Valor da taxa de aprendizado: 0.01<br>\n",
        "Peso: wi ∼ U(-0.5, +0.5)"
      ]
    },
    {
      "cell_type": "code",
      "metadata": {
        "id": "srkGp8QXrS_e",
        "colab": {
          "base_uri": "https://localhost:8080/"
        },
        "outputId": "6d935222-dbb1-4b0f-bdcb-df4f680c2991"
      },
      "source": [
        "epocas = []\n",
        "ajustes = []\n",
        "\n",
        "for i in range(1, 11):\n",
        "    perceptron = Perceptron(no_of_inputs=2, learning_rate=taxa_aprendizado, weights=weights_1)\n",
        "    treinamento_x = df0[:,[0,1]]\n",
        "    treinamento_y = df0[:,2]    \n",
        "    qtd_epocas, qtd_ajustes = perceptron.total_values(treinamento_x, treinamento_y)\n",
        "    epocas = np.append(epocas, qtd_epocas)\n",
        "    ajustes = np.append(ajustes, qtd_ajustes) \n",
        "\n",
        "def set_valores_media(values):\n",
        "  var = np.mean(values)\n",
        "  var = np.round(var,4)\n",
        "  return var\n",
        "\n",
        "def set_valores_desvio_padrao(values):\n",
        "  var = np.std(values)\n",
        "  var = np.round(var,4)\n",
        "  return var\n",
        "\n",
        "epocas_6 = epocas\n",
        "ajustes_6 = ajustes\n",
        "menor_qtde_epocas_6 = int(epocas_6.min())\n",
        "epocas_media_6 = set_valores_media(epocas_6)\n",
        "ajustes_media_6 = set_valores_media(ajustes_6)\n",
        "epocas_desvio_padrao_6 = set_valores_desvio_padrao(epocas_6)\n",
        "ajustes_desvio_padrao_6 = set_valores_desvio_padrao(ajustes_6)\n",
        "\n",
        "print(\"Menor quantidade de épocas: \", menor_qtde_epocas_6)\n",
        "print(\"Medias: Epoca = \", epocas_media_1, \" | Ajustes = \", ajustes_media_1, \"\\nDesvios Padrao: Epoca = \", epocas_desvio_padrao_1, \" | Ajustes = \", ajustes_desvio_padrao_1)"
      ],
      "execution_count": 249,
      "outputs": [
        {
          "output_type": "stream",
          "name": "stdout",
          "text": [
            "Menor quantidade de épocas:  34\n",
            "Medias: Epoca =  14.2  | Ajustes =  815.5 \n",
            "Desvios Padrao: Epoca =  0.8718  | Ajustes =  23.342\n"
          ]
        }
      ]
    },
    {
      "cell_type": "code",
      "metadata": {
        "colab": {
          "base_uri": "https://localhost:8080/"
        },
        "id": "mZfJ_IjVrS_f",
        "outputId": "926934d1-383d-4529-a87d-89b59bf00c8c"
      },
      "source": [
        "weights = perceptron.weights\n",
        "print(weights)"
      ],
      "execution_count": 250,
      "outputs": [
        {
          "output_type": "stream",
          "name": "stdout",
          "text": [
            "[ 31.8882 -36.3431  90.4588]\n"
          ]
        }
      ]
    },
    {
      "cell_type": "markdown",
      "metadata": {
        "id": "k9qlK3lBrS_g"
      },
      "source": [
        "Gráfico do conjunto de dados e a reta que separa as classes"
      ]
    },
    {
      "cell_type": "code",
      "metadata": {
        "id": "AC8DOCESrS_g",
        "colab": {
          "base_uri": "https://localhost:8080/",
          "height": 606
        },
        "outputId": "1fd0289c-e6b4-433e-cbf3-091e015fe1bd"
      },
      "source": [
        "plt.figure(figsize=(15,10))\n",
        "\n",
        "x_classe0 = []\n",
        "y_classe0 = []\n",
        "x_classe1 = []\n",
        "y_classe1 = []\n",
        "\n",
        "classe0 = []\n",
        "max = 0\n",
        "min = 0\n",
        "\n",
        "for example in df0:\n",
        "    if example[2] == 0.0:\n",
        "        x_classe0.append(example[0])\n",
        "        y_classe0.append(example[1])\n",
        "    if example[2] == 1.0:\n",
        "        x_classe1.append(example[0])\n",
        "        y_classe1.append(example[1])\n",
        "        \n",
        "plt.scatter(x_classe0, y_classe0, color='r', label='0')\n",
        "plt.scatter(x_classe1, y_classe1, color='b', label='1')\n",
        "\n",
        "plt.legend()\n",
        "plt.xlabel(\"x1\")\n",
        "plt.ylabel(\"x2\")\n",
        "classe_tot =  x_classe0\n",
        "slp = -(weight[0]/weight[2]) / (weight[0]/weight[1])\n",
        "end = (weight[0]/weight[2])\n",
        "\n",
        "min_x = np.max(x_classe0)\n",
        "min_y = np.max(y_classe0)\n",
        "max_x = np.min(x_classe1)\n",
        "max_y = np.min(y_classe1)\n",
        "abline_values = [slp * i + end for i in x_classe0]\n",
        "plt.plot([min_x,max_x], [min_y,max_y], 'b',color=\"black\")\n",
        "\n",
        "plt.show()"
      ],
      "execution_count": 251,
      "outputs": [
        {
          "output_type": "display_data",
          "data": {
            "image/png": "[encoded data removed]",
            "text/plain": [
              "<Figure size 1080x720 with 1 Axes>"
            ]
          },
          "metadata": {
            "needs_background": "light"
          }
        }
      ]
    },
    {
      "cell_type": "markdown",
      "metadata": {
        "id": "OVB41L6tw_OF"
      },
      "source": [
        "#Tabela de Resultados Gerais"
      ]
    },
    {
      "cell_type": "code",
      "metadata": {
        "colab": {
          "base_uri": "https://localhost:8080/"
        },
        "id": "MuF-J5EiwGJ-",
        "outputId": "b4f81b66-00ae-4024-b979-02a7822e2fb5"
      },
      "source": [
        "from prettytable import PrettyTable\n",
        "x = PrettyTable()\n",
        "var_peso_1 = str(weight_min_1)+\"-->\"+str(weight_max_1)\n",
        "var_peso_2 = str(weight_min_2)+\"-->\"+str(weight_max_2)\n",
        "x.field_names = [\"Taxa de aprendizado\", \"Intervalo de pesos\", \"Media de Ajustes\", \"Desvio Padrao de Ajustes\", \"Menor No de Epocas para Convergencia\"]\n",
        "x.add_row([0.4,var_peso_1, ajustes_media_1, ajustes_desvio_padrao_1, menor_qtde_epocas_1])\n",
        "x.add_row([0.4,var_peso_2, ajustes_media_2, ajustes_desvio_padrao_2, menor_qtde_epocas_2])\n",
        "x.add_row([0.1,var_peso_1, ajustes_media_3, ajustes_desvio_padrao_3, menor_qtde_epocas_3])\n",
        "x.add_row([0.1,var_peso_2, ajustes_media_4, ajustes_desvio_padrao_4, menor_qtde_epocas_4])\n",
        "x.add_row([0.01,var_peso_1, ajustes_media_5, ajustes_desvio_padrao_5, menor_qtde_epocas_5])\n",
        "x.add_row([0.01,var_peso_2, ajustes_media_6, ajustes_desvio_padrao_6, menor_qtde_epocas_6])\n",
        "\n",
        "print (x)"
      ],
      "execution_count": 254,
      "outputs": [
        {
          "output_type": "stream",
          "name": "stdout",
          "text": [
            "+---------------------+--------------------+------------------+--------------------------+--------------------------------------+\n",
            "| Taxa de aprendizado | Intervalo de pesos | Media de Ajustes | Desvio Padrao de Ajustes | Menor No de Epocas para Convergencia |\n",
            "+---------------------+--------------------+------------------+--------------------------+--------------------------------------+\n",
            "|         0.4         |     -100-->100     |      815.5       |          23.342          |                  13                  |\n",
            "|         0.4         |     -0.5-->0.5     |       7.9        |           2.7            |                  4                   |\n",
            "|         0.1         |     -100-->100     |      1665.4      |         311.8731         |                  13                  |\n",
            "|         0.1         |     -0.5-->0.5     |      1826.3      |         434.9517         |                  13                  |\n",
            "|         0.01        |     -100-->100     |     13034.3      |        4473.3411         |                  38                  |\n",
            "|         0.01        |     -0.5-->0.5     |      8419.2      |        6272.2563         |                  34                  |\n",
            "+---------------------+--------------------+------------------+--------------------------+--------------------------------------+\n"
          ]
        }
      ]
    }
  ]
}